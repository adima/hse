{
 "cells": [
  {
   "cell_type": "markdown",
   "metadata": {},
   "source": [
    "<center>\n",
    "<img src=\"../../img/ml_theme.png\">\n",
    "# Дополнительное профессиональное <br> образование НИУ ВШЭ\n",
    "#### Программа \"Практический анализ данных и машинное обучение\"\n",
    "<img src=\"../../img/faculty_logo.jpg\" height=\"240\" width=\"240\">\n",
    "## Автор материала: преподаватель Факультета Компьютерных Наук НИУ ВШЭ <br> Кашницкий Юрий\n",
    "</center>\n",
    "Материал распространяется на условиях лицензии <a href=\"https://opensource.org/licenses/MS-RL\">Ms-RL</a>. Можно использовать в любых целях, кроме коммерческих, но с обязательным упоминанием автора материала."
   ]
  },
  {
   "cell_type": "markdown",
   "metadata": {},
   "source": [
    "# <center>Занятие 8. Продвинутые методы классификации и регрессии</center>\n",
    "## <center>Часть 7. Настройка гиперпараметров Xgboost. Библиотека Hyperopt</center>"
   ]
  },
  {
   "cell_type": "code",
   "execution_count": 2,
   "metadata": {
    "collapsed": false
   },
   "outputs": [],
   "source": [
    "import numpy as np\n",
    "\n",
    "from xgboost.sklearn import XGBClassifier\n",
    "import xgboost as xgb\n",
    "from sklearn.model_selection import GridSearchCV, RandomizedSearchCV\n",
    "from sklearn.datasets import make_classification\n",
    "from sklearn.model_selection import StratifiedKFold, train_test_split\n",
    "from sklearn.metrics import log_loss\n",
    "\n",
    "\n",
    "from scipy.stats import randint, uniform"
   ]
  },
  {
   "cell_type": "markdown",
   "metadata": {},
   "source": [
    "**Генерируем синтетические данные.**"
   ]
  },
  {
   "cell_type": "code",
   "execution_count": 3,
   "metadata": {
    "collapsed": false
   },
   "outputs": [],
   "source": [
    "X, y = make_classification(n_samples=1000, n_features=20, n_informative=8, n_redundant=3, \n",
    "                           n_repeated=2, random_state=42)"
   ]
  },
  {
   "cell_type": "markdown",
   "metadata": {},
   "source": [
    "**Будем проводить 10-кратную стратифицированную кросс-валидацию.**"
   ]
  },
  {
   "cell_type": "code",
   "execution_count": 4,
   "metadata": {
    "collapsed": true
   },
   "outputs": [],
   "source": [
    "cv = StratifiedKFold(n_splits=10, shuffle=True, random_state=42)"
   ]
  },
  {
   "cell_type": "markdown",
   "metadata": {},
   "source": [
    "### Grid-Search"
   ]
  },
  {
   "cell_type": "code",
   "execution_count": 5,
   "metadata": {
    "collapsed": false
   },
   "outputs": [],
   "source": [
    "params_grid = {\n",
    "    'max_depth': [1, 2, 3],\n",
    "    'n_estimators': [5, 10, 25, 50],\n",
    "    'learning_rate': np.linspace(1e-16, 1, 3)\n",
    "}"
   ]
  },
  {
   "cell_type": "markdown",
   "metadata": {},
   "source": [
    "**Инициализируем отдельно словарь фиксированных параметров.**"
   ]
  },
  {
   "cell_type": "code",
   "execution_count": 6,
   "metadata": {
    "collapsed": true
   },
   "outputs": [],
   "source": [
    "params_fixed = {\n",
    "    'objective': 'binary:logistic',\n",
    "    'silent': 1,\n",
    "    'seed': 42\n",
    "}"
   ]
  },
  {
   "cell_type": "code",
   "execution_count": 8,
   "metadata": {
    "collapsed": false
   },
   "outputs": [],
   "source": [
    "xgb_grid = GridSearchCV(\n",
    "    estimator=XGBClassifier(**params_fixed),\n",
    "    param_grid=params_grid,\n",
    "    cv=cv,\n",
    "    scoring='accuracy',\n",
    "    n_jobs=-1\n",
    ")"
   ]
  },
  {
   "cell_type": "code",
   "execution_count": 9,
   "metadata": {
    "collapsed": false
   },
   "outputs": [
    {
     "name": "stdout",
     "output_type": "stream",
     "text": [
      "CPU times: user 833 ms, sys: 134 ms, total: 967 ms\n",
      "Wall time: 7.19 s\n"
     ]
    },
    {
     "data": {
      "text/plain": [
       "GridSearchCV(cv=StratifiedKFold(n_splits=10, random_state=42, shuffle=True),\n",
       "       error_score='raise',\n",
       "       estimator=XGBClassifier(base_score=0.5, colsample_bylevel=1, colsample_bytree=1,\n",
       "       gamma=0, learning_rate=0.1, max_delta_step=0, max_depth=3,\n",
       "       min_child_weight=1, missing=None, n_estimators=100, nthread=-1,\n",
       "       objective='binary:logistic', reg_alpha=0, reg_lambda=1,\n",
       "       scale_pos_weight=1, seed=42, silent=1, subsample=1),\n",
       "       fit_params={}, iid=True, n_jobs=-1,\n",
       "       param_grid={'learning_rate': array([  1.00000e-16,   5.00000e-01,   1.00000e+00]), 'n_estimators': [5, 10, 25, 50], 'max_depth': [1, 2, 3]},\n",
       "       pre_dispatch='2*n_jobs', refit=True, return_train_score=True,\n",
       "       scoring='accuracy', verbose=0)"
      ]
     },
     "execution_count": 9,
     "metadata": {},
     "output_type": "execute_result"
    }
   ],
   "source": [
    "%%time\n",
    "xgb_grid.fit(X, y)"
   ]
  },
  {
   "cell_type": "markdown",
   "metadata": {},
   "source": [
    "**C помощью cv\\_results\\_ можно строить кривые валидации.**"
   ]
  },
  {
   "cell_type": "code",
   "execution_count": 11,
   "metadata": {
    "collapsed": false
   },
   "outputs": [
    {
     "data": {
      "text/plain": [
       "{'mean_fit_time': array([ 0.01221633,  0.01780193,  0.04689682,  0.07434978,  0.01564403,\n",
       "         0.03670058,  0.06118083,  0.14782541,  0.01960669,  0.06404665,\n",
       "         0.12422216,  0.19214203,  0.01614695,  0.01762159,  0.04554641,\n",
       "         0.0733228 ,  0.02001672,  0.02961311,  0.05675511,  0.12664104,\n",
       "         0.02019458,  0.03863971,  0.08547418,  0.20366635,  0.01574569,\n",
       "         0.03481348,  0.05126011,  0.09232423,  0.01588628,  0.04012156,\n",
       "         0.06307402,  0.10700021,  0.01951032,  0.03550386,  0.094115  ,\n",
       "         0.14071109]),\n",
       " 'mean_score_time': array([ 0.00165932,  0.00131259,  0.00336685,  0.00097911,  0.00106299,\n",
       "         0.00105286,  0.0008981 ,  0.00096128,  0.00090954,  0.00085635,\n",
       "         0.00105612,  0.00159659,  0.00104072,  0.00082819,  0.0017103 ,\n",
       "         0.00118191,  0.000913  ,  0.00112689,  0.00105858,  0.00127876,\n",
       "         0.00095367,  0.00088651,  0.00099692,  0.00207779,  0.00126097,\n",
       "         0.00103703,  0.0014528 ,  0.0024158 ,  0.00114775,  0.00102892,\n",
       "         0.00105157,  0.00111678,  0.00082738,  0.00094073,  0.00098453,\n",
       "         0.00093658]),\n",
       " 'mean_test_score': array([ 0.498,  0.498,  0.498,  0.498,  0.498,  0.498,  0.498,  0.498,\n",
       "         0.498,  0.498,  0.498,  0.498,  0.756,  0.787,  0.806,  0.816,\n",
       "         0.814,  0.833,  0.839,  0.857,  0.822,  0.86 ,  0.877,  0.891,\n",
       "         0.762,  0.783,  0.809,  0.808,  0.808,  0.836,  0.853,  0.851,\n",
       "         0.825,  0.845,  0.869,  0.876]),\n",
       " 'mean_train_score': array([ 0.498     ,  0.498     ,  0.498     ,  0.498     ,  0.498     ,\n",
       "         0.498     ,  0.498     ,  0.498     ,  0.498     ,  0.498     ,\n",
       "         0.498     ,  0.498     ,  0.78777632,  0.81722399,  0.8502219 ,\n",
       "         0.87711006,  0.8431098 ,  0.87444549,  0.92000082,  0.96077689,\n",
       "         0.88288649,  0.92333058,  0.97333258,  0.99866679,  0.7995557 ,\n",
       "         0.82955436,  0.86688895,  0.89255698,  0.86388747,  0.90355304,\n",
       "         0.95888578,  0.99555531,  0.90744156,  0.94988751,  0.99877728,  1.        ]),\n",
       " 'param_learning_rate': masked_array(data = [9.9999999999999998e-17 9.9999999999999998e-17 9.9999999999999998e-17\n",
       "  9.9999999999999998e-17 9.9999999999999998e-17 9.9999999999999998e-17\n",
       "  9.9999999999999998e-17 9.9999999999999998e-17 9.9999999999999998e-17\n",
       "  9.9999999999999998e-17 9.9999999999999998e-17 9.9999999999999998e-17 0.5\n",
       "  0.5 0.5 0.5 0.5 0.5 0.5 0.5 0.5 0.5 0.5 0.5 1.0 1.0 1.0 1.0 1.0 1.0 1.0\n",
       "  1.0 1.0 1.0 1.0 1.0],\n",
       "              mask = [False False False False False False False False False False False False\n",
       "  False False False False False False False False False False False False\n",
       "  False False False False False False False False False False False False],\n",
       "        fill_value = ?),\n",
       " 'param_max_depth': masked_array(data = [1 1 1 1 2 2 2 2 3 3 3 3 1 1 1 1 2 2 2 2 3 3 3 3 1 1 1 1 2 2 2 2 3 3 3 3],\n",
       "              mask = [False False False False False False False False False False False False\n",
       "  False False False False False False False False False False False False\n",
       "  False False False False False False False False False False False False],\n",
       "        fill_value = ?),\n",
       " 'param_n_estimators': masked_array(data = [5 10 25 50 5 10 25 50 5 10 25 50 5 10 25 50 5 10 25 50 5 10 25 50 5 10 25\n",
       "  50 5 10 25 50 5 10 25 50],\n",
       "              mask = [False False False False False False False False False False False False\n",
       "  False False False False False False False False False False False False\n",
       "  False False False False False False False False False False False False],\n",
       "        fill_value = ?),\n",
       " 'params': ({'learning_rate': 9.9999999999999998e-17,\n",
       "   'max_depth': 1,\n",
       "   'n_estimators': 5},\n",
       "  {'learning_rate': 9.9999999999999998e-17,\n",
       "   'max_depth': 1,\n",
       "   'n_estimators': 10},\n",
       "  {'learning_rate': 9.9999999999999998e-17,\n",
       "   'max_depth': 1,\n",
       "   'n_estimators': 25},\n",
       "  {'learning_rate': 9.9999999999999998e-17,\n",
       "   'max_depth': 1,\n",
       "   'n_estimators': 50},\n",
       "  {'learning_rate': 9.9999999999999998e-17, 'max_depth': 2, 'n_estimators': 5},\n",
       "  {'learning_rate': 9.9999999999999998e-17,\n",
       "   'max_depth': 2,\n",
       "   'n_estimators': 10},\n",
       "  {'learning_rate': 9.9999999999999998e-17,\n",
       "   'max_depth': 2,\n",
       "   'n_estimators': 25},\n",
       "  {'learning_rate': 9.9999999999999998e-17,\n",
       "   'max_depth': 2,\n",
       "   'n_estimators': 50},\n",
       "  {'learning_rate': 9.9999999999999998e-17, 'max_depth': 3, 'n_estimators': 5},\n",
       "  {'learning_rate': 9.9999999999999998e-17,\n",
       "   'max_depth': 3,\n",
       "   'n_estimators': 10},\n",
       "  {'learning_rate': 9.9999999999999998e-17,\n",
       "   'max_depth': 3,\n",
       "   'n_estimators': 25},\n",
       "  {'learning_rate': 9.9999999999999998e-17,\n",
       "   'max_depth': 3,\n",
       "   'n_estimators': 50},\n",
       "  {'learning_rate': 0.5, 'max_depth': 1, 'n_estimators': 5},\n",
       "  {'learning_rate': 0.5, 'max_depth': 1, 'n_estimators': 10},\n",
       "  {'learning_rate': 0.5, 'max_depth': 1, 'n_estimators': 25},\n",
       "  {'learning_rate': 0.5, 'max_depth': 1, 'n_estimators': 50},\n",
       "  {'learning_rate': 0.5, 'max_depth': 2, 'n_estimators': 5},\n",
       "  {'learning_rate': 0.5, 'max_depth': 2, 'n_estimators': 10},\n",
       "  {'learning_rate': 0.5, 'max_depth': 2, 'n_estimators': 25},\n",
       "  {'learning_rate': 0.5, 'max_depth': 2, 'n_estimators': 50},\n",
       "  {'learning_rate': 0.5, 'max_depth': 3, 'n_estimators': 5},\n",
       "  {'learning_rate': 0.5, 'max_depth': 3, 'n_estimators': 10},\n",
       "  {'learning_rate': 0.5, 'max_depth': 3, 'n_estimators': 25},\n",
       "  {'learning_rate': 0.5, 'max_depth': 3, 'n_estimators': 50},\n",
       "  {'learning_rate': 1.0, 'max_depth': 1, 'n_estimators': 5},\n",
       "  {'learning_rate': 1.0, 'max_depth': 1, 'n_estimators': 10},\n",
       "  {'learning_rate': 1.0, 'max_depth': 1, 'n_estimators': 25},\n",
       "  {'learning_rate': 1.0, 'max_depth': 1, 'n_estimators': 50},\n",
       "  {'learning_rate': 1.0, 'max_depth': 2, 'n_estimators': 5},\n",
       "  {'learning_rate': 1.0, 'max_depth': 2, 'n_estimators': 10},\n",
       "  {'learning_rate': 1.0, 'max_depth': 2, 'n_estimators': 25},\n",
       "  {'learning_rate': 1.0, 'max_depth': 2, 'n_estimators': 50},\n",
       "  {'learning_rate': 1.0, 'max_depth': 3, 'n_estimators': 5},\n",
       "  {'learning_rate': 1.0, 'max_depth': 3, 'n_estimators': 10},\n",
       "  {'learning_rate': 1.0, 'max_depth': 3, 'n_estimators': 25},\n",
       "  {'learning_rate': 1.0, 'max_depth': 3, 'n_estimators': 50}),\n",
       " 'rank_test_score': array([25, 25, 25, 25, 25, 25, 25, 25, 25, 25, 25, 25, 24, 21, 20, 15, 16,\n",
       "        12, 10,  6, 14,  5,  2,  1, 23, 22, 17, 18, 18, 11,  7,  8, 13,  9,\n",
       "         4,  3], dtype=int32),\n",
       " 'split0_test_score': array([ 0.4950495 ,  0.4950495 ,  0.4950495 ,  0.4950495 ,  0.4950495 ,\n",
       "         0.4950495 ,  0.4950495 ,  0.4950495 ,  0.4950495 ,  0.4950495 ,\n",
       "         0.4950495 ,  0.4950495 ,  0.69306931,  0.76237624,  0.8019802 ,\n",
       "         0.83168317,  0.79207921,  0.85148515,  0.85148515,  0.85148515,\n",
       "         0.82178218,  0.83168317,  0.88118812,  0.88118812,  0.72277228,\n",
       "         0.77227723,  0.79207921,  0.79207921,  0.85148515,  0.84158416,\n",
       "         0.85148515,  0.9009901 ,  0.84158416,  0.8019802 ,  0.88118812,\n",
       "         0.86138614]),\n",
       " 'split0_train_score': array([ 0.49833148,  0.49833148,  0.49833148,  0.49833148,  0.49833148,\n",
       "         0.49833148,  0.49833148,  0.49833148,  0.49833148,  0.49833148,\n",
       "         0.49833148,  0.49833148,  0.77196885,  0.82202447,  0.84204672,\n",
       "         0.87875417,  0.84315907,  0.87541713,  0.92324805,  0.95884316,\n",
       "         0.87986652,  0.92769744,  0.97330367,  0.99888765,  0.80756396,\n",
       "         0.82869855,  0.87096774,  0.9054505 ,  0.87652948,  0.89988877,\n",
       "         0.95216908,  0.99443826,  0.90211346,  0.95439377,  1.        ,  1.        ]),\n",
       " 'split1_test_score': array([ 0.4950495 ,  0.4950495 ,  0.4950495 ,  0.4950495 ,  0.4950495 ,\n",
       "         0.4950495 ,  0.4950495 ,  0.4950495 ,  0.4950495 ,  0.4950495 ,\n",
       "         0.4950495 ,  0.4950495 ,  0.78217822,  0.82178218,  0.85148515,\n",
       "         0.88118812,  0.88118812,  0.88118812,  0.9009901 ,  0.88118812,\n",
       "         0.85148515,  0.91089109,  0.92079208,  0.93069307,  0.77227723,\n",
       "         0.77227723,  0.84158416,  0.86138614,  0.84158416,  0.87128713,\n",
       "         0.9009901 ,  0.89108911,  0.87128713,  0.91089109,  0.9009901 ,\n",
       "         0.93069307]),\n",
       " 'split1_train_score': array([ 0.49833148,  0.49833148,  0.49833148,  0.49833148,  0.49833148,\n",
       "         0.49833148,  0.49833148,  0.49833148,  0.49833148,  0.49833148,\n",
       "         0.49833148,  0.49833148,  0.79866518,  0.82536151,  0.84538376,\n",
       "         0.86985539,  0.83314794,  0.88097887,  0.91879867,  0.95216908,\n",
       "         0.87764182,  0.91323693,  0.96996663,  0.99777531,  0.79644049,\n",
       "         0.82869855,  0.86318131,  0.88765295,  0.8676307 ,  0.89988877,\n",
       "         0.95216908,  0.99555061,  0.90433815,  0.9432703 ,  0.99443826,  1.        ]),\n",
       " 'split2_test_score': array([ 0.5 ,  0.5 ,  0.5 ,  0.5 ,  0.5 ,  0.5 ,  0.5 ,  0.5 ,  0.5 ,\n",
       "         0.5 ,  0.5 ,  0.5 ,  0.79,  0.83,  0.84,  0.84,  0.87,  0.88,\n",
       "         0.87,  0.87,  0.86,  0.89,  0.9 ,  0.89,  0.76,  0.81,  0.81,\n",
       "         0.84,  0.85,  0.87,  0.85,  0.84,  0.85,  0.86,  0.88,  0.91]),\n",
       " 'split2_train_score': array([ 0.49777778,  0.49777778,  0.49777778,  0.49777778,  0.49777778,\n",
       "         0.49777778,  0.49777778,  0.49777778,  0.49777778,  0.49777778,\n",
       "         0.49777778,  0.49777778,  0.78555556,  0.81444444,  0.84666667,\n",
       "         0.86555556,  0.84333333,  0.87111111,  0.91888889,  0.96222222,\n",
       "         0.89222222,  0.91888889,  0.97444444,  0.99888889,  0.80666667,\n",
       "         0.82666667,  0.86444444,  0.88444444,  0.85777778,  0.90555556,\n",
       "         0.96222222,  0.99444444,  0.91333333,  0.94888889,  0.99888889,  1.        ]),\n",
       " 'split3_test_score': array([ 0.5 ,  0.5 ,  0.5 ,  0.5 ,  0.5 ,  0.5 ,  0.5 ,  0.5 ,  0.5 ,\n",
       "         0.5 ,  0.5 ,  0.5 ,  0.73,  0.7 ,  0.73,  0.75,  0.76,  0.79,\n",
       "         0.76,  0.82,  0.77,  0.8 ,  0.79,  0.85,  0.75,  0.77,  0.79,\n",
       "         0.74,  0.78,  0.8 ,  0.78,  0.78,  0.75,  0.8 ,  0.82,  0.83]),\n",
       " 'split3_train_score': array([ 0.49777778,  0.49777778,  0.49777778,  0.49777778,  0.49777778,\n",
       "         0.49777778,  0.49777778,  0.49777778,  0.49777778,  0.49777778,\n",
       "         0.49777778,  0.49777778,  0.79444444,  0.82333333,  0.86222222,\n",
       "         0.87555556,  0.85444444,  0.88222222,  0.91777778,  0.96222222,\n",
       "         0.88444444,  0.92222222,  0.96666667,  1.        ,  0.80111111,\n",
       "         0.83      ,  0.87222222,  0.89      ,  0.85333333,  0.89888889,\n",
       "         0.95777778,  0.99666667,  0.89111111,  0.95      ,  0.99666667,  1.        ]),\n",
       " 'split4_test_score': array([ 0.5 ,  0.5 ,  0.5 ,  0.5 ,  0.5 ,  0.5 ,  0.5 ,  0.5 ,  0.5 ,\n",
       "         0.5 ,  0.5 ,  0.5 ,  0.78,  0.8 ,  0.82,  0.83,  0.83,  0.84,\n",
       "         0.84,  0.85,  0.85,  0.86,  0.84,  0.86,  0.8 ,  0.81,  0.83,\n",
       "         0.79,  0.87,  0.87,  0.83,  0.83,  0.84,  0.81,  0.87,  0.89]),\n",
       " 'split4_train_score': array([ 0.49777778,  0.49777778,  0.49777778,  0.49777778,  0.49777778,\n",
       "         0.49777778,  0.49777778,  0.49777778,  0.49777778,  0.49777778,\n",
       "         0.49777778,  0.49777778,  0.76777778,  0.80777778,  0.85888889,\n",
       "         0.87444444,  0.84111111,  0.87555556,  0.92777778,  0.96555556,\n",
       "         0.86666667,  0.92555556,  0.97444444,  0.99888889,  0.8       ,\n",
       "         0.82777778,  0.86333333,  0.90333333,  0.85666667,  0.92      ,\n",
       "         0.96777778,  0.99777778,  0.90666667,  0.94666667,  1.        ,  1.        ]),\n",
       " 'split5_test_score': array([ 0.5 ,  0.5 ,  0.5 ,  0.5 ,  0.5 ,  0.5 ,  0.5 ,  0.5 ,  0.5 ,\n",
       "         0.5 ,  0.5 ,  0.5 ,  0.8 ,  0.82,  0.82,  0.8 ,  0.77,  0.81,\n",
       "         0.83,  0.86,  0.83,  0.87,  0.87,  0.88,  0.82,  0.8 ,  0.83,\n",
       "         0.81,  0.78,  0.81,  0.86,  0.85,  0.87,  0.86,  0.89,  0.91]),\n",
       " 'split5_train_score': array([ 0.49777778,  0.49777778,  0.49777778,  0.49777778,  0.49777778,\n",
       "         0.49777778,  0.49777778,  0.49777778,  0.49777778,  0.49777778,\n",
       "         0.49777778,  0.49777778,  0.81111111,  0.81777778,  0.85666667,\n",
       "         0.89444444,  0.84555556,  0.87222222,  0.93111111,  0.97333333,\n",
       "         0.88222222,  0.92666667,  0.97111111,  0.99777778,  0.78777778,\n",
       "         0.83111111,  0.87111111,  0.89888889,  0.86777778,  0.89444444,\n",
       "         0.95555556,  0.99444444,  0.91777778,  0.95444444,  0.99888889,  1.        ]),\n",
       " 'split6_test_score': array([ 0.5 ,  0.5 ,  0.5 ,  0.5 ,  0.5 ,  0.5 ,  0.5 ,  0.5 ,  0.5 ,\n",
       "         0.5 ,  0.5 ,  0.5 ,  0.73,  0.81,  0.84,  0.81,  0.84,  0.85,\n",
       "         0.87,  0.86,  0.87,  0.88,  0.91,  0.89,  0.82,  0.82,  0.85,\n",
       "         0.83,  0.81,  0.8 ,  0.87,  0.9 ,  0.8 ,  0.84,  0.86,  0.88]),\n",
       " 'split6_train_score': array([ 0.49777778,  0.49777778,  0.49777778,  0.49777778,  0.49777778,\n",
       "         0.49777778,  0.49777778,  0.49777778,  0.49777778,  0.49777778,\n",
       "         0.49777778,  0.49777778,  0.76333333,  0.81666667,  0.85666667,\n",
       "         0.87555556,  0.84777778,  0.87888889,  0.92      ,  0.95777778,\n",
       "         0.88111111,  0.90666667,  0.97555556,  1.        ,  0.79222222,\n",
       "         0.82333333,  0.85333333,  0.88222222,  0.86111111,  0.89777778,\n",
       "         0.95666667,  0.99333333,  0.91111111,  0.94222222,  1.        ,  1.        ]),\n",
       " 'split7_test_score': array([ 0.5 ,  0.5 ,  0.5 ,  0.5 ,  0.5 ,  0.5 ,  0.5 ,  0.5 ,  0.5 ,\n",
       "         0.5 ,  0.5 ,  0.5 ,  0.79,  0.82,  0.83,  0.83,  0.85,  0.84,\n",
       "         0.85,  0.87,  0.89,  0.9 ,  0.91,  0.9 ,  0.72,  0.74,  0.76,\n",
       "         0.79,  0.82,  0.84,  0.89,  0.85,  0.82,  0.88,  0.86,  0.85]),\n",
       " 'split7_train_score': array([ 0.49777778,  0.49777778,  0.49777778,  0.49777778,  0.49777778,\n",
       "         0.49777778,  0.49777778,  0.49777778,  0.49777778,  0.49777778,\n",
       "         0.49777778,  0.49777778,  0.80111111,  0.81333333,  0.84333333,\n",
       "         0.87888889,  0.83444444,  0.86111111,  0.90777778,  0.95666667,\n",
       "         0.88555556,  0.92666667,  0.97777778,  0.99888889,  0.80111111,\n",
       "         0.83111111,  0.87666667,  0.89333333,  0.84111111,  0.89666667,\n",
       "         0.95222222,  0.99666667,  0.89555556,  0.94888889,  1.        ,  1.        ]),\n",
       " 'split8_test_score': array([ 0.49494949,  0.49494949,  0.49494949,  0.49494949,  0.49494949,\n",
       "         0.49494949,  0.49494949,  0.49494949,  0.49494949,  0.49494949,\n",
       "         0.49494949,  0.49494949,  0.72727273,  0.73737374,  0.75757576,\n",
       "         0.7979798 ,  0.76767677,  0.78787879,  0.78787879,  0.85858586,\n",
       "         0.72727273,  0.81818182,  0.88888889,  0.93939394,  0.6969697 ,\n",
       "         0.73737374,  0.77777778,  0.81818182,  0.74747475,  0.81818182,\n",
       "         0.83838384,  0.82828283,  0.85858586,  0.87878788,  0.88888889,\n",
       "         0.85858586]),\n",
       " 'split8_train_score': array([ 0.49833518,  0.49833518,  0.49833518,  0.49833518,  0.49833518,\n",
       "         0.49833518,  0.49833518,  0.49833518,  0.49833518,  0.49833518,\n",
       "         0.49833518,  0.49833518,  0.79245283,  0.82130966,  0.85127636,\n",
       "         0.87902331,  0.84128746,  0.87791343,  0.92230855,  0.96115427,\n",
       "         0.89345172,  0.93229745,  0.97558269,  0.99889012,  0.80688124,\n",
       "         0.83240844,  0.86792453,  0.89678135,  0.88235294,  0.90122087,\n",
       "         0.96781354,  0.99556049,  0.91564928,  0.95227525,  1.        ,  1.        ]),\n",
       " 'split9_test_score': array([ 0.49494949,  0.49494949,  0.49494949,  0.49494949,  0.49494949,\n",
       "         0.49494949,  0.49494949,  0.49494949,  0.49494949,  0.49494949,\n",
       "         0.49494949,  0.49494949,  0.73737374,  0.76767677,  0.76767677,\n",
       "         0.78787879,  0.77777778,  0.7979798 ,  0.82828283,  0.84848485,\n",
       "         0.74747475,  0.83838384,  0.85858586,  0.88888889,  0.75757576,\n",
       "         0.7979798 ,  0.80808081,  0.80808081,  0.72727273,  0.83838384,\n",
       "         0.85858586,  0.83838384,  0.74747475,  0.80808081,  0.83838384,\n",
       "         0.83838384]),\n",
       " 'split9_train_score': array([ 0.49833518,  0.49833518,  0.49833518,  0.49833518,  0.49833518,\n",
       "         0.49833518,  0.49833518,  0.49833518,  0.49833518,  0.49833518,\n",
       "         0.49833518,  0.49833518,  0.79134295,  0.81021088,  0.8390677 ,\n",
       "         0.87902331,  0.84683685,  0.86903441,  0.91231964,  0.95782464,\n",
       "         0.88568257,  0.93340733,  0.97447281,  0.99667037,  0.79578246,\n",
       "         0.83573807,  0.86570477,  0.88346282,  0.8745838 ,  0.92119867,\n",
       "         0.96448391,  0.99667037,  0.91675916,  0.95782464,  0.99889012,  1.        ]),\n",
       " 'std_fit_time': array([ 0.00398026,  0.00390306,  0.02483115,  0.0186452 ,  0.00226199,\n",
       "         0.01439471,  0.01536718,  0.07802184,  0.00166345,  0.0633296 ,\n",
       "         0.07856701,  0.05438393,  0.01269408,  0.00257029,  0.0150233 ,\n",
       "         0.01245418,  0.00672212,  0.01272557,  0.00612843,  0.03976246,\n",
       "         0.00195939,  0.01076261,  0.0054454 ,  0.07187783,  0.00763   ,\n",
       "         0.04220509,  0.03660504,  0.03498072,  0.00132577,  0.04886713,\n",
       "         0.01156396,  0.03288156,  0.0008899 ,  0.00153682,  0.02809901,\n",
       "         0.04229731]),\n",
       " 'std_score_time': array([  1.01938344e-03,   4.72628247e-04,   6.61707350e-03,\n",
       "          1.15986561e-04,   5.23707282e-04,   3.06157307e-04,\n",
       "          6.72158130e-05,   8.48442889e-05,   1.54700939e-04,\n",
       "          2.17086106e-05,   3.63517693e-04,   1.33500382e-03,\n",
       "          5.53896857e-04,   2.98189212e-05,   2.59396270e-03,\n",
       "          4.82867366e-04,   1.96745872e-04,   4.93586178e-04,\n",
       "          3.87988070e-04,   3.85818669e-04,   2.39673507e-04,\n",
       "          3.12011591e-05,   8.76880197e-05,   2.12805122e-03,\n",
       "          1.01081335e-03,   3.87293912e-04,   7.49267545e-04,\n",
       "          2.09834477e-03,   4.60426809e-04,   2.94573043e-04,\n",
       "          2.92973969e-04,   3.32893941e-04,   2.99154139e-05,\n",
       "          2.38875882e-04,   1.35757775e-04,   1.71412747e-04]),\n",
       " 'std_test_score': array([ 0.00244969,  0.00244969,  0.00244969,  0.00244969,  0.00244969,\n",
       "         0.00244969,  0.00244969,  0.00244969,  0.00244969,  0.00244969,\n",
       "         0.00244969,  0.00244969,  0.03468213,  0.04115347,  0.03864887,\n",
       "         0.03355709,  0.04322502,  0.03300628,  0.03886591,  0.01571593,\n",
       "         0.05213839,  0.03495643,  0.03758226,  0.02618682,  0.03993859,\n",
       "         0.02765745,  0.02766484,  0.03165632,  0.04522327,  0.02684225,\n",
       "         0.03185088,  0.03580739,  0.04319549,  0.03699171,  0.02372599,\n",
       "         0.03202185]),\n",
       " 'std_train_score': array([ 0.00027217,  0.00027217,  0.00027217,  0.00027217,  0.00027217,\n",
       "         0.00027217,  0.00027217,  0.00027217,  0.00027217,  0.00027217,\n",
       "         0.00027217,  0.00027217,  0.01473825,  0.00552427,  0.007603  ,\n",
       "         0.00715363,  0.00593154,  0.00600213,  0.00644838,  0.00545214,\n",
       "         0.0072073 ,  0.00792937,  0.0030698 ,  0.00096811,  0.00624371,\n",
       "         0.00321077,  0.00614089,  0.00791723,  0.01171188,  0.00896477,\n",
       "         0.00594237,  0.00131552,  0.00869357,  0.00474022,  0.00175484,  0.        ])}"
      ]
     },
     "execution_count": 11,
     "metadata": {},
     "output_type": "execute_result"
    }
   ],
   "source": [
    "xgb_grid.cv_results_"
   ]
  },
  {
   "cell_type": "markdown",
   "metadata": {},
   "source": [
    "**Или просто использовать лучшее сочетание параметров.**"
   ]
  },
  {
   "cell_type": "code",
   "execution_count": 12,
   "metadata": {
    "collapsed": false
   },
   "outputs": [
    {
     "name": "stdout",
     "output_type": "stream",
     "text": [
      "Best accuracy obtained: 0.891\n",
      "Parameters:\n",
      "\tlearning_rate: 0.5\n",
      "\tn_estimators: 50\n",
      "\tmax_depth: 3\n"
     ]
    }
   ],
   "source": [
    "print(\"Best accuracy obtained: {0}\".format(xgb_grid.best_score_))\n",
    "print(\"Parameters:\")\n",
    "for key, value in xgb_grid.best_params_.items():\n",
    "    print(\"\\t{}: {}\".format(key, value))"
   ]
  },
  {
   "cell_type": "markdown",
   "metadata": {},
   "source": [
    "### Randomized Grid-Search\n",
    "**Часто неплохо, а главное, намного быстрее, работает рандомизированная версия.\n",
    "Теперь создаем словарь с распределениями параметров:**"
   ]
  },
  {
   "cell_type": "code",
   "execution_count": 20,
   "metadata": {
    "collapsed": false
   },
   "outputs": [],
   "source": [
    "params_dist_grid = {\n",
    "    'max_depth': [1, 2, 3, 4],\n",
    "    'gamma': [0, 0.5, 1],\n",
    "    'n_estimators': randint(1, 1001), # uniform discrete random distribution\n",
    "    'learning_rate': uniform(), # gaussian distribution\n",
    "    'subsample': [0.5, 0.75, 1.],\n",
    "    'colsample_bytree': [0.5, 0.75, 1.]\n",
    "}"
   ]
  },
  {
   "cell_type": "markdown",
   "metadata": {},
   "source": [
    "**Инициализируем `RandomizedSearchCV` так чтобы случайно выбрать 10 комбинаций параметров.**"
   ]
  },
  {
   "cell_type": "code",
   "execution_count": 26,
   "metadata": {
    "collapsed": false
   },
   "outputs": [],
   "source": [
    "rs_grid = RandomizedSearchCV(\n",
    "    estimator=XGBClassifier(**params_fixed),\n",
    "    param_distributions=params_dist_grid,\n",
    "    n_iter=10,\n",
    "    cv=cv,\n",
    "    scoring='accuracy',\n",
    "    random_state=42,\n",
    ")"
   ]
  },
  {
   "cell_type": "code",
   "execution_count": 27,
   "metadata": {
    "collapsed": false
   },
   "outputs": [
    {
     "name": "stdout",
     "output_type": "stream",
     "text": [
      "CPU times: user 1min 34s, sys: 38.4 s, total: 2min 12s\n",
      "Wall time: 1min 29s\n"
     ]
    },
    {
     "data": {
      "text/plain": [
       "RandomizedSearchCV(cv=StratifiedKFold(n_splits=10, random_state=42, shuffle=True),\n",
       "          error_score='raise',\n",
       "          estimator=XGBClassifier(base_score=0.5, colsample_bylevel=1, colsample_bytree=1,\n",
       "       gamma=0, learning_rate=0.1, max_delta_step=0, max_depth=3,\n",
       "       min_child_weight=1, missing=None, n_estimators=100, nthread=-1,\n",
       "       objective='binary:logistic', reg_alpha=0, reg_lambda=1,\n",
       "       scale_pos_weight=1, seed=42, silent=1, subsample=1),\n",
       "          fit_params={}, iid=True, n_iter=10, n_jobs=1,\n",
       "          param_distributions={'learning_rate': <scipy.stats._distn_infrastructure.rv_frozen object at 0x11111f898>, 'n_estimators': <scipy.stats._distn_infrastructure.rv_frozen object at 0x11111f710>, 'max_depth': [1, 2, 3, 4], 'gamma': [0, 0.5, 1], 'colsample_bytree': [0.5, 0.75, 1.0], 'subsample': [0.5, 0.75, 1.0]},\n",
       "          pre_dispatch='2*n_jobs', random_state=42, refit=True,\n",
       "          return_train_score=True, scoring='accuracy', verbose=0)"
      ]
     },
     "execution_count": 27,
     "metadata": {},
     "output_type": "execute_result"
    }
   ],
   "source": [
    "%%time\n",
    "rs_grid.fit(X, y)"
   ]
  },
  {
   "cell_type": "code",
   "execution_count": 28,
   "metadata": {
    "collapsed": false
   },
   "outputs": [
    {
     "data": {
      "text/plain": [
       "XGBClassifier(base_score=0.5, colsample_bylevel=1, colsample_bytree=1.0,\n",
       "       gamma=0.5, learning_rate=0.056411579027100256, max_delta_step=0,\n",
       "       max_depth=4, min_child_weight=1, missing=None, n_estimators=492,\n",
       "       nthread=-1, objective='binary:logistic', reg_alpha=0, reg_lambda=1,\n",
       "       scale_pos_weight=1, seed=42, silent=1, subsample=0.75)"
      ]
     },
     "execution_count": 28,
     "metadata": {},
     "output_type": "execute_result"
    }
   ],
   "source": [
    "rs_grid.best_estimator_"
   ]
  },
  {
   "cell_type": "code",
   "execution_count": 29,
   "metadata": {
    "collapsed": false
   },
   "outputs": [
    {
     "data": {
      "text/plain": [
       "{'colsample_bytree': 1.0,\n",
       " 'gamma': 0.5,\n",
       " 'learning_rate': 0.056411579027100256,\n",
       " 'max_depth': 4,\n",
       " 'n_estimators': 492,\n",
       " 'subsample': 0.75}"
      ]
     },
     "execution_count": 29,
     "metadata": {},
     "output_type": "execute_result"
    }
   ],
   "source": [
    "rs_grid.best_params_"
   ]
  },
  {
   "cell_type": "code",
   "execution_count": 30,
   "metadata": {
    "collapsed": false
   },
   "outputs": [
    {
     "data": {
      "text/plain": [
       "0.89900000000000002"
      ]
     },
     "execution_count": 30,
     "metadata": {},
     "output_type": "execute_result"
    }
   ],
   "source": [
    "rs_grid.best_score_"
   ]
  },
  {
   "cell_type": "markdown",
   "metadata": {},
   "source": [
    "### Hyperopt (пока только Python 2)\n",
    "**В библиотеке Hyperopt реализовано намного большее алгоритмов подбора параметров разных моделей. Будем настраивать, например, функцию log_loss по валидационной выборке.**"
   ]
  },
  {
   "cell_type": "code",
   "execution_count": 25,
   "metadata": {
    "collapsed": false
   },
   "outputs": [],
   "source": [
    "X_train, X_test, y_train, y_test = train_test_split(X, y,\n",
    "                                                    test_size=0.3, random_state=42)"
   ]
  },
  {
   "cell_type": "markdown",
   "metadata": {},
   "source": [
    "**Определим функцию, которую надо минимизировать.**"
   ]
  },
  {
   "cell_type": "code",
   "execution_count": 40,
   "metadata": {
    "collapsed": true
   },
   "outputs": [],
   "source": [
    "def score(params):\n",
    "    print(\"Training with params:\")\n",
    "    print(params)\n",
    "    num_round = int(params['n_estimators'])\n",
    "    del params['n_estimators']\n",
    "    dtrain = xgb.DMatrix(X_train, label=y_train)\n",
    "    dvalid = xgb.DMatrix(X_test, label=y_test)\n",
    "    model = xgb.train(params, dtrain, num_round)\n",
    "    predictions = model.predict(dvalid).reshape((X_test.shape[0], 1))\n",
    "    score = log_loss(y_test, predictions)\n",
    "    print(\"\\tScore {0}\\n\\n\".format(score))\n",
    "    return {'loss': score, 'status': STATUS_OK}"
   ]
  },
  {
   "cell_type": "code",
   "execution_count": 43,
   "metadata": {
    "collapsed": true
   },
   "outputs": [],
   "source": [
    "def optimize(trials):\n",
    "    space = {\n",
    "             'n_estimators' : 150,\n",
    "             'eta' : hp.quniform('eta', 0.025, 0.5, 0.025),\n",
    "             'max_depth' : hp.quniform('max_depth', 4, 10, 2),\n",
    "             'min_child_weight' : hp.quniform('min_child_weight', 1, 6, 1),\n",
    "             'subsample' : hp.quniform('subsample', 0.5, 1, 0.25),\n",
    "             'gamma' : 0,\n",
    "             'colsample_bytree' : hp.quniform('colsample_bytree', 0.5, 1, 0.25),\n",
    "             'eval_metric': 'merror',\n",
    "             'objective': 'binary:logistic',\n",
    "             'nthread' : 4,\n",
    "             'silent' : 1\n",
    "             }\n",
    "    best = fmin(score, space, algo=tpe.suggest, trials=trials, max_evals=20)\n",
    "\n",
    "    return best"
   ]
  },
  {
   "cell_type": "code",
   "execution_count": 45,
   "metadata": {
    "collapsed": false
   },
   "outputs": [
    {
     "name": "stdout",
     "output_type": "stream",
     "text": [
      "Training with params:\n",
      "{'colsample_bytree': 0.75, 'silent': 1, 'eval_metric': 'merror', 'nthread': 4, 'min_child_weight': 2.0, 'n_estimators': 150, 'subsample': 1.0, 'eta': 0.125, 'objective': 'binary:logistic', 'max_depth': 4.0, 'gamma': 0}\n",
      "\tScore 0.282255703456\n",
      "\n",
      "\n",
      "Training with params:\n",
      "{'colsample_bytree': 0.75, 'silent': 1, 'eval_metric': 'merror', 'nthread': 4, 'min_child_weight': 4.0, 'n_estimators': 150, 'subsample': 0.5, 'eta': 0.42500000000000004, 'objective': 'binary:logistic', 'max_depth': 6.0, 'gamma': 0}\n",
      "\tScore 0.367044530358\n",
      "\n",
      "\n",
      "Training with params:\n",
      "{'colsample_bytree': 0.5, 'silent': 1, 'eval_metric': 'merror', 'nthread': 4, 'min_child_weight': 6.0, 'n_estimators': 150, 'subsample': 1.0, 'eta': 0.1, 'objective': 'binary:logistic', 'max_depth': 6.0, 'gamma': 0}\n",
      "\tScore 0.294940195541\n",
      "\n",
      "\n",
      "Training with params:\n",
      "{'colsample_bytree': 1.0, 'silent': 1, 'eval_metric': 'merror', 'nthread': 4, 'min_child_weight': 2.0, 'n_estimators': 150, 'subsample': 0.5, 'eta': 0.4, 'objective': 'binary:logistic', 'max_depth': 6.0, 'gamma': 0}\n",
      "\tScore 0.385499991926\n",
      "\n",
      "\n",
      "Training with params:\n",
      "{'colsample_bytree': 0.5, 'silent': 1, 'eval_metric': 'merror', 'nthread': 4, 'min_child_weight': 5.0, 'n_estimators': 150, 'subsample': 0.75, 'eta': 0.225, 'objective': 'binary:logistic', 'max_depth': 6.0, 'gamma': 0}\n",
      "\tScore 0.348408942342\n",
      "\n",
      "\n",
      "Training with params:\n",
      "{'colsample_bytree': 0.75, 'silent': 1, 'eval_metric': 'merror', 'nthread': 4, 'min_child_weight': 3.0, 'n_estimators': 150, 'subsample': 0.75, 'eta': 0.05, 'objective': 'binary:logistic', 'max_depth': 8.0, 'gamma': 0}\n",
      "\tScore 0.282591014163\n",
      "\n",
      "\n",
      "Training with params:\n",
      "{'colsample_bytree': 0.5, 'silent': 1, 'eval_metric': 'merror', 'nthread': 4, 'min_child_weight': 6.0, 'n_estimators': 150, 'subsample': 0.75, 'eta': 0.2, 'objective': 'binary:logistic', 'max_depth': 6.0, 'gamma': 0}\n",
      "\tScore 0.344703681703\n",
      "\n",
      "\n",
      "Training with params:\n",
      "{'colsample_bytree': 0.5, 'silent': 1, 'eval_metric': 'merror', 'nthread': 4, 'min_child_weight': 3.0, 'n_estimators': 150, 'subsample': 0.75, 'eta': 0.45, 'objective': 'binary:logistic', 'max_depth': 6.0, 'gamma': 0}\n",
      "\tScore 0.346107172432\n",
      "\n",
      "\n",
      "Training with params:\n",
      "{'colsample_bytree': 0.5, 'silent': 1, 'eval_metric': 'merror', 'nthread': 4, 'min_child_weight': 3.0, 'n_estimators': 150, 'subsample': 0.75, 'eta': 0.17500000000000002, 'objective': 'binary:logistic', 'max_depth': 4.0, 'gamma': 0}\n",
      "\tScore 0.328382114647\n",
      "\n",
      "\n",
      "Training with params:\n",
      "{'colsample_bytree': 0.75, 'silent': 1, 'eval_metric': 'merror', 'nthread': 4, 'min_child_weight': 1.0, 'n_estimators': 150, 'subsample': 0.5, 'eta': 0.30000000000000004, 'objective': 'binary:logistic', 'max_depth': 8.0, 'gamma': 0}\n",
      "\tScore 0.366491402466\n",
      "\n",
      "\n",
      "Training with params:\n",
      "{'colsample_bytree': 0.75, 'silent': 1, 'eval_metric': 'merror', 'nthread': 4, 'min_child_weight': 3.0, 'n_estimators': 150, 'subsample': 0.75, 'eta': 0.275, 'objective': 'binary:logistic', 'max_depth': 6.0, 'gamma': 0}\n",
      "\tScore 0.300270553559\n",
      "\n",
      "\n",
      "Training with params:\n",
      "{'colsample_bytree': 1.0, 'silent': 1, 'eval_metric': 'merror', 'nthread': 4, 'min_child_weight': 3.0, 'n_estimators': 150, 'subsample': 0.5, 'eta': 0.35000000000000003, 'objective': 'binary:logistic', 'max_depth': 10.0, 'gamma': 0}\n",
      "\tScore 0.358005050904\n",
      "\n",
      "\n",
      "Training with params:\n",
      "{'colsample_bytree': 1.0, 'silent': 1, 'eval_metric': 'merror', 'nthread': 4, 'min_child_weight': 2.0, 'n_estimators': 150, 'subsample': 0.75, 'eta': 0.4, 'objective': 'binary:logistic', 'max_depth': 8.0, 'gamma': 0}\n",
      "\tScore 0.364007703397\n",
      "\n",
      "\n",
      "Training with params:\n",
      "{'colsample_bytree': 1.0, 'silent': 1, 'eval_metric': 'merror', 'nthread': 4, 'min_child_weight': 3.0, 'n_estimators': 150, 'subsample': 1.0, 'eta': 0.42500000000000004, 'objective': 'binary:logistic', 'max_depth': 8.0, 'gamma': 0}\n",
      "\tScore 0.309283114576\n",
      "\n",
      "\n",
      "Training with params:\n",
      "{'colsample_bytree': 0.5, 'silent': 1, 'eval_metric': 'merror', 'nthread': 4, 'min_child_weight': 6.0, 'n_estimators': 150, 'subsample': 1.0, 'eta': 0.47500000000000003, 'objective': 'binary:logistic', 'max_depth': 8.0, 'gamma': 0}\n",
      "\tScore 0.329299297371\n",
      "\n",
      "\n",
      "Training with params:\n",
      "{'colsample_bytree': 0.75, 'silent': 1, 'eval_metric': 'merror', 'nthread': 4, 'min_child_weight': 4.0, 'n_estimators': 150, 'subsample': 0.75, 'eta': 0.325, 'objective': 'binary:logistic', 'max_depth': 4.0, 'gamma': 0}\n",
      "\tScore 0.341873260792\n",
      "\n",
      "\n",
      "Training with params:\n",
      "{'colsample_bytree': 0.5, 'silent': 1, 'eval_metric': 'merror', 'nthread': 4, 'min_child_weight': 1.0, 'n_estimators': 150, 'subsample': 1.0, 'eta': 0.025, 'objective': 'binary:logistic', 'max_depth': 8.0, 'gamma': 0}\n",
      "\tScore 0.294979770997\n",
      "\n",
      "\n",
      "Training with params:\n",
      "{'colsample_bytree': 0.75, 'silent': 1, 'eval_metric': 'merror', 'nthread': 4, 'min_child_weight': 2.0, 'n_estimators': 150, 'subsample': 1.0, 'eta': 0.30000000000000004, 'objective': 'binary:logistic', 'max_depth': 8.0, 'gamma': 0}\n",
      "\tScore 0.3116857344\n",
      "\n",
      "\n",
      "Training with params:\n",
      "{'colsample_bytree': 0.75, 'silent': 1, 'eval_metric': 'merror', 'nthread': 4, 'min_child_weight': 2.0, 'n_estimators': 150, 'subsample': 0.75, 'eta': 0.275, 'objective': 'binary:logistic', 'max_depth': 8.0, 'gamma': 0}\n",
      "\tScore 0.321633830242\n",
      "\n",
      "\n",
      "Training with params:\n",
      "{'colsample_bytree': 0.75, 'silent': 1, 'eval_metric': 'merror', 'nthread': 4, 'min_child_weight': 6.0, 'n_estimators': 150, 'subsample': 1.0, 'eta': 0.5, 'objective': 'binary:logistic', 'max_depth': 4.0, 'gamma': 0}\n",
      "\tScore 0.354362800674\n",
      "\n",
      "\n",
      "{'subsample': 1.0, 'eta': 0.125, 'colsample_bytree': 0.75, 'max_depth': 4.0, 'min_child_weight': 2.0}\n"
     ]
    }
   ],
   "source": [
    "trials = Trials()\n",
    "best_params = optimize(trials)\n",
    "print(best_params)"
   ]
  }
 ],
 "metadata": {
  "anaconda-cloud": {},
  "kernelspec": {
   "display_name": "Python 3",
   "language": "python",
   "name": "python3"
  },
  "language_info": {
   "codemirror_mode": {
    "name": "ipython",
    "version": 3
   },
   "file_extension": ".py",
   "mimetype": "text/x-python",
   "name": "python",
   "nbconvert_exporter": "python",
   "pygments_lexer": "ipython3",
   "version": "3.5.2"
  }
 },
 "nbformat": 4,
 "nbformat_minor": 0
}
