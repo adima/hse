{
 "cells": [
  {
   "cell_type": "markdown",
   "metadata": {},
   "source": [
    "<center>\n",
    "<img src=\"../../img/ml_theme.png\">\n",
    "# Дополнительное профессиональное <br> образование НИУ ВШЭ\n",
    "#### Программа \"Практический анализ данных и машинное обучение\"\n",
    "<img src=\"../../img/faculty_logo.jpg\" height=\"240\" width=\"240\">\n",
    "## Автор материала: Лисицын Сергей\n",
    "</center>\n",
    "Материал распространяется на условиях лицензии <a href=\"https://opensource.org/licenses/MS-RL\">Ms-RL</a>. Можно использовать в любых целях, кроме коммерческих, но с обязательным упоминанием автора материала."
   ]
  },
  {
   "cell_type": "markdown",
   "metadata": {},
   "source": [
    "# <center>Занятие 9. Разреженные данные, онлайн-обучение</center>\n",
    "\n",
    "## <center>Часть 4. Применение vowpal wabbit для соревнования Avazu</center>"
   ]
  },
  {
   "cell_type": "markdown",
   "metadata": {
    "collapsed": true
   },
   "source": [
    "Одной из важнейших задач для компаний, связанных с интернет-рекламой, является предсказание CTR (Click-Through Rate), величины, соответствующей вероятности клика некоторого пользователя по некоторому баннеру. В Kaggle было проведено два соревнования по предсказанию CTR, одно из которых мы рассмотрим в данной части занятия.\n",
    "\n",
    "Соревнование, о котором идет речь, называется Click-Through Rate Prediction и представлено компанией Avazu. Дополнительную информацию можно найти по ссылке: https://www.kaggle.com/c/avazu-ctr-prediction. Размер данных не позволяет поместить их в репозиторий, поэтому для воспроизведения дальнейших операций вам нужно сохранить выборку по пути `../../data/avazu_train.csv`.\n",
    "\n",
    "Ознакомимся с форматом данных:"
   ]
  },
  {
   "cell_type": "code",
   "execution_count": 3,
   "metadata": {
    "collapsed": false
   },
   "outputs": [
    {
     "name": "stdout",
     "output_type": "stream",
     "text": [
      "id,click,hour,C1,banner_pos,site_id,site_domain,site_category,app_id,app_domain,app_category,device_id,device_ip,device_model,device_type,device_conn_type,C14,C15,C16,C17,C18,C19,C20,C21\n",
      "1000009418151094273,0,14102100,1005,0,1fbe01fe,f3845767,28905ebd,ecad2386,7801e8d9,07d7df22,a99f214a,ddd2926e,44956a24,1,2,15706,320,50,1722,0,35,-1,79\n",
      "10000169349117863715,0,14102100,1005,0,1fbe01fe,f3845767,28905ebd,ecad2386,7801e8d9,07d7df22,a99f214a,96809ac8,711ee120,1,0,15704,320,50,1722,0,35,100084,79\n",
      "10000371904215119486,0,14102100,1005,0,1fbe01fe,f3845767,28905ebd,ecad2386,7801e8d9,07d7df22,a99f214a,b3cf8def,8a4875bd,1,0,15704,320,50,1722,0,35,100084,79\n",
      "10000640724480838376,0,14102100,1005,0,1fbe01fe,f3845767,28905ebd,ecad2386,7801e8d9,07d7df22,a99f214a,e8275b8f,6332421a,1,0,15706,320,50,1722,0,35,100084,79\n",
      "10000679056417042096,0,14102100,1005,1,fe8cc448,9166c161,0569f928,ecad2386,7801e8d9,07d7df22,a99f214a,9644d0bf,779d90c2,1,0,18993,320,50,2161,0,35,-1,157\n"
     ]
    }
   ],
   "source": [
    "with open('../../data/avazu_train.csv') as train_file:\n",
    "    for _ in range(6):\n",
    "        print(train_file.readline().strip())"
   ]
  },
  {
   "cell_type": "markdown",
   "metadata": {},
   "source": [
    "Одной из особенностей работы с такими данными является то, что полная их загрузка в память может быть невозможна. Поэтому в этой части занятия мы не будем пользоваться pandas и будем работать на более низком уровне в \"потоковом\" режиме, никогда не загружая весь файл в память.\n",
    "\n",
    "Ознакомимся с атрибутами:\n",
    "\n",
    "- **id** идентификатор события. Очевидно, что идентификатор не является обобщающим признаком, поэтому будет исключен\n",
    "- **click** произошел ли клик? 0 или 1\n",
    "- **hour** час дня, в котороый произошел показ\n",
    "- **C1** анонимизированный атрибут\n",
    "- **banner_pos** положение баннера, дискретная величина\n",
    "- **site_id** идентификатор сайта, на котором произошел показ\n",
    "- **site_domain** идентификатор домена сайта, на котором произошел показ\n",
    "- **site_category** идентификатор категории сайта, на котором произошел показ\n",
    "- **app_id** аналогично, идентификатор приложения\n",
    "- **app_domain** идентификатор домена приложения\n",
    "- **app_category** идентификатор категории приложения\n",
    "- **device_id** идентификатор устройства. Является уникальным среди пользователей признаком, что может привести к переобучению, будет исключен\n",
    "- **device_ip** IP-адрес устройства. Чуть менее уникален, чем идентификатор \n",
    "- **device_model** модель устройства\n",
    "- **device_type** тип устройства\n",
    "- **device_conn_type** тип соединения устройства с интернетом\n",
    "- **C14,C15,C16,C17,C18,C19,C20,C21** анонимизированный атрибут\n",
    "\n",
    "Таким образом, в специальной обработке нуждаются click (как непосредственно метка класса), и исключаемые нами id и device_id. \n",
    "\n",
    "Будем считывать данные с помощью библиотеки csv в виде dict:"
   ]
  },
  {
   "cell_type": "code",
   "execution_count": 12,
   "metadata": {
    "collapsed": false
   },
   "outputs": [
    {
     "name": "stdout",
     "output_type": "stream",
     "text": [
      "Attributes are ['id', 'click', 'hour', 'C1', 'banner_pos', 'site_id', 'site_domain', 'site_category', 'app_id', 'app_domain', 'app_category', 'device_id', 'device_ip', 'device_model', 'device_type', 'device_conn_type', 'C14', 'C15', 'C16', 'C17', 'C18', 'C19', 'C20', 'C21']\n"
     ]
    },
    {
     "data": {
      "text/plain": [
       "{'C1': '1005',\n",
       " 'C14': '15706',\n",
       " 'C15': '320',\n",
       " 'C16': '50',\n",
       " 'C17': '1722',\n",
       " 'C18': '0',\n",
       " 'C19': '35',\n",
       " 'C20': '-1',\n",
       " 'C21': '79',\n",
       " 'app_category': '07d7df22',\n",
       " 'app_domain': '7801e8d9',\n",
       " 'app_id': 'ecad2386',\n",
       " 'banner_pos': '0',\n",
       " 'click': '0',\n",
       " 'device_conn_type': '2',\n",
       " 'device_id': 'a99f214a',\n",
       " 'device_ip': 'ddd2926e',\n",
       " 'device_model': '44956a24',\n",
       " 'device_type': '1',\n",
       " 'hour': '14102100',\n",
       " 'id': '1000009418151094273',\n",
       " 'site_category': '28905ebd',\n",
       " 'site_domain': 'f3845767',\n",
       " 'site_id': '1fbe01fe'}"
      ]
     },
     "execution_count": 12,
     "metadata": {},
     "output_type": "execute_result"
    }
   ],
   "source": [
    "import csv\n",
    "with open('../../data/avazu_train.csv') as train_file:\n",
    "    reader = csv.reader(train_file)\n",
    "    header = next(reader)\n",
    "    print('Attributes are', header)\n",
    "    some_example = dict(zip(header, next(reader)))\n",
    "    \n",
    "some_example"
   ]
  },
  {
   "cell_type": "markdown",
   "metadata": {},
   "source": [
    "Реализуем функцию для преобразования в формат VW:"
   ]
  },
  {
   "cell_type": "code",
   "execution_count": 23,
   "metadata": {
    "collapsed": false
   },
   "outputs": [
    {
     "data": {
      "text/plain": [
       "'1.0 |features app_id=ecad2386 C1=1005 C21=79 device_model=44956a24 site_id=1fbe01fe C15=320 C20=-1 banner_pos=0 device_conn_type=2 C16=50 device_type=1 C17=1722 C18=0 site_domain=f3845767 app_category=07d7df22 site_category=28905ebd device_ip=ddd2926e hour=14102100 C14=15706 C19=35 app_domain=7801e8d9\\n'"
      ]
     },
     "execution_count": 23,
     "metadata": {},
     "output_type": "execute_result"
    }
   ],
   "source": [
    "def vowpalize(row, include_label=False):\n",
    "    result = []\n",
    "    if include_label:\n",
    "        result.append(row['click'])\n",
    "        \n",
    "    # weight\n",
    "    result.append(str(1.0))\n",
    "    result.append('|features')\n",
    "        \n",
    "    for k,v in row.items():\n",
    "        if k in ('id', 'device_id', 'click'):\n",
    "            continue\n",
    "            \n",
    "        result.append('{}={}'.format(k,v))\n",
    "    return ' '.join(result) + '\\n'\n",
    "        \n",
    "vowpalize(some_example)"
   ]
  },
  {
   "cell_type": "markdown",
   "metadata": {},
   "source": [
    "Теперь мы готовы преобразовать данные. Отнесем 10% данных в тестовую выборку:"
   ]
  },
  {
   "cell_type": "code",
   "execution_count": 29,
   "metadata": {
    "collapsed": false
   },
   "outputs": [
    {
     "ename": "KeyboardInterrupt",
     "evalue": "",
     "output_type": "error",
     "traceback": [
      "\u001b[0;31m---------------------------------------------------------------------------\u001b[0m",
      "\u001b[0;31mKeyboardInterrupt\u001b[0m                         Traceback (most recent call last)",
      "\u001b[0;32m<ipython-input-29-65c10eb77744>\u001b[0m in \u001b[0;36m<module>\u001b[0;34m()\u001b[0m\n\u001b[1;32m      9\u001b[0m             \u001b[0mvw_test_file\u001b[0m\u001b[0;34m.\u001b[0m\u001b[0mwrite\u001b[0m\u001b[0;34m(\u001b[0m\u001b[0mvowpalize\u001b[0m\u001b[0;34m(\u001b[0m\u001b[0mexample\u001b[0m\u001b[0;34m,\u001b[0m \u001b[0minclude_label\u001b[0m\u001b[0;34m=\u001b[0m\u001b[0;32mFalse\u001b[0m\u001b[0;34m)\u001b[0m\u001b[0;34m)\u001b[0m\u001b[0;34m\u001b[0m\u001b[0m\n\u001b[1;32m     10\u001b[0m         \u001b[0;32melse\u001b[0m\u001b[0;34m:\u001b[0m\u001b[0;34m\u001b[0m\u001b[0m\n\u001b[0;32m---> 11\u001b[0;31m             \u001b[0mvw_train_file\u001b[0m\u001b[0;34m.\u001b[0m\u001b[0mwrite\u001b[0m\u001b[0;34m(\u001b[0m\u001b[0mvowpalize\u001b[0m\u001b[0;34m(\u001b[0m\u001b[0mexample\u001b[0m\u001b[0;34m)\u001b[0m\u001b[0;34m)\u001b[0m\u001b[0;34m\u001b[0m\u001b[0m\n\u001b[0m",
      "\u001b[0;32m<ipython-input-23-685c31c2174d>\u001b[0m in \u001b[0;36mvowpalize\u001b[0;34m(row, include_label)\u001b[0m\n\u001b[0;32m----> 1\u001b[0;31m \u001b[0;32mdef\u001b[0m \u001b[0mvowpalize\u001b[0m\u001b[0;34m(\u001b[0m\u001b[0mrow\u001b[0m\u001b[0;34m,\u001b[0m \u001b[0minclude_label\u001b[0m\u001b[0;34m=\u001b[0m\u001b[0;32mFalse\u001b[0m\u001b[0;34m)\u001b[0m\u001b[0;34m:\u001b[0m\u001b[0;34m\u001b[0m\u001b[0m\n\u001b[0m\u001b[1;32m      2\u001b[0m     \u001b[0mresult\u001b[0m \u001b[0;34m=\u001b[0m \u001b[0;34m[\u001b[0m\u001b[0;34m]\u001b[0m\u001b[0;34m\u001b[0m\u001b[0m\n\u001b[1;32m      3\u001b[0m     \u001b[0;32mif\u001b[0m \u001b[0minclude_label\u001b[0m\u001b[0;34m:\u001b[0m\u001b[0;34m\u001b[0m\u001b[0m\n\u001b[1;32m      4\u001b[0m         \u001b[0mresult\u001b[0m\u001b[0;34m.\u001b[0m\u001b[0mappend\u001b[0m\u001b[0;34m(\u001b[0m\u001b[0mrow\u001b[0m\u001b[0;34m[\u001b[0m\u001b[0;34m'click'\u001b[0m\u001b[0;34m]\u001b[0m\u001b[0;34m)\u001b[0m\u001b[0;34m\u001b[0m\u001b[0m\n\u001b[1;32m      5\u001b[0m \u001b[0;34m\u001b[0m\u001b[0m\n",
      "\u001b[0;31mKeyboardInterrupt\u001b[0m: "
     ]
    }
   ],
   "source": [
    "import random\n",
    "\n",
    "with open('../../data/avazu_train.csv') as train_file, \\\n",
    "     open('../../output/avazu_train.vw', 'w') as vw_train_file, \\\n",
    "     open('../../output/avazu_test.vw', 'w') as vw_test_file:\n",
    "    reader = csv.reader(train_file)\n",
    "    header = next(reader)\n",
    "    for line in reader:\n",
    "        example = dict(zip(header, line))\n",
    "        if random.random() < 0.1:\n",
    "            vw_test_file.write(vowpalize(example, include_label=False))\n",
    "        else:\n",
    "            vw_train_file.write(vowpalize(example))"
   ]
  },
  {
   "cell_type": "markdown",
   "metadata": {},
   "source": [
    "Обучим модель с логистической функцией потерь, подходящей для этой задачи:"
   ]
  },
  {
   "cell_type": "markdown",
   "metadata": {},
   "source": [
    "! { ваш код здесь }"
   ]
  },
  {
   "cell_type": "markdown",
   "metadata": {},
   "source": [
    "Применим модель на построенной тестовой выборке:"
   ]
  },
  {
   "cell_type": "code",
   "execution_count": null,
   "metadata": {
    "collapsed": true
   },
   "outputs": [],
   "source": [
    "! { ваш код здесь } "
   ]
  },
  {
   "cell_type": "markdown",
   "metadata": {},
   "source": [
    "Оценим качество работы классификатора:"
   ]
  },
  {
   "cell_type": "code",
   "execution_count": null,
   "metadata": {
    "collapsed": true
   },
   "outputs": [],
   "source": [
    "{ ваш код здесь }"
   ]
  }
 ],
 "metadata": {
  "anaconda-cloud": {},
  "kernelspec": {
   "display_name": "Python [default]",
   "language": "python",
   "name": "python3"
  },
  "language_info": {
   "codemirror_mode": {
    "name": "ipython",
    "version": 3
   },
   "file_extension": ".py",
   "mimetype": "text/x-python",
   "name": "python",
   "nbconvert_exporter": "python",
   "pygments_lexer": "ipython3",
   "version": "3.5.2"
  }
 },
 "nbformat": 4,
 "nbformat_minor": 0
}
