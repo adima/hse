{
 "cells": [
  {
   "cell_type": "markdown",
   "metadata": {},
   "source": [
    "<center>\n",
    "<img src=\"../../img/ml_theme.png\">\n",
    "# Дополнительное профессиональное <br> образование НИУ ВШЭ\n",
    "#### Программа \"Практический анализ данных и машинное обучение\"\n",
    "<img src=\"../../img/faculty_logo.jpg\" height=\"240\" width=\"240\">\n",
    "## Авторы материала: Лисицын Сергей, Кашницкий Юрий\n",
    "</center>\n",
    "Материал распространяется на условиях лицензии <a href=\"https://opensource.org/licenses/MS-RL\">Ms-RL</a>. Можно использовать в любых целях, кроме коммерческих, но с обязательным упоминанием автора материала."
   ]
  },
  {
   "cell_type": "markdown",
   "metadata": {},
   "source": [
    "# <center>Занятие 9. Разреженные данные, онлайн-обучение</center>\n",
    "\n",
    "## <center>Тьториал и практика по Vowpal Wabbit</center>\n",
    "\n",
    "**План:**\n",
    "- **Тьюториал по Vowpal Wabbit. Письма. Бинарная классификация**\n",
    "- **Тьюториал по Vowpal Wabbit. Письма. Многоклассовая классификация**\n",
    "- **Тьюториал по Vowpal Wabbit. Рецензии к фильмам IMDB**\n",
    "- **Применение Vowpal Wabbit к данным по посещению сайтов**"
   ]
  },
  {
   "cell_type": "markdown",
   "metadata": {},
   "source": [
    "# Тьюториал по Vowpal Wabbit. Новости. Бинарная классификация"
   ]
  },
  {
   "cell_type": "markdown",
   "metadata": {},
   "source": [
    "Vowpal Wabbit (VW) является одной из наиболее широко используемых библиотек в индустрии. Её отличает высокая скорость работы и поддержка большого количества различных режимов обучения. Особый интерес для больших и высокоразмерных данных представляет онлайн-обучение – самая сильная сторона библиотеки. \n",
    "\n",
    "\n",
    "Основным интерфейсом для работы с VW является shell."
   ]
  },
  {
   "cell_type": "code",
   "execution_count": 1,
   "metadata": {
    "collapsed": false
   },
   "outputs": [
    {
     "name": "stdout",
     "output_type": "stream",
     "text": [
      "Populating the interactive namespace from numpy and matplotlib\n"
     ]
    }
   ],
   "source": [
    "import os\n",
    "import re\n",
    "import pandas as pd\n",
    "from scipy.sparse import csr_matrix\n",
    "import matplotlib.pyplot as plt\n",
    "%pylab inline\n",
    "import sklearn.datasets\n",
    "from sklearn.metrics import accuracy_score, roc_auc_score, confusion_matrix\n",
    "from sklearn.model_selection import train_test_split\n",
    "from sklearn.preprocessing import LabelEncoder"
   ]
  },
  {
   "cell_type": "markdown",
   "metadata": {},
   "source": [
    "Для того, чтобы изучить возможные режимы работы vw воспользуемся командой ! для запуска:"
   ]
  },
  {
   "cell_type": "code",
   "execution_count": 2,
   "metadata": {
    "collapsed": false
   },
   "outputs": [
    {
     "name": "stdout",
     "output_type": "stream",
     "text": [
      "Num weight bits = 18\r\n",
      "learning rate = 0.5\r\n",
      "initial_t = 0\r\n",
      "power_t = 0.5\r\n",
      "using no cache\r\n",
      "Reading datafile = \r\n",
      "num sources = 1\r\n",
      "\r\n",
      "\r\n",
      "VW options:\r\n",
      "  --random_seed arg                     seed random number generator\r\n",
      "  --ring_size arg                       size of example ring\r\n",
      "\r\n",
      "Update options:\r\n",
      "  -l [ --learning_rate ] arg            Set learning rate\r\n",
      "  --power_t arg                         t power value\r\n",
      "  --decay_learning_rate arg             Set Decay factor for learning_rate \r\n",
      "                                        between passes\r\n",
      "  --initial_t arg                       initial t value\r\n",
      "  --feature_mask arg                    Use existing regressor to determine \r\n",
      "                                        which parameters may be updated.  If no\r\n",
      "                                        initial_regressor given, also used for \r\n",
      "                                        initial weights.\r\n",
      "\r\n",
      "Weight options:\r\n",
      "  -i [ --initial_regressor ] arg        Initial regressor(s)\r\n",
      "  --initial_weight arg                  Set all weights to an initial value of \r\n",
      "                                        1.\r\n",
      "  --random_weights arg                  make initial weights random\r\n",
      "  --input_feature_regularizer arg       Per feature regularization input file\r\n",
      "\r\n",
      "Active Learning options:\r\n",
      "  --active_learning                     active learning mode\r\n",
      "  --active_simulation                   active learning simulation mode\r\n",
      "  --active_mellowness arg               active learning mellowness parameter \r\n",
      "                                        c_0. Default 8\r\n",
      "\r\n",
      "Parallelization options:\r\n",
      "  --span_server arg                     Location of server for setting up \r\n",
      "                                        spanning tree\r\n",
      "  --unique_id arg                       unique id used for cluster parallel \r\n",
      "                                        jobs\r\n",
      "  --total arg                           total number of nodes used in cluster \r\n",
      "                                        parallel job\r\n",
      "  --node arg                            node number in cluster parallel job\r\n",
      "\r\n",
      "Other options:\r\n",
      "  -B [ --bootstrap ] arg                bootstrap mode with k rounds by online \r\n",
      "                                        importance resampling\r\n",
      "\r\n",
      "Diagnostic options:\r\n",
      "  --version                             Version information\r\n",
      "  -a [ --audit ]                        print weights of features\r\n",
      "  -P [ --progress ] arg                 Progress update frequency. int: \r\n",
      "                                        additive, float: multiplicative\r\n",
      "  --quiet                               Don't output disgnostics and progress \r\n",
      "                                        updates\r\n",
      "  -h [ --help ]                         Look here: http://hunch.net/~vw/ and \r\n",
      "                                        click on Tutorial.\r\n",
      "\r\n",
      "Feature options:\r\n",
      "  --hash arg                            how to hash the features. Available \r\n",
      "                                        options: strings, all\r\n",
      "  --ignore arg                          ignore namespaces beginning with \r\n",
      "                                        character <arg>\r\n",
      "  --keep arg                            keep namespaces beginning with \r\n",
      "                                        character <arg>\r\n",
      "  -b [ --bit_precision ] arg            number of bits in the feature table\r\n",
      "  --noconstant                          Don't add a constant feature\r\n",
      "  -C [ --constant ] arg                 Set initial value of constant\r\n",
      "  --ngram arg                           Generate N grams. To generate N grams \r\n",
      "                                        for a single namespace 'foo', arg \r\n",
      "                                        should be fN.\r\n",
      "  --skips arg                           Generate skips in N grams. This in \r\n",
      "                                        conjunction with the ngram tag can be \r\n",
      "                                        used to generate generalized \r\n",
      "                                        n-skip-k-gram. To generate n-skips for \r\n",
      "                                        a single namespace 'foo', arg should be\r\n",
      "                                        fn.\r\n",
      "  --affix arg                           generate prefixes/suffixes of features;\r\n",
      "                                        argument '+2a,-3b,+1' means generate \r\n",
      "                                        2-char prefixes for namespace a, 3-char\r\n",
      "                                        suffixes for b and 1 char prefixes for \r\n",
      "                                        default namespace\r\n",
      "  --spelling arg                        compute spelling features for a give \r\n",
      "                                        namespace (use '_' for default \r\n",
      "                                        namespace)\r\n",
      "  -q [ --quadratic ] arg                Create and use quadratic features\r\n",
      "  --q: arg                              : corresponds to a wildcard for all \r\n",
      "                                        printable characters\r\n",
      "  --cubic arg                           Create and use cubic features\r\n",
      "\r\n",
      "Example options:\r\n",
      "  -t [ --testonly ]                     Ignore label information and just test\r\n",
      "  --holdout_off                         no holdout data in multiple passes\r\n",
      "  --holdout_period arg                  holdout period for test only, default \r\n",
      "                                        10\r\n",
      "  --holdout_after arg                   holdout after n training examples, \r\n",
      "                                        default off (disables holdout_period)\r\n",
      "  --early_terminate arg                 Specify the number of passes tolerated \r\n",
      "                                        when holdout loss doesn't decrease \r\n",
      "                                        before early termination, default is 3\r\n",
      "  --passes arg                          Number of Training Passes\r\n",
      "  --initial_pass_length arg             initial number of examples per pass\r\n",
      "  --examples arg                        number of examples to parse\r\n",
      "  --min_prediction arg                  Smallest prediction to output\r\n",
      "  --max_prediction arg                  Largest prediction to output\r\n",
      "  --sort_features                       turn this on to disregard order in \r\n",
      "                                        which features have been defined. This \r\n",
      "                                        will lead to smaller cache sizes\r\n",
      "  --loss_function arg (=squared)        Specify the loss function to be used, \r\n",
      "                                        uses squared by default. Currently \r\n",
      "                                        available ones are squared, classic, \r\n",
      "                                        hinge, logistic and quantile.\r\n",
      "  --quantile_tau arg (=0.5)             Parameter \\tau associated with Quantile\r\n",
      "                                        loss. Defaults to 0.5\r\n",
      "  --l1 arg                              l_1 lambda\r\n",
      "  --l2 arg                              l_2 lambda\r\n",
      "\r\n",
      "base algorithms (these are exclusive):\r\n",
      "  --sgd                                 use regular stochastic gradient descent\r\n",
      "                                        update.\r\n",
      "  --adaptive                            use adaptive, individual learning \r\n",
      "                                        rates.\r\n",
      "  --invariant                           use safe/importance aware updates.\r\n",
      "  --normalized                          use per feature normalized updates\r\n",
      "  --exact_adaptive_norm                 use current default invariant \r\n",
      "                                        normalized adaptive update rule\r\n",
      "  --bfgs                                use bfgs optimization\r\n",
      "  --lda arg                             Run lda with <int> topics\r\n",
      "  --rank arg                            rank for matrix factorization.\r\n",
      "  --noop                                do no learning\r\n",
      "  --print                               print examples\r\n",
      "  --sendto arg                          send examples to <host>\r\n",
      "\r\n",
      "Output model:\r\n",
      "  -f [ --final_regressor ] arg          Final regressor\r\n",
      "  --readable_model arg                  Output human-readable final regressor \r\n",
      "                                        with numeric features\r\n",
      "  --invert_hash arg                     Output human-readable final regressor \r\n",
      "                                        with feature names.  Computationally \r\n",
      "                                        expensive.\r\n",
      "  --save_resume                         save extra state so learning can be \r\n",
      "                                        resumed later with new data\r\n",
      "  --save_per_pass                       Save the model after every pass over \r\n",
      "                                        data\r\n",
      "  --output_feature_regularizer_binary arg\r\n",
      "                                        Per feature regularization output file\r\n",
      "  --output_feature_regularizer_text arg Per feature regularization output file,\r\n",
      "                                        in text\r\n",
      "\r\n",
      "Output options:\r\n",
      "  -p [ --predictions ] arg              File to output predictions to\r\n",
      "  -r [ --raw_predictions ] arg          File to output unnormalized predictions\r\n",
      "                                        to\r\n",
      "\r\n",
      "Score modifying options (can be combined):\r\n",
      "  --nn arg                              Use sigmoidal feedforward network with \r\n",
      "                                        <k> hidden units\r\n",
      "  --new_mf                              use new, reduction-based matrix \r\n",
      "                                        factorization\r\n",
      "  --autolink arg                        create link function with polynomial d\r\n",
      "  --lrq arg                             use low rank quadratic features\r\n",
      "  --lrqdropout                          use dropout training for low rank \r\n",
      "                                        quadratic features\r\n",
      "  --stage_poly                          use stagewise polynomial feature \r\n",
      "                                        learning\r\n",
      "\r\n",
      "Score user options (these are exclusive):\r\n",
      "  --top arg                             top k recommendation\r\n",
      "  --binary                              report loss as binary classification on\r\n",
      "                                        -1,1\r\n",
      "  --oaa arg                             Use one-against-all multiclass learning\r\n",
      "                                        with <k> labels\r\n",
      "  --ect arg                             Use error correcting tournament with \r\n",
      "                                        <k> labels\r\n",
      "  --log_multi arg                       Use online tree for multiclass\r\n",
      "  --csoaa arg                           Use one-against-all multiclass learning\r\n",
      "                                        with <k> costs\r\n",
      "  --wap arg                             Use weighted all-pairs multiclass \r\n",
      "                                        learning with <k> costs\r\n",
      "  --csoaa_ldf arg                       Use one-against-all multiclass learning\r\n",
      "                                        with label dependent features.  Specify\r\n",
      "                                        singleline or multiline.\r\n",
      "  --wap_ldf arg                         Use weighted all-pairs multiclass \r\n",
      "                                        learning with label dependent features.\r\n",
      "                                          Specify singleline or multiline.\r\n",
      "\r\n",
      "Contextual Bandit options:\r\n",
      "  --cb arg                              Use contextual bandit learning with <k>\r\n",
      "                                        costs\r\n",
      "  --cbify arg                           Convert multiclass on <k> classes into \r\n",
      "                                        a contextual bandit problem and solve\r\n",
      "\r\n",
      "Search:\r\n",
      "  --search arg                          use search-based structured prediction,\r\n",
      "                                        argument=maximum action id or 0 for LDF\r\n",
      "\r\n",
      "Input options:\r\n",
      "  -d [ --data ] arg                     Example Set\r\n",
      "  --daemon                              persistent daemon mode on port 26542\r\n",
      "  --port arg                            port to listen on; use 0 to pick unused\r\n",
      "                                        port\r\n",
      "  --num_children arg                    number of children for persistent \r\n",
      "                                        daemon mode\r\n",
      "  --pid_file arg                        Write pid file in persistent daemon \r\n",
      "                                        mode\r\n",
      "  --port_file arg                       Write port used in persistent daemon \r\n",
      "                                        mode\r\n",
      "  -c [ --cache ]                        Use a cache.  The default is \r\n",
      "                                        <data>.cache\r\n",
      "  --cache_file arg                      The location(s) of cache_file.\r\n",
      "  -k [ --kill_cache ]                   do not reuse existing cache: create a \r\n",
      "                                        new one always\r\n",
      "  --compressed                          use gzip format whenever possible. If a\r\n",
      "                                        cache file is being created, this \r\n",
      "                                        option creates a compressed cache file.\r\n",
      "                                        A mixture of raw-text & compressed \r\n",
      "                                        inputs are supported with \r\n",
      "                                        autodetection.\r\n",
      "  --no_stdin                            do not default to reading from stdin\r\n",
      "\r\n"
     ]
    }
   ],
   "source": [
    "!vw --help"
   ]
  },
  {
   "cell_type": "markdown",
   "metadata": {
    "collapsed": true
   },
   "source": [
    "Vowpal Wabbit считывает данные из файла или стандартного ввода (stdin) в формате, который имеет следующий вид:\n",
    "\n",
    "`[Label] [Importance] [Tag]|Namespace Features |Namespace Features ... |Namespace Features`\n",
    "\n",
    "`Namespace=String[:Value]`\n",
    "\n",
    "`Features=(String[:Value] )*`\n",
    "\n",
    "где [] обозначает необязательные элементы, а (...)\\* означает повтор неопределенное число раз. \n",
    "\n",
    "- **Label** является числом, \"правильным\" ответом. В случае классификации обычно принимает значение 1/-1, а в случае регрессии некоторое вещественное число\n",
    "- **Importance** является числом и отвечает за вес примера при обучении. Это позволяет бороться с проблемой несбалансированных данных, изученной нами ранее\n",
    "- **Tag** является некоторой строкой без пробелов и отвечает за некоторое \"название\" примера, которое сохраняется при предсказании ответа. Для того, чтобы отделить Tag от Importance лучше начинать Tag с символа '.\n",
    "- **Namespace** служит для создания отдельных пространств признаков. В аргументах Namespace именуются по первой букве, это нужно учитывать при выборе их названий\n",
    "- **Features** являются непосредственно признаками объекта внутри **Namespace**. Признаки по умолчанию имеют вес 1.0, но его можно переопределить, к примеру feature:0.1. \n",
    "\n",
    "\n",
    "К примеру, под такой формат подходит следующая строка:\n",
    "\n",
    "```\n",
    "1 1.0 |Subject WHAT car is this |Organization University of Maryland:0.5 College Park\n",
    "```\n",
    "\n",
    "\n",
    "чтобы убедиться в этом, запустим vw с этим обучающим примером:"
   ]
  },
  {
   "cell_type": "code",
   "execution_count": 3,
   "metadata": {
    "collapsed": false
   },
   "outputs": [
    {
     "name": "stdout",
     "output_type": "stream",
     "text": [
      "For more information use: vw --help\r\n",
      "Num weight bits = 18\r\n",
      "learning rate = 0.5\r\n",
      "initial_t = 0\r\n",
      "power_t = 0.5\r\n",
      "using no cache\r\n",
      "Reading datafile = \r\n",
      "num sources = 1\r\n",
      "average    since         example     example  current  current  current\r\n",
      "loss       last          counter      weight    label  predict features\r\n",
      "1.000000   1.000000            1         1.0   1.0000   0.0000       10\r\n",
      "\r\n",
      "finished run\r\n",
      "number of examples per pass = 1\r\n",
      "passes used = 1\r\n",
      "weighted example sum = 1\r\n",
      "weighted label sum = 1\r\n",
      "average loss = 1\r\n",
      "best constant = 1\r\n",
      "total feature number = 10\r\n"
     ]
    }
   ],
   "source": [
    "! echo '1 1.0 |Subject WHAT car is this |Organization University of Maryland:0.5 College Park' | vw"
   ]
  },
  {
   "cell_type": "markdown",
   "metadata": {},
   "source": [
    "VW является прекрасным инструментом для работы с текстовыми данными. Убедимся в этом с помощью выборки 20newsgroups, содержащей письма из 20 различных тематических рассылок:"
   ]
  },
  {
   "cell_type": "code",
   "execution_count": 4,
   "metadata": {
    "collapsed": false
   },
   "outputs": [],
   "source": [
    "newsgroups = sklearn.datasets.fetch_20newsgroups('news_data/')"
   ]
  },
  {
   "cell_type": "code",
   "execution_count": 5,
   "metadata": {
    "collapsed": false
   },
   "outputs": [
    {
     "data": {
      "text/plain": [
       "['alt.atheism',\n",
       " 'comp.graphics',\n",
       " 'comp.os.ms-windows.misc',\n",
       " 'comp.sys.ibm.pc.hardware',\n",
       " 'comp.sys.mac.hardware',\n",
       " 'comp.windows.x',\n",
       " 'misc.forsale',\n",
       " 'rec.autos',\n",
       " 'rec.motorcycles',\n",
       " 'rec.sport.baseball',\n",
       " 'rec.sport.hockey',\n",
       " 'sci.crypt',\n",
       " 'sci.electronics',\n",
       " 'sci.med',\n",
       " 'sci.space',\n",
       " 'soc.religion.christian',\n",
       " 'talk.politics.guns',\n",
       " 'talk.politics.mideast',\n",
       " 'talk.politics.misc',\n",
       " 'talk.religion.misc']"
      ]
     },
     "execution_count": 5,
     "metadata": {},
     "output_type": "execute_result"
    }
   ],
   "source": [
    "newsgroups['target_names']"
   ]
  },
  {
   "cell_type": "markdown",
   "metadata": {},
   "source": [
    "Рассмотрим первый текстовый документ этой коллекции:"
   ]
  },
  {
   "cell_type": "code",
   "execution_count": 6,
   "metadata": {
    "collapsed": false
   },
   "outputs": [
    {
     "name": "stdout",
     "output_type": "stream",
     "text": [
      "-----\n",
      "rec.autos\n",
      "-----\n",
      "From: lerxst@wam.umd.edu (where's my thing)\n",
      "Subject: WHAT car is this!?\n",
      "Nntp-Posting-Host: rac3.wam.umd.edu\n",
      "Organization: University of Maryland, College Park\n",
      "Lines: 15\n",
      "\n",
      " I was wondering if anyone out there could enlighten me on this car I saw\n",
      "the other day. It was a 2-door sports car, looked to be from the late 60s/\n",
      "early 70s. It was called a Bricklin. The doors were really small. In addition,\n",
      "the front bumper was separate from the rest of the body. This is \n",
      "all I know. If anyone can tellme a model name, engine specs, years\n",
      "of production, where this car is made, history, or whatever info you\n",
      "have on this funky looking car, please e-mail.\n",
      "\n",
      "Thanks,\n",
      "- IL\n",
      "   ---- brought to you by your neighborhood Lerxst ----\n",
      "----\n"
     ]
    }
   ],
   "source": [
    "text = newsgroups['data'][0]\n",
    "target = newsgroups['target_names'][newsgroups['target'][0]]\n",
    "\n",
    "print('-----')\n",
    "print(target)\n",
    "print('-----')\n",
    "print(text.strip())\n",
    "print('----')"
   ]
  },
  {
   "cell_type": "markdown",
   "metadata": {},
   "source": [
    "**Приведем данные к формату Vowpal Wabbit, при этом оставляя только слова не короче 3 символов. Здесь мы не выполняем многие важные в анализе текстов процедуры (стемминг и лемматизацию), но, как увидим, задача и так будет решаться хорошо.**"
   ]
  },
  {
   "cell_type": "code",
   "execution_count": 7,
   "metadata": {
    "collapsed": false
   },
   "outputs": [
    {
     "data": {
      "text/plain": [
       "'1 |text from lerxst wam umd edu where thing subject what car this nntp posting host rac3 wam umd edu organization university maryland college park lines was wondering anyone out there could enlighten this car saw the other day was door sports car looked from the late 60s early 70s was called bricklin the doors were really small addition the front bumper was separate from the rest the body this all know anyone can tellme model name engine specs years production where this car made history whatever info you have this funky looking car please mail thanks brought you your neighborhood lerxst\\n'"
      ]
     },
     "execution_count": 7,
     "metadata": {},
     "output_type": "execute_result"
    }
   ],
   "source": [
    "def to_vw_format(document, label=None):\n",
    "    return str(label or '') + ' |text ' + ' '.join(re.findall('\\w{3,}', document.lower())) + '\\n'\n",
    "\n",
    "to_vw_format(text, 1 if target == 'rec.autos' else -1)"
   ]
  },
  {
   "cell_type": "markdown",
   "metadata": {},
   "source": [
    "Разобьем выборку на обучающую и тестовую и запишем в файл преобразованные таким образом документы. Будем считать документ положительным, если он относится к рассылке про автомобили **rec.autos**. Так мы построим модель, отличающую письма про автомобили от остальных: "
   ]
  },
  {
   "cell_type": "code",
   "execution_count": 8,
   "metadata": {
    "collapsed": false
   },
   "outputs": [],
   "source": [
    "all_documents = newsgroups['data']\n",
    "all_targets = [1 if newsgroups['target_names'][target] == 'rec.autos' \n",
    "               else -1 for target in newsgroups['target']]"
   ]
  },
  {
   "cell_type": "code",
   "execution_count": 9,
   "metadata": {
    "collapsed": true
   },
   "outputs": [],
   "source": [
    "train_documents, test_documents, train_labels, test_labels = \\\n",
    "    train_test_split(all_documents, all_targets, random_state=7)\n",
    "    \n",
    "with open('news_data/20news_train.vw', 'w') as vw_train_data:\n",
    "    for text, target in zip(train_documents, train_labels):\n",
    "        vw_train_data.write(to_vw_format(text, target))\n",
    "with open('news_data/20news_test.vw', 'w') as vw_test_data:\n",
    "    for text in test_documents:\n",
    "        vw_test_data.write(to_vw_format(text))"
   ]
  },
  {
   "cell_type": "markdown",
   "metadata": {},
   "source": [
    "Запустим Vowpal Wabbit на сформированном файле. Мы решаем задачу классификации, поэтому зададим функцию потерь в значение hinge (линейный SVM). Построенную модель мы сохраним в соответствующий файл 20news_model.vw:"
   ]
  },
  {
   "cell_type": "code",
   "execution_count": 10,
   "metadata": {
    "collapsed": false
   },
   "outputs": [
    {
     "name": "stdout",
     "output_type": "stream",
     "text": [
      "Num weight bits = 18\n",
      "learning rate = 0.5\n",
      "initial_t = 0\n",
      "power_t = 0.5\n",
      "final_regressor = news_data/20news_model.vw\n",
      "using no cache\n",
      "Reading datafile = news_data/20news_train.vw\n",
      "num sources = 1\n",
      "average    since         example     example  current  current  current\n",
      "loss       last          counter      weight    label  predict features\n",
      "1.000000   1.000000            1         1.0  -1.0000   0.0000      157\n",
      "0.911276   0.822551            2         2.0  -1.0000  -0.1774      159\n",
      "0.605793   0.300311            4         4.0  -1.0000  -0.3994       92\n",
      "0.419594   0.233394            8         8.0  -1.0000  -0.8167      129\n",
      "0.313998   0.208402           16        16.0  -1.0000  -0.6509      108\n",
      "0.196014   0.078029           32        32.0  -1.0000  -1.0000      115\n",
      "0.183158   0.170302           64        64.0  -1.0000  -0.7072      114\n",
      "0.261046   0.338935          128       128.0   1.0000  -0.7900      110\n",
      "0.261850   0.262653          256       256.0  -1.0000  -0.6557       44\n",
      "0.216625   0.171401          512       512.0  -1.0000  -1.0000      160\n",
      "0.178190   0.139755         1024      1024.0  -1.0000  -1.0000      194\n",
      "0.136566   0.094941         2048      2048.0  -1.0000  -1.0000      438\n",
      "0.107552   0.078538         4096      4096.0  -1.0000  -1.0000      644\n",
      "0.083901   0.060250         8192      8192.0  -1.0000  -1.0000      174\n",
      "\n",
      "finished run\n",
      "number of examples per pass = 8485\n",
      "passes used = 1\n",
      "weighted example sum = 8485\n",
      "weighted label sum = -7555\n",
      "average loss = 0.0822355\n",
      "best constant = -0.890395\n",
      "total feature number = 2048932\n"
     ]
    }
   ],
   "source": [
    "!vw -d news_data/20news_train.vw --loss_function hinge -f news_data/20news_model.vw"
   ]
  },
  {
   "cell_type": "markdown",
   "metadata": {},
   "source": [
    "Модель обучена. VW выводит достаточно много полезной информации по ходу обучения. Обратите внимание, что average loss снижался по ходу выполнения итераций. Для вычисления функции потерь VW использует еще не просмотренные примеры, поэтому, как правило, эта оценка является корректной. Применим обученную модель на тестовой выборке, сохраняя предсказания в файл с помощью опции -p: "
   ]
  },
  {
   "cell_type": "code",
   "execution_count": 11,
   "metadata": {
    "collapsed": false
   },
   "outputs": [
    {
     "name": "stdout",
     "output_type": "stream",
     "text": [
      "only testing\n",
      "Num weight bits = 18\n",
      "learning rate = 10\n",
      "initial_t = 1\n",
      "power_t = 0.5\n",
      "predictions = news_data/20news_test_predictions.txt\n",
      "using no cache\n",
      "Reading datafile = news_data/20news_test.vw\n",
      "num sources = 1\n",
      "average    since         example     example  current  current  current\n",
      "loss       last          counter      weight    label  predict features\n",
      "0.000000   0.000000            1         1.0  unknown   1.0000      349\n",
      "0.000000   0.000000            2         2.0  unknown  -1.0000       50\n",
      "0.000000   0.000000            4         4.0  unknown  -1.0000      251\n",
      "0.000000   0.000000            8         8.0  unknown  -1.0000      237\n",
      "0.000000   0.000000           16        16.0  unknown  -0.9200      106\n",
      "0.000000   0.000000           32        32.0  unknown  -1.0000      964\n",
      "0.000000   0.000000           64        64.0  unknown  -1.0000      261\n",
      "0.000000   0.000000          128       128.0  unknown   0.8358       82\n",
      "0.000000   0.000000          256       256.0  unknown  -1.0000      186\n",
      "0.000000   0.000000          512       512.0  unknown  -1.0000      162\n",
      "0.000000   0.000000         1024      1024.0  unknown  -1.0000      283\n",
      "0.000000   0.000000         2048      2048.0  unknown  -1.0000      104\n",
      "\n",
      "finished run\n",
      "number of examples per pass = 2829\n",
      "passes used = 1\n",
      "weighted example sum = 2829\n",
      "weighted label sum = 0\n",
      "average loss = 0\n",
      "best constant = 1\n",
      "total feature number = 642215\n"
     ]
    }
   ],
   "source": [
    "!vw -i news_data/20news_model.vw -t -d news_data/20news_test.vw \\\n",
    "-p news_data/20news_test_predictions.txt"
   ]
  },
  {
   "cell_type": "markdown",
   "metadata": {},
   "source": [
    "Загрузим полученные предсказания, вычислим AUC и отобразим ROC-кривую:"
   ]
  },
  {
   "cell_type": "code",
   "execution_count": 12,
   "metadata": {
    "collapsed": false,
    "scrolled": true
   },
   "outputs": [
    {
     "data": {
      "image/png": "[encoded data removed]",
      "text/plain": [
       "<matplotlib.figure.Figure at 0x113b171d0>"
      ]
     },
     "metadata": {},
     "output_type": "display_data"
    }
   ],
   "source": [
    "with open('news_data/20news_test_predictions.txt') as pred_file:\n",
    "    test_prediction = [float(label) \n",
    "                             for label in pred_file.readlines()]\n",
    "\n",
    "auc = sklearn.metrics.roc_auc_score(test_labels, test_prediction)\n",
    "roc_curve = sklearn.metrics.roc_curve(test_labels, test_prediction)\n",
    "\n",
    "with plt.xkcd():\n",
    "    plt.plot(roc_curve[0], roc_curve[1]);\n",
    "    plt.plot([0,1], [0,1])\n",
    "    plt.xlabel('FPR'); plt.ylabel('TPR'); plt.title('test AUC = %f' % (auc)); plt.axis([-0.05,1.05,-0.05,1.05]);"
   ]
  },
  {
   "cell_type": "markdown",
   "metadata": {},
   "source": [
    "Полученное значения AUC говорит о высоком качестве классификации."
   ]
  },
  {
   "cell_type": "markdown",
   "metadata": {},
   "source": [
    "# Тьюториал по Vowpal Wabbit. Новости. Многоклассовая классификация"
   ]
  },
  {
   "cell_type": "markdown",
   "metadata": {},
   "source": [
    "**Используем ту же выборку, что в прошлой части , но решаем задачу многоклассовой классификации. Тут Vowpal Wabbit слегка капризничает – он любит, чтоб метки классов были распределены от 1 до K, где K – число классов в задаче классификации (в нашем случае – 20). Поэтому придется применить LabelEncoder, да еще и +1 потом добавить (LabelEncoder переводит метки в диапозон от 0 до K-1).**"
   ]
  },
  {
   "cell_type": "code",
   "execution_count": 13,
   "metadata": {
    "collapsed": true
   },
   "outputs": [],
   "source": [
    "all_documents = newsgroups['data']\n",
    "topic_encoder = LabelEncoder()\n",
    "all_targets_mult = topic_encoder.fit_transform(newsgroups['target']) + 1"
   ]
  },
  {
   "cell_type": "markdown",
   "metadata": {},
   "source": [
    "**Выборки будут те же, а метки поменяются, train_labels_mult и test_labels_mult – векторы меток от 1 до 20.**"
   ]
  },
  {
   "cell_type": "code",
   "execution_count": 14,
   "metadata": {
    "collapsed": false
   },
   "outputs": [],
   "source": [
    "train_documents, test_documents, train_labels_mult, test_labels_mult = \\\n",
    "    train_test_split(all_documents, all_targets_mult, random_state=7)"
   ]
  },
  {
   "cell_type": "code",
   "execution_count": 15,
   "metadata": {
    "collapsed": true
   },
   "outputs": [],
   "source": [
    "with open('news_data/20news_train_mult.vw', 'w') as vw_train_data:\n",
    "    for text, target in zip(train_documents, train_labels_mult):\n",
    "        vw_train_data.write(to_vw_format(text, target))\n",
    "with open('news_data/20news_test_mult.vw', 'w') as vw_test_data:\n",
    "    for text in test_documents:\n",
    "        vw_test_data.write(to_vw_format(text))"
   ]
  },
  {
   "cell_type": "markdown",
   "metadata": {},
   "source": [
    "**Обучим Vowpal Wabbit в режиме многоклассовой классификации, передав параметр *oaa* (от \"one against all\"), равный числу классов. Также перечислим параметры, которые можно понастраивать, и от которых качество модели может довольно значительно зависеть (более полно – в официальном [тьюториале](https://github.com/JohnLangford/vowpal_wabbit/wiki/Tutorial) по Vowpal Wabbit):**\n",
    " - темп обучения (-l, по умолчанию 0.5) – коэффициент перед изменением весов модели при каждом изменении\n",
    " - степень убывания темпа обучения (--power_t, по умолчанию 0.5) – на практике проверено, что если темп обучения уменьшается при увеличении числа итераций стохастического градиентного спуска, то минимум функции находится лучше \n",
    " - функция потерь (--loss_function) – от нее, по сути, зависит обучаемый алгоритм\n",
    " - регуляризация (-l1) – тут надо обратить внимание на то, что в VW регуляризация считается для каждого объекта, поэтому коэффициенты регуляризации обычно берутся малыми, около $10^{-20}.$\n",
    " \n",
    " **Дополнительно: в соревновании можно попробовать автоматическую настройку параметров Vowpal Wabbit с Hyperopt. Пока это работает только с Python 2. [Статья](https://habrahabr.ru/company/dca/blog/272697/) на Хабре.**"
   ]
  },
  {
   "cell_type": "code",
   "execution_count": 16,
   "metadata": {
    "collapsed": false
   },
   "outputs": [
    {
     "name": "stdout",
     "output_type": "stream",
     "text": [
      "Num weight bits = 18\n",
      "learning rate = 0.5\n",
      "initial_t = 0\n",
      "power_t = 0.5\n",
      "final_regressor = news_data/20news_model_mult.vw\n",
      "using no cache\n",
      "Reading datafile = news_data/20news_train_mult.vw\n",
      "num sources = 1\n",
      "average    since         example     example  current  current  current\n",
      "loss       last          counter      weight    label  predict features\n",
      "1.000000   1.000000          1      1.0         15        1      157\n",
      "1.000000   1.000000          2      2.0          2       15      159\n",
      "1.000000   1.000000          4      4.0         15       10       92\n",
      "1.000000   1.000000          8      8.0         16       15      129\n",
      "1.000000   1.000000         16     16.0         13       12      108\n",
      "0.937500   0.875000         32     32.0          2       12      115\n",
      "0.906250   0.875000         64     64.0         16       16      114\n",
      "0.867188   0.828125        128    128.0          8       11      110\n",
      "0.824219   0.781250        256    256.0          7       15       44\n",
      "0.650391   0.476562        512    512.0         13        9      160\n",
      "0.506836   0.363281       1024   1024.0          3        4      194\n",
      "0.386230   0.265625       2048   2048.0          1        1      438\n",
      "0.291016   0.195801       4096   4096.0         11       11      644\n",
      "0.216919   0.142822       8192   8192.0          5        5      174\n",
      "\n",
      "finished run\n",
      "number of examples per pass = 8485\n",
      "passes used = 1\n",
      "weighted example sum = 8485\n",
      "weighted label sum = 0\n",
      "average loss = 0.214496\n",
      "best constant = 0\n",
      "total feature number = 2048932\n",
      "CPU times: user 12.3 ms, sys: 13.9 ms, total: 26.2 ms\n",
      "Wall time: 478 ms\n"
     ]
    }
   ],
   "source": [
    "%%time\n",
    "!vw --oaa 20 news_data/20news_train_mult.vw -f news_data/20news_model_mult.vw \\\n",
    "--loss_function=hinge"
   ]
  },
  {
   "cell_type": "code",
   "execution_count": 17,
   "metadata": {
    "collapsed": false
   },
   "outputs": [
    {
     "name": "stdout",
     "output_type": "stream",
     "text": [
      "only testing\n",
      "Num weight bits = 18\n",
      "learning rate = 10\n",
      "initial_t = 1\n",
      "power_t = 0.5\n",
      "predictions = news_data/20news_test_predictions_mult.txt\n",
      "using no cache\n",
      "Reading datafile = news_data/20news_test_mult.vw\n",
      "num sources = 1\n",
      "average    since         example     example  current  current  current\n",
      "loss       last          counter      weight    label  predict features\n",
      "1.000000   1.000000          1      1.0   4294967295        8      349\n",
      "1.000000   1.000000          2      2.0   4294967295        6       50\n",
      "1.000000   1.000000          4      4.0   4294967295       18      251\n",
      "1.000000   1.000000          8      8.0   4294967295       18      237\n",
      "1.000000   1.000000         16     16.0   4294967295        1      106\n",
      "1.000000   1.000000         32     32.0   4294967295       15      964\n",
      "1.000000   1.000000         64     64.0   4294967295        4      261\n",
      "1.000000   1.000000        128    128.0   4294967295        8       82\n",
      "1.000000   1.000000        256    256.0   4294967295       10      186\n",
      "1.000000   1.000000        512    512.0   4294967295        1      162\n",
      "1.000000   1.000000       1024   1024.0   4294967295       11      283\n",
      "1.000000   1.000000       2048   2048.0   4294967295       14      104\n",
      "\n",
      "finished run\n",
      "number of examples per pass = 2829\n",
      "passes used = 1\n",
      "weighted example sum = 2829\n",
      "weighted label sum = 0\n",
      "average loss = 1\n",
      "best constant = -0.000353607\n",
      "total feature number = 642215\n",
      "CPU times: user 7.15 ms, sys: 13.4 ms, total: 20.5 ms\n",
      "Wall time: 212 ms\n"
     ]
    }
   ],
   "source": [
    "%%time\n",
    "!vw -i news_data/20news_model_mult.vw -t -d news_data/20news_test_mult.vw \\\n",
    "-p news_data/20news_test_predictions_mult.txt"
   ]
  },
  {
   "cell_type": "code",
   "execution_count": 18,
   "metadata": {
    "collapsed": true
   },
   "outputs": [],
   "source": [
    "with open('news_data/20news_test_predictions_mult.txt') as pred_file:\n",
    "    test_prediction_mult = [float(label) \n",
    "                             for label in pred_file.readlines()]"
   ]
  },
  {
   "cell_type": "code",
   "execution_count": 19,
   "metadata": {
    "collapsed": false
   },
   "outputs": [
    {
     "data": {
      "text/plain": [
       "0.87840226228349239"
      ]
     },
     "execution_count": 19,
     "metadata": {},
     "output_type": "execute_result"
    }
   ],
   "source": [
    "accuracy_score(test_labels_mult, test_prediction_mult)"
   ]
  },
  {
   "cell_type": "markdown",
   "metadata": {},
   "source": [
    "**Выведем раскрашенную матрицу ошибок полученного классификатора. Если понаклонять монитор, можно заметить, какие ошибке чаще совершаются.**"
   ]
  },
  {
   "cell_type": "code",
   "execution_count": 22,
   "metadata": {
    "collapsed": false
   },
   "outputs": [
    {
     "data": {
      "image/png": "[encoded data removed]",
      "text/plain": [
       "<matplotlib.figure.Figure at 0x11229feb8>"
      ]
     },
     "metadata": {},
     "output_type": "display_data"
    }
   ],
   "source": [
    "from sklearn.metrics import confusion_matrix\n",
    "\n",
    "M = confusion_matrix(test_labels_mult, test_prediction_mult)\n",
    "M_normalized = M.astype('float') / M.sum(axis=1)[:, np.newaxis]\n",
    "\n",
    "plt.figure(figsize=(10,10))\n",
    "im = plt.imshow(M_normalized, interpolation='nearest', cmap='Greens')\n",
    "plt.colorbar(im, shrink=0.71)\n",
    "tick_marks = np.arange(len(newsgroups['target_names']))\n",
    "plt.xticks(tick_marks - 0.5, newsgroups['target_names'], rotation=45)\n",
    "plt.yticks(tick_marks, newsgroups['target_names'])\n",
    "plt.tight_layout()\n",
    "plt.ylabel('True topic')\n",
    "plt.xlabel('Predicted topic')\n",
    "plt.title('Normalized confusion matrix')\n",
    "plt.show()"
   ]
  },
  {
   "cell_type": "markdown",
   "metadata": {},
   "source": [
    "## Часть 3. Тьюториал по Vowpal Wabbit. Рецензии к фильмам IMDB"
   ]
  },
  {
   "cell_type": "markdown",
   "metadata": {},
   "source": [
    "**В этой части мы будем заниматься бинарной классификацией отзывов к фильмам, публикованным на сайте IMDB. Обратите внимание, насколько быстро будет работать Vowpal Wabbit.**\n",
    "\n",
    "**Используем функцию *load_files* из sklearn.datasets для загрузки отзывов по фильмам [отсюда](https://yadi.sk/d/Tg1Tflur333iLr). Скачайте данные и положите рядом с этой тетрадкой в каталог *aclImdb* (в нем должны быть каталоги *train* и *test*). Разарживирование может занять несколько минут – там 100 тыс. файлов. В обучающей и тестовой выборках по 12500 тысяч хороших и плохих отзывов к фильмам. Отделим данные (собственно тексты) от меток.**"
   ]
  },
  {
   "cell_type": "code",
   "execution_count": 23,
   "metadata": {
    "collapsed": true
   },
   "outputs": [],
   "source": [
    "from sklearn.datasets import load_files"
   ]
  },
  {
   "cell_type": "code",
   "execution_count": 25,
   "metadata": {
    "collapsed": false
   },
   "outputs": [],
   "source": [
    "reviews_train = load_files('aclImdb/train')\n",
    "text_train, y_train = reviews_train.data, reviews_train.target"
   ]
  },
  {
   "cell_type": "code",
   "execution_count": 26,
   "metadata": {
    "collapsed": false
   },
   "outputs": [
    {
     "name": "stdout",
     "output_type": "stream",
     "text": [
      "Number of documents in training data: 25000\n",
      "[12500 12500]\n"
     ]
    }
   ],
   "source": [
    "print(\"Number of documents in training data: %d\" % len(text_train))\n",
    "print(np.bincount(y_train))"
   ]
  },
  {
   "cell_type": "markdown",
   "metadata": {},
   "source": [
    "То же самое с тестовой выборкой."
   ]
  },
  {
   "cell_type": "code",
   "execution_count": 27,
   "metadata": {
    "collapsed": false
   },
   "outputs": [
    {
     "name": "stdout",
     "output_type": "stream",
     "text": [
      "Number of documents in test data: 25000\n",
      "[12500 12500]\n"
     ]
    }
   ],
   "source": [
    "reviews_test = load_files('aclImdb/test')\n",
    "text_test, y_test = reviews_test.data, reviews_train.target\n",
    "print(\"Number of documents in test data: %d\" % len(text_test))\n",
    "print(np.bincount(y_test))"
   ]
  },
  {
   "cell_type": "markdown",
   "metadata": {},
   "source": [
    "**Примеры отзывов и соответствующих меток.**"
   ]
  },
  {
   "cell_type": "code",
   "execution_count": 28,
   "metadata": {
    "collapsed": false
   },
   "outputs": [
    {
     "data": {
      "text/plain": [
       "b\"Zero Day leads you to think, even re-think why two boys/young men would do what they did - commit mutual suicide via slaughtering their classmates. It captures what must be beyond a bizarre mode of being for two humans who have decided to withdraw from common civility in order to define their own/mutual world via coupled destruction.<br /><br />It is not a perfect movie but given what money/time the filmmaker and actors had - it is a remarkable product. In terms of explaining the motives and actions of the two young suicide/murderers it is better than 'Elephant' - in terms of being a film that gets under our 'rationalistic' skin it is a far, far better film than almost anything you are likely to see. <br /><br />Flawed but honest with a terrible honesty.\""
      ]
     },
     "execution_count": 28,
     "metadata": {},
     "output_type": "execute_result"
    }
   ],
   "source": [
    "text_train[0]"
   ]
  },
  {
   "cell_type": "code",
   "execution_count": 29,
   "metadata": {
    "collapsed": false
   },
   "outputs": [
    {
     "data": {
      "text/plain": [
       "1"
      ]
     },
     "execution_count": 29,
     "metadata": {},
     "output_type": "execute_result"
    }
   ],
   "source": [
    "y_train[0] # хороший отзыв"
   ]
  },
  {
   "cell_type": "code",
   "execution_count": 30,
   "metadata": {
    "collapsed": false
   },
   "outputs": [
    {
     "data": {
      "text/plain": [
       "b'Words can\\'t describe how bad this movie is. I can\\'t explain it by writing only. You have too see it for yourself to get at grip of how horrible a movie really can be. Not that I recommend you to do that. There are so many clich\\xc3\\xa9s, mistakes (and all other negative things you can imagine) here that will just make you cry. To start with the technical first, there are a LOT of mistakes regarding the airplane. I won\\'t list them here, but just mention the coloring of the plane. They didn\\'t even manage to show an airliner in the colors of a fictional airline, but instead used a 747 painted in the original Boeing livery. Very bad. The plot is stupid and has been done many times before, only much, much better. There are so many ridiculous moments here that i lost count of it really early. Also, I was on the bad guys\\' side all the time in the movie, because the good guys were so stupid. \"Executive Decision\" should without a doubt be you\\'re choice over this one, even the \"Turbulence\"-movies are better. In fact, every other movie in the world is better than this one.'"
      ]
     },
     "execution_count": 30,
     "metadata": {},
     "output_type": "execute_result"
    }
   ],
   "source": [
    "text_train[1]"
   ]
  },
  {
   "cell_type": "code",
   "execution_count": 31,
   "metadata": {
    "collapsed": false
   },
   "outputs": [
    {
     "data": {
      "text/plain": [
       "0"
      ]
     },
     "execution_count": 31,
     "metadata": {},
     "output_type": "execute_result"
    }
   ],
   "source": [
    "y_train[1] # плохой отзыв"
   ]
  },
  {
   "cell_type": "markdown",
   "metadata": {},
   "source": [
    "**Будем использовать ранее написанную функцию to_vw_format.**"
   ]
  },
  {
   "cell_type": "code",
   "execution_count": 32,
   "metadata": {
    "collapsed": false
   },
   "outputs": [
    {
     "data": {
      "text/plain": [
       "'1 |text words can describe how bad this movie can explain writing only you have too see for yourself get grip how horrible movie really can not that recommend you that there are many clich xc3 xa9s mistakes and all other negative things you can imagine here that will just make you cry start with the technical first there are lot mistakes regarding the airplane won list them here but just mention the coloring the plane they didn even manage show airliner the colors fictional airline but instead used 747 painted the original boeing livery very bad the plot stupid and has been done many times before only much much better there are many ridiculous moments here that lost count really early also was the bad guys side all the time the movie because the good guys were stupid executive decision should without doubt you choice over this one even the turbulence movies are better fact every other movie the world better than this one\\n'"
      ]
     },
     "execution_count": 32,
     "metadata": {},
     "output_type": "execute_result"
    }
   ],
   "source": [
    "to_vw_format(str(text_train[1]), 1 if y_train[0] == 1 else -1)"
   ]
  },
  {
   "cell_type": "markdown",
   "metadata": {},
   "source": [
    "**Подготовим обучающую (movie_reviews_train.vw), отложенную (movie_reviews_valid.vw) и тестовую (movie_reviews_test.vw) выборки для Vowpal Wabbit. 70% исходной обучаюшей выборки оставим под обучение, 30% – под отложенную выборку.**"
   ]
  },
  {
   "cell_type": "code",
   "execution_count": 33,
   "metadata": {
    "collapsed": false
   },
   "outputs": [],
   "source": [
    "train_share = int(0.7 * len(text_train))\n",
    "train, valid = text_train[:train_share], text_train[train_share:]\n",
    "train_labels, valid_labels = y_train[:train_share], y_train[train_share:]"
   ]
  },
  {
   "cell_type": "code",
   "execution_count": 34,
   "metadata": {
    "collapsed": false
   },
   "outputs": [
    {
     "data": {
      "text/plain": [
       "(17500, 7500)"
      ]
     },
     "execution_count": 34,
     "metadata": {},
     "output_type": "execute_result"
    }
   ],
   "source": [
    "len(train_labels), len(valid_labels)"
   ]
  },
  {
   "cell_type": "code",
   "execution_count": 35,
   "metadata": {
    "collapsed": false
   },
   "outputs": [],
   "source": [
    "with open('aclImdb/movie_reviews_train.vw', 'w') as vw_train_data:\n",
    "    for text, target in zip(train, train_labels):\n",
    "        vw_train_data.write(to_vw_format(str(text), 1 if target == 1 else -1))\n",
    "with open('aclImdb/movie_reviews_valid.vw', 'w') as vw_train_data:\n",
    "    for text, target in zip(valid, valid_labels):\n",
    "        vw_train_data.write(to_vw_format(str(text), 1 if target == 1 else -1))\n",
    "with open('aclImdb/movie_reviews_test.vw', 'w') as vw_test_data:\n",
    "    for text in text_test:\n",
    "        vw_test_data.write(to_vw_format(str(text)))"
   ]
  },
  {
   "cell_type": "code",
   "execution_count": 36,
   "metadata": {
    "collapsed": false
   },
   "outputs": [
    {
     "name": "stdout",
     "output_type": "stream",
     "text": [
      "1 |text zero day leads you think even think why two boys young men would what they did commit mutual suicide via slaughtering their classmates captures what must beyond bizarre mode being for two humans who have decided withdraw from common civility order define their own mutual world via coupled destruction not perfect movie but given what money time the filmmaker and actors had remarkable product terms explaining the motives and actions the two young suicide murderers better than elephant terms being film that gets under our rationalistic skin far far better film than almost anything you are likely see flawed but honest with terrible honesty\r\n",
      "-1 |text words can describe how bad this movie can explain writing only you have too see for yourself get grip how horrible movie really can not that recommend you that there are many clich xc3 xa9s mistakes and all other negative things you can imagine here that will just make you cry start with the technical first there are lot mistakes regarding the airplane won list them here but just mention the coloring the plane they didn even manage show airliner the colors fictional airline but instead used 747 painted the original boeing livery very bad the plot stupid and has been done many times before only much much better there are many ridiculous moments here that lost count really early also was the bad guys side all the time the movie because the good guys were stupid executive decision should without doubt you choice over this one even the turbulence movies are better fact every other movie the world better than this one\r\n"
     ]
    }
   ],
   "source": [
    "!head -2 aclImdb/movie_reviews_train.vw"
   ]
  },
  {
   "cell_type": "code",
   "execution_count": 37,
   "metadata": {
    "collapsed": false
   },
   "outputs": [
    {
     "name": "stdout",
     "output_type": "stream",
     "text": [
      "1 |text matter life and death what can you really say that would properly justice the genius and beauty this film powell and pressburger visual imagination knows bounds every frame filled with fantastically bold compositions the switches between the bold colours the real world the stark black and white heaven ingenious showing visually just how much more vibrant life the final court scene also fantastic the judge and jury descend the stairway heaven hold court over peter david niven operation all the performances are spot roger livesey being standout and the romantic energy the film beautiful never has there been more romantic film than this there has haven seen matter life and death all about the power love and just how important life and jack cardiff cinematography reason enough watch the film alone the way lights kim hunter face makes her all the more beautiful what genius can make simple things such game table tennis look exciting and the sound design also impeccable the way the sound mutes vital points was decision way ahead its time this true classic that can restore anyone faith cinema under appreciated its initial release and today audiences but one all time favourites which why give this film word beautiful\r\n",
      "1 |text while this was better movie than 101 dalmations live action not animated version think still fell little short what disney could was well filmed the music was more suited the action and the effects were better done compared 101 the acting was perhaps better but then the human characters were given far more appropriate roles this sequel and glenn close really not missed the first movie she makes shine her poor lackey and the overzealous furrier sidekicks are wonderful characters play off and they add the spectacle disney has given this great family film with little objectionable material and yet remains fun and interesting for adults and children alike bound classic many disney films are here hoping the third will even better still because you know they probably want make one\r\n"
     ]
    }
   ],
   "source": [
    "!head -2 aclImdb/movie_reviews_valid.vw"
   ]
  },
  {
   "cell_type": "code",
   "execution_count": 38,
   "metadata": {
    "collapsed": false
   },
   "outputs": [
    {
     "name": "stdout",
     "output_type": "stream",
     "text": [
      " |text don hate heather graham because she beautiful hate her because she fun watch this movie like the hip clothing and funky surroundings the actors this flick work well together casey affleck hysterical and heather graham literally lights the screen the minor characters goran visnjic sigh and patricia velazquez are talented they are gorgeous congratulations miramax director lisa krueger\r\n",
      " |text don know how this movie has received many positive comments one can call artistic and beautifully filmed but those things don make for the empty plot that was filled with sexual innuendos wish had not wasted time watch this movie rather than being biographical was poor excuse for promoting strange and lewd behavior was just another hollywood attempt convince that that kind life normal and from the very beginning asked self what was the point this movie and continued watching hoping that would change and was quite disappointed that continued the same vein glad did not spend the money see this theater\r\n"
     ]
    }
   ],
   "source": [
    "!head -2 aclImdb/movie_reviews_test.vw"
   ]
  },
  {
   "cell_type": "markdown",
   "metadata": {},
   "source": [
    "**Обучим модель Vowpal Wabbit со следующими агрументами:**\n",
    "\n",
    " - -d, путь к обучающей выборке (соотв. файл .vw )\n",
    " - --loss_function – hinge (хотя можно и поэкспериментировать с другими)\n",
    " - -f – путь к файлу, в который запишется модель (можно тоже в формате .vw)"
   ]
  },
  {
   "cell_type": "code",
   "execution_count": 39,
   "metadata": {
    "collapsed": false
   },
   "outputs": [
    {
     "name": "stdout",
     "output_type": "stream",
     "text": [
      "Num weight bits = 18\n",
      "learning rate = 0.5\n",
      "initial_t = 0\n",
      "power_t = 0.5\n",
      "final_regressor = aclImdb/movie_reviews_model.vw\n",
      "using no cache\n",
      "Reading datafile = aclImdb/movie_reviews_train.vw\n",
      "num sources = 1\n",
      "average    since         example     example  current  current  current\n",
      "loss       last          counter      weight    label  predict features\n",
      "1.000000   1.000000            1         1.0   1.0000   0.0000      105\n",
      "1.324514   1.649029            2         2.0  -1.0000   0.6490      164\n",
      "1.274999   1.225483            4         4.0  -1.0000   0.2310      110\n",
      "1.071162   0.867325            8         8.0  -1.0000   0.4609      219\n",
      "1.063382   1.055602           16        16.0   1.0000  -0.5401      204\n",
      "0.986123   0.908864           32        32.0   1.0000   0.2250      190\n",
      "1.016452   1.046781           64        64.0  -1.0000   0.3709      126\n",
      "0.917579   0.818706          128       128.0  -1.0000  -1.0000      106\n",
      "0.864022   0.810464          256       256.0  -1.0000  -1.0000       93\n",
      "0.752708   0.641395          512       512.0   1.0000   1.0000      325\n",
      "0.651186   0.549664         1024      1024.0  -1.0000  -1.0000      494\n",
      "0.586055   0.520924         2048      2048.0  -1.0000  -0.6852      105\n",
      "0.500960   0.415864         4096      4096.0  -1.0000  -0.8111      131\n",
      "0.427521   0.354082         8192      8192.0   1.0000   1.0000      118\n",
      "0.373855   0.320189        16384     16384.0  -1.0000  -1.0000      188\n",
      "\n",
      "finished run\n",
      "number of examples per pass = 17500\n",
      "passes used = 1\n",
      "weighted example sum = 17500\n",
      "weighted label sum = -72\n",
      "average loss = 0.365945\n",
      "best constant = -0.00411429\n",
      "total feature number = 3258815\n"
     ]
    }
   ],
   "source": [
    "!vw -d aclImdb/movie_reviews_train.vw \\\n",
    "--loss_function hinge -f aclImdb/movie_reviews_model.vw"
   ]
  },
  {
   "cell_type": "markdown",
   "metadata": {},
   "source": [
    "**Сделаем прогноз для отложенной выборки с помощью обученной модели Vowpal Wabbit, передав следующие аргументы:**\n",
    " - -i –путь к обученной модели (соотв. файл .vw)\n",
    " - -t -d – путь к отложенной выборке (соотв. файл .vw)\n",
    " - -p – путь к txt-файлу, куда запишутся прогнозы"
   ]
  },
  {
   "cell_type": "code",
   "execution_count": 40,
   "metadata": {
    "collapsed": false
   },
   "outputs": [
    {
     "name": "stdout",
     "output_type": "stream",
     "text": [
      "only testing\n",
      "Num weight bits = 18\n",
      "learning rate = 10\n",
      "initial_t = 1\n",
      "power_t = 0.5\n",
      "predictions = aclImdb/movie_valid_pred.txt\n",
      "using no cache\n",
      "Reading datafile = aclImdb/movie_reviews_valid.vw\n",
      "num sources = 1\n",
      "average    since         example     example  current  current  current\n",
      "loss       last          counter      weight    label  predict features\n",
      "0.000000   0.000000            1         1.0   1.0000   1.0000      204\n",
      "0.001057   0.002114            2         2.0   1.0000   0.9540      132\n",
      "0.000528   0.000000            4         4.0   1.0000   1.0000       97\n",
      "0.001101   0.001674            8         8.0   1.0000   1.0000      128\n",
      "0.277359   0.553616           16        16.0   1.0000   0.9065       35\n",
      "0.297558   0.317757           32        32.0   1.0000   1.0000      268\n",
      "0.472502   0.647446           64        64.0   1.0000   0.8044       92\n",
      "0.400564   0.328625          128       128.0   1.0000   1.0000      272\n",
      "0.386828   0.373092          256       256.0   1.0000   1.0000      430\n",
      "0.398158   0.409489          512       512.0   1.0000   1.0000      136\n",
      "0.390965   0.383772         1024      1024.0   1.0000   0.7056      117\n",
      "0.371341   0.351717         2048      2048.0  -1.0000  -1.0000      771\n",
      "0.366108   0.360874         4096      4096.0  -1.0000  -1.0000      791\n",
      "\n",
      "finished run\n",
      "number of examples per pass = 7500\n",
      "passes used = 1\n",
      "weighted example sum = 7500\n",
      "weighted label sum = 72\n",
      "average loss = 0.373844\n",
      "best constant = 0.00946793\n",
      "total feature number = 1386305\n"
     ]
    }
   ],
   "source": [
    "!vw -i aclImdb/movie_reviews_model.vw -t -d aclImdb/movie_reviews_valid.vw \\\n",
    "-p aclImdb/movie_valid_pred.txt"
   ]
  },
  {
   "cell_type": "markdown",
   "metadata": {},
   "source": [
    "**Считаем прогноз из файла и посчитаем долю правильных ответов и ROC AUC. Учтем, что VW выводит оценки вероятности принадлежности к классу +1. Эти оценки распределены на [-1, 1], поэтому бинарным ответом алгоритма (0 или 1) будем попросту считать тот факт, что оценка получилась положительной.**"
   ]
  },
  {
   "cell_type": "code",
   "execution_count": 41,
   "metadata": {
    "collapsed": false
   },
   "outputs": [
    {
     "name": "stdout",
     "output_type": "stream",
     "text": [
      "Accuracy: 0.878\n",
      "AUC: 0.939\n"
     ]
    }
   ],
   "source": [
    "with open('aclImdb/movie_valid_pred.txt') as pred_file:\n",
    "    valid_prediction = [float(label) \n",
    "                             for label in pred_file.readlines()]\n",
    "print(\"Accuracy: {}\".format(round(accuracy_score(valid_labels, \n",
    "               [int(pred_prob > 0) for pred_prob in valid_prediction]), 3)))\n",
    "print(\"AUC: {}\".format(round(roc_auc_score(valid_labels, valid_prediction), 3)))"
   ]
  },
  {
   "cell_type": "markdown",
   "metadata": {
    "collapsed": true
   },
   "source": [
    "**Сделаем то же самое для тестовой выборки.**"
   ]
  },
  {
   "cell_type": "code",
   "execution_count": 42,
   "metadata": {
    "collapsed": false
   },
   "outputs": [
    {
     "name": "stdout",
     "output_type": "stream",
     "text": [
      "only testing\n",
      "Num weight bits = 18\n",
      "learning rate = 10\n",
      "initial_t = 1\n",
      "power_t = 0.5\n",
      "predictions = aclImdb/movie_test_pred.txt\n",
      "using no cache\n",
      "Reading datafile = aclImdb/movie_reviews_test.vw\n",
      "num sources = 1\n",
      "average    since         example     example  current  current  current\n",
      "loss       last          counter      weight    label  predict features\n",
      "0.000000   0.000000            1         1.0  unknown   0.1236       59\n",
      "0.000000   0.000000            2         2.0  unknown  -1.0000      103\n",
      "0.000000   0.000000            4         4.0  unknown  -1.0000      161\n",
      "0.000000   0.000000            8         8.0  unknown  -0.8061      365\n",
      "0.000000   0.000000           16        16.0  unknown   1.0000      319\n",
      "0.000000   0.000000           32        32.0  unknown   1.0000       95\n",
      "0.000000   0.000000           64        64.0  unknown  -0.8477      139\n",
      "0.000000   0.000000          128       128.0  unknown  -0.6414       92\n",
      "0.000000   0.000000          256       256.0  unknown   0.0318      411\n",
      "0.000000   0.000000          512       512.0  unknown   1.0000       94\n",
      "0.000000   0.000000         1024      1024.0  unknown  -1.0000      403\n",
      "0.000000   0.000000         2048      2048.0  unknown  -1.0000      101\n",
      "0.000000   0.000000         4096      4096.0  unknown  -1.0000      140\n",
      "0.000000   0.000000         8192      8192.0  unknown   1.0000      182\n",
      "0.000000   0.000000        16384     16384.0  unknown  -1.0000      201\n",
      "\n",
      "finished run\n",
      "number of examples per pass = 25000\n",
      "passes used = 1\n",
      "weighted example sum = 25000\n",
      "weighted label sum = 0\n",
      "average loss = 0\n",
      "best constant = 1\n",
      "total feature number = 4535055\n"
     ]
    }
   ],
   "source": [
    "!vw -i aclImdb/movie_reviews_model.vw -t -d aclImdb/movie_reviews_test.vw \\\n",
    "-p aclImdb/movie_test_pred.txt"
   ]
  },
  {
   "cell_type": "code",
   "execution_count": 43,
   "metadata": {
    "collapsed": false
   },
   "outputs": [
    {
     "name": "stdout",
     "output_type": "stream",
     "text": [
      "Accuracy: 0.875\n",
      "AUC: 0.937\n"
     ]
    }
   ],
   "source": [
    "with open('aclImdb/movie_test_pred.txt') as pred_file:\n",
    "    test_prediction = [float(label) \n",
    "                             for label in pred_file.readlines()]\n",
    "print(\"Accuracy: {}\".format(round(accuracy_score(y_test, \n",
    "               [int(pred_prob > 0) for pred_prob in test_prediction]), 3)))\n",
    "print(\"AUC: {}\".format(round(roc_auc_score(y_test, test_prediction), 3)))"
   ]
  },
  {
   "cell_type": "markdown",
   "metadata": {},
   "source": [
    "**Попробуем улучшить прогноз за счет задействования биграмм.**"
   ]
  },
  {
   "cell_type": "code",
   "execution_count": 44,
   "metadata": {
    "collapsed": false
   },
   "outputs": [
    {
     "name": "stdout",
     "output_type": "stream",
     "text": [
      "Generating 2-grams for all namespaces.\n",
      "Num weight bits = 18\n",
      "learning rate = 0.5\n",
      "initial_t = 0\n",
      "power_t = 0.5\n",
      "final_regressor = aclImdb/movie_reviews_model2.vw\n",
      "using no cache\n",
      "Reading datafile = aclImdb/movie_reviews_train.vw\n",
      "num sources = 1\n",
      "average    since         example     example  current  current  current\n",
      "loss       last          counter      weight    label  predict features\n",
      "1.000000   1.000000            1         1.0   1.0000   0.0000      208\n",
      "1.163564   1.327128            2         2.0  -1.0000   0.3271      326\n",
      "1.132272   1.100979            4         4.0  -1.0000   0.1421      218\n",
      "1.038996   0.945721            8         8.0  -1.0000  -0.0209      436\n",
      "1.066398   1.093799           16        16.0   1.0000  -0.3067      406\n",
      "1.015723   0.965048           32        32.0   1.0000   0.1252      378\n",
      "0.998651   0.981580           64        64.0  -1.0000   0.1227      250\n",
      "0.944862   0.891073          128       128.0  -1.0000  -0.5894      210\n",
      "0.915689   0.886517          256       256.0  -1.0000  -0.5191      184\n",
      "0.840158   0.764626          512       512.0   1.0000   0.6383      648\n",
      "0.766910   0.693662         1024      1024.0  -1.0000  -0.9164      986\n",
      "0.696332   0.625754         2048      2048.0  -1.0000  -0.4552      208\n",
      "0.608441   0.520549         4096      4096.0  -1.0000  -0.9576      260\n",
      "0.519722   0.431004         8192      8192.0   1.0000   1.0000      234\n",
      "0.446878   0.374033        16384     16384.0  -1.0000  -1.0000      374\n",
      "\n",
      "finished run\n",
      "number of examples per pass = 17500\n",
      "passes used = 1\n",
      "weighted example sum = 17500\n",
      "weighted label sum = -72\n",
      "average loss = 0.438303\n",
      "best constant = -0.00411429\n",
      "total feature number = 6482630\n"
     ]
    }
   ],
   "source": [
    "!vw -d aclImdb/movie_reviews_train.vw \\\n",
    "--loss_function hinge --ngram 2 -f aclImdb/movie_reviews_model2.vw"
   ]
  },
  {
   "cell_type": "code",
   "execution_count": 45,
   "metadata": {
    "collapsed": false
   },
   "outputs": [
    {
     "name": "stdout",
     "output_type": "stream",
     "text": [
      "Generating 2-grams for all namespaces.\n",
      "only testing\n",
      "Num weight bits = 18\n",
      "learning rate = 10\n",
      "initial_t = 1\n",
      "power_t = 0.5\n",
      "predictions = aclImdb/movie_valid_pred2.txt\n",
      "using no cache\n",
      "Reading datafile = aclImdb/movie_reviews_valid.vw\n",
      "num sources = 1\n",
      "average    since         example     example  current  current  current\n",
      "loss       last          counter      weight    label  predict features\n",
      "0.000000   0.000000            1         1.0   1.0000   1.0000      406\n",
      "0.063806   0.127611            2         2.0   1.0000   0.6428      262\n",
      "0.031903   0.000000            4         4.0   1.0000   1.0000      192\n",
      "0.036450   0.040997            8         8.0   1.0000   1.0000      254\n",
      "0.253452   0.470455           16        16.0   1.0000   0.6028       68\n",
      "0.275639   0.297826           32        32.0   1.0000   1.0000      534\n",
      "0.380044   0.484450           64        64.0   1.0000   0.6277      182\n",
      "0.302507   0.224969          128       128.0   1.0000   0.8659      542\n",
      "0.348705   0.394903          256       256.0   1.0000   0.6599      858\n",
      "0.374516   0.400326          512       512.0   1.0000   1.0000      270\n",
      "0.353801   0.333087         1024      1024.0   1.0000   0.4949      232\n",
      "0.327083   0.300365         2048      2048.0  -1.0000  -1.0000     1540\n",
      "0.329993   0.332902         4096      4096.0  -1.0000  -1.0000     1580\n",
      "\n",
      "finished run\n",
      "number of examples per pass = 7500\n",
      "passes used = 1\n",
      "weighted example sum = 7500\n",
      "weighted label sum = 72\n",
      "average loss = 0.334142\n",
      "best constant = 0.00946793\n",
      "total feature number = 2757610\n"
     ]
    }
   ],
   "source": [
    "!vw -i aclImdb/movie_reviews_model2.vw -t -d aclImdb/movie_reviews_valid.vw \\\n",
    "-p aclImdb/movie_valid_pred2.txt"
   ]
  },
  {
   "cell_type": "code",
   "execution_count": 46,
   "metadata": {
    "collapsed": false
   },
   "outputs": [
    {
     "name": "stdout",
     "output_type": "stream",
     "text": [
      "Accuracy: 0.895\n",
      "AUC: 0.954\n"
     ]
    }
   ],
   "source": [
    "with open('aclImdb/movie_valid_pred2.txt') as pred_file:\n",
    "    valid_prediction = [float(label) \n",
    "                             for label in pred_file.readlines()]\n",
    "print(\"Accuracy: {}\".format(round(accuracy_score(valid_labels, \n",
    "               [int(pred_prob > 0) for pred_prob in valid_prediction]), 3)))\n",
    "print(\"AUC: {}\".format(round(roc_auc_score(valid_labels, valid_prediction), 3)))"
   ]
  },
  {
   "cell_type": "code",
   "execution_count": 48,
   "metadata": {
    "collapsed": false
   },
   "outputs": [
    {
     "name": "stdout",
     "output_type": "stream",
     "text": [
      "Generating 2-grams for all namespaces.\n",
      "only testing\n",
      "Num weight bits = 18\n",
      "learning rate = 10\n",
      "initial_t = 1\n",
      "power_t = 0.5\n",
      "predictions = aclImdb/movie_test_pred2.txt\n",
      "using no cache\n",
      "Reading datafile = aclImdb/movie_reviews_test.vw\n",
      "num sources = 1\n",
      "average    since         example     example  current  current  current\n",
      "loss       last          counter      weight    label  predict features\n",
      "0.000000   0.000000            1         1.0  unknown  -0.0320      116\n",
      "0.000000   0.000000            2         2.0  unknown  -1.0000      204\n",
      "0.000000   0.000000            4         4.0  unknown  -1.0000      320\n",
      "0.000000   0.000000            8         8.0  unknown  -1.0000      728\n",
      "0.000000   0.000000           16        16.0  unknown   1.0000      636\n",
      "0.000000   0.000000           32        32.0  unknown   0.9604      188\n",
      "0.000000   0.000000           64        64.0  unknown  -0.4092      276\n",
      "0.000000   0.000000          128       128.0  unknown  -0.8558      182\n",
      "0.000000   0.000000          256       256.0  unknown  -0.4117      820\n",
      "0.000000   0.000000          512       512.0  unknown   1.0000      186\n",
      "0.000000   0.000000         1024      1024.0  unknown  -0.8728      804\n",
      "0.000000   0.000000         2048      2048.0  unknown  -0.8450      200\n",
      "0.000000   0.000000         4096      4096.0  unknown  -0.7184      278\n",
      "0.000000   0.000000         8192      8192.0  unknown   1.0000      362\n",
      "0.000000   0.000000        16384     16384.0  unknown  -1.0000      400\n",
      "\n",
      "finished run\n",
      "number of examples per pass = 25000\n",
      "passes used = 1\n",
      "weighted example sum = 25000\n",
      "weighted label sum = 0\n",
      "average loss = 0\n",
      "best constant = 1\n",
      "total feature number = 9020110\n"
     ]
    }
   ],
   "source": [
    "!vw -i aclImdb/movie_reviews_model2.vw -t -d aclImdb/movie_reviews_test.vw \\\n",
    "-p aclImdb/movie_test_pred2.txt"
   ]
  },
  {
   "cell_type": "code",
   "execution_count": 49,
   "metadata": {
    "collapsed": false
   },
   "outputs": [
    {
     "name": "stdout",
     "output_type": "stream",
     "text": [
      "Accuracy: 0.888\n",
      "AUC: 0.951\n"
     ]
    }
   ],
   "source": [
    "with open('aclImdb/movie_test_pred2.txt') as pred_file:\n",
    "    test_prediction2 = [float(label) \n",
    "                             for label in pred_file.readlines()]\n",
    "print(\"Accuracy: {}\".format(round(accuracy_score(y_test, \n",
    "               [int(pred_prob > 0) for pred_prob in test_prediction2]), 3)))\n",
    "print(\"AUC: {}\".format(round(roc_auc_score(y_test, test_prediction2), 3)))"
   ]
  },
  {
   "cell_type": "markdown",
   "metadata": {},
   "source": [
    "Видим, что биграммы помогли повысить качество классификации."
   ]
  },
  {
   "cell_type": "markdown",
   "metadata": {},
   "source": [
    "## Часть 4. Применение Vowapl Wabbit к данным по посещению сайтов"
   ]
  },
  {
   "cell_type": "markdown",
   "metadata": {},
   "source": [
    "**Считайте данные [соревнования](https://inclass.kaggle.com/c/identify-me-if-you-can-yandex-mipt/data) в DataFrame train_df и test_df (обучающая и тестовая выборки).**"
   ]
  },
  {
   "cell_type": "code",
   "execution_count": 50,
   "metadata": {
    "collapsed": false
   },
   "outputs": [],
   "source": [
    "train_df = ''' ВАШ КОД ЗДЕСЬ '''\n",
    "test_df = ''' ВАШ КОД ЗДЕСЬ '''"
   ]
  },
  {
   "cell_type": "markdown",
   "metadata": {},
   "source": [
    "**Пока в качестве признаков используем только посещенные сайты. Заполните пропуски нулями и переведите данные в разреженный формат – создайте 2 матрицы Scipy.sparse.csr_matrix.**\n",
    "\n",
    "Обратите внимание на то, что в  сессиях меньше 10 сайтов  у нас остались нули, так что первый признак (сколько раз попался 0) по смыслу отличен от остальных (сколько раз попался сайт с индексом $i$). Поэтому первый столбец разреженной матрицы надо будет удалить.\n",
    "\n",
    "**Выделите в отдельный вектор *y* ответы на обучающей выборке.**"
   ]
  },
  {
   "cell_type": "code",
   "execution_count": 51,
   "metadata": {
    "collapsed": true
   },
   "outputs": [],
   "source": [
    "train_df_sites = train_df[['site1', 'site2', 'site3', 'site4','site5', 'site6','site7', 'site8',\n",
    "                         'site9', 'site10']].fillna(0).astype('int')\n",
    "test_df_sites = test_df[['site1', 'site2', 'site3', 'site4','site5', 'site6','site7', 'site8',\n",
    "                         'site9', 'site10']].fillna(0).astype('int')"
   ]
  },
  {
   "cell_type": "code",
   "execution_count": 52,
   "metadata": {
    "collapsed": false
   },
   "outputs": [],
   "source": [
    "X_train_sparse = ''' ВАШ КОД ЗДЕСЬ '''\n",
    "X_test_sparse = ''' ВАШ КОД ЗДЕСЬ '''\n",
    "y = ''' ВАШ КОД ЗДЕСЬ '''"
   ]
  },
  {
   "cell_type": "markdown",
   "metadata": {},
   "source": [
    "**Vowpal Wabbit любит, чтоб метки классов были распределены от 1 до K, где K – число классов в задаче классификации (в нашем случае – 550). Поэтому придется применить LabelEncoder, да еще и +1 потом добавить (LabelEncoder переводит метки в диапозон от 0 до K-1).**"
   ]
  },
  {
   "cell_type": "code",
   "execution_count": 55,
   "metadata": {
    "collapsed": false
   },
   "outputs": [],
   "source": [
    "class_encoder = ''' ВАШ КОД ЗДЕСЬ '''\n",
    "y_for_vw = ''' ВАШ КОД ЗДЕСЬ '''"
   ]
  },
  {
   "cell_type": "markdown",
   "metadata": {},
   "source": [
    "**Выделим обучающую и оставленную части исходной обучающей выборки.**"
   ]
  },
  {
   "cell_type": "code",
   "execution_count": 57,
   "metadata": {
    "collapsed": false
   },
   "outputs": [],
   "source": [
    "X_train, X_valid, y_train, y_valid = train_test_split(X_train_sparse, y_for_vw, test_size=0.3, \n",
    "                                                     random_state=7, stratify=y)"
   ]
  },
  {
   "cell_type": "markdown",
   "metadata": {},
   "source": [
    "**Реализуйте функцию, переводящую разреженную матрицу в формат Vowpal Wabbit.**\n",
    "\n",
    "Вход:\n",
    " - X_sparse – разреженная матрица SciPy.sparse.csr_matrix\n",
    " - y (необяз.) - вектор ответов. Необязателен, поскольку тестовую матрицу будем обрабатывать этой же функцией\n",
    " - out_file – путь к файлу .vw, в который будет произведена запись\n",
    " \n",
    "Детали:\n",
    "- можно делать по-разному, но скорее всего поможет метод *nonzero* разреженной матрицы\n",
    "- в тестовой выборке на месте меток целевого класса можно писать произвольные, допустим, 1"
   ]
  },
  {
   "cell_type": "code",
   "execution_count": 58,
   "metadata": {
    "collapsed": false
   },
   "outputs": [],
   "source": [
    "def sparse_matrix_to_vw(X_sparse, y=None, out_file='tmp.vw'):\n",
    "    ''' ВАШ КОД ЗДЕСЬ '''"
   ]
  },
  {
   "cell_type": "markdown",
   "metadata": {},
   "source": [
    "**Примените написанную функцию к части обучащей выборки (X_train, y_train), к отложенной выборке (X_valid, y_valid), ко всей обучающей выборке (X_train_sparse, y_for_vw) и ко всей тестовой выборке X_test_sparse.**"
   ]
  },
  {
   "cell_type": "code",
   "execution_count": 59,
   "metadata": {
    "collapsed": false
   },
   "outputs": [],
   "source": [
    "sparse_matrix_to_vw(X_train, y_train, 'kaggle_data/train_part.vw')"
   ]
  },
  {
   "cell_type": "code",
   "execution_count": 60,
   "metadata": {
    "collapsed": false
   },
   "outputs": [],
   "source": [
    "sparse_matrix_to_vw(X_valid, y_valid, 'kaggle_data/valid.vw')"
   ]
  },
  {
   "cell_type": "code",
   "execution_count": 61,
   "metadata": {
    "collapsed": false
   },
   "outputs": [],
   "source": [
    "sparse_matrix_to_vw(X_train_sparse, y_for_vw, 'kaggle_data/train.vw')"
   ]
  },
  {
   "cell_type": "code",
   "execution_count": 62,
   "metadata": {
    "collapsed": true
   },
   "outputs": [],
   "source": [
    "sparse_matrix_to_vw(X_test_sparse, out_file='kaggle_data/test.vw')"
   ]
  },
  {
   "cell_type": "markdown",
   "metadata": {},
   "source": [
    "**Обучите модель на выборке kaggle_data/train_part.vw. Укажите, что решается задача классификации с 550 классами (--oaa), сделайте 3 прохода по выборке (--passes), используйте начальный шаг (-l) 0.3 и степень, с которой этот шаг падает 0.8 (--power_t). Наконец, задайте логистическую функцию потерь с l1-регуляризатором $10^{-30}$. Также укажите значение параметра b=26. Это число бит, используемых для хэшерования, в данном случае нужно больше, чем 18 по умолчанию.**"
   ]
  },
  {
   "cell_type": "code",
   "execution_count": 66,
   "metadata": {
    "collapsed": false
   },
   "outputs": [
    {
     "name": "stdout",
     "output_type": "stream",
     "text": [
      "using l1 regularization = 1e-30\n",
      "Num weight bits = 26\n",
      "learning rate = 0.3\n",
      "initial_t = 0\n",
      "power_t = 0.8\n",
      "decay_learning_rate = 1\n",
      "final_regressor = kaggle_data/vw_model_part.vw\n",
      "using cache_file = kaggle_data/train_part.vw.cache\n",
      "ignoring text input in favor of cache input\n",
      "num sources = 1\n",
      "average    since         example     example  current  current  current\n",
      "loss       last          counter      weight    label  predict features\n",
      "2.000000   2.000000          2      1.0         67        1        3\n",
      "1.000000   0.500000          3      3.0         29       67        3\n",
      "0.666667   0.333333          4      6.0        457       67        9\n",
      "0.400000   0.222222          6     15.0        542       67        2\n",
      "0.250000   0.142857          9     36.0         77      457       10\n",
      "0.158537   0.086957         13     82.0        358       94        6\n",
      "0.098901   0.050000         19    182.0        220       67       11\n",
      "0.068783   0.040816         27    378.0         36       67        9\n",
      "0.048366   0.028424         38    765.0        449      220        6\n",
      "0.033206   0.018727         54   1566.0        337       67        7\n",
      "0.023612   0.014031         76   3134.0        372       67        9\n",
      "0.016164   0.008956        108   6372.0         62       94        9\n",
      "0.011049   0.006019        153  12852.0        468      370        4\n",
      "0.007703   0.004357        216  25704.0        512      512        6\n",
      "0.005453   0.003230        306  51714.0        417      531        7\n",
      "0.003818   0.002192        433 103728.0        301      512        2\n",
      "0.002709   0.001600        612 207468.0        430      411        6\n",
      "0.001902   0.001099        866 415777.0        518      512        9\n",
      "0.001341   0.000780       1225 832456.0         36      512        2\n",
      "0.000938   0.000537       1733 1666762.0        512      512        2\n",
      "0.000658   0.000379       2451 3334995.0        375      512        9\n",
      "0.000459   0.000260       3466 6670510.0         48      546        3\n",
      "0.000322   0.000185       4902 13344879.0        134      512        7\n",
      "0.000226   0.000130       6933 26696673.0        482      377        3\n",
      "0.000158   0.000090       9805 53400210.0        220      370        3\n",
      "0.000111   0.000063      13866 106800555.0        411      293       10\n",
      "0.000077   0.000044      19610 213620446.0         65       94        9\n",
      "0.000054   0.000031      27733 427260762.0         85      512        5\n",
      "0.000038   0.000021      39221 854564580.0        377      482        4\n",
      "0.000026   0.000015      55467 1709160138.0         88      546        3\n",
      "0.000025   0.000025     110520 3418357572.0        377      377        3 h\n",
      "\n",
      "finished run\n",
      "number of examples per pass = 60051\n",
      "passes used = 3\n",
      "weighted example sum = 6.01002e+09\n",
      "weighted label sum = 0\n",
      "average loss = 2.18055e-05 h\n",
      "best constant = 0\n",
      "total feature number = 1196625\n",
      "CPU times: user 1.24 s, sys: 322 ms, total: 1.56 s\n",
      "Wall time: 1min 31s\n"
     ]
    }
   ],
   "source": [
    "%%time\n",
    "!vw --oaa 550 ''' ВАШ КОД ЗДЕСЬ '''"
   ]
  },
  {
   "cell_type": "markdown",
   "metadata": {},
   "source": [
    "**Запишите прогнозы на выборке *kaggle_data/valid.vw* в *kaggle_data/vw_valid_pred.csv*.**"
   ]
  },
  {
   "cell_type": "code",
   "execution_count": 67,
   "metadata": {
    "collapsed": false
   },
   "outputs": [
    {
     "name": "stdout",
     "output_type": "stream",
     "text": [
      "only testing\n",
      "Num weight bits = 26\n",
      "learning rate = 10\n",
      "initial_t = 1\n",
      "power_t = 0.5\n",
      "predictions = kaggle_data/vw_valid_pred.csv\n",
      "using no cache\n",
      "Reading datafile = kaggle_data/valid.vw\n",
      "num sources = 1\n",
      "average    since         example     example  current  current  current\n",
      "loss       last          counter      weight    label  predict features\n",
      "1.000000   1.000000          2      1.0        178      178        5\n",
      "0.666667   0.500000          3      3.0        534      298       10\n",
      "0.500000   0.333333          4      6.0        160      370        8\n",
      "0.333333   0.222222          6     15.0        362      267        5\n",
      "0.194444   0.095238          9     36.0        547      547        6\n",
      "0.141026   0.095238         13     78.0        356      547        7\n",
      "0.087719   0.043011         19    171.0        252       94        2\n",
      "0.059829   0.033333         27    351.0        533      533        9\n",
      "0.041252   0.022727         38    703.0         41      539       10\n",
      "0.030049   0.019231         54   1431.0        517      517        5\n",
      "0.019481   0.009365         77   2926.0        492      542        8\n",
      "0.014441   0.009459        109   5886.0        492      512        8\n",
      "0.010101   0.005768        154  11781.0        287      298        5\n",
      "0.007103   0.004127        218  23653.0        160      512        9\n",
      "0.004917   0.002758        309  47586.0        217      217       10\n",
      "0.003432   0.001951        437  95266.0        403      289        5\n",
      "0.002350   0.001269        618 190653.0          2        2        7\n",
      "0.001649   0.000948        874 381501.0        361      361        8\n",
      "0.001177   0.000705       1236 763230.0        268      512       10\n",
      "0.000834   0.000491       1748 1526878.0         35      547        4\n",
      "0.000584   0.000334       2472 3054156.0        505      512        5\n",
      "0.000415   0.000247       3496 6109260.0        211      298        2\n",
      "0.000295   0.000174       4944 12219096.0        450      450        6\n",
      "0.000208   0.000121       6992 24440536.0        537      537        9\n",
      "0.000147   0.000085       9888 48881328.0         94      512        2\n",
      "0.000104   0.000060      13984 97769136.0        354      354        5\n",
      "0.000073   0.000043      19777 195554976.0        210       28        8\n",
      "0.000052   0.000030      27969 391118496.0         52       52        8\n",
      "\n",
      "finished run\n",
      "number of examples per pass = 28596\n",
      "passes used = 1\n",
      "weighted example sum = 4.08851e+08\n",
      "weighted label sum = 0\n",
      "average loss = 5.05807e-05\n",
      "best constant = -2.44588e-09\n",
      "total feature number = 189757\n",
      "CPU times: user 36.9 ms, sys: 20.9 ms, total: 57.8 ms\n",
      "Wall time: 1.89 s\n"
     ]
    }
   ],
   "source": [
    "%%time\n",
    "!vw -t ''' ВАШ КОД ЗДЕСЬ '''"
   ]
  },
  {
   "cell_type": "markdown",
   "metadata": {},
   "source": [
    "**Считайте прогнозы *kaggle_data/vw_valid_pred.csv*  из файла и посмотрите на долю правильных ответов на отложенной части.**"
   ]
  },
  {
   "cell_type": "code",
   "execution_count": 68,
   "metadata": {
    "collapsed": false
   },
   "outputs": [
    {
     "data": {
      "text/plain": [
       "0.27682193313750175"
      ]
     },
     "execution_count": 68,
     "metadata": {},
     "output_type": "execute_result"
    }
   ],
   "source": [
    "vw_valid_pred = pd.read_csv ''' ВАШ КОД ЗДЕСЬ '''\n",
    "accuracy_score ''' ВАШ КОД ЗДЕСЬ '''"
   ]
  },
  {
   "cell_type": "markdown",
   "metadata": {},
   "source": [
    "**Обучите модель с теми же параметрами на всей обучающей выборке – *kaggle_data/train.vw*.**"
   ]
  },
  {
   "cell_type": "code",
   "execution_count": 69,
   "metadata": {
    "collapsed": false
   },
   "outputs": [
    {
     "name": "stdout",
     "output_type": "stream",
     "text": [
      "using l1 regularization = 1e-30\n",
      "Num weight bits = 26\n",
      "learning rate = 0.3\n",
      "initial_t = 0\n",
      "power_t = 0.8\n",
      "decay_learning_rate = 1\n",
      "final_regressor = kaggle_data/vw_model.vw\n",
      "using cache_file = kaggle_data/train.vw.cache\n",
      "ignoring text input in favor of cache input\n",
      "num sources = 1\n",
      "average    since         example     example  current  current  current\n",
      "loss       last          counter      weight    label  predict features\n",
      "2.000000   2.000000          2      1.0        135        1       11\n",
      "1.000000   0.500000          3      3.0        330      135       11\n",
      "0.666667   0.333333          4      6.0        407      135       11\n",
      "0.400000   0.222222          6     15.0        255      407       11\n",
      "0.250000   0.142857          9     36.0        358      135       11\n",
      "0.158537   0.086957         13     82.0         77      135        2\n",
      "0.104396   0.060000         19    182.0        169      255       11\n",
      "0.071429   0.040816         27    378.0         83      358       11\n",
      "0.049673   0.028424         38    765.0        264      135       11\n",
      "0.034483   0.019975         54   1566.0        351      220       11\n",
      "0.024250   0.014031         76   3134.0        298      166       11\n",
      "0.016635   0.009265        108   6372.0        335      407       11\n",
      "0.011360   0.006173        153  12852.0        377      358       11\n",
      "0.007975   0.004591        216  25704.0        168      302       11\n",
      "0.005627   0.003306        306  51714.0        176      298       11\n",
      "0.003924   0.002230        433 103728.0        110      246       11\n",
      "0.002718   0.001513        612 207468.0         94       94       11\n",
      "0.001902   0.001090        866 415777.0        487      194       11\n",
      "0.001324   0.000746       1225 832456.0        318      253       11\n",
      "0.000920   0.000518       1733 1666762.0        492      298       11\n",
      "0.000643   0.000367       2451 3334995.0         16       94        9\n",
      "0.000449   0.000254       3466 6670510.0        306      298       11\n",
      "0.000314   0.000180       4902 13344879.0        298      298       11\n",
      "0.000219   0.000124       6933 26696673.0        332       36        9\n",
      "0.000153   0.000086       9805 53400210.0        132       13       11\n",
      "0.000106   0.000060      13866 106800555.0        141      141       11\n",
      "0.000074   0.000042      19610 213620446.0        200      512        8\n",
      "0.000052   0.000029      27733 427260762.0        178      178       11\n",
      "0.000036   0.000020      39221 854564580.0         22      441       11\n",
      "0.000025   0.000014      55467 1709160138.0        545      546        7\n",
      "0.000017   0.000010      78442 3418336761.0        450      370       11\n",
      "0.000017   0.000017     156121 6836683787.0         71      225       11 h\n",
      "\n",
      "finished run\n",
      "number of examples per pass = 85788\n",
      "passes used = 3\n",
      "weighted example sum = 1.22657e+10\n",
      "weighted label sum = 0\n",
      "average loss = 1.44748e-05 h\n",
      "best constant = 0\n",
      "total feature number = 2677530\n",
      "CPU times: user 1.75 s, sys: 447 ms, total: 2.19 s\n",
      "Wall time: 2min 12s\n"
     ]
    }
   ],
   "source": [
    "%%time\n",
    "!vw --oaa 550 ''' ВАШ КОД ЗДЕСЬ '''"
   ]
  },
  {
   "cell_type": "markdown",
   "metadata": {},
   "source": [
    "**Сделайте прогноз для тестовой выборки.**"
   ]
  },
  {
   "cell_type": "code",
   "execution_count": 75,
   "metadata": {
    "collapsed": false
   },
   "outputs": [
    {
     "name": "stdout",
     "output_type": "stream",
     "text": [
      "only testing\n",
      "Num weight bits = 26\n",
      "learning rate = 10\n",
      "initial_t = 1\n",
      "power_t = 0.5\n",
      "predictions = kaggle_data/vw_pred.csv\n",
      "using no cache\n",
      "Reading datafile = kaggle_data/test.vw\n",
      "num sources = 1\n",
      "average    since         example     example  current  current  current\n",
      "loss       last          counter      weight    label  predict features\n",
      "2.000000   2.000000          2      1.0          1      430       11\n",
      "1.000000   0.500000          3      3.0          1       85       11\n",
      "0.666667   0.333333          4      6.0          1      108       11\n",
      "0.400000   0.222222          6     15.0          1      128       11\n",
      "0.250000   0.142857          9     36.0          1      161       11\n",
      "0.166667   0.095238         13     78.0          1       86       11\n",
      "0.111111   0.064516         19    171.0          1      512        2\n",
      "0.076923   0.044444         27    351.0          1      457       11\n",
      "0.054054   0.031250         38    703.0          1       77       11\n",
      "0.037736   0.021978         54   1431.0          1      378       11\n",
      "0.026316   0.015385         77   2926.0          1      497       11\n",
      "0.018519   0.010811        109   5886.0          1       36       11\n",
      "0.013072   0.007634        154  11781.0          1      468       11\n",
      "0.009217   0.005391        218  23653.0          1      546        6\n",
      "0.006494   0.003802        309  47586.0          1      118       11\n",
      "0.004587   0.002685        437  95266.0          1      207       11\n",
      "0.003241   0.001898        618 190653.0          1       71       11\n",
      "0.002291   0.001341        874 381501.0          1      396       11\n",
      "0.001619   0.000948       1236 763230.0          1      298       11\n",
      "0.001145   0.000670       1748 1526878.0          1      342       11\n",
      "0.000809   0.000474       2472 3054156.0          1       40       11\n",
      "0.000572   0.000335       3496 6109260.0          1      330       11\n",
      "0.000405   0.000237       4944 12219096.0          1        2        8\n",
      "0.000286   0.000168       6992 24440536.0          1       52       11\n",
      "0.000202   0.000118       9888 48881328.0          1      311        2\n",
      "0.000143   0.000084      13984 97769136.0          1       94       11\n",
      "0.000101   0.000059      19777 195554976.0          1       40       11\n",
      "0.000072   0.000042      27969 391118496.0          1      512        6\n",
      "0.000051   0.000030      39554 782239681.0          1      358        9\n",
      "\n",
      "finished run\n",
      "number of examples per pass = 41177\n",
      "passes used = 1\n",
      "weighted example sum = 8.47752e+08\n",
      "weighted label sum = 0\n",
      "average loss = 4.8572e-05\n",
      "best constant = -1.17959e-09\n",
      "total feature number = 397498\n",
      "CPU times: user 48.1 ms, sys: 20 ms, total: 68.1 ms\n",
      "Wall time: 2.57 s\n"
     ]
    }
   ],
   "source": [
    "%%time\n",
    "!vw -t ''' ВАШ КОД ЗДЕСЬ '''"
   ]
  },
  {
   "cell_type": "markdown",
   "metadata": {},
   "source": [
    "**Запишите прогноз в файл, примените обратное преобразование меток (был LabelEncoder и потом +1 в меткам) и отправьте решение на Kaggle.**"
   ]
  },
  {
   "cell_type": "code",
   "execution_count": 76,
   "metadata": {
    "collapsed": true
   },
   "outputs": [],
   "source": [
    "def write_to_submission_file(predicted_labels, out_file,\n",
    "                             target='user_id', index_label=\"session_id\"):\n",
    "    # turn predictions into data frame and save as csv file\n",
    "    predicted_df = pd.DataFrame(predicted_labels,\n",
    "                                index = np.arange(1, predicted_labels.shape[0] + 1),\n",
    "                                columns=[target])\n",
    "    predicted_df.to_csv(out_file, index_label=index_label)"
   ]
  },
  {
   "cell_type": "markdown",
   "metadata": {},
   "source": [
    "Прогноз, считанный из файла:"
   ]
  },
  {
   "cell_type": "code",
   "execution_count": 77,
   "metadata": {
    "collapsed": false
   },
   "outputs": [],
   "source": [
    "vw_pred = ''' ВАШ КОД ЗДЕСЬ '''"
   ]
  },
  {
   "cell_type": "markdown",
   "metadata": {},
   "source": [
    "Прогноз для отправки на Kaggle:"
   ]
  },
  {
   "cell_type": "code",
   "execution_count": 78,
   "metadata": {
    "collapsed": false
   },
   "outputs": [],
   "source": [
    "vw_subm = class_encoder.inverse_transform ''' ВАШ КОД ЗДЕСЬ '''"
   ]
  },
  {
   "cell_type": "code",
   "execution_count": 79,
   "metadata": {
    "collapsed": true
   },
   "outputs": [],
   "source": [
    "write_to_submission_file(vw_subm,\n",
    "                         'kaggle_data/first_vw_submission.csv')"
   ]
  },
  {
   "cell_type": "markdown",
   "metadata": {},
   "source": [
    "**Полученный результат соответствует бейзлайну \"Vowpal Wabbit\" на публичном лидерборде в нашем соревновании Kaggle.**"
   ]
  }
 ],
 "metadata": {
  "anaconda-cloud": {},
  "kernelspec": {
   "display_name": "Python 3",
   "language": "python",
   "name": "python3"
  },
  "language_info": {
   "codemirror_mode": {
    "name": "ipython",
    "version": 3
   },
   "file_extension": ".py",
   "mimetype": "text/x-python",
   "name": "python",
   "nbconvert_exporter": "python",
   "pygments_lexer": "ipython3",
   "version": "3.5.2"
  }
 },
 "nbformat": 4,
 "nbformat_minor": 0
}
