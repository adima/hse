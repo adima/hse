{
 "cells": [
  {
   "cell_type": "markdown",
   "metadata": {},
   "source": [
    "<center>\n",
    "<img src=\"../../img/ml_theme.png\">\n",
    "# Дополнительное профессиональное <br> образование НИУ ВШЭ\n",
    "#### Программа \"Практический анализ данных и машинное обучение\"\n",
    "<img src=\"../../img/faculty_logo.jpg\" height=\"240\" width=\"240\">\n",
    "## Автор материала: старший преподаватель Факультета Компьютерных Наук НИУ ВШЭ <br> Кашницкий Юрий\n",
    "</center>\n",
    "Материал распространяется на условиях лицензии <a href=\"https://opensource.org/licenses/MS-RL\">Ms-RL</a>. Можно использовать в любых целях, кроме коммерческих, но с обязательным упоминанием автора материала."
   ]
  },
  {
   "cell_type": "code",
   "execution_count": 3,
   "metadata": {
    "collapsed": true
   },
   "outputs": [],
   "source": [
    "import numpy as np\n",
    "import pickle\n",
    "from sklearn.linear_model import SGDClassifier\n",
    "from sklearn.model_selection import train_test_split, cross_val_predict, StratifiedKFold\n",
    "from sklearn.ensemble import RandomForestClassifier\n",
    "from sklearn.metrics import accuracy_score, log_loss"
   ]
  },
  {
   "cell_type": "markdown",
   "metadata": {},
   "source": [
    "**Считаем данные по посещению 10 пользователями 4913 сайтов. Формат – разреженный, данные считываем  с помощью pickle (сериализация в Python).**"
   ]
  },
  {
   "cell_type": "code",
   "execution_count": 4,
   "metadata": {
    "collapsed": false
   },
   "outputs": [],
   "source": [
    "with open('../../data/web_sessions_10users.pkl', 'rb') as X_sparse_pickle:\n",
    "    data = pickle.load(X_sparse_pickle)\n",
    "with open('../../data/web_sessions_10users_ids.pkl', 'rb') as y_pickle:\n",
    "    target = pickle.load(y_pickle)"
   ]
  },
  {
   "cell_type": "code",
   "execution_count": 5,
   "metadata": {
    "collapsed": false
   },
   "outputs": [
    {
     "data": {
      "text/plain": [
       "((14061, 4913), (14061,))"
      ]
     },
     "execution_count": 5,
     "metadata": {},
     "output_type": "execute_result"
    }
   ],
   "source": [
    "data.shape, target.shape"
   ]
  },
  {
   "cell_type": "markdown",
   "metadata": {},
   "source": [
    "**Посмотрим на 1 строку. 1 – число посещений сайта с индесом 1 в сессии из 10 сайтов, 2  – число посещений сайта с индесом 2 в сессии из 10 сайтов, далее опять 1 – число посещений сайта с индесом 3 и т.д. Большинство сайтов не посещены, поэтому разреженный формат тут уместен.**"
   ]
  },
  {
   "cell_type": "code",
   "execution_count": 6,
   "metadata": {
    "collapsed": false
   },
   "outputs": [
    {
     "data": {
      "text/plain": [
       "matrix([[1, 2, 1, ..., 0, 0, 0]])"
      ]
     },
     "execution_count": 6,
     "metadata": {},
     "output_type": "execute_result"
    }
   ],
   "source": [
    "data[0,:].todense()"
   ]
  },
  {
   "cell_type": "markdown",
   "metadata": {},
   "source": [
    "**Делим на обучающую и проверочную части.**"
   ]
  },
  {
   "cell_type": "code",
   "execution_count": 7,
   "metadata": {
    "collapsed": false
   },
   "outputs": [],
   "source": [
    "X_train, X_valid, y_train, y_valid = train_test_split(data, target, test_size=0.3, \n",
    "                                                     random_state=7, stratify=target)"
   ]
  },
  {
   "cell_type": "markdown",
   "metadata": {},
   "source": [
    "**Обучите логистическую регрессию стохастическим градиентным спуском. У SGDClassifier укажите только параметры loss, n_jobs  и random_state=7.**"
   ]
  },
  {
   "cell_type": "code",
   "execution_count": null,
   "metadata": {
    "collapsed": true
   },
   "outputs": [],
   "source": [
    "sgd = ''' ВАШ КОД ЗДЕСЬ '''"
   ]
  },
  {
   "cell_type": "code",
   "execution_count": null,
   "metadata": {
    "collapsed": false
   },
   "outputs": [],
   "source": [
    "sgd.fit ''' ВАШ КОД ЗДЕСЬ '''"
   ]
  },
  {
   "cell_type": "markdown",
   "metadata": {},
   "source": [
    "**Сделайте вероятностный прогноз (predict_proba) для проверочной выборки X_valid. Посмотрите, как он будет выглядеть (первые несколько штук).**"
   ]
  },
  {
   "cell_type": "code",
   "execution_count": null,
   "metadata": {
    "collapsed": true
   },
   "outputs": [],
   "source": [
    "sgd_valid_pred_prob = sgd.predict_proba(X_valid)"
   ]
  },
  {
   "cell_type": "markdown",
   "metadata": {},
   "source": [
    "**Посчитайте многоклассовую логистическую функцию ошибки на проверочной выборке (X_valid, y_valid)**"
   ]
  },
  {
   "cell_type": "code",
   "execution_count": null,
   "metadata": {
    "collapsed": false
   },
   "outputs": [],
   "source": [
    "''' ВАШ КОД ЗДЕСЬ '''"
   ]
  },
  {
   "cell_type": "markdown",
   "metadata": {},
   "source": [
    "**Посчитайте долю правильных ответов SGD на проверочной выборке (X_valid, y_valid), получив прогнозы из предсказанных вероятностей. Помогут методы numpy unique (посмотреть уникальные метки целевого класса) и argmax (определить, вероятность отнесения к какому из классов макисмальна). Разберитесь сначала с одной строкой, потом – со всей матрицей sgd_valid_pred_prob.**"
   ]
  },
  {
   "cell_type": "code",
   "execution_count": null,
   "metadata": {
    "collapsed": true
   },
   "outputs": [],
   "source": [
    "''' ВАШ КОД ЗДЕСЬ '''"
   ]
  },
  {
   "cell_type": "markdown",
   "metadata": {},
   "source": [
    "**Сделайте все то же для случайного леса. Оставьте только параметры n_jobs=-1, random_state=7. Остальные не будем настраивать.**"
   ]
  },
  {
   "cell_type": "code",
   "execution_count": null,
   "metadata": {
    "collapsed": true
   },
   "outputs": [],
   "source": [
    "forest = ''' ВАШ КОД ЗДЕСЬ '''\n",
    "forest.fit ''' ВАШ КОД ЗДЕСЬ '''\n",
    "forest_valid_pred_prob  = ''' ВАШ КОД ЗДЕСЬ '''\n",
    "log_loss ''' ВАШ КОД ЗДЕСЬ '''\n",
    "accuracy_score ''' ВАШ КОД ЗДЕСЬ '''"
   ]
  },
  {
   "cell_type": "markdown",
   "metadata": {
    "collapsed": true
   },
   "source": [
    "**Посчитайте log_loss и долю правильных ответов для следующего прогноза: 0.8 \\* sgd_valid_pred_prob + 0.2 \\* forest_valid_pred_prob. Для каждого примера такая предсказанная вероятность будет линейной комбинацией предсказанных вероятностей отнесения к тому или иному классу, сделанных SGD и лесом.**"
   ]
  },
  {
   "cell_type": "code",
   "execution_count": null,
   "metadata": {
    "collapsed": false
   },
   "outputs": [],
   "source": [
    "log_loss ''' ВАШ КОД ЗДЕСЬ '''\n",
    "accuracy_score ''' ВАШ КОД ЗДЕСЬ '''"
   ]
  },
  {
   "cell_type": "markdown",
   "metadata": {},
   "source": [
    "### Настройка коэффициентов в смеси"
   ]
  },
  {
   "cell_type": "markdown",
   "metadata": {},
   "source": [
    "**Реализуйте функцию cross_val_predict_proba, которая работает как cross_val_predict, только возвращает предсказанные вероятности, а не метки. Функция принимает следующие аргументы:**\n",
    "\n",
    "- estimator – объект Estimator Scikit-learn (классификатор или регрессор)\n",
    "- X_train - матрица NumPy, соответсnвующая обучающей выборке\n",
    "- y_train - вектор NumPy с ответами для объектов из X_train\n",
    "- skf – объект KFold (или StratifiedKFold), задающий кросс-валидацию"
   ]
  },
  {
   "cell_type": "code",
   "execution_count": null,
   "metadata": {
    "collapsed": true
   },
   "outputs": [],
   "source": [
    "def cross_val_predict_proba(estimator, X_train, y_train, skf):\n",
    "    \n",
    "    prediction = np.zeros([y_train.shape[0], len(np.unique(y_train))])\n",
    "    for train_idx, test_idx in skf.split ''' ВАШ КОД ЗДЕСЬ '''\n",
    "        X_train_part, X_test = ''' ВАШ КОД ЗДЕСЬ '''\n",
    "        y_train_part, y_test = ''' ВАШ КОД ЗДЕСЬ '''\n",
    "        \n",
    "        estimator.fit ''' ВАШ КОД ЗДЕСЬ '''\n",
    "        \n",
    "        prediction[test_idx, :] = estimator.predict_proba(X_test)\n",
    "        \n",
    "    return prediction"
   ]
  },
  {
   "cell_type": "markdown",
   "metadata": {},
   "source": [
    "**Зададим конкретный вид кросс-валидации – 5-кратную, с перемешиванием объектов.**"
   ]
  },
  {
   "cell_type": "code",
   "execution_count": null,
   "metadata": {
    "collapsed": true
   },
   "outputs": [],
   "source": [
    "skf = StratifiedKFold(n_splits=5, random_state=7, shuffle=True)"
   ]
  },
  {
   "cell_type": "markdown",
   "metadata": {},
   "source": [
    "**Сделайте \"Оut-of-Fold\" прогноз для SGD, посмотрите на качество (log_loss и долю правильных ответов) на кросс-валидации.**"
   ]
  },
  {
   "cell_type": "code",
   "execution_count": null,
   "metadata": {
    "collapsed": false
   },
   "outputs": [],
   "source": [
    "sgd_oof_pred = cross_val_predict_proba ''' ВАШ КОД ЗДЕСЬ '''"
   ]
  },
  {
   "cell_type": "code",
   "execution_count": null,
   "metadata": {
    "collapsed": false
   },
   "outputs": [],
   "source": [
    "print(log_loss ''' ВАШ КОД ЗДЕСЬ '''\n",
    "print(accuracy_score ''' ВАШ КОД ЗДЕСЬ '''"
   ]
  },
  {
   "cell_type": "markdown",
   "metadata": {},
   "source": [
    "**Сделайте \"Оut-of-Fold\" прогноз для леса, посмотрите на качество (log_loss и долю правильных ответов) на кросс-валидации.**"
   ]
  },
  {
   "cell_type": "code",
   "execution_count": null,
   "metadata": {
    "collapsed": true
   },
   "outputs": [],
   "source": [
    "forest_oof_pred =  cross_val_predict_proba''' ВАШ КОД ЗДЕСЬ '''"
   ]
  },
  {
   "cell_type": "code",
   "execution_count": null,
   "metadata": {
    "collapsed": false
   },
   "outputs": [],
   "source": [
    "print(log_loss ''' ВАШ КОД ЗДЕСЬ '''\n",
    "print(accuracy_score ''' ВАШ КОД ЗДЕСЬ '''"
   ]
  },
  {
   "cell_type": "markdown",
   "metadata": {},
   "source": [
    "**Подберем веса в смеси SGD и леса. Будем перебирать значения веса, с которым в смесь входят прогнозы SGD, – $w_1$. Тогда у прогнозов, сделанных лесом, вес будет $w_2 = 1 - w_1$. **"
   ]
  },
  {
   "cell_type": "code",
   "execution_count": null,
   "metadata": {
    "collapsed": true
   },
   "outputs": [],
   "source": [
    "def best_linear_mix(target, pred1, pred2):\n",
    "    best_loss, best_w1 = np.inf, np.inf\n",
    "    best_pred = pred1\n",
    "    for w1 in np.linspace(0, 1, 20):\n",
    "        curr_pred = w1 * pred1 + (1 - w1) * pred2\n",
    "        curr_loss = log_loss(target, curr_pred)\n",
    "        if curr_loss < best_loss:\n",
    "            best_loss = curr_loss\n",
    "            best_pred = curr_pred\n",
    "            best_w1 = w1\n",
    "    return best_loss, best_pred, best_w1"
   ]
  },
  {
   "cell_type": "code",
   "execution_count": null,
   "metadata": {
    "collapsed": false
   },
   "outputs": [],
   "source": [
    "best_loss, best_pred, best_w1 = best_linear_mix(y_train, sgd_oof_pred, forest_oof_pred)"
   ]
  },
  {
   "cell_type": "code",
   "execution_count": null,
   "metadata": {
    "collapsed": false
   },
   "outputs": [],
   "source": [
    "best_loss, best_w1"
   ]
  },
  {
   "cell_type": "code",
   "execution_count": null,
   "metadata": {
    "collapsed": false
   },
   "outputs": [],
   "source": [
    "mix_valid_pred_probs = best_w1 * sgd_valid_pred_prob + (1 - best_w1) * forest_valid_pred_prob"
   ]
  },
  {
   "cell_type": "code",
   "execution_count": null,
   "metadata": {
    "collapsed": false
   },
   "outputs": [],
   "source": [
    "log_loss ''' ВАШ КОД ЗДЕСЬ '''\n",
    "accuracy_score ''' ВАШ КОД ЗДЕСЬ '''"
   ]
  },
  {
   "cell_type": "markdown",
   "metadata": {},
   "source": [
    "**Подведите итог: каковы метрики качества SGD и леса по отдельности на кросс-валидации по (X_train, y_train) и на проверочной выборке (X_valid, y_valid)? Каковы те же метрики для смеси предсказанных вероятностей SGD и леса?**"
   ]
  },
  {
   "cell_type": "markdown",
   "metadata": {},
   "source": [
    "<style type=\"text/css\">\n",
    ".tg  {border-collapse:collapse;border-spacing:0;}\n",
    ".tg td{font-family:Arial, sans-serif;font-size:14px;padding:10px 5px;border-style:solid;border-width:1px;overflow:hidden;word-break:normal;}\n",
    ".tg th{font-family:Arial, sans-serif;font-size:14px;font-weight:normal;padding:10px 5px;border-style:solid;border-width:1px;overflow:hidden;word-break:normal;}\n",
    ".tg .tg-e3zv{font-weight:bold}\n",
    ".tg .tg-9hbo{font-weight:bold;vertical-align:top}\n",
    "</style>\n",
    "<table class=\"tg\">\n",
    "  <tr>\n",
    "    <th class=\"tg-e3zv\"></th>\n",
    "    <th class=\"tg-e3zv\">SGD</th>\n",
    "    <th class=\"tg-e3zv\">RF</th>\n",
    "    <th class=\"tg-e3zv\">w1\\*SGD + w2\\*RF</th>\n",
    "  </tr>\n",
    "  <tr>\n",
    "    <td class=\"tg-e3zv\">CV log_loss</td>\n",
    "    <td class=\"tg-e3zv\"></td>\n",
    "    <td class=\"tg-e3zv\"></td>\n",
    "    <td class=\"tg-e3zv\"></td>\n",
    "  </tr>\n",
    "  <tr>\n",
    "    <td class=\"tg-e3zv\">Holdout log_loss</td>\n",
    "    <td class=\"tg-e3zv\"></td>\n",
    "    <td class=\"tg-e3zv\"></td>\n",
    "    <td class=\"tg-e3zv\"></td>\n",
    "  </tr>\n",
    "  <tr>\n",
    "    <td class=\"tg-e3zv\">CV accuracy</td>\n",
    "    <td class=\"tg-e3zv\"></td>\n",
    "    <td class=\"tg-e3zv\"></td>\n",
    "    <td class=\"tg-e3zv\"></td>\n",
    "  </tr>\n",
    "  <tr>\n",
    "    <td class=\"tg-9hbo\">Holdout accuracy</td>\n",
    "    <td class=\"tg-9hbo\"></td>\n",
    "    <td class=\"tg-9hbo\"></td>\n",
    "    <td class=\"tg-9hbo\"></td>\n",
    "  </tr>\n",
    "</table>"
   ]
  }
 ],
 "metadata": {
  "kernelspec": {
   "display_name": "Python 3",
   "language": "python",
   "name": "python3"
  },
  "language_info": {
   "codemirror_mode": {
    "name": "ipython",
    "version": 3
   },
   "file_extension": ".py",
   "mimetype": "text/x-python",
   "name": "python",
   "nbconvert_exporter": "python",
   "pygments_lexer": "ipython3",
   "version": "3.5.2"
  }
 },
 "nbformat": 4,
 "nbformat_minor": 1
}
