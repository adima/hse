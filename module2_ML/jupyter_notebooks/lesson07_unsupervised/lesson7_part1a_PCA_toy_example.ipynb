{
 "cells": [
  {
   "cell_type": "markdown",
   "metadata": {},
   "source": [
    "<center>\n",
    "<img src=\"../../img/beeline_data_school_logo.png\">\n",
    "# \"Прикладной анализ данных\"\n",
    "#### Интенсивный курс по изучению машинного обучения и анализа данных\n",
    "<img src=\"../../img/beeline_logo.jpg\" height=\"240\" width=\"240\">\n",
    "## Автор материала: преподаватель Факультета Компьютерных Наук НИУ ВШЭ Кашницкий Юрий\n",
    "</center>\n",
    "Материал распространяется на условиях лицензии <a href=\"https://opensource.org/licenses/MS-RL\">Ms-RL</a>. Можно использовать в любых целях, кроме коммерческих, но с обязательным упоминанием автора материала."
   ]
  },
  {
   "cell_type": "markdown",
   "metadata": {},
   "source": [
    "# Занятие 8. Задача восстановления регрессии. Обучение без учителя"
   ]
  },
  {
   "cell_type": "markdown",
   "metadata": {},
   "source": [
    "## Часть 3a. Метод главных компонент. Игрушечный пример"
   ]
  },
  {
   "cell_type": "code",
   "execution_count": 1,
   "metadata": {
    "collapsed": false
   },
   "outputs": [
    {
     "name": "stdout",
     "output_type": "stream",
     "text": [
      "Populating the interactive namespace from numpy and matplotlib\n"
     ]
    }
   ],
   "source": [
    "import numpy as np\n",
    "%pylab inline"
   ]
  },
  {
   "cell_type": "markdown",
   "metadata": {},
   "source": [
    "**Пусть дана выборка X.**"
   ]
  },
  {
   "cell_type": "code",
   "execution_count": 2,
   "metadata": {
    "collapsed": false
   },
   "outputs": [],
   "source": [
    "X = np.array([[1, 3],\n",
    "              [3, 5],\n",
    "              [5, 1],\n",
    "              [7, 4],\n",
    "              [4, 7]])"
   ]
  },
  {
   "cell_type": "code",
   "execution_count": 3,
   "metadata": {
    "collapsed": false
   },
   "outputs": [
    {
     "data": {
      "text/plain": [
       "<matplotlib.collections.PathCollection at 0x10b690210>"
      ]
     },
     "execution_count": 3,
     "metadata": {},
     "output_type": "execute_result"
    },
    {
     "data": {
      "image/png": "[encoded data removed]",
      "text/plain": [
       "<matplotlib.figure.Figure at 0x104a777d0>"
      ]
     },
     "metadata": {},
     "output_type": "display_data"
    }
   ],
   "source": [
    "scatter(X[:,0], X[:, 1])"
   ]
  },
  {
   "cell_type": "markdown",
   "metadata": {},
   "source": [
    "**Как выбрать направление, в проекции на которое дисперсия координат точек максимальна? Синия прямая или зеленая? А может, красная?**"
   ]
  },
  {
   "cell_type": "code",
   "execution_count": 4,
   "metadata": {
    "collapsed": false
   },
   "outputs": [
    {
     "data": {
      "text/plain": [
       "[<matplotlib.lines.Line2D at 0x10e79de10>]"
      ]
     },
     "execution_count": 4,
     "metadata": {},
     "output_type": "execute_result"
    },
    {
     "data": {
      "image/png": "[encoded data removed]",
      "text/plain": [
       "<matplotlib.figure.Figure at 0x10b3baa90>"
      ]
     },
     "metadata": {},
     "output_type": "display_data"
    }
   ],
   "source": [
    "scatter(X[:,0], X[:, 1])\n",
    "plot(np.linspace(1,8,10), np.linspace(1,8,10))\n",
    "plot(np.linspace(1,8,10), np.linspace(2,4,10))\n",
    "plot(np.linspace(1,8,10), np.linspace(5,2,10))"
   ]
  },
  {
   "cell_type": "markdown",
   "metadata": {},
   "source": [
    "**Стандартизуем матрицу X. Вычитаем средние по столбцам (4 и 4) и делим но стандартные отклонения по столбцам (2 и 2). Кстати, пришлось писать код, чтоб подобрать координаты так, чтоб все средние и отклонения были целыми :)**"
   ]
  },
  {
   "cell_type": "code",
   "execution_count": 5,
   "metadata": {
    "collapsed": true
   },
   "outputs": [],
   "source": [
    "from sklearn.preprocessing import StandardScaler"
   ]
  },
  {
   "cell_type": "code",
   "execution_count": null,
   "metadata": {
    "collapsed": false
   },
   "outputs": [],
   "source": [
    "X_scaled = StandardScaler().fit_transform(X)"
   ]
  },
  {
   "cell_type": "code",
   "execution_count": 7,
   "metadata": {
    "collapsed": false
   },
   "outputs": [
    {
     "data": {
      "text/plain": [
       "array([[-1.5, -0.5],\n",
       "       [-0.5,  0.5],\n",
       "       [ 0.5, -1.5],\n",
       "       [ 1.5,  0. ],\n",
       "       [ 0. ,  1.5]])"
      ]
     },
     "execution_count": 7,
     "metadata": {},
     "output_type": "execute_result"
    }
   ],
   "source": [
    "X_scaled"
   ]
  },
  {
   "cell_type": "code",
   "execution_count": 9,
   "metadata": {
    "collapsed": false
   },
   "outputs": [
    {
     "data": {
      "text/plain": [
       "(-2, 2)"
      ]
     },
     "execution_count": 9,
     "metadata": {},
     "output_type": "execute_result"
    },
    {
     "data": {
      "image/png": "[encoded data removed]",
      "text/plain": [
       "<matplotlib.figure.Figure at 0x10ffaea50>"
      ]
     },
     "metadata": {},
     "output_type": "display_data"
    }
   ],
   "source": [
    "scatter(X_scaled[:, 0], X_scaled[:, 1])\n",
    "plot([-2,2],[0,0], c='black')\n",
    "plot([0,0],[-2,2], c='black')\n",
    "xlim(-2,2)\n",
    "ylim(-2,2)"
   ]
  },
  {
   "cell_type": "markdown",
   "metadata": {},
   "source": [
    "**Назовем новые координаты (стоблцы матрицы X_scaled) $x_1$ и $x_2$. Задача: найти такую линейную комбинацию $z = \\alpha x_1 + \\beta x_2$, что дисперсия $z$ максимальна. При этом должно выполняться $\\alpha^2 + \\beta^2 = 1.$**\n",
    "**Заметим что $$\\Large D[z] = E[(z - E[z])^2]  = E[z^2] = \\frac{1}{n} \\sum_i^n z_i^2,$$ поскольку $E[z] = \\alpha E[x_1] + \\beta E[x_2] = 0$ (новые координаты центрированы).**\n",
    "\n",
    "**Тогда задача формализуется так:**\n",
    "$$\\Large \\begin{cases} \\max_{\\alpha, \\beta} \\sum_i^n (\\alpha x_{1_i} + \\beta x_{2_i})^2 \\\\  \\alpha^2 + \\beta^2 = 1\\end{cases}$$"
   ]
  },
  {
   "cell_type": "markdown",
   "metadata": {},
   "source": [
    "У нас $2z = [-3\\alpha -\\beta,\\ -\\alpha +\\beta,\\ \\alpha -3\\beta,\\ 3\\alpha,\\ 3\\beta]^T$ (Для задачи максимизации неважно, что мы умножили на 2, зато так удобней).\n",
    "           "
   ]
  },
  {
   "cell_type": "markdown",
   "metadata": {},
   "source": [
    "Распишем в нашем случае: $  \\sum_i^n (\\alpha x_{1_i} + \\beta x_{2_i})^2 = (-3\\alpha -\\beta)^2 + ( -\\alpha +\\beta)^2 +( \\alpha -3\\beta)^2 +( 3\\alpha)^2 +( 3\\beta)^2 = 20\\alpha^2 - 2\\alpha\\beta + 20\\beta^2$ =  <font color='green'>\\\\ поскольку $\\alpha^2 + \\beta^2 = 1$ \\\\ </font>  = $20 - 2\\alpha\\beta$. Осталось только минимизировать $\\alpha\\beta$. Можно это делать методом Лагранжа, но в данному случае можно проще\n",
    "\n",
    "$$\\Large \\begin{cases} \\min_{\\alpha, \\beta} \\alpha\\beta \\\\  \\alpha^2 + \\beta^2 = 1\\end{cases}$$\n",
    "\n",
    "$\\Large \\alpha\\beta = \\beta^2(\\frac{\\alpha}{\\beta})$ = <font color='green'>\\\\ замена t = $\\frac{\\alpha}{\\beta}, \\alpha^2 + \\beta^2 = 1$ \\\\  </font> = $\\Large \\frac{t}{1+t^2}$. Ищем минимум функции одной переменной, находим, что $t^* = -1$.\n",
    "\n",
    "Значит, $$\\Large \\begin{cases} \\alpha^* = -\\beta^*\\\\  (\\alpha^*)^2 + (\\beta^*)^2 = 1\\end{cases} \\Rightarrow \\alpha^* = \n",
    "\\frac{1}{\\sqrt{2}}, \\beta^* = - \\frac{1}{\\sqrt{2}}$$"
   ]
  },
  {
   "cell_type": "markdown",
   "metadata": {},
   "source": [
    "Итак, $$\\Large z = \\frac{1}{\\sqrt{2}} x_1 - \\frac{1}{\\sqrt{2}}x_2$$ То есть ось $z$ повернута на 45 градусов относительно $x_1$ и $x_2$ и \"направлена на юго-восток\"."
   ]
  },
  {
   "cell_type": "code",
   "execution_count": 10,
   "metadata": {
    "collapsed": false
   },
   "outputs": [
    {
     "data": {
      "text/plain": [
       "[<matplotlib.lines.Line2D at 0x1104814d0>]"
      ]
     },
     "execution_count": 10,
     "metadata": {},
     "output_type": "execute_result"
    },
    {
     "data": {
      "image/png": "[encoded data removed]",
      "text/plain": [
       "<matplotlib.figure.Figure at 0x10ffaef50>"
      ]
     },
     "metadata": {},
     "output_type": "display_data"
    }
   ],
   "source": [
    "scatter(X_scaled[:, 0], X_scaled[:, 1])\n",
    "plot([-2,2],[0,0], c='black')\n",
    "plot([0,0],[-2,2], c='black')\n",
    "plot([-2,2],[2,-2], c='red')"
   ]
  },
  {
   "cell_type": "markdown",
   "metadata": {},
   "source": [
    "**Новые координаты точек по оси z:**"
   ]
  },
  {
   "cell_type": "code",
   "execution_count": 11,
   "metadata": {
    "collapsed": false
   },
   "outputs": [
    {
     "data": {
      "text/plain": [
       "array([-0.70710678, -0.70710678,  1.41421356,  1.06066017, -1.06066017])"
      ]
     },
     "execution_count": 11,
     "metadata": {},
     "output_type": "execute_result"
    }
   ],
   "source": [
    "X_scaled.dot(np.array([1./np.sqrt(2), -1./np.sqrt(2)]))"
   ]
  },
  {
   "cell_type": "markdown",
   "metadata": {},
   "source": [
    "## Сингулярное разложение матрицы X"
   ]
  },
  {
   "cell_type": "markdown",
   "metadata": {},
   "source": [
    "Представление будет таким: $X = U\\Sigma V^T$. \n",
    "\n",
    "- Матрица $U$ составлена из собственных векторов матрицы $XX^T$. Это левые сингулярные векторы матрицы $X$;\n",
    "- Матрица $V$ составлена из собственных векторов матрицы $X^TX$. Это правые сингулярные векторы матрицы $X$;\n",
    "- Матрица $\\Sigma$ - диагональная (вне главной диагонали нули), и на диагонали стоят корни  из собственных значений матрицы $X^TX$ (или $XX^T$). Это сингулярные числа матрицы $X$."
   ]
  },
  {
   "cell_type": "markdown",
   "metadata": {},
   "source": [
    "$XX^T$ выглядит так:"
   ]
  },
  {
   "cell_type": "code",
   "execution_count": 12,
   "metadata": {
    "collapsed": false
   },
   "outputs": [
    {
     "data": {
      "text/plain": [
       "array([[ 2.5 ,  0.5 ,  0.  , -2.25, -0.75],\n",
       "       [ 0.5 ,  0.5 , -1.  , -0.75,  0.75],\n",
       "       [ 0.  , -1.  ,  2.5 ,  0.75, -2.25],\n",
       "       [-2.25, -0.75,  0.75,  2.25,  0.  ],\n",
       "       [-0.75,  0.75, -2.25,  0.  ,  2.25]])"
      ]
     },
     "execution_count": 12,
     "metadata": {},
     "output_type": "execute_result"
    }
   ],
   "source": [
    "X_scaled.dot(X_scaled.T)"
   ]
  },
  {
   "cell_type": "markdown",
   "metadata": {},
   "source": [
    "$X^TX$ выглядит так:"
   ]
  },
  {
   "cell_type": "code",
   "execution_count": 13,
   "metadata": {
    "collapsed": false
   },
   "outputs": [
    {
     "data": {
      "text/plain": [
       "array([[ 5.  , -0.25],\n",
       "       [-0.25,  5.  ]])"
      ]
     },
     "execution_count": 13,
     "metadata": {},
     "output_type": "execute_result"
    }
   ],
   "source": [
    "X_scaled.T.dot(X_scaled)"
   ]
  },
  {
   "cell_type": "markdown",
   "metadata": {},
   "source": [
    "Собственные вектора $XX^T$ (левые сингулярные):"
   ]
  },
  {
   "cell_type": "code",
   "execution_count": 14,
   "metadata": {
    "collapsed": false
   },
   "outputs": [
    {
     "data": {
      "text/plain": [
       "array([[ -6.95492109e-01,   6.48885685e-01,  -3.08606700e-01,\n",
       "         -4.93588385e-01,  -2.10161344e-01],\n",
       "       [  1.36936270e-01,   2.22272696e-16,  -3.08606700e-01,\n",
       "          5.52002072e-01,  -7.51396981e-01],\n",
       "       [  2.88286884e-02,   3.24442842e-01,   6.17213400e-01,\n",
       "          4.69072384e-01,   1.49094025e-01],\n",
       "       [ -6.59456248e-01,  -4.86664263e-01,   4.62910050e-01,\n",
       "         -4.65945155e-01,  -5.10325012e-01],\n",
       "       [ -2.48647438e-01,  -4.86664263e-01,  -4.62910050e-01,\n",
       "          1.20542232e-01,   3.29505903e-01]])"
      ]
     },
     "execution_count": 14,
     "metadata": {},
     "output_type": "execute_result"
    }
   ],
   "source": [
    "np.linalg.eig(X_scaled.dot(X_scaled.T))[1]"
   ]
  },
  {
   "cell_type": "markdown",
   "metadata": {},
   "source": [
    "Собственные вектора $X^TX$ (правые сингулярные). Эти вектора задают представление главных компонент через исходные координаты (то есть они задают поворот)."
   ]
  },
  {
   "cell_type": "code",
   "execution_count": 15,
   "metadata": {
    "collapsed": false
   },
   "outputs": [
    {
     "data": {
      "text/plain": [
       "array([[ 0.70710678,  0.70710678],\n",
       "       [-0.70710678,  0.70710678]])"
      ]
     },
     "execution_count": 15,
     "metadata": {},
     "output_type": "execute_result"
    }
   ],
   "source": [
    "np.linalg.eig(X_scaled.T.dot(X_scaled))[1]"
   ]
  },
  {
   "cell_type": "markdown",
   "metadata": {},
   "source": [
    "Видно, что главные компоненты: $$\\Large z_1 = \\frac{1}{\\sqrt{2}} x_1 - \\frac{1}{\\sqrt{2}}x_2,\\ z_2 = \\frac{1}{\\sqrt{2}} x_1 + \\frac{1}{\\sqrt{2}}x_2$$"
   ]
  },
  {
   "cell_type": "markdown",
   "metadata": {},
   "source": [
    "Собственные значения $X^TX$ (сингулярные числа):"
   ]
  },
  {
   "cell_type": "code",
   "execution_count": 16,
   "metadata": {
    "collapsed": false
   },
   "outputs": [
    {
     "data": {
      "text/plain": [
       "array([ 5.25,  4.75])"
      ]
     },
     "execution_count": 16,
     "metadata": {},
     "output_type": "execute_result"
    }
   ],
   "source": [
    "np.linalg.eig(X_scaled.T.dot(X_scaled))[0]"
   ]
  },
  {
   "cell_type": "code",
   "execution_count": 17,
   "metadata": {
    "collapsed": false
   },
   "outputs": [
    {
     "data": {
      "text/plain": [
       "array([  0.00000000e+00,   4.75000000e+00,   5.25000000e+00,\n",
       "        -2.36631879e-16,   1.43662124e-16])"
      ]
     },
     "execution_count": 17,
     "metadata": {},
     "output_type": "execute_result"
    }
   ],
   "source": [
    "np.linalg.eig(X_scaled.dot(X_scaled.T))[0]"
   ]
  },
  {
   "cell_type": "code",
   "execution_count": 18,
   "metadata": {
    "collapsed": false
   },
   "outputs": [],
   "source": [
    "from scipy.linalg import svd\n",
    "U, Sigma, VT = svd(X_scaled)"
   ]
  },
  {
   "cell_type": "markdown",
   "metadata": {},
   "source": [
    "Действительно. На диагонали матрицы $\\Sigma$ стоят корни из собственных значений $X^TX$ ($\\sqrt{5.25} \\approx 2.29, \\sqrt{4.75} \\approx 2.18$):"
   ]
  },
  {
   "cell_type": "code",
   "execution_count": 19,
   "metadata": {
    "collapsed": false
   },
   "outputs": [
    {
     "data": {
      "text/plain": [
       "array([ 2.29128785,  2.17944947])"
      ]
     },
     "execution_count": 19,
     "metadata": {},
     "output_type": "execute_result"
    }
   ],
   "source": [
    "Sigma"
   ]
  },
  {
   "cell_type": "markdown",
   "metadata": {},
   "source": [
    "Вектора матрицы $VT$ (правые сингулярные векторы для исходной матрицы) задают поворот. То есть первая главная компонента \"смотрит на юго-восток\", вторая - на юго-запад."
   ]
  },
  {
   "cell_type": "code",
   "execution_count": 20,
   "metadata": {
    "collapsed": false
   },
   "outputs": [
    {
     "data": {
      "text/plain": [
       "array([[ 0.70710678, -0.70710678],\n",
       "       [-0.70710678, -0.70710678]])"
      ]
     },
     "execution_count": 20,
     "metadata": {},
     "output_type": "execute_result"
    }
   ],
   "source": [
    "VT"
   ]
  },
  {
   "cell_type": "markdown",
   "metadata": {},
   "source": [
    "Представление данных в проекции на 2 главные компоненты $Z = XV$:"
   ]
  },
  {
   "cell_type": "code",
   "execution_count": 21,
   "metadata": {
    "collapsed": false
   },
   "outputs": [
    {
     "data": {
      "text/plain": [
       "array([[ -7.07106781e-01,   1.41421356e+00],\n",
       "       [ -7.07106781e-01,  -2.77555756e-16],\n",
       "       [  1.41421356e+00,   7.07106781e-01],\n",
       "       [  1.06066017e+00,  -1.06066017e+00],\n",
       "       [ -1.06066017e+00,  -1.06066017e+00]])"
      ]
     },
     "execution_count": 21,
     "metadata": {},
     "output_type": "execute_result"
    }
   ],
   "source": [
    "X_scaled.dot(VT.T)"
   ]
  },
  {
   "cell_type": "code",
   "execution_count": 22,
   "metadata": {
    "collapsed": false
   },
   "outputs": [
    {
     "data": {
      "text/plain": [
       "[<matplotlib.lines.Line2D at 0x1101b7e50>]"
      ]
     },
     "execution_count": 22,
     "metadata": {},
     "output_type": "execute_result"
    },
    {
     "data": {
      "image/png": "[encoded data removed]",
      "text/plain": [
       "<matplotlib.figure.Figure at 0x110113750>"
      ]
     },
     "metadata": {},
     "output_type": "display_data"
    }
   ],
   "source": [
    "scatter(X_scaled[:, 0], X_scaled[:, 1])\n",
    "plot([-2,2],[0,0], c='black')\n",
    "plot([0,0],[-2,2], c='black')\n",
    "plot([-2,2],[2,-2], c='red')\n",
    "plot([-2,2],[-2,2], c='red')"
   ]
  },
  {
   "cell_type": "markdown",
   "metadata": {},
   "source": [
    "Здесь SVD SciPy \"направил\" ось z1 вправо и вниз, а ось z2 - влево и вниз. Можно проверить, что представление получилось правильным. "
   ]
  }
 ],
 "metadata": {
  "kernelspec": {
   "display_name": "Python 2",
   "language": "python",
   "name": "python2"
  },
  "language_info": {
   "codemirror_mode": {
    "name": "ipython",
    "version": 2
   },
   "file_extension": ".py",
   "mimetype": "text/x-python",
   "name": "python",
   "nbconvert_exporter": "python",
   "pygments_lexer": "ipython2",
   "version": "2.7.12"
  }
 },
 "nbformat": 4,
 "nbformat_minor": 0
}
