{
 "cells": [
  {
   "cell_type": "markdown",
   "metadata": {},
   "source": [
    "<center>\n",
    "<img src=\"../../img/ml_theme.png\">\n",
    "# Дополнительное профессиональное <br> образование НИУ ВШЭ\n",
    "#### Программа \"Практический анализ данных и машинное обучение\"\n",
    "<img src=\"../../img/faculty_logo.jpg\" height=\"240\" width=\"240\">\n",
    "## Автор материала: старший преподаватель Факультета Компьютерных Наук ВШЭ, программист-исследователь Mail.ru Group  Юрий Кашницкий\n",
    "</center>\n",
    "Материал распространяется на условиях лицензии <a href=\"https://opensource.org/licenses/MS-RL\">Ms-RL</a>. Можно использовать в любых целях, кроме коммерческих, но с обязательным упоминанием автора материала."
   ]
  },
  {
   "cell_type": "markdown",
   "metadata": {},
   "source": [
    "# <center>Обзор курса и используемых средств"
   ]
  },
  {
   "cell_type": "markdown",
   "metadata": {},
   "source": [
    "**Программа**\n",
    "- Модуль 1. Адаптационные математические курсы\n",
    "- <font color='green'>Модуль 2. Основы машинного обучения</font>\n",
    " -  Основы машинного обучения\n",
    " -  Обучение с учителем. Задачи классификации и регрессии\n",
    " -  Оценка качества алгоритмов машинного обучения\n",
    " -  Обучение без учителя и задача кластеризации\n",
    " -  Поиск выбросов и аномалий в данных\n",
    " -  Индивидуальный проект по анализу данных\n",
    "   -  Ваши личные либо общедоступные данные и задачи\n",
    "   -  1.5 месяца работы по четкому плану под руководством преподавателей\n",
    "   -  Презентации и обсуждение проектов\n",
    "\n",
    "- <font color='green'>Модуль 3. Продвинутые методы машинного обучения</font>\n",
    "  - Ансамбли алгоритмов классификации и регрессии. Градиентный бустинг\n",
    "  - Онлайн-обучение и Vowpal Wabbit\n",
    "  - Смешивание моделей классификации и регрессии. Стекинг моделей классификации и регрессии\n",
    "  - Соревнования по анализу данных, обзор решений\n",
    "- Модуль 4. Поиск зависимостей в данных\n",
    "- Модуль 5. Анализ социальных сетей\n",
    "- Модуль 6. Автоматическая обработка текстов\n",
    "- Модуль 7. Масштабируемое машинное обучение и анализ больших данных с Apache Spark\n",
    "- Модуль 8. Нейронные сети и глубинное обучение"
   ]
  },
  {
   "cell_type": "markdown",
   "metadata": {},
   "source": [
    "## Используемые средства"
   ]
  },
  {
   "cell_type": "markdown",
   "metadata": {},
   "source": [
    "<img src=\"../../img/anaconda.png\" height=\"240\" width=\"240\">\n",
    "В этом курсе мы используем сборку библиотек <a href=\"http://continuum.io/downloads\">Anaconda</a>, включающую интерпретатор Python, библиотеки для научных вычислений NumPy и SciPy, анализа данных Pandas, машинного обучения Scikit-learn и около 200 других. \n",
    "Следуем инструкциям, проверяем установку. Список установленных пакетов:\n",
    "<p><i><b>>> conda list</b></i></p>\n",
    "\n",
    "Установим jupyter, если его еще нет.\n",
    "<p><i><b>>> conda install jupyter</b></i></p>\n",
    "\n",
    "Также нам понадобится Seaborn для удобной визуализации данных. \n",
    "<p><i><b>>> conda install seaborn</b></i></p>\n",
    "\n",
    "Проверим интерпретатор Python\n",
    "<p><i><b>>> python</b></i></p>\n"
   ]
  },
  {
   "cell_type": "markdown",
   "metadata": {},
   "source": [
    "### Среда разработки PyCharm\n",
    "<a href=\"https://www.jetbrains.com/pycharm/\">PyCharm</a> компании JetBrains – одна из самых популярных сред разработки (IDE) на языке Python. Из плюсов, перечисленных в одном из <a href=\"http://habrahabr.ru/post/122018/\">обзоров</a> и важных для нас в этом курсе:\n",
    " - интуитивно понятная интеграция с Git\n",
    " - удобное автоматическое дополнение текста\n",
    " - множество \"горячих клавиш\" для перехода к определения сущности, списка упоминаний конструкции, подсказок по сигнатуре функций и прочих мелочей\n",
    " - встроенная проверка кода на соответствие стандарту PEP\n",
    " \n",
    " <img src=\"../../img/pycharm_screen.png\" height=\"1000\" width=\"769\">\n",
    " \n",
    " <a href=\"http://pythonworld.ru/osnovy/pycharm-python-tutorial.html\">Введение в PyCharm</a>"
   ]
  },
  {
   "cell_type": "markdown",
   "metadata": {},
   "source": [
    "### Тетрадки Jupyter\n",
    "То, что Вы сейчас видите – это тетрадка Jupyter (Jupyter notebook, ранее – Ipython notebook), интерактивная среда для вычислений, способная совмещать код, картинки, markdown-разметку и графики.\n",
    "\n",
    "<img src=\"../../img/ipython_ex.png\" height=\"985\" width=\"916\">\n",
    "\n",
    "Пример с сайта http://ipython.org/\n",
    "\n",
    "Тетрадка Jupyter имеет расширение *.ipynb* (потому что ранее назывались IPython notebook) и запускается локально из терминала командой \n",
    "<p><i><b>>> jupyter-notebook</b></i></p>\n",
    "Предварительно надо перейти в нужное место (команда cd).\n",
    "\n",
    "Выполнять и редактировать тетрадку можно в браузере http://localhost:8888/\n",
    "\n",
    "Начиная с версии IPython 4.0, большая часть проекта перешла в Jupyter. Сейчас <a href=\"http://jupyter.org/\">Jupyter</a> – это веб-приложение для обмена документами, в которых можно выполнять код на 40 популярных в анализе данных языках, включая Python, R, Julia и Scala. \n",
    "\n",
    "Тетрадки Jupyter – отличный способ представить идею, сразу поделиться кодом, хороши для воспроизводимости исследований, включающих написание кода."
   ]
  },
  {
   "cell_type": "markdown",
   "metadata": {},
   "source": [
    "## Как начать работать с материалами этого курса"
   ]
  },
  {
   "cell_type": "markdown",
   "metadata": {},
   "source": [
    "- Скачать материалы курса с Github из репозитория [HSE_BigML_AddProfEduc](https://github.com/Yorko/HSE_BigML_AddProfEduc) (репозиторий приватный, преподаватели предоставляют доступ). Самый простой вариант – скачать как zip-архив, посложнее (для использующих Git и планирующих следить за обновлениями) – команда в терминале <br >**git clone https://github.com/Yorko/HSE_BigML_AddProfEduc.git**\n",
    "<img src='../../img/clone_github.png'>\n",
    "<br>\n",
    "- Установить [Anaconda](http://continuum.io/downloads) (рекомендуемая версия на февраль 2017 – Anaconda 4.3.0 c Python 3.6.). В компьютерном классе это уже сделано.\n",
    "- Открыть терминал (командную строку) и перейти в каталог со скачанными материалами\n",
    "**cd <путь к HSE_BigML_AddProfEduc>**\n",
    "- Выполнить команду **jupyter-notebook**. Открывается браузер по адресу localhost:8888/tree. Вы увидите файловую систему (data, img, notebooks, pdf)\n",
    "<img src='../../img/file_list.png'>\n",
    "- В *module2_ML/jupyter_notebooks* – материал курса, далее в *homeworks* – тетрадки с пропусками типа **\"Ваш код здесь\"** в некоторых местах. Выполнение домашних заданий сводится к дописывания недостающего кода. "
   ]
  },
  {
   "cell_type": "markdown",
   "metadata": {},
   "source": [
    "## Инструкция по установке Docker-контейнера с необходимым ПО\n",
    "\n",
    "В курсе используется сборка библиотек Anaconda, тетрадки Jupyter, Apache Spark, Xgboost и некоторые другие библиотеки. Все это можно не устанавливать, а использовать Docker-контейнер (требования: около 4 Гб места на диске, 4 Гб RAM). [Введение](https://habrahabr.ru/post/310460/) в Docker. Рекомендуется тем, кто использует Windows, c \\*NIX проще самостоятельно установить необходимое (см. Dockerfile). \n",
    "\n",
    "Инструкция:\n",
    "- скачать [данный](https://github.com/Yorko/HSE_BigML_AddProfEduc) репозиторий\n",
    "- на Windows скорее всего придется [включить](http://www.sysprobs.com/disable-enable-virtualization-technology-bios) в BIOS виртуализацию, если раньше не использовали виртуальные машины или Docker\n",
    "- установить [Docker](https://docs.docker.com/engine/installation/)\n",
    "- установить [Docker Compose](https://docs.docker.com/compose/install/)\n",
    "- перейти в командной строке/терминале в скачанный каталог HSE_BigML_AddProfEduc\n",
    "- убедиться, что порт 8888 не занят серверами Jupyter\n",
    "- выполнить docker-compose up. Это может занять продолжительное время\n",
    "- открыть localhost:8888\n",
    "\n",
    "Контейнеры Docker как правило занимают много места на диске.\n",
    "- docker ps – посмотреть весь список контейнеров\n",
    "- docker stop \\$(docker ps -a -q) – остановить все контейнеры\n",
    "- docker rm \\$(docker ps -a -q) – удалить все контейнеры"
   ]
  },
  {
   "cell_type": "markdown",
   "metadata": {},
   "source": [
    "## Ссылки"
   ]
  },
  {
   "cell_type": "markdown",
   "metadata": {},
   "source": [
    "- <a href=\"https://github.com/Yorko/python_intro\">Репозиторий</a> с тетрадками по языку Python, основным алгоритмам и структурам данных\n",
    "- <a href=\"https://www.coursera.org/learn/machine-learning\">Курс</a> Andrew Ng на Coursera по машинному обучению\n",
    "- <a href=\"https://www.coursera.org/learn/introduction-machine-learning\">Курс</a> К.В. Воронцова на Coursera\n",
    "- [Специализация](https://www.coursera.org/specializations/machine-learning-data-analysis) МФТИ и Яндекса по машинному обучению и анализу данных\n",
    "- Курсы на Udacity по машинному обучению <a href=\"https://www.udacity.com/course/intro-to-machine-learning--ud120\">с учителем</a>, <a href=\"https://www.udacity.com/course/machine-learning-unsupervised-learning--ud741\">без учителя</a> и <a href=\"https://www.udacity.com/course/machine-learning-reinforcement-learning--ud820\">с подкреплением</a>\n",
    "- <a href=\"https://github.com/prakhar1989/awesome-courses\">Репозиторий</a> с обзором множества полезных MOOC\n",
    "- <a href=\"https://yandexdataschool.ru/edu-process/courses/machine-learning\">Лекции</a> Школы Анализа Данных Яндекса по машинному обучению \n",
    "- <a href=\"http://habrahabr.ru/post/248069/\">Обзор</a> некоторых MOOC по компьютерным наукам и анализу данных на Хабрахабре\n",
    "- <a href=\"http://habrahabr.ru/users/akrot/topics\">Цикл статей</a> по практике анализа больших данных \n",
    "- Интерактивные тьюториалы <a href=\"http://dataquest.io\">Dataquest</a>\n",
    "- Курсы <a href=\"https://courses.edx.org/courses/BerkeleyX/CS100.1x/1T2015/info\">\"Введение в анализ больших с Apache Spark\"</a> и <a href=\"https://courses.edx.org/courses/BerkeleyX/CS190.1x/1T2015/info\">\"Масштабируемое машинное обучение\"</a> на EdX\n",
    "- <a href=\"http://machinelearning.ru\">Портал</a> machinelearning.ru"
   ]
  }
 ],
 "metadata": {
  "anaconda-cloud": {},
  "kernelspec": {
   "display_name": "Python 3",
   "language": "python",
   "name": "python3"
  },
  "language_info": {
   "codemirror_mode": {
    "name": "ipython",
    "version": 3
   },
   "file_extension": ".py",
   "mimetype": "text/x-python",
   "name": "python",
   "nbconvert_exporter": "python",
   "pygments_lexer": "ipython3",
   "version": "3.5.2"
  },
  "name": "lesson1_overview_tools.ipynb"
 },
 "nbformat": 4,
 "nbformat_minor": 0
}
