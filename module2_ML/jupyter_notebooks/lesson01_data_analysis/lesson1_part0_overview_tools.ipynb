{
 "cells": [
  {
   "cell_type": "markdown",
   "metadata": {},
   "source": [
    "<center>\n",
    "<img src=\"../../img/ml_theme.png\">\n",
    "# Дополнительное профессиональное <br> образование НИУ ВШЭ\n",
    "#### Программа \"Практический анализ данных и машинное обучение\"\n",
    "<img src=\"../../img/faculty_logo.jpg\" height=\"240\" width=\"240\">\n",
    "## Автор материала: преподаватель Факультета Компьютерных Наук НИУ ВШЭ Кашницкий Юрий\n",
    "</center>\n",
    "Материал распространяется на условиях лицензии <a href=\"https://opensource.org/licenses/MS-RL\">Ms-RL</a>. Можно использовать в любых целях, кроме коммерческих, но с обязательным упоминанием автора материала."
   ]
  },
  {
   "cell_type": "markdown",
   "metadata": {},
   "source": [
    "# Занятие 1. Библиотеки и инструменты для анализа данных. Математика в машинном обучении\n",
    "## Обзор курса и используемых средств"
   ]
  },
  {
   "cell_type": "markdown",
   "metadata": {},
   "source": [
    "**Программа**\n",
    "- Тема 1. Введение в машинное обучение и майнинг данных\n",
    "- Тема 2. Свободно-распространяемые системы машинного обучения и разработки данных\n",
    "- Тема 3. Методы классификации\n",
    "- Тема 4. Продвинутые методы классификации\n",
    "- Тема 5. Методы регрессии\n",
    "- Тема 6. Методы кластеризации\n",
    "- Тема 7. Поиск признаковых зависимостей и частых множеств\n",
    "- Тема 8. Анализ последовательностей\n",
    "- Тема 9. Отбор признаков и снижение размерности\n",
    "- Тема 10. Работа с выбросами и пропущенными значениями\n",
    "- Тема 11. Анализ больших объемов данных с Apache Spark\n",
    "- Тема 12. Масштабируемое машинное обучение с Apache Spark"
   ]
  },
  {
   "cell_type": "markdown",
   "metadata": {},
   "source": [
    "## Используемые средства"
   ]
  },
  {
   "cell_type": "markdown",
   "metadata": {},
   "source": [
    "<img src=\"../../img/anaconda.png\" height=\"240\" width=\"240\">\n",
    "В этом курсе мы используем сборку библиотек <a href=\"http://continuum.io/downloads\">Anaconda</a>, включающую интерпретатор Python, библиотеки для научных вычислений NumPy и SciPy, анализа данных Pandas, машинного обучения Scikit-learn и около 200 других. \n",
    "Следуем инструкциям, проверяем установку. Список установленных пакетов:\n",
    "<p><i><b>>> conda list</b></i></p>\n",
    "\n",
    "Установим jupyter, если его еще нет.\n",
    "<p><i><b>>> conda install jupyter</b></i></p>\n",
    "\n",
    "Также нам понадобится Seaborn для удобной визуализации данных. \n",
    "<p><i><b>>> conda install seaborn</b></i></p>\n",
    "\n",
    "Проверим интерпретатор Python\n",
    "<p><i><b>>> python</b></i></p>\n"
   ]
  },
  {
   "cell_type": "markdown",
   "metadata": {},
   "source": [
    "### Среда разработки PyCharm\n",
    "<a href=\"https://www.jetbrains.com/pycharm/\">PyCharm</a> компании JetBrains - одна из самых популярных сред разработки (IDE) на языке Python. Из плюсов, перечисленных в одном из <a href=\"http://habrahabr.ru/post/122018/\">обзоров</a> и важных для нас в этом курсе:\n",
    " - интуитивно понятная интеграция с Git\n",
    " - удобное автоматическое дополнение текста\n",
    " - множество \"горячих клавиш\" для перехода к определения сущности, списка упоминаний конструкции, подсказок по сигнатуре функций и прочих мелочей\n",
    " - встроенная проверка кода на соответствие стандарту PEP\n",
    " \n",
    " <img src=\"../../img/pycharm_screen.png\" height=\"1000\" width=\"769\">\n",
    " \n",
    " <a href=\"http://pythonworld.ru/osnovy/pycharm-python-tutorial.html\">Введение в PyCharm</a>"
   ]
  },
  {
   "cell_type": "markdown",
   "metadata": {},
   "source": [
    "### Тетрадки IPython\n",
    "То, что Вы сейчас видите - это тетрадка IPython (Ipython notebook), интерактивная среда для вычислений, способная совмещать код, картинки, markdown-разметку и графики.\n",
    "\n",
    "<img src=\"../../img/ipython_ex.png\" height=\"985\" width=\"916\">\n",
    "\n",
    "Пример с сайта http://ipython.org/\n",
    "\n",
    "Тетрадка IPython имеет расширение *.ipynb* и запускается локально из нужного места командой \n",
    "<p><i><b>>> jupyter notebook</b></i></p>\n",
    "\n",
    "Выполнять и редактировать тетрадку можно в браузере http://localhost:8888/\n",
    "\n",
    "Начиная с версии IPython 4.0, большая часть проекта перешла в Jupyter. <a href=\"http://jupyter.org/\">Jupyter</a> - это веб-приложение для обмена документами, в которых можно выполнять код на 40 популярных в анализе данных языках, включая Python, R, Julia и Scala. \n",
    "\n",
    "Тетрадки IPython - отличный способ представить идею, сразу поделиться кодом, хороши для воспроизводимости исследований, включающих написание кода."
   ]
  },
  {
   "cell_type": "markdown",
   "metadata": {},
   "source": [
    "## Как начать работать с материалами этого курса"
   ]
  },
  {
   "cell_type": "markdown",
   "metadata": {},
   "source": [
    "- Скачать материалы курса с Github из репозитория [ML_DM_HSE](https://github.com/Yorko/ML_DM_HSE) (репозиторий приватный, преподаватели предоставляют доступ). Самый простой вариант - скачать как Zip-архив, посложнее (для использующих Git и планирующих следить за обновлениями) - команда в терминале <br >**git clone https://github.com/Yorko/ML_DM_HSE.git**\n",
    "<img src='../../img/download_github.png'>\n",
    "- Установить [Anaconda](http://continuum.io/downloads) (рекомендуемая версия на сентябрь 2016 - Anaconda 4.1.1 c Python 2.7.). В компьютерном классе это уже сделано.\n",
    "- Открыть терминал (командную строку) и перейти в каталог со скачанными материалами\n",
    "**cd <путь к ML_DM_HSE>**\n",
    "- Выполнить команду **jupyter-notebook**. Открывается браузер по адресу localhost:8888/tree. Вы увидите файловую систему (data, img, notebooks, pdf)\n",
    "<img src='../../img/file_list.png'>\n",
    "- В notebooks - материал курса, в notebooks/homeworks - тетрадки с пропусками типа **\"Ваш код здесь\"** в некоторых местах. Выполнение домашних заданий сводится к дописывания недостающего кода. "
   ]
  },
  {
   "cell_type": "markdown",
   "metadata": {},
   "source": [
    "## Запуск виртуальной машины со всем необходимым ПО и материалами"
   ]
  },
  {
   "cell_type": "markdown",
   "metadata": {},
   "source": [
    "Используемые в курсе библиотеки Anaconda, тетрадки Jupyter, Apache Spark и некоторые другие библиотеки можно разом установить на виртуальной машине (требования - около 4 Гб места на диске, 4 Гб RAM) по следующией инструкции:\n",
    "\n",
    "- Установите [VirtualBox](https://www.virtualbox.org/wiki/Download_Old_Builds_4_3) версии 4.3\n",
    "- Установите [Vagrant](https://www.vagrantup.com/downloads.html)\n",
    "- Скачайте материалы репозитория [ML_DM_HSE](https://github.com/Yorko/ML_DM_HSE) (как архив либо командой **git clone https://github.com/Yorko/ML_DM_HSE.git**)\n",
    "- Перейдите в терминале (в случае Windows открывайте терминал как администратор - Shift + правая кнопка) в скачанный каталог ML_DM_HSE (**cd <путь к ML_DM_HSE>**)\n",
    "- Выполните команду **sudo vagrant up** (в случае Windows просто **vagrant up**). Ее выполнение займет примерно полчаса\n",
    "- Выполните команду **sudo vagrant reload**\n",
    "- Перейдите в браузере по адресу localhost:4545\n",
    "- По окочании работы с виртуальной машиной выполните **sudo vagrant halt**\n",
    "- Когда больше совсем не планируете пользоваться виртуалкой, ее стоит удалить **sudo vagrant destroy**, чтобы освободить место"
   ]
  },
  {
   "cell_type": "markdown",
   "metadata": {},
   "source": [
    "## Ссылки"
   ]
  },
  {
   "cell_type": "markdown",
   "metadata": {},
   "source": [
    "- <a href=\"https://github.com/Yorko/python_intro\">Репозиторий</a> с тетрадками по языку Python, основным алгоритмам и структурам данных\n",
    "- <a href=\"https://www.coursera.org/learn/machine-learning\">Курс</a> Andrew Ng на Coursera по машинному обучению\n",
    "- <a href=\"https://www.coursera.org/learn/introduction-machine-learning\">Курс</a> К.В. Воронцова на Coursera\n",
    "- [Специализация](https://www.coursera.org/specializations/machine-learning-data-analysis) МФТИ и Яндекса по машинному обучению и анализу данных\n",
    "- Курсы на Udacity по машинному обучению <a href=\"https://www.udacity.com/course/intro-to-machine-learning--ud120\">с учителем</a>, <a href=\"https://www.udacity.com/course/machine-learning-unsupervised-learning--ud741\">без учителя</a> и <a href=\"https://www.udacity.com/course/machine-learning-reinforcement-learning--ud820\">с подкреплением</a>\n",
    "- <a href=\"https://github.com/prakhar1989/awesome-courses\">Репозиторий</a> с обзором множества полезных MOOC\n",
    "- <a href=\"https://yandexdataschool.ru/edu-process/courses/machine-learning\">Лекции</a> Школы Анализа Данных Яндекса по машинному обучению \n",
    "- <a href=\"http://habrahabr.ru/post/248069/\">Обзор</a> некоторых MOOC по компьютерным наукам и анализу данных на Хабрахабре\n",
    "- <a href=\"http://habrahabr.ru/users/akrot/topics\">Цикл статей</a> по практике анализа больших данных \n",
    "- Интерактивные тьюториалы <a href=\"http://dataquest.io\">Dataquest</a>\n",
    "- Курсы <a href=\"https://courses.edx.org/courses/BerkeleyX/CS100.1x/1T2015/info\">\"Введение в анализ больших с Apache Spark\"</a> и <a href=\"https://courses.edx.org/courses/BerkeleyX/CS190.1x/1T2015/info\">\"Масштабируемое машинное обучение\"</a> на EdX\n",
    "- <a href=\"http://machinelearning.ru\">Портал</a> machinelearning.ru\n",
    "- <a href=\"http://mlclass.ru\">Портал</a> mlclass.ru"
   ]
  }
 ],
 "metadata": {
  "kernelspec": {
   "display_name": "Python [default]",
   "language": "python",
   "name": "python2"
  },
  "language_info": {
   "codemirror_mode": {
    "name": "ipython",
    "version": 2
   },
   "file_extension": ".py",
   "mimetype": "text/x-python",
   "name": "python",
   "nbconvert_exporter": "python",
   "pygments_lexer": "ipython2",
   "version": "2.7.12"
  },
  "name": "lesson1_overview_tools.ipynb"
 },
 "nbformat": 4,
 "nbformat_minor": 0
}
