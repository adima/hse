{
 "cells": [
  {
   "cell_type": "markdown",
   "metadata": {},
   "source": [
    "<center>\n",
    "<img src=\"../../img/ml_theme.png\">\n",
    "# Дополнительное профессиональное <br> образование НИУ ВШЭ\n",
    "#### Программа \"Практический анализ данных и машинное обучение\"\n",
    "<img src=\"../../img/faculty_logo.jpg\" height=\"240\" width=\"240\">\n",
    "## Авторы материала: преподаватели ФКН НИУ ВШЭ Соколов Евгений и Кашницкий Юрий\n",
    "</center>\n",
    "Материал распространяется на условиях лицензии <a href=\"http://www.microsoft.com/en-us/openness/default.aspx#Ms-RL\">Ms-RL</a>. Можно использовать в любых целях, но с обязательным упоминанием автора курса и аффилиации."
   ]
  },
  {
   "cell_type": "markdown",
   "metadata": {},
   "source": [
    "# <center>Занятие 1. Библиотеки и инструменты для анализа данных. Математика в машинном обучении</center>\n",
    "## <center>Практическое задание. Работа с данными опроса</center>"
   ]
  },
  {
   "cell_type": "code",
   "execution_count": 1,
   "metadata": {
    "collapsed": false
   },
   "outputs": [
    {
     "name": "stdout",
     "output_type": "stream",
     "text": [
      "Populating the interactive namespace from numpy and matplotlib\n"
     ]
    }
   ],
   "source": [
    "import pandas as pd\n",
    "pd.set_option(\"display.max_columns\", 50)\n",
    "import seaborn as sns\n",
    "%pylab inline"
   ]
  },
  {
   "cell_type": "markdown",
   "metadata": {},
   "source": [
    "Посмотрим на данные опроса студентов ВШЭ, проходивших майнор \"Интеллектуальный анализ данных\" в 2016 году. Они были экспортированы в формат **.csv** (Comma-Separated Values). Документ .csv, как можно догадаться из расшифровки, представляет собой таблицу данных с разделенными запятыми компонентами. "
   ]
  },
  {
   "cell_type": "code",
   "execution_count": 2,
   "metadata": {
    "collapsed": false
   },
   "outputs": [],
   "source": [
    "data = pd.read_csv(\"../../data/minor_poll_responses.csv\")"
   ]
  },
  {
   "cell_type": "markdown",
   "metadata": {},
   "source": [
    "Посмотрим на первые 5 анкет:"
   ]
  },
  {
   "cell_type": "code",
   "execution_count": 3,
   "metadata": {
    "collapsed": false
   },
   "outputs": [
    {
     "data": {
      "text/html": [
       "<div>\n",
       "<table border=\"1\" class=\"dataframe\">\n",
       "  <thead>\n",
       "    <tr style=\"text-align: right;\">\n",
       "      <th></th>\n",
       "      <th>Timestamp</th>\n",
       "      <th>Фамилия Имя Отчество</th>\n",
       "      <th>E-mail адрес</th>\n",
       "      <th>Роль на курсе</th>\n",
       "      <th>Пол</th>\n",
       "      <th>Группа</th>\n",
       "      <th>Дата рождения</th>\n",
       "      <th>GPA (Средний балл)</th>\n",
       "      <th>Родной город</th>\n",
       "      <th>Имели опыт анализа данных до курса?</th>\n",
       "      <th>Есть ли у вас научные публикации / доклады?</th>\n",
       "      <th>Есть ли у вас публикации в ненаучных изданиях (журналы, тематические блоги и т.д.)? Перечислите издания через запятую.</th>\n",
       "      <th>Какой ваш уровень владения английским языком?</th>\n",
       "      <th>Как называется изучаемый на курсе предмет по-английски?</th>\n",
       "      <th>Какими языками программирования владеете?</th>\n",
       "      <th>Сколько будет 2+2?</th>\n",
       "      <th>После удержания налога на доходы Мария Константиновна получила 16530 рублей. Сколько рублей составляет заработная плата Марии Константиновны?</th>\n",
       "      <th>Сколько параметров имеет нормальное распределение?</th>\n",
       "      <th>Какой статистический критерий примените для проверки различия между двумя связанными выборками, в случае, если нельзя сделать предположение о виде распределения выборки?</th>\n",
       "      <th>Сколько листьев имеет полное двоичное дерево высоты 3?</th>\n",
       "      <th>Характеризуйте тремя предложениями, почему решили пойти на курс?</th>\n",
       "      <th>Какими социальными сетями пользуетесь?</th>\n",
       "      <th>Ссылка на личный вебсайт</th>\n",
       "      <th>Ссылка на профиль в LinkedIn</th>\n",
       "      <th>Ссылка на страницу в Facebook</th>\n",
       "      <th>Согласие на обработку данных</th>\n",
       "      <th>Факультет</th>\n",
       "    </tr>\n",
       "  </thead>\n",
       "  <tbody>\n",
       "    <tr>\n",
       "      <th>0</th>\n",
       "      <td>1/11/2016 21:16:50</td>\n",
       "      <td>Шестаков Андрей Владимирович</td>\n",
       "      <td>shestakoffandrey@gmail.com</td>\n",
       "      <td>Семинарист</td>\n",
       "      <td>мужской</td>\n",
       "      <td>ИАД-3</td>\n",
       "      <td>5/17/1991</td>\n",
       "      <td>7.00</td>\n",
       "      <td>г. Бор, Нижегородская область</td>\n",
       "      <td>да</td>\n",
       "      <td>есть какие-то</td>\n",
       "      <td>NaN</td>\n",
       "      <td>Upper-intermediate</td>\n",
       "      <td>Data Analysis</td>\n",
       "      <td>Python, R, MATLAB, C/C++, Другие, кроме перечи...</td>\n",
       "      <td>100</td>\n",
       "      <td>14381.1</td>\n",
       "      <td>2.0</td>\n",
       "      <td>Критерий знаковых рангов Уилкоксона</td>\n",
       "      <td>8</td>\n",
       "      <td>For. The. Science!</td>\n",
       "      <td>Facebook, VK.com (ВКонтакте), LinkedIn, Github...</td>\n",
       "      <td>NaN</td>\n",
       "      <td>NaN</td>\n",
       "      <td>NaN</td>\n",
       "      <td>Я заполнил форму полностью и даю согласие на о...</td>\n",
       "      <td>Компьютерных Наук</td>\n",
       "    </tr>\n",
       "    <tr>\n",
       "      <th>1</th>\n",
       "      <td>1/11/2016 22:13:51</td>\n",
       "      <td>Кашницкий Юрий Савельевич</td>\n",
       "      <td>yury.kashnitsky@gmail.com</td>\n",
       "      <td>Семинарист</td>\n",
       "      <td>мужской</td>\n",
       "      <td>аспирант 3 года</td>\n",
       "      <td>11/1/1990</td>\n",
       "      <td>4.53</td>\n",
       "      <td>Москва</td>\n",
       "      <td>да</td>\n",
       "      <td>доклады на топовых конференциях по некоторой т...</td>\n",
       "      <td>Хабрахабр</td>\n",
       "      <td>Upper-intermediate</td>\n",
       "      <td>Data Analysis</td>\n",
       "      <td>Python, R</td>\n",
       "      <td>4</td>\n",
       "      <td>19000</td>\n",
       "      <td>2.0</td>\n",
       "      <td>Критерий знаковых рангов Уилкоксона</td>\n",
       "      <td>8</td>\n",
       "      <td>Хочу получить опыт преподавания не только Pyth...</td>\n",
       "      <td>Facebook, VK.com (ВКонтакте), LinkedIn, Github</td>\n",
       "      <td>http://www.hse.ru/staff/ykashnitsky</td>\n",
       "      <td>https://www.linkedin.com/profile/view?id=19224...</td>\n",
       "      <td>https://www.facebook.com/festline</td>\n",
       "      <td>Я заполнил форму полностью и даю согласие на о...</td>\n",
       "      <td>Факультет Компьютерных Наук</td>\n",
       "    </tr>\n",
       "    <tr>\n",
       "      <th>2</th>\n",
       "      <td>1/12/2016 9:28:50</td>\n",
       "      <td>Захарова Елена Сергеевна</td>\n",
       "      <td>1583253@gmail.com</td>\n",
       "      <td>Студент</td>\n",
       "      <td>женский</td>\n",
       "      <td>20</td>\n",
       "      <td>11/19/1996</td>\n",
       "      <td>NaN</td>\n",
       "      <td>Москва</td>\n",
       "      <td>нет</td>\n",
       "      <td>нет</td>\n",
       "      <td>NaN</td>\n",
       "      <td>Upper-intermediate</td>\n",
       "      <td>Data Mining</td>\n",
       "      <td>Python</td>\n",
       "      <td>4</td>\n",
       "      <td>NaN</td>\n",
       "      <td>NaN</td>\n",
       "      <td>Не знаю</td>\n",
       "      <td>Не знаю, что такое двоичное дерево</td>\n",
       "      <td>Полезно. Для. Основной специальности.</td>\n",
       "      <td>VK.com (ВКонтакте), Instagram</td>\n",
       "      <td>NaN</td>\n",
       "      <td>NaN</td>\n",
       "      <td>NaN</td>\n",
       "      <td>Я заполнил форму полностью и даю согласие на о...</td>\n",
       "      <td>Гуманитарных наук/Лингвистика</td>\n",
       "    </tr>\n",
       "    <tr>\n",
       "      <th>3</th>\n",
       "      <td>1/12/2016 9:30:32</td>\n",
       "      <td>Михайлин Анатолий Владимирович</td>\n",
       "      <td>mehanat1996@gmail.com</td>\n",
       "      <td>Студент</td>\n",
       "      <td>мужской</td>\n",
       "      <td>13</td>\n",
       "      <td>5/26/1996</td>\n",
       "      <td>7.20</td>\n",
       "      <td>Москва</td>\n",
       "      <td>да</td>\n",
       "      <td>нет</td>\n",
       "      <td>Нет</td>\n",
       "      <td>Intermediate</td>\n",
       "      <td>Data Analysis</td>\n",
       "      <td>Python, Java/C#</td>\n",
       "      <td>4</td>\n",
       "      <td>19000</td>\n",
       "      <td>2.0</td>\n",
       "      <td>Не знаю</td>\n",
       "      <td>Не знаю, что такое двоичное дерево</td>\n",
       "      <td>Занимаюсь разработкой web-приложений (на языке...</td>\n",
       "      <td>VK.com (ВКонтакте)</td>\n",
       "      <td>vk.com/mehanat</td>\n",
       "      <td>NaN</td>\n",
       "      <td>NaN</td>\n",
       "      <td>Я заполнил форму полностью и даю согласие на о...</td>\n",
       "      <td>ГиМУ</td>\n",
       "    </tr>\n",
       "    <tr>\n",
       "      <th>4</th>\n",
       "      <td>1/12/2016 9:33:02</td>\n",
       "      <td>Мельник Анастасия Александровна</td>\n",
       "      <td>melnik-a-a@mail.ru</td>\n",
       "      <td>Студент</td>\n",
       "      <td>женский</td>\n",
       "      <td>20</td>\n",
       "      <td>8/3/2016</td>\n",
       "      <td>9.00</td>\n",
       "      <td>Москва</td>\n",
       "      <td>нет</td>\n",
       "      <td>нет</td>\n",
       "      <td>нет</td>\n",
       "      <td>Upper-intermediate</td>\n",
       "      <td>Data Mining</td>\n",
       "      <td>Python</td>\n",
       "      <td>4</td>\n",
       "      <td>NaN</td>\n",
       "      <td>2.0</td>\n",
       "      <td>Не знаю</td>\n",
       "      <td>8</td>\n",
       "      <td>Я учусь на прикладной лингвистике, а в програм...</td>\n",
       "      <td>Facebook, VK.com (ВКонтакте), Instagram</td>\n",
       "      <td>https://vk.com/feed</td>\n",
       "      <td>NaN</td>\n",
       "      <td>NaN</td>\n",
       "      <td>Я заполнил форму полностью и даю согласие на о...</td>\n",
       "      <td>Лингвистики</td>\n",
       "    </tr>\n",
       "  </tbody>\n",
       "</table>\n",
       "</div>"
      ],
      "text/plain": [
       "            Timestamp             Фамилия Имя Отчество  \\\n",
       "0  1/11/2016 21:16:50     Шестаков Андрей Владимирович   \n",
       "1  1/11/2016 22:13:51        Кашницкий Юрий Савельевич   \n",
       "2   1/12/2016 9:28:50         Захарова Елена Сергеевна   \n",
       "3   1/12/2016 9:30:32   Михайлин Анатолий Владимирович   \n",
       "4   1/12/2016 9:33:02  Мельник Анастасия Александровна   \n",
       "\n",
       "                 E-mail адрес Роль на курсе      Пол           Группа  \\\n",
       "0  shestakoffandrey@gmail.com    Семинарист  мужской            ИАД-3   \n",
       "1   yury.kashnitsky@gmail.com    Семинарист  мужской  аспирант 3 года   \n",
       "2           1583253@gmail.com       Студент  женский               20   \n",
       "3       mehanat1996@gmail.com       Студент  мужской               13   \n",
       "4          melnik-a-a@mail.ru       Студент  женский               20   \n",
       "\n",
       "  Дата рождения  GPA (Средний балл)                   Родной город  \\\n",
       "0     5/17/1991                7.00  г. Бор, Нижегородская область   \n",
       "1     11/1/1990                4.53                         Москва   \n",
       "2    11/19/1996                 NaN                         Москва   \n",
       "3     5/26/1996                7.20                         Москва   \n",
       "4      8/3/2016                9.00                         Москва   \n",
       "\n",
       "  Имели опыт анализа данных до курса?  \\\n",
       "0                                  да   \n",
       "1                                  да   \n",
       "2                                 нет   \n",
       "3                                  да   \n",
       "4                                 нет   \n",
       "\n",
       "         Есть ли у вас научные публикации / доклады?  \\\n",
       "0                                      есть какие-то   \n",
       "1  доклады на топовых конференциях по некоторой т...   \n",
       "2                                                нет   \n",
       "3                                                нет   \n",
       "4                                                нет   \n",
       "\n",
       "  Есть ли у вас публикации в ненаучных изданиях (журналы, тематические блоги и т.д.)? Перечислите издания через запятую.  \\\n",
       "0                                                NaN                                                                       \n",
       "1                                          Хабрахабр                                                                       \n",
       "2                                                NaN                                                                       \n",
       "3                                                Нет                                                                       \n",
       "4                                                нет                                                                       \n",
       "\n",
       "  Какой ваш уровень владения английским языком?  \\\n",
       "0                            Upper-intermediate   \n",
       "1                            Upper-intermediate   \n",
       "2                            Upper-intermediate   \n",
       "3                                  Intermediate   \n",
       "4                            Upper-intermediate   \n",
       "\n",
       "  Как называется изучаемый на курсе предмет по-английски?  \\\n",
       "0                                      Data Analysis        \n",
       "1                                      Data Analysis        \n",
       "2                                        Data Mining        \n",
       "3                                      Data Analysis        \n",
       "4                                        Data Mining        \n",
       "\n",
       "           Какими языками программирования владеете? Сколько будет 2+2?  \\\n",
       "0  Python, R, MATLAB, C/C++, Другие, кроме перечи...                100   \n",
       "1                                          Python, R                  4   \n",
       "2                                             Python                  4   \n",
       "3                                    Python, Java/C#                  4   \n",
       "4                                             Python                  4   \n",
       "\n",
       "  После удержания налога на доходы Мария Константиновна получила 16530 рублей. Сколько рублей составляет заработная плата Марии Константиновны?  \\\n",
       "0                                            14381.1                                                                                              \n",
       "1                                              19000                                                                                              \n",
       "2                                                NaN                                                                                              \n",
       "3                                              19000                                                                                              \n",
       "4                                                NaN                                                                                              \n",
       "\n",
       "   Сколько параметров имеет нормальное распределение?  \\\n",
       "0                                                2.0    \n",
       "1                                                2.0    \n",
       "2                                                NaN    \n",
       "3                                                2.0    \n",
       "4                                                2.0    \n",
       "\n",
       "  Какой статистический критерий примените для проверки различия между двумя связанными выборками, в случае, если нельзя сделать предположение о виде распределения выборки?  \\\n",
       "0                Критерий знаковых рангов Уилкоксона                                                                                                                          \n",
       "1                Критерий знаковых рангов Уилкоксона                                                                                                                          \n",
       "2                                            Не знаю                                                                                                                          \n",
       "3                                            Не знаю                                                                                                                          \n",
       "4                                            Не знаю                                                                                                                          \n",
       "\n",
       "  Сколько листьев имеет полное двоичное дерево высоты 3?  \\\n",
       "0                                                  8       \n",
       "1                                                  8       \n",
       "2                 Не знаю, что такое двоичное дерево       \n",
       "3                 Не знаю, что такое двоичное дерево       \n",
       "4                                                  8       \n",
       "\n",
       "  Характеризуйте тремя предложениями, почему решили пойти на курс?  \\\n",
       "0                                 For. The. Science!                 \n",
       "1  Хочу получить опыт преподавания не только Pyth...                 \n",
       "2              Полезно. Для. Основной специальности.                 \n",
       "3  Занимаюсь разработкой web-приложений (на языке...                 \n",
       "4  Я учусь на прикладной лингвистике, а в програм...                 \n",
       "\n",
       "              Какими социальными сетями пользуетесь?  \\\n",
       "0  Facebook, VK.com (ВКонтакте), LinkedIn, Github...   \n",
       "1     Facebook, VK.com (ВКонтакте), LinkedIn, Github   \n",
       "2                      VK.com (ВКонтакте), Instagram   \n",
       "3                                 VK.com (ВКонтакте)   \n",
       "4            Facebook, VK.com (ВКонтакте), Instagram   \n",
       "\n",
       "              Ссылка на личный вебсайт  \\\n",
       "0                                  NaN   \n",
       "1  http://www.hse.ru/staff/ykashnitsky   \n",
       "2                                  NaN   \n",
       "3                       vk.com/mehanat   \n",
       "4                  https://vk.com/feed   \n",
       "\n",
       "                        Ссылка на профиль в LinkedIn  \\\n",
       "0                                                NaN   \n",
       "1  https://www.linkedin.com/profile/view?id=19224...   \n",
       "2                                                NaN   \n",
       "3                                                NaN   \n",
       "4                                                NaN   \n",
       "\n",
       "       Ссылка на страницу в Facebook  \\\n",
       "0                                NaN   \n",
       "1  https://www.facebook.com/festline   \n",
       "2                                NaN   \n",
       "3                                NaN   \n",
       "4                                NaN   \n",
       "\n",
       "                        Согласие на обработку данных  \\\n",
       "0  Я заполнил форму полностью и даю согласие на о...   \n",
       "1  Я заполнил форму полностью и даю согласие на о...   \n",
       "2  Я заполнил форму полностью и даю согласие на о...   \n",
       "3  Я заполнил форму полностью и даю согласие на о...   \n",
       "4  Я заполнил форму полностью и даю согласие на о...   \n",
       "\n",
       "                       Факультет  \n",
       "0              Компьютерных Наук  \n",
       "1    Факультет Компьютерных Наук  \n",
       "2  Гуманитарных наук/Лингвистика  \n",
       "3                           ГиМУ  \n",
       "4                    Лингвистики  "
      ]
     },
     "execution_count": 3,
     "metadata": {},
     "output_type": "execute_result"
    }
   ],
   "source": [
    "data.head(5)"
   ]
  },
  {
   "cell_type": "code",
   "execution_count": 4,
   "metadata": {
    "collapsed": false
   },
   "outputs": [
    {
     "data": {
      "text/plain": [
       "Index([u'Timestamp', u'Фамилия Имя Отчество', u'E-mail адрес',\n",
       "       u'Роль на курсе', u'Пол', u'Группа', u'Дата рождения',\n",
       "       u'GPA (Средний балл)', u'Родной город',\n",
       "       u'Имели опыт анализа данных до курса?',\n",
       "       u'Есть ли у вас научные публикации / доклады?',\n",
       "       u'Есть ли у вас публикации в ненаучных изданиях (журналы, тематические блоги и т.д.)? Перечислите издания через запятую.',\n",
       "       u'Какой ваш уровень владения английским языком?',\n",
       "       u'Как называется изучаемый на курсе предмет по-английски?',\n",
       "       u'Какими языками программирования владеете?', u'Сколько будет 2+2?',\n",
       "       u'После удержания налога на доходы Мария Константиновна получила 16530 рублей. Сколько рублей составляет заработная плата Марии Константиновны?',\n",
       "       u'Сколько параметров имеет нормальное распределение?',\n",
       "       u'Какой статистический критерий примените для проверки различия между двумя связанными выборками, в случае, если нельзя сделать предположение о виде распределения выборки?',\n",
       "       u'Сколько листьев имеет полное двоичное дерево высоты 3?',\n",
       "       u'Характеризуйте тремя предложениями, почему решили пойти на курс?',\n",
       "       u'Какими социальными сетями пользуетесь?', u'Ссылка на личный вебсайт',\n",
       "       u'Ссылка на профиль в LinkedIn', u'Ссылка на страницу в Facebook',\n",
       "       u'Согласие на обработку данных', u'Факультет'],\n",
       "      dtype='object')"
      ]
     },
     "execution_count": 4,
     "metadata": {},
     "output_type": "execute_result"
    }
   ],
   "source": [
    "data.columns"
   ]
  },
  {
   "cell_type": "code",
   "execution_count": 5,
   "metadata": {
    "collapsed": false
   },
   "outputs": [
    {
     "data": {
      "text/plain": [
       "(112, 27)"
      ]
     },
     "execution_count": 5,
     "metadata": {},
     "output_type": "execute_result"
    }
   ],
   "source": [
    "data.shape"
   ]
  },
  {
   "cell_type": "markdown",
   "metadata": {},
   "source": [
    "Индексом можно сделать и ФИО."
   ]
  },
  {
   "cell_type": "code",
   "execution_count": 6,
   "metadata": {
    "collapsed": false
   },
   "outputs": [
    {
     "data": {
      "text/plain": [
       "Timestamp                                                                                                                                                                                                    1/13/2016 0:24:41\n",
       "Фамилия Имя Отчество                                                                                                                                                                                 Соколов Евгений Андреевич\n",
       "E-mail адрес                                                                                                                                                                                             sokolov.evg@gmail.com\n",
       "Роль на курсе                                                                                                                                                                                                           Лектор\n",
       "Пол                                                                                                                                                                                                                    мужской\n",
       "Группа                                                                                                                                                                                                                       -\n",
       "Дата рождения                                                                                                                                                                                                         3/6/1991\n",
       "GPA (Средний балл)                                                                                                                                                                                                           5\n",
       "Родной город                                                                                                                                                                                                     Белая Калитва\n",
       "Имели опыт анализа данных до курса?                                                                                                                                                                                         да\n",
       "Есть ли у вас научные публикации / доклады?                                                                                                                                                                      есть какие-то\n",
       "Есть ли у вас публикации в ненаучных изданиях (журналы, тематические блоги и т.д.)? Перечислите издания через запятую.                                                                                                       -\n",
       "Какой ваш уровень владения английским языком?                                                                                                                                                                         Advanced\n",
       "Как называется изучаемый на курсе предмет по-английски?                                                                                                                                                            Data Mining\n",
       "Какими языками программирования владеете?                                                                                                                                                                Python, MATLAB, C/C++\n",
       "Сколько будет 2+2?                                                                                                                                                                                                           4\n",
       "После удержания налога на доходы Мария Константиновна получила 16530 рублей. Сколько рублей составляет заработная плата Марии Константиновны?                                                                            19000\n",
       "Сколько параметров имеет нормальное распределение?                                                                                                                                                                           2\n",
       "Какой статистический критерий примените для проверки различия между двумя связанными выборками, в случае, если нельзя сделать предположение о виде распределения выборки?                  Критерий знаковых рангов Уилкоксона\n",
       "Сколько листьев имеет полное двоичное дерево высоты 3?                                                                                                                                                                       8\n",
       "Характеризуйте тремя предложениями, почему решили пойти на курс?                                                                                                             Интересно преподавать у интересной аудитории. ...\n",
       "Какими социальными сетями пользуетесь?                                                                                                                                       Facebook, VK.com (ВКонтакте), LinkedIn, Github...\n",
       "Ссылка на личный вебсайт                                                                                                                                                                                                     -\n",
       "Ссылка на профиль в LinkedIn                                                                                                                                                 https://ru.linkedin.com/in/evgeny-sokolov-71a1...\n",
       "Ссылка на страницу в Facebook                                                                                                                                                       https://www.facebook.com/evgeny.sokolov.91\n",
       "Согласие на обработку данных                                                                                                                                                 Я заполнил форму полностью и даю согласие на о...\n",
       "Факультет                                                                                                                                                                                                                  ФКН\n",
       "Name: Соколов Евгений Андреевич, dtype: object"
      ]
     },
     "execution_count": 6,
     "metadata": {},
     "output_type": "execute_result"
    }
   ],
   "source": [
    "data.index = data[\"Фамилия Имя Отчество\"]\n",
    "data.ix[\"Соколов Евгений Андреевич\"]"
   ]
  },
  {
   "cell_type": "markdown",
   "metadata": {},
   "source": [
    "Таблица состоит из последовательностей типа Series, соответствующих её столбцам:"
   ]
  },
  {
   "cell_type": "code",
   "execution_count": 7,
   "metadata": {
    "collapsed": false
   },
   "outputs": [
    {
     "data": {
      "text/plain": [
       "pandas.core.series.Series"
      ]
     },
     "execution_count": 7,
     "metadata": {},
     "output_type": "execute_result"
    }
   ],
   "source": [
    "data['Timestamp']\n",
    "data.Timestamp\n",
    "type(data.Timestamp)"
   ]
  },
  {
   "cell_type": "markdown",
   "metadata": {},
   "source": [
    "Построим простую гистрограмму:"
   ]
  },
  {
   "cell_type": "code",
   "execution_count": 8,
   "metadata": {
    "collapsed": false
   },
   "outputs": [
    {
     "data": {
      "text/plain": [
       "(8.473711340206187, 8.464851171361936)"
      ]
     },
     "execution_count": 8,
     "metadata": {},
     "output_type": "execute_result"
    },
    {
     "data": {
      "image/png": "[encoded data removed]",
      "text/plain": [
       "<matplotlib.figure.Figure at 0x114d35d50>"
      ]
     },
     "metadata": {},
     "output_type": "display_data"
    }
   ],
   "source": [
    "GPA = data['GPA (Средний балл)']\n",
    "GPA.hist(bins=50);\n",
    "GPA.mean(), GPA.std()"
   ]
  },
  {
   "cell_type": "markdown",
   "metadata": {},
   "source": [
    "**Отсев выбросов**\n",
    "С помощью простого приема с логической индексацией можно выкинуть аномальные данные:"
   ]
  },
  {
   "cell_type": "code",
   "execution_count": 9,
   "metadata": {
    "collapsed": false
   },
   "outputs": [
    {
     "data": {
      "text/plain": [
       "1.3098221010517073"
      ]
     },
     "execution_count": 9,
     "metadata": {},
     "output_type": "execute_result"
    },
    {
     "data": {
      "image/png": "[encoded data removed]",
      "text/plain": [
       "<matplotlib.figure.Figure at 0x1171e8250>"
      ]
     },
     "metadata": {},
     "output_type": "display_data"
    }
   ],
   "source": [
    "fixed_GPA_data = data[(data['GPA (Средний балл)'] <= 10) \n",
    "                      & (data['GPA (Средний балл)'] > 0)]\n",
    "unusual_GPA_data = data[(data['GPA (Средний балл)'] > 10) | \n",
    "                        (data['GPA (Средний балл)'] < 3)]\n",
    "fixed_GPA_data['GPA (Средний балл)'].hist()\n",
    "fixed_GPA_data['GPA (Средний балл)'].mean(), \n",
    "fixed_GPA_data['GPA (Средний балл)'].std()"
   ]
  },
  {
   "cell_type": "markdown",
   "metadata": {},
   "source": [
    "Проще:"
   ]
  },
  {
   "cell_type": "code",
   "execution_count": 21,
   "metadata": {
    "collapsed": false
   },
   "outputs": [
    {
     "data": {
      "text/plain": [
       "<matplotlib.axes._subplots.AxesSubplot at 0x118066210>"
      ]
     },
     "execution_count": 21,
     "metadata": {},
     "output_type": "execute_result"
    },
    {
     "data": {
      "image/png": "[encoded data removed]",
      "text/plain": [
       "<matplotlib.figure.Figure at 0x11805cc90>"
      ]
     },
     "metadata": {},
     "output_type": "display_data"
    }
   ],
   "source": [
    "GPA.hist(bins=20, range=(0,10))"
   ]
  },
  {
   "cell_type": "code",
   "execution_count": 10,
   "metadata": {
    "collapsed": false
   },
   "outputs": [
    {
     "data": {
      "text/plain": [
       "4                                102\n",
       "5                                  3\n",
       "44                                 1\n",
       "зависит от системы счисления       1\n",
       "ровно 4                            1\n",
       "100                                1\n",
       "22                                 1\n",
       "Name: Сколько будет 2+2?, dtype: int64"
      ]
     },
     "execution_count": 10,
     "metadata": {},
     "output_type": "execute_result"
    }
   ],
   "source": [
    "data[\"Сколько будет 2+2?\"].value_counts()"
   ]
  },
  {
   "cell_type": "markdown",
   "metadata": {},
   "source": [
    "## Незаполненные данные"
   ]
  },
  {
   "cell_type": "code",
   "execution_count": 12,
   "metadata": {
    "collapsed": false
   },
   "outputs": [
    {
     "data": {
      "text/html": [
       "<div>\n",
       "<table border=\"1\" class=\"dataframe\">\n",
       "  <thead>\n",
       "    <tr style=\"text-align: right;\">\n",
       "      <th></th>\n",
       "      <th>Timestamp</th>\n",
       "      <th>Фамилия Имя Отчество</th>\n",
       "      <th>E-mail адрес</th>\n",
       "      <th>Роль на курсе</th>\n",
       "      <th>Пол</th>\n",
       "      <th>Группа</th>\n",
       "      <th>Дата рождения</th>\n",
       "      <th>GPA (Средний балл)</th>\n",
       "      <th>Родной город</th>\n",
       "      <th>Имели опыт анализа данных до курса?</th>\n",
       "      <th>Есть ли у вас научные публикации / доклады?</th>\n",
       "      <th>Есть ли у вас публикации в ненаучных изданиях (журналы, тематические блоги и т.д.)? Перечислите издания через запятую.</th>\n",
       "      <th>Какой ваш уровень владения английским языком?</th>\n",
       "      <th>Как называется изучаемый на курсе предмет по-английски?</th>\n",
       "      <th>Какими языками программирования владеете?</th>\n",
       "      <th>Сколько будет 2+2?</th>\n",
       "      <th>После удержания налога на доходы Мария Константиновна получила 16530 рублей. Сколько рублей составляет заработная плата Марии Константиновны?</th>\n",
       "      <th>Сколько параметров имеет нормальное распределение?</th>\n",
       "      <th>Какой статистический критерий примените для проверки различия между двумя связанными выборками, в случае, если нельзя сделать предположение о виде распределения выборки?</th>\n",
       "      <th>Сколько листьев имеет полное двоичное дерево высоты 3?</th>\n",
       "      <th>Характеризуйте тремя предложениями, почему решили пойти на курс?</th>\n",
       "      <th>Какими социальными сетями пользуетесь?</th>\n",
       "      <th>Ссылка на личный вебсайт</th>\n",
       "      <th>Ссылка на профиль в LinkedIn</th>\n",
       "      <th>Ссылка на страницу в Facebook</th>\n",
       "      <th>Согласие на обработку данных</th>\n",
       "      <th>Факультет</th>\n",
       "    </tr>\n",
       "    <tr>\n",
       "      <th>Фамилия Имя Отчество</th>\n",
       "      <th></th>\n",
       "      <th></th>\n",
       "      <th></th>\n",
       "      <th></th>\n",
       "      <th></th>\n",
       "      <th></th>\n",
       "      <th></th>\n",
       "      <th></th>\n",
       "      <th></th>\n",
       "      <th></th>\n",
       "      <th></th>\n",
       "      <th></th>\n",
       "      <th></th>\n",
       "      <th></th>\n",
       "      <th></th>\n",
       "      <th></th>\n",
       "      <th></th>\n",
       "      <th></th>\n",
       "      <th></th>\n",
       "      <th></th>\n",
       "      <th></th>\n",
       "      <th></th>\n",
       "      <th></th>\n",
       "      <th></th>\n",
       "      <th></th>\n",
       "      <th></th>\n",
       "      <th></th>\n",
       "    </tr>\n",
       "  </thead>\n",
       "  <tbody>\n",
       "    <tr>\n",
       "      <th>Кашницкий Юрий Савельевич</th>\n",
       "      <td>1/11/2016 22:13:51</td>\n",
       "      <td>Кашницкий Юрий Савельевич</td>\n",
       "      <td>yury.kashnitsky@gmail.com</td>\n",
       "      <td>Семинарист</td>\n",
       "      <td>мужской</td>\n",
       "      <td>аспирант 3 года</td>\n",
       "      <td>11/1/1990</td>\n",
       "      <td>4.53</td>\n",
       "      <td>Москва</td>\n",
       "      <td>да</td>\n",
       "      <td>доклады на топовых конференциях по некоторой т...</td>\n",
       "      <td>Хабрахабр</td>\n",
       "      <td>Upper-intermediate</td>\n",
       "      <td>Data Analysis</td>\n",
       "      <td>Python, R</td>\n",
       "      <td>4</td>\n",
       "      <td>19000</td>\n",
       "      <td>2.0</td>\n",
       "      <td>Критерий знаковых рангов Уилкоксона</td>\n",
       "      <td>8</td>\n",
       "      <td>Хочу получить опыт преподавания не только Pyth...</td>\n",
       "      <td>Facebook, VK.com (ВКонтакте), LinkedIn, Github</td>\n",
       "      <td>http://www.hse.ru/staff/ykashnitsky</td>\n",
       "      <td>https://www.linkedin.com/profile/view?id=19224...</td>\n",
       "      <td>https://www.facebook.com/festline</td>\n",
       "      <td>Я заполнил форму полностью и даю согласие на о...</td>\n",
       "      <td>Факультет Компьютерных Наук</td>\n",
       "    </tr>\n",
       "    <tr>\n",
       "      <th>Михайлин Анатолий Владимирович</th>\n",
       "      <td>1/12/2016 9:30:32</td>\n",
       "      <td>Михайлин Анатолий Владимирович</td>\n",
       "      <td>mehanat1996@gmail.com</td>\n",
       "      <td>Студент</td>\n",
       "      <td>мужской</td>\n",
       "      <td>13</td>\n",
       "      <td>5/26/1996</td>\n",
       "      <td>7.20</td>\n",
       "      <td>Москва</td>\n",
       "      <td>да</td>\n",
       "      <td>нет</td>\n",
       "      <td>Нет</td>\n",
       "      <td>Intermediate</td>\n",
       "      <td>Data Analysis</td>\n",
       "      <td>Python, Java/C#</td>\n",
       "      <td>4</td>\n",
       "      <td>19000</td>\n",
       "      <td>2.0</td>\n",
       "      <td>Не знаю</td>\n",
       "      <td>Не знаю, что такое двоичное дерево</td>\n",
       "      <td>Занимаюсь разработкой web-приложений (на языке...</td>\n",
       "      <td>VK.com (ВКонтакте)</td>\n",
       "      <td>vk.com/mehanat</td>\n",
       "      <td>NaN</td>\n",
       "      <td>NaN</td>\n",
       "      <td>Я заполнил форму полностью и даю согласие на о...</td>\n",
       "      <td>ГиМУ</td>\n",
       "    </tr>\n",
       "    <tr>\n",
       "      <th>Мельник Анастасия Александровна</th>\n",
       "      <td>1/12/2016 9:33:02</td>\n",
       "      <td>Мельник Анастасия Александровна</td>\n",
       "      <td>melnik-a-a@mail.ru</td>\n",
       "      <td>Студент</td>\n",
       "      <td>женский</td>\n",
       "      <td>20</td>\n",
       "      <td>8/3/2016</td>\n",
       "      <td>9.00</td>\n",
       "      <td>Москва</td>\n",
       "      <td>нет</td>\n",
       "      <td>нет</td>\n",
       "      <td>нет</td>\n",
       "      <td>Upper-intermediate</td>\n",
       "      <td>Data Mining</td>\n",
       "      <td>Python</td>\n",
       "      <td>4</td>\n",
       "      <td>NaN</td>\n",
       "      <td>2.0</td>\n",
       "      <td>Не знаю</td>\n",
       "      <td>8</td>\n",
       "      <td>Я учусь на прикладной лингвистике, а в програм...</td>\n",
       "      <td>Facebook, VK.com (ВКонтакте), Instagram</td>\n",
       "      <td>https://vk.com/feed</td>\n",
       "      <td>NaN</td>\n",
       "      <td>NaN</td>\n",
       "      <td>Я заполнил форму полностью и даю согласие на о...</td>\n",
       "      <td>Лингвистики</td>\n",
       "    </tr>\n",
       "    <tr>\n",
       "      <th>Палладичев Сергей Сергеевич</th>\n",
       "      <td>1/12/2016 9:35:49</td>\n",
       "      <td>Палладичев Сергей Сергеевич</td>\n",
       "      <td>palladichev@yandex.ru</td>\n",
       "      <td>Студент</td>\n",
       "      <td>мужской</td>\n",
       "      <td>13</td>\n",
       "      <td>6/9/1996</td>\n",
       "      <td>7.00</td>\n",
       "      <td>Орел</td>\n",
       "      <td>нет</td>\n",
       "      <td>есть какие-то</td>\n",
       "      <td>NaN</td>\n",
       "      <td>Intermediate</td>\n",
       "      <td>Data Mining</td>\n",
       "      <td>Python</td>\n",
       "      <td>4</td>\n",
       "      <td>16530</td>\n",
       "      <td>2.0</td>\n",
       "      <td>Критерий Стьюдента для связанных выборок</td>\n",
       "      <td>8</td>\n",
       "      <td>Интерес, проявляемый к курсу</td>\n",
       "      <td>VK.com (ВКонтакте)</td>\n",
       "      <td>https://vk.com/id249873579</td>\n",
       "      <td>NaN</td>\n",
       "      <td>NaN</td>\n",
       "      <td>Я заполнил форму полностью и даю согласие на о...</td>\n",
       "      <td>Логистики</td>\n",
       "    </tr>\n",
       "    <tr>\n",
       "      <th>Зеленкова Валерия Игоревна</th>\n",
       "      <td>1/12/2016 9:36:13</td>\n",
       "      <td>Зеленкова Валерия Игоревна</td>\n",
       "      <td>lerie483@gmail.com</td>\n",
       "      <td>Студент</td>\n",
       "      <td>женский</td>\n",
       "      <td>20</td>\n",
       "      <td>10/23/1996</td>\n",
       "      <td>9.00</td>\n",
       "      <td>Смоленск</td>\n",
       "      <td>нет</td>\n",
       "      <td>нет</td>\n",
       "      <td>NaN</td>\n",
       "      <td>Upper-intermediate</td>\n",
       "      <td>Data Mining</td>\n",
       "      <td>Python</td>\n",
       "      <td>4</td>\n",
       "      <td>18678,9</td>\n",
       "      <td>2.0</td>\n",
       "      <td>Не знаю</td>\n",
       "      <td>8</td>\n",
       "      <td>1) Хочу улучшить навыки программирования. 2) И...</td>\n",
       "      <td>Facebook, VK.com (ВКонтакте), Github, Twitter,...</td>\n",
       "      <td>vk.com/lerie</td>\n",
       "      <td>NaN</td>\n",
       "      <td>NaN</td>\n",
       "      <td>Я заполнил форму полностью и даю согласие на о...</td>\n",
       "      <td>Факультет гуманитарных наук, Школа лингвистики</td>\n",
       "    </tr>\n",
       "  </tbody>\n",
       "</table>\n",
       "</div>"
      ],
      "text/plain": [
       "                                          Timestamp  \\\n",
       "Фамилия Имя Отчество                                  \n",
       "Кашницкий Юрий Савельевич        1/11/2016 22:13:51   \n",
       "Михайлин Анатолий Владимирович    1/12/2016 9:30:32   \n",
       "Мельник Анастасия Александровна   1/12/2016 9:33:02   \n",
       "Палладичев Сергей Сергеевич       1/12/2016 9:35:49   \n",
       "Зеленкова Валерия Игоревна        1/12/2016 9:36:13   \n",
       "\n",
       "                                            Фамилия Имя Отчество  \\\n",
       "Фамилия Имя Отчество                                               \n",
       "Кашницкий Юрий Савельевич              Кашницкий Юрий Савельевич   \n",
       "Михайлин Анатолий Владимирович    Михайлин Анатолий Владимирович   \n",
       "Мельник Анастасия Александровна  Мельник Анастасия Александровна   \n",
       "Палладичев Сергей Сергеевич          Палладичев Сергей Сергеевич   \n",
       "Зеленкова Валерия Игоревна            Зеленкова Валерия Игоревна   \n",
       "\n",
       "                                              E-mail адрес Роль на курсе  \\\n",
       "Фамилия Имя Отчество                                                       \n",
       "Кашницкий Юрий Савельевич        yury.kashnitsky@gmail.com    Семинарист   \n",
       "Михайлин Анатолий Владимирович       mehanat1996@gmail.com       Студент   \n",
       "Мельник Анастасия Александровна         melnik-a-a@mail.ru       Студент   \n",
       "Палладичев Сергей Сергеевич          palladichev@yandex.ru       Студент   \n",
       "Зеленкова Валерия Игоревна              lerie483@gmail.com       Студент   \n",
       "\n",
       "                                     Пол           Группа Дата рождения  \\\n",
       "Фамилия Имя Отчество                                                      \n",
       "Кашницкий Юрий Савельевич        мужской  аспирант 3 года     11/1/1990   \n",
       "Михайлин Анатолий Владимирович   мужской               13     5/26/1996   \n",
       "Мельник Анастасия Александровна  женский               20      8/3/2016   \n",
       "Палладичев Сергей Сергеевич      мужской               13      6/9/1996   \n",
       "Зеленкова Валерия Игоревна       женский               20    10/23/1996   \n",
       "\n",
       "                                 GPA (Средний балл) Родной город  \\\n",
       "Фамилия Имя Отчество                                               \n",
       "Кашницкий Юрий Савельевич                      4.53       Москва   \n",
       "Михайлин Анатолий Владимирович                 7.20       Москва   \n",
       "Мельник Анастасия Александровна                9.00       Москва   \n",
       "Палладичев Сергей Сергеевич                    7.00         Орел   \n",
       "Зеленкова Валерия Игоревна                     9.00     Смоленск   \n",
       "\n",
       "                                Имели опыт анализа данных до курса?  \\\n",
       "Фамилия Имя Отчество                                                  \n",
       "Кашницкий Юрий Савельевич                                        да   \n",
       "Михайлин Анатолий Владимирович                                   да   \n",
       "Мельник Анастасия Александровна                                 нет   \n",
       "Палладичев Сергей Сергеевич                                     нет   \n",
       "Зеленкова Валерия Игоревна                                      нет   \n",
       "\n",
       "                                       Есть ли у вас научные публикации / доклады?  \\\n",
       "Фамилия Имя Отчество                                                                 \n",
       "Кашницкий Юрий Савельевич        доклады на топовых конференциях по некоторой т...   \n",
       "Михайлин Анатолий Владимирович                                                 нет   \n",
       "Мельник Анастасия Александровна                                                нет   \n",
       "Палладичев Сергей Сергеевич                                          есть какие-то   \n",
       "Зеленкова Валерия Игоревна                                                     нет   \n",
       "\n",
       "                                Есть ли у вас публикации в ненаучных изданиях (журналы, тематические блоги и т.д.)? Перечислите издания через запятую.  \\\n",
       "Фамилия Имя Отчество                                                                                                                                     \n",
       "Кашницкий Юрий Савельевич                                                Хабрахабр                                                                       \n",
       "Михайлин Анатолий Владимирович                                                 Нет                                                                       \n",
       "Мельник Анастасия Александровна                                                нет                                                                       \n",
       "Палладичев Сергей Сергеевич                                                    NaN                                                                       \n",
       "Зеленкова Валерия Игоревна                                                     NaN                                                                       \n",
       "\n",
       "                                Какой ваш уровень владения английским языком?  \\\n",
       "Фамилия Имя Отчество                                                            \n",
       "Кашницкий Юрий Савельевич                                  Upper-intermediate   \n",
       "Михайлин Анатолий Владимирович                                   Intermediate   \n",
       "Мельник Анастасия Александровна                            Upper-intermediate   \n",
       "Палладичев Сергей Сергеевич                                      Intermediate   \n",
       "Зеленкова Валерия Игоревна                                 Upper-intermediate   \n",
       "\n",
       "                                Как называется изучаемый на курсе предмет по-английски?  \\\n",
       "Фамилия Имя Отчество                                                                      \n",
       "Кашницкий Юрий Савельевич                                            Data Analysis        \n",
       "Михайлин Анатолий Владимирович                                       Data Analysis        \n",
       "Мельник Анастасия Александровна                                        Data Mining        \n",
       "Палладичев Сергей Сергеевич                                            Data Mining        \n",
       "Зеленкова Валерия Игоревна                                             Data Mining        \n",
       "\n",
       "                                Какими языками программирования владеете?  \\\n",
       "Фамилия Имя Отчество                                                        \n",
       "Кашницкий Юрий Савельевич                                       Python, R   \n",
       "Михайлин Анатолий Владимирович                            Python, Java/C#   \n",
       "Мельник Анастасия Александровна                                    Python   \n",
       "Палладичев Сергей Сергеевич                                        Python   \n",
       "Зеленкова Валерия Игоревна                                         Python   \n",
       "\n",
       "                                Сколько будет 2+2?  \\\n",
       "Фамилия Имя Отчество                                 \n",
       "Кашницкий Юрий Савельевич                        4   \n",
       "Михайлин Анатолий Владимирович                   4   \n",
       "Мельник Анастасия Александровна                  4   \n",
       "Палладичев Сергей Сергеевич                      4   \n",
       "Зеленкова Валерия Игоревна                       4   \n",
       "\n",
       "                                После удержания налога на доходы Мария Константиновна получила 16530 рублей. Сколько рублей составляет заработная плата Марии Константиновны?  \\\n",
       "Фамилия Имя Отчество                                                                                                                                                            \n",
       "Кашницкий Юрий Савельевич                                                    19000                                                                                              \n",
       "Михайлин Анатолий Владимирович                                               19000                                                                                              \n",
       "Мельник Анастасия Александровна                                                NaN                                                                                              \n",
       "Палладичев Сергей Сергеевич                                                  16530                                                                                              \n",
       "Зеленкова Валерия Игоревна                                                 18678,9                                                                                              \n",
       "\n",
       "                                 Сколько параметров имеет нормальное распределение?  \\\n",
       "Фамилия Имя Отчество                                                                  \n",
       "Кашницкий Юрий Савельевич                                                      2.0    \n",
       "Михайлин Анатолий Владимирович                                                 2.0    \n",
       "Мельник Анастасия Александровна                                                2.0    \n",
       "Палладичев Сергей Сергеевич                                                    2.0    \n",
       "Зеленкова Валерия Игоревна                                                     2.0    \n",
       "\n",
       "                                Какой статистический критерий примените для проверки различия между двумя связанными выборками, в случае, если нельзя сделать предположение о виде распределения выборки?  \\\n",
       "Фамилия Имя Отчество                                                                                                                                                                                        \n",
       "Кашницкий Юрий Савельевич                      Критерий знаковых рангов Уилкоксона                                                                                                                          \n",
       "Михайлин Анатолий Владимирович                                             Не знаю                                                                                                                          \n",
       "Мельник Анастасия Александровна                                            Не знаю                                                                                                                          \n",
       "Палладичев Сергей Сергеевич               Критерий Стьюдента для связанных выборок                                                                                                                          \n",
       "Зеленкова Валерия Игоревна                                                 Не знаю                                                                                                                          \n",
       "\n",
       "                                Сколько листьев имеет полное двоичное дерево высоты 3?  \\\n",
       "Фамилия Имя Отчество                                                                     \n",
       "Кашницкий Юрий Савельевич                                                        8       \n",
       "Михайлин Анатолий Владимирович                  Не знаю, что такое двоичное дерево       \n",
       "Мельник Анастасия Александровна                                                  8       \n",
       "Палладичев Сергей Сергеевич                                                      8       \n",
       "Зеленкова Валерия Игоревна                                                       8       \n",
       "\n",
       "                                Характеризуйте тремя предложениями, почему решили пойти на курс?  \\\n",
       "Фамилия Имя Отчество                                                                               \n",
       "Кашницкий Юрий Савельевич        Хочу получить опыт преподавания не только Pyth...                 \n",
       "Михайлин Анатолий Владимирович   Занимаюсь разработкой web-приложений (на языке...                 \n",
       "Мельник Анастасия Александровна  Я учусь на прикладной лингвистике, а в програм...                 \n",
       "Палладичев Сергей Сергеевич                          Интерес, проявляемый к курсу                  \n",
       "Зеленкова Валерия Игоревна       1) Хочу улучшить навыки программирования. 2) И...                 \n",
       "\n",
       "                                            Какими социальными сетями пользуетесь?  \\\n",
       "Фамилия Имя Отчество                                                                 \n",
       "Кашницкий Юрий Савельевич           Facebook, VK.com (ВКонтакте), LinkedIn, Github   \n",
       "Михайлин Анатолий Владимирович                                  VK.com (ВКонтакте)   \n",
       "Мельник Анастасия Александровна            Facebook, VK.com (ВКонтакте), Instagram   \n",
       "Палладичев Сергей Сергеевич                                     VK.com (ВКонтакте)   \n",
       "Зеленкова Валерия Игоревна       Facebook, VK.com (ВКонтакте), Github, Twitter,...   \n",
       "\n",
       "                                            Ссылка на личный вебсайт  \\\n",
       "Фамилия Имя Отчество                                                   \n",
       "Кашницкий Юрий Савельевич        http://www.hse.ru/staff/ykashnitsky   \n",
       "Михайлин Анатолий Владимирович                        vk.com/mehanat   \n",
       "Мельник Анастасия Александровна                  https://vk.com/feed   \n",
       "Палладичев Сергей Сергеевич               https://vk.com/id249873579   \n",
       "Зеленкова Валерия Игоревна                              vk.com/lerie   \n",
       "\n",
       "                                                      Ссылка на профиль в LinkedIn  \\\n",
       "Фамилия Имя Отчество                                                                 \n",
       "Кашницкий Юрий Савельевич        https://www.linkedin.com/profile/view?id=19224...   \n",
       "Михайлин Анатолий Владимирович                                                 NaN   \n",
       "Мельник Анастасия Александровна                                                NaN   \n",
       "Палладичев Сергей Сергеевич                                                    NaN   \n",
       "Зеленкова Валерия Игоревна                                                     NaN   \n",
       "\n",
       "                                     Ссылка на страницу в Facebook  \\\n",
       "Фамилия Имя Отчество                                                 \n",
       "Кашницкий Юрий Савельевич        https://www.facebook.com/festline   \n",
       "Михайлин Анатолий Владимирович                                 NaN   \n",
       "Мельник Анастасия Александровна                                NaN   \n",
       "Палладичев Сергей Сергеевич                                    NaN   \n",
       "Зеленкова Валерия Игоревна                                     NaN   \n",
       "\n",
       "                                                      Согласие на обработку данных  \\\n",
       "Фамилия Имя Отчество                                                                 \n",
       "Кашницкий Юрий Савельевич        Я заполнил форму полностью и даю согласие на о...   \n",
       "Михайлин Анатолий Владимирович   Я заполнил форму полностью и даю согласие на о...   \n",
       "Мельник Анастасия Александровна  Я заполнил форму полностью и даю согласие на о...   \n",
       "Палладичев Сергей Сергеевич      Я заполнил форму полностью и даю согласие на о...   \n",
       "Зеленкова Валерия Игоревна       Я заполнил форму полностью и даю согласие на о...   \n",
       "\n",
       "                                                                      Факультет  \n",
       "Фамилия Имя Отчество                                                             \n",
       "Кашницкий Юрий Савельевич                           Факультет Компьютерных Наук  \n",
       "Михайлин Анатолий Владимирович                                             ГиМУ  \n",
       "Мельник Анастасия Александровна                                     Лингвистики  \n",
       "Палладичев Сергей Сергеевич                                           Логистики  \n",
       "Зеленкова Валерия Игоревна       Факультет гуманитарных наук, Школа лингвистики  "
      ]
     },
     "execution_count": 12,
     "metadata": {},
     "output_type": "execute_result"
    }
   ],
   "source": [
    "data.dropna(subset = ['Ссылка на личный вебсайт']).head()"
   ]
  },
  {
   "cell_type": "markdown",
   "metadata": {},
   "source": [
    "**Преобразование столбцов**\n",
    "\n",
    "Для \"причесывания\" данных оказываются незаменимы методы map() и apply(). "
   ]
  },
  {
   "cell_type": "code",
   "execution_count": 13,
   "metadata": {
    "collapsed": false
   },
   "outputs": [],
   "source": [
    "#data.Timestamp.map?\n",
    "#data.Timestamp.apply?"
   ]
  },
  {
   "cell_type": "markdown",
   "metadata": {},
   "source": [
    "Воспользуемся ответам на вопрос о налогообложении для примера"
   ]
  },
  {
   "cell_type": "code",
   "execution_count": 14,
   "metadata": {
    "collapsed": false
   },
   "outputs": [],
   "source": [
    "data = data.rename(columns = {\"После удержания налога на доходы Мария Константиновна \\\n",
    "получила 16530 рублей. Сколько рублей составляет заработная плата Марии Константиновны?\" : \n",
    "                              \"tax_question\"})"
   ]
  },
  {
   "cell_type": "markdown",
   "metadata": {},
   "source": [
    "Изначально ответы были таковы:"
   ]
  },
  {
   "cell_type": "code",
   "execution_count": 15,
   "metadata": {
    "collapsed": false
   },
   "outputs": [
    {
     "data": {
      "text/plain": [
       "19000                                                       73\n",
       "16530                                                        6\n",
       "18679                                                        2\n",
       "23614                                                        1\n",
       "18678                                                        1\n",
       "=\\                                                           1\n",
       "19447                                                        1\n",
       "127,153,846                                                  1\n",
       "Больше 16530                                                 1\n",
       "Строго говоря, нет информации о системе налогообложения      1\n",
       "более 16530 рублей                                           1\n",
       "18 793, 1034                                                 1\n",
       "18678,9                                                      1\n",
       "15539                                                        1\n",
       "14381.1                                                      1\n",
       "19000 gross, 16530 net                                       1\n",
       "Я не знаю процент удержания                                  1\n",
       "(100*16530)/(100-r), где r-ставка налога в данной стране     1\n",
       "14381,1                                                      1\n",
       "кек                                                          1\n",
       "19441                                                        1\n",
       "1,991,566,265,060,240                                        1\n",
       "55100                                                        1\n",
       "19 000                                                       1\n",
       "16530/(1-r)                                                  1\n",
       "Name: tax_question, dtype: int64"
      ]
     },
     "execution_count": 15,
     "metadata": {},
     "output_type": "execute_result"
    }
   ],
   "source": [
    "data.tax_question.value_counts()"
   ]
  },
  {
   "cell_type": "markdown",
   "metadata": {},
   "source": [
    "Пример с функцией:"
   ]
  },
  {
   "cell_type": "code",
   "execution_count": 16,
   "metadata": {
    "collapsed": false
   },
   "outputs": [
    {
     "data": {
      "text/plain": [
       "Фамилия Имя Отчество\n",
       "Шестаков Андрей Владимирович       14381.1\n",
       "Кашницкий Юрий Савельевич          19000.0\n",
       "Захарова Елена Сергеевна               NaN\n",
       "Михайлин Анатолий Владимирович     19000.0\n",
       "Мельник Анастасия Александровна        NaN\n",
       "Name: tax_question, dtype: float64"
      ]
     },
     "execution_count": 16,
     "metadata": {},
     "output_type": "execute_result"
    }
   ],
   "source": [
    "def clean(string):\n",
    "    try:\n",
    "        return float(string)\n",
    "    except:\n",
    "        return None\n",
    "\n",
    "data.tax_question = data.tax_question.apply(clean)\n",
    "data.tax_question.head()"
   ]
  },
  {
   "cell_type": "markdown",
   "metadata": {},
   "source": [
    "Пример со словарём:"
   ]
  },
  {
   "cell_type": "code",
   "execution_count": 17,
   "metadata": {
    "collapsed": false
   },
   "outputs": [
    {
     "data": {
      "text/plain": [
       "0                              100\n",
       "1                                4\n",
       "2                                5\n",
       "3                          ровно 4\n",
       "4                               22\n",
       "5                              NaN\n",
       "6    зависит от системы счисления \n",
       "7                               44\n",
       "dtype: object"
      ]
     },
     "execution_count": 17,
     "metadata": {},
     "output_type": "execute_result"
    }
   ],
   "source": [
    "# костыль с созданием лишнего Series - так нормально выводится список строк на русском\n",
    "pd.Series(data[\"Сколько будет 2+2?\"].unique())"
   ]
  },
  {
   "cell_type": "code",
   "execution_count": 18,
   "metadata": {
    "collapsed": false
   },
   "outputs": [
    {
     "data": {
      "text/plain": [
       "Фамилия Имя Отчество\n",
       "Шестаков Андрей Владимирович       Не ответил\n",
       "Кашницкий Юрий Савельевич             Ответил\n",
       "Захарова Елена Сергеевна              Ответил\n",
       "Михайлин Анатолий Владимирович        Ответил\n",
       "Мельник Анастасия Александровна       Ответил\n",
       "Name: Сколько будет 2+2?, dtype: object"
      ]
     },
     "execution_count": 18,
     "metadata": {},
     "output_type": "execute_result"
    }
   ],
   "source": [
    "dict = {'4' : 'Ответил', \n",
    "        '100' : 'Не ответил',\n",
    "        '5' : 'Не ответил', \n",
    "        'ровно 4' : 'Ответил', \n",
    "        '22' : 'Не ответил', \n",
    "        'зависит от системы счисления ' : 'Не ответил', \n",
    "        '44' : 'Не ответил'}\n",
    "data[\"Сколько будет 2+2?\"].map(dict).head()"
   ]
  },
  {
   "cell_type": "markdown",
   "metadata": {},
   "source": [
    "Для работы со временем может пригодиться тип [**datetime**](https://docs.python.org/3/library/datetime.html)"
   ]
  },
  {
   "cell_type": "code",
   "execution_count": 19,
   "metadata": {
    "collapsed": false
   },
   "outputs": [
    {
     "data": {
      "text/plain": [
       "Фамилия Имя Отчество\n",
       "Шестаков Андрей Владимирович       2016-01-11\n",
       "Кашницкий Юрий Савельевич          2016-01-11\n",
       "Захарова Елена Сергеевна           2016-01-12\n",
       "Михайлин Анатолий Владимирович     2016-01-12\n",
       "Мельник Анастасия Александровна    2016-01-12\n",
       "Name: Timestamp, dtype: object"
      ]
     },
     "execution_count": 19,
     "metadata": {},
     "output_type": "execute_result"
    }
   ],
   "source": [
    "from datetime import datetime\n",
    "\n",
    "data[\"Timestamp\"].map(lambda t: \n",
    "                      datetime.strptime(t, \"%m/%d/%Y %H:%M:%S\").date()).head()"
   ]
  },
  {
   "cell_type": "markdown",
   "metadata": {
    "collapsed": true
   },
   "source": [
    "Теперь можно сохранить преобразованный Dataframe:"
   ]
  },
  {
   "cell_type": "code",
   "execution_count": 20,
   "metadata": {
    "collapsed": true
   },
   "outputs": [],
   "source": [
    "data.to_csv(\"../../data/transformed_poll_data.csv\")"
   ]
  },
  {
   "cell_type": "markdown",
   "metadata": {},
   "source": [
    "**1. Выпишите e-mail людей, правильно ответивших на вопрос о статистических критериях**"
   ]
  },
  {
   "cell_type": "code",
   "execution_count": null,
   "metadata": {
    "collapsed": true
   },
   "outputs": [],
   "source": [
    "# Ваш код здесь"
   ]
  },
  {
   "cell_type": "markdown",
   "metadata": {},
   "source": [
    "**2. Найдите всех своих тёзок на курсе**"
   ]
  },
  {
   "cell_type": "code",
   "execution_count": null,
   "metadata": {
    "collapsed": true
   },
   "outputs": [],
   "source": [
    "# Ваш код здесь"
   ]
  },
  {
   "cell_type": "markdown",
   "metadata": {},
   "source": [
    "**3. Постройте гистограмму для ответов о количестве параметров нормального распределения. Распределены ли ответы нормально?**"
   ]
  },
  {
   "cell_type": "code",
   "execution_count": null,
   "metadata": {
    "collapsed": true
   },
   "outputs": [],
   "source": [
    "# Ваш код здесь"
   ]
  },
  {
   "cell_type": "markdown",
   "metadata": {},
   "source": [
    "**4. Выпишите медианный GPA студентов в зависимости от уровня владения английским языком. Можно воспользоваться методом groupby(). Дополнительно - нарисовать картинку.**"
   ]
  },
  {
   "cell_type": "code",
   "execution_count": null,
   "metadata": {
    "collapsed": true
   },
   "outputs": [],
   "source": [
    "# Ваш код здесь"
   ]
  },
  {
   "cell_type": "markdown",
   "metadata": {},
   "source": [
    "**5. Составьте список всех людей с ФКН, которые правильно ответили на вопрос о количестве вершин в двоичном дереве. Выпишите указанные ими профили в facebook.**"
   ]
  },
  {
   "cell_type": "code",
   "execution_count": null,
   "metadata": {
    "collapsed": true
   },
   "outputs": [],
   "source": [
    "# Ваш код здесь"
   ]
  },
  {
   "cell_type": "markdown",
   "metadata": {},
   "source": [
    "**6. Известно, что с достаточно большой вероятностью среди 40 людей найдется пара человек, у которых совпадает день рождения. Есть ли такие на курсе?**"
   ]
  },
  {
   "cell_type": "code",
   "execution_count": null,
   "metadata": {
    "collapsed": true
   },
   "outputs": [],
   "source": [
    "# Ваш код здесь"
   ]
  }
 ],
 "metadata": {
  "kernelspec": {
   "display_name": "Python 2",
   "language": "python",
   "name": "python2"
  },
  "language_info": {
   "codemirror_mode": {
    "name": "ipython",
    "version": 2
   },
   "file_extension": ".py",
   "mimetype": "text/x-python",
   "name": "python",
   "nbconvert_exporter": "python",
   "pygments_lexer": "ipython2",
   "version": "2.7.11"
  }
 },
 "nbformat": 4,
 "nbformat_minor": 0
}
