{
 "cells": [
  {
   "cell_type": "markdown",
   "metadata": {},
   "source": [
    "<center>\n",
    "<img src=\"../../img/ml_theme.png\">\n",
    "# Дополнительное профессиональное <br> образование НИУ ВШЭ\n",
    "#### Программа \"Практический анализ данных и машинное обучение\"\n",
    "<img src=\"../../img/faculty_logo.jpg\" height=\"240\" width=\"240\">\n",
    "## Автор материала: старший преподаватель Факультета Компьютерных Наук ВШЭ, программист-исследователь Mail.ru Group  Юрий Кашницкий\n",
    "</center>\n",
    "Материал распространяется на условиях лицензии <a href=\"https://opensource.org/licenses/MS-RL\">Ms-RL</a>. Можно использовать в любых целях, кроме коммерческих, но с обязательным упоминанием автора материала."
   ]
  },
  {
   "cell_type": "markdown",
   "metadata": {},
   "source": [
    "# <center>Занятие 4. Обучение с учителем. Методы классификации\n",
    "## <center>Часть 5. Логистическая регрессия  и метод ближайших соседей в соревновании Kaggle Inclass по кредитному скорингу"
   ]
  },
  {
   "cell_type": "code",
   "execution_count": 1,
   "metadata": {
    "collapsed": false
   },
   "outputs": [
    {
     "name": "stdout",
     "output_type": "stream",
     "text": [
      "Populating the interactive namespace from numpy and matplotlib\n"
     ]
    }
   ],
   "source": [
    "import warnings\n",
    "warnings.filterwarnings('ignore')\n",
    "import numpy as np\n",
    "import pandas as pd\n",
    "from sklearn.preprocessing import StandardScaler\n",
    "from sklearn.linear_model import LogisticRegression\n",
    "from sklearn.neighbors import KNeighborsClassifier\n",
    "from sklearn.model_selection import StratifiedKFold\n",
    "from sklearn.metrics import roc_auc_score\n",
    "%pylab inline\n",
    "import sys\n",
    "#sys.path.append('../../scripts/')\n",
    "#from log_progress import log_progress"
   ]
  },
  {
   "cell_type": "code",
   "execution_count": 2,
   "metadata": {
    "collapsed": true
   },
   "outputs": [],
   "source": [
    "train_df = pd.read_csv('../../data/credit_scoring_train.csv', \n",
    "                       index_col='client_id')\n",
    "test_df = pd.read_csv('../../data/credit_scoring_test.csv', \n",
    "                      index_col='client_id')"
   ]
  },
  {
   "cell_type": "code",
   "execution_count": 3,
   "metadata": {
    "collapsed": true
   },
   "outputs": [],
   "source": [
    "y = train_df['Delinquent90']\n",
    "train_df.drop('Delinquent90', axis=1, inplace=True)"
   ]
  },
  {
   "cell_type": "code",
   "execution_count": 4,
   "metadata": {
    "collapsed": false
   },
   "outputs": [
    {
     "data": {
      "text/html": [
       "<div>\n",
       "<table border=\"1\" class=\"dataframe\">\n",
       "  <thead>\n",
       "    <tr style=\"text-align: right;\">\n",
       "      <th></th>\n",
       "      <th>DIR</th>\n",
       "      <th>Age</th>\n",
       "      <th>NumLoans</th>\n",
       "      <th>NumRealEstateLoans</th>\n",
       "      <th>NumDependents</th>\n",
       "      <th>Num30-59Delinquencies</th>\n",
       "      <th>Num60-89Delinquencies</th>\n",
       "      <th>Income</th>\n",
       "      <th>BalanceToCreditLimit</th>\n",
       "    </tr>\n",
       "    <tr>\n",
       "      <th>client_id</th>\n",
       "      <th></th>\n",
       "      <th></th>\n",
       "      <th></th>\n",
       "      <th></th>\n",
       "      <th></th>\n",
       "      <th></th>\n",
       "      <th></th>\n",
       "      <th></th>\n",
       "      <th></th>\n",
       "    </tr>\n",
       "  </thead>\n",
       "  <tbody>\n",
       "    <tr>\n",
       "      <th>0</th>\n",
       "      <td>0.496289</td>\n",
       "      <td>49.1</td>\n",
       "      <td>13</td>\n",
       "      <td>0</td>\n",
       "      <td>0.0</td>\n",
       "      <td>2</td>\n",
       "      <td>0</td>\n",
       "      <td>5298.360639</td>\n",
       "      <td>0.387028</td>\n",
       "    </tr>\n",
       "    <tr>\n",
       "      <th>1</th>\n",
       "      <td>0.433567</td>\n",
       "      <td>48.0</td>\n",
       "      <td>9</td>\n",
       "      <td>2</td>\n",
       "      <td>2.0</td>\n",
       "      <td>1</td>\n",
       "      <td>0</td>\n",
       "      <td>6008.056256</td>\n",
       "      <td>0.234679</td>\n",
       "    </tr>\n",
       "    <tr>\n",
       "      <th>2</th>\n",
       "      <td>2206.731199</td>\n",
       "      <td>55.5</td>\n",
       "      <td>21</td>\n",
       "      <td>1</td>\n",
       "      <td>NaN</td>\n",
       "      <td>1</td>\n",
       "      <td>0</td>\n",
       "      <td>NaN</td>\n",
       "      <td>0.348227</td>\n",
       "    </tr>\n",
       "    <tr>\n",
       "      <th>3</th>\n",
       "      <td>886.132793</td>\n",
       "      <td>55.3</td>\n",
       "      <td>3</td>\n",
       "      <td>0</td>\n",
       "      <td>0.0</td>\n",
       "      <td>0</td>\n",
       "      <td>0</td>\n",
       "      <td>NaN</td>\n",
       "      <td>0.971930</td>\n",
       "    </tr>\n",
       "    <tr>\n",
       "      <th>4</th>\n",
       "      <td>0.000000</td>\n",
       "      <td>52.3</td>\n",
       "      <td>1</td>\n",
       "      <td>0</td>\n",
       "      <td>0.0</td>\n",
       "      <td>0</td>\n",
       "      <td>0</td>\n",
       "      <td>2504.613105</td>\n",
       "      <td>1.004350</td>\n",
       "    </tr>\n",
       "  </tbody>\n",
       "</table>\n",
       "</div>"
      ],
      "text/plain": [
       "                   DIR   Age  NumLoans  NumRealEstateLoans  NumDependents  \\\n",
       "client_id                                                                   \n",
       "0             0.496289  49.1        13                   0            0.0   \n",
       "1             0.433567  48.0         9                   2            2.0   \n",
       "2          2206.731199  55.5        21                   1            NaN   \n",
       "3           886.132793  55.3         3                   0            0.0   \n",
       "4             0.000000  52.3         1                   0            0.0   \n",
       "\n",
       "           Num30-59Delinquencies  Num60-89Delinquencies       Income  \\\n",
       "client_id                                                              \n",
       "0                              2                      0  5298.360639   \n",
       "1                              1                      0  6008.056256   \n",
       "2                              1                      0          NaN   \n",
       "3                              0                      0          NaN   \n",
       "4                              0                      0  2504.613105   \n",
       "\n",
       "           BalanceToCreditLimit  \n",
       "client_id                        \n",
       "0                      0.387028  \n",
       "1                      0.234679  \n",
       "2                      0.348227  \n",
       "3                      0.971930  \n",
       "4                      1.004350  "
      ]
     },
     "execution_count": 4,
     "metadata": {},
     "output_type": "execute_result"
    }
   ],
   "source": [
    "train_df.head()"
   ]
  },
  {
   "cell_type": "markdown",
   "metadata": {},
   "source": [
    "**Посчитаем, число пропусков в каждом признаке.**"
   ]
  },
  {
   "cell_type": "code",
   "execution_count": 5,
   "metadata": {
    "collapsed": false
   },
   "outputs": [
    {
     "name": "stdout",
     "output_type": "stream",
     "text": [
      "DIR, num. NA's: 0\n",
      "Age, num. NA's: 0\n",
      "NumLoans, num. NA's: 0\n",
      "NumRealEstateLoans, num. NA's: 0\n",
      "NumDependents, num. NA's: 1916\n",
      "Num30-59Delinquencies, num. NA's: 0\n",
      "Num60-89Delinquencies, num. NA's: 0\n",
      "Income, num. NA's: 14847\n",
      "BalanceToCreditLimit, num. NA's: 0\n"
     ]
    }
   ],
   "source": [
    "for col in train_df.columns:\n",
    "    print(\"{0}, num. NA's: {1}\".format(col, pd.isnull(train_df[col]).sum()))"
   ]
  },
  {
   "cell_type": "code",
   "execution_count": 6,
   "metadata": {
    "collapsed": false
   },
   "outputs": [
    {
     "name": "stdout",
     "output_type": "stream",
     "text": [
      "DIR, num. NA's: 0\n",
      "Age, num. NA's: 0\n",
      "NumLoans, num. NA's: 0\n",
      "NumRealEstateLoans, num. NA's: 0\n",
      "NumDependents, num. NA's: 2008\n",
      "Num30-59Delinquencies, num. NA's: 0\n",
      "Num60-89Delinquencies, num. NA's: 0\n",
      "Income, num. NA's: 14884\n",
      "BalanceToCreditLimit, num. NA's: 0\n"
     ]
    }
   ],
   "source": [
    "for col in test_df.columns:\n",
    "    print(\"{0}, num. NA's: {1}\".format(col, \n",
    "                                       pd.isnull(test_df[col]).sum()))"
   ]
  },
  {
   "cell_type": "markdown",
   "metadata": {},
   "source": [
    "**Заменим пропуски медианными значениями.**"
   ]
  },
  {
   "cell_type": "code",
   "execution_count": 7,
   "metadata": {
    "collapsed": true
   },
   "outputs": [],
   "source": [
    "train_df['NumDependents'].fillna(train_df['NumDependents'].median(), \n",
    "                                 inplace=True)\n",
    "train_df['Income'].fillna(train_df['Income'].median(), \n",
    "                          inplace=True)\n",
    "test_df['NumDependents'].fillna(test_df['NumDependents'].median(), \n",
    "                                inplace=True)\n",
    "test_df['Income'].fillna(test_df['Income'].median(), \n",
    "                         inplace=True)"
   ]
  },
  {
   "cell_type": "code",
   "execution_count": null,
   "metadata": {
    "collapsed": true
   },
   "outputs": [],
   "source": []
  },
  {
   "cell_type": "markdown",
   "metadata": {},
   "source": [
    "### Кросс-валидация с логистической регрессией"
   ]
  },
  {
   "cell_type": "code",
   "execution_count": 8,
   "metadata": {
    "collapsed": false
   },
   "outputs": [
    {
     "name": "stdout",
     "output_type": "stream",
     "text": [
      "CPU times: user 25.3 s, sys: 1.71 s, total: 27 s\n",
      "Wall time: 18.1 s\n"
     ]
    }
   ],
   "source": [
    "%%time\n",
    "skf = StratifiedKFold(n_splits=5, shuffle=True, random_state=42)\n",
    "\n",
    "c_values = np.logspace(-4, 5, 10)\n",
    "mean_scores_by_c_value = []\n",
    "\n",
    "for c_value in c_values:\n",
    "    scores = []\n",
    "    for train, test in skf.split(train_df, y):\n",
    "        X_train, X_test = train_df.ix[train], train_df.ix[test], \n",
    "        y_train, y_test = y.ix[train], y.ix[test]\n",
    "\n",
    "        scaler = StandardScaler()\n",
    "        X_train_scaled = scaler.fit_transform(X_train)\n",
    "        X_test_scaled = scaler.transform(X_test)\n",
    "\n",
    "        logit = LogisticRegression(C=c_value, n_jobs=-1, \n",
    "                                   class_weight='balanced')\n",
    "        logit.fit(X_train_scaled, y_train)\n",
    "\n",
    "        scores.append(roc_auc_score(y_test, logit.predict_proba(X_test_scaled)[:, 1]))\n",
    "    mean_scores_by_c_value.append(np.mean(scores))"
   ]
  },
  {
   "cell_type": "markdown",
   "metadata": {},
   "source": [
    "**Лучшее CV-качество и соотв. значение параметра регуляризации.**"
   ]
  },
  {
   "cell_type": "code",
   "execution_count": 9,
   "metadata": {
    "collapsed": false
   },
   "outputs": [
    {
     "data": {
      "text/plain": [
       "(0.75666141914893092, 10000.0)"
      ]
     },
     "execution_count": 9,
     "metadata": {},
     "output_type": "execute_result"
    }
   ],
   "source": [
    "max(mean_scores_by_c_value), c_values[np.argmax(mean_scores_by_c_value)]"
   ]
  },
  {
   "cell_type": "code",
   "execution_count": 10,
   "metadata": {
    "collapsed": false
   },
   "outputs": [
    {
     "data": {
      "image/png": "[encoded data removed]",
      "text/plain": [
       "<matplotlib.figure.Figure at 0x10464bcf8>"
      ]
     },
     "metadata": {},
     "output_type": "display_data"
    }
   ],
   "source": [
    "scatter(c_values, mean_scores_by_c_value);"
   ]
  },
  {
   "cell_type": "markdown",
   "metadata": {},
   "source": [
    "**Прогноз для тестовой выборки.**"
   ]
  },
  {
   "cell_type": "code",
   "execution_count": 11,
   "metadata": {
    "collapsed": true
   },
   "outputs": [],
   "source": [
    "scaler = StandardScaler()\n",
    "train_scaled = scaler.fit_transform(train_df)\n",
    "test_scaled = scaler.transform(test_df)\n",
    "\n",
    "logit = LogisticRegression(C=2335, n_jobs=-1, class_weight='balanced')\n",
    "logit.fit(train_scaled, y)\n",
    "logit_pred = logit.predict_proba(test_scaled)[:, 1]"
   ]
  },
  {
   "cell_type": "markdown",
   "metadata": {},
   "source": [
    "**Запишем прогноз в файл**"
   ]
  },
  {
   "cell_type": "code",
   "execution_count": 12,
   "metadata": {
    "collapsed": true
   },
   "outputs": [],
   "source": [
    "def write_to_submission_file(predicted_labels, out_file,\n",
    "                             target='Delinquent90', index_label=\"client_id\"):\n",
    "    # turn predictions into data frame and save as csv file\n",
    "    predicted_df = pd.DataFrame(predicted_labels,\n",
    "                                index = np.arange(75000, \n",
    "                                                  predicted_labels.shape[0] + 75000),\n",
    "                                columns=[target])\n",
    "    predicted_df.to_csv(out_file, index_label=index_label)"
   ]
  },
  {
   "cell_type": "code",
   "execution_count": 13,
   "metadata": {
    "collapsed": false
   },
   "outputs": [],
   "source": [
    "write_to_submission_file(logit_pred, '../../output/credit_scoring_logit_pred.csv')"
   ]
  },
  {
   "cell_type": "markdown",
   "metadata": {},
   "source": [
    "**У такой посылки результат на публичном LB Kaggle - 0.758 ROC AUC.**"
   ]
  },
  {
   "cell_type": "markdown",
   "metadata": {},
   "source": [
    "### Кросс-валидация с kNN"
   ]
  },
  {
   "cell_type": "code",
   "execution_count": 21,
   "metadata": {
    "collapsed": false
   },
   "outputs": [
    {
     "name": "stdout",
     "output_type": "stream",
     "text": [
      "CPU times: user 6min 16s, sys: 4.27 s, total: 6min 20s\n",
      "Wall time: 2min 16s\n"
     ]
    }
   ],
   "source": [
    "%%time\n",
    "skf = StratifiedKFold(n_splits=5, shuffle=True, random_state=42)\n",
    "\n",
    "n_neighbs = np.linspace(5, 200, 5)\n",
    "mean_scores_by_n_neighb = []\n",
    "\n",
    "for n_neighb in n_neighbs:\n",
    "    scores = []\n",
    "    for train, test in skf.split(train_df, y):\n",
    "        X_train, X_test = train_df.ix[train], train_df.ix[test], \n",
    "        y_train, y_test = y.ix[train], y.ix[test]\n",
    "\n",
    "        scaler = StandardScaler()\n",
    "        X_train_scaled = scaler.fit_transform(X_train)\n",
    "        X_test_scaled = scaler.transform(X_test)\n",
    "        \n",
    "        knn = KNeighborsClassifier(n_neighbors=n_neighb, n_jobs=-1)\n",
    "        knn.fit(X_train_scaled, y_train)\n",
    "\n",
    "        scores.append(roc_auc_score(y_test, knn.predict_proba(X_test_scaled)[:, 1]))\n",
    "    mean_scores_by_n_neighb.append(np.mean(scores))"
   ]
  },
  {
   "cell_type": "code",
   "execution_count": 22,
   "metadata": {
    "collapsed": false
   },
   "outputs": [
    {
     "data": {
      "text/plain": [
       "(0.74955993000638466, 151.25)"
      ]
     },
     "execution_count": 22,
     "metadata": {},
     "output_type": "execute_result"
    }
   ],
   "source": [
    "max(mean_scores_by_n_neighb), n_neighbs[np.argmax(mean_scores_by_n_neighb)]"
   ]
  },
  {
   "cell_type": "code",
   "execution_count": 23,
   "metadata": {
    "collapsed": false
   },
   "outputs": [
    {
     "data": {
      "image/png": "[encoded data removed]",
      "text/plain": [
       "<matplotlib.figure.Figure at 0x114e42240>"
      ]
     },
     "metadata": {},
     "output_type": "display_data"
    }
   ],
   "source": [
    "scatter(n_neighbs, mean_scores_by_n_neighb);"
   ]
  },
  {
   "cell_type": "markdown",
   "metadata": {},
   "source": [
    "**Прогноз для тестовой выборки.**"
   ]
  },
  {
   "cell_type": "code",
   "execution_count": 19,
   "metadata": {
    "collapsed": false
   },
   "outputs": [],
   "source": [
    "scaler = StandardScaler()\n",
    "train_scaled = scaler.fit_transform(train_df)\n",
    "test_scaled = scaler.transform(test_df)\n",
    "\n",
    "knn = KNeighborsClassifier(n_neighbors=150, n_jobs=-1)\n",
    "knn.fit(train_scaled, y)\n",
    "knn_pred = knn.predict_proba(test_scaled)[:, 1]"
   ]
  },
  {
   "cell_type": "code",
   "execution_count": 20,
   "metadata": {
    "collapsed": false
   },
   "outputs": [],
   "source": [
    "write_to_submission_file(knn_pred, '../../output/credit_scoring_knn_pred.csv')"
   ]
  },
  {
   "cell_type": "markdown",
   "metadata": {},
   "source": [
    "**У такой посылки результат на публичном LB Kaggle - 0.755 ROC AUC.**"
   ]
  }
 ],
 "metadata": {
  "kernelspec": {
   "display_name": "Python 3",
   "language": "python",
   "name": "python3"
  },
  "language_info": {
   "codemirror_mode": {
    "name": "ipython",
    "version": 3
   },
   "file_extension": ".py",
   "mimetype": "text/x-python",
   "name": "python",
   "nbconvert_exporter": "python",
   "pygments_lexer": "ipython3",
   "version": "3.5.2"
  }
 },
 "nbformat": 4,
 "nbformat_minor": 0
}
