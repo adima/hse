{
 "cells": [
  {
   "cell_type": "markdown",
   "metadata": {},
   "source": [
    "<center>\n",
    "<img src=\"../../img/ml_theme.png\">\n",
    "# Дополнительное профессиональное <br> образование НИУ ВШЭ\n",
    "#### Программа \"Практический анализ данных и машинное обучение\"\n",
    "<img src=\"../../img/faculty_logo.jpg\" height=\"240\" width=\"240\">\n",
    "## Автор материала: преподаватель Факультета Компьютерных Наук НИУ ВШЭ <br> Кашницкий Юрий\n",
    "</center>\n",
    "Материал распространяется на условиях лицензии <a href=\"https://opensource.org/licenses/MS-RL\">Ms-RL</a>. Можно использовать в любых целях, кроме коммерческих, но с обязательным упоминанием автора материала."
   ]
  },
  {
   "cell_type": "markdown",
   "metadata": {},
   "source": [
    "# <center>Занятие 4. Обучение с учителем. Методы классификации\n",
    "## <center>Часть 2. Логистическая регрессия"
   ]
  },
  {
   "cell_type": "markdown",
   "metadata": {},
   "source": [
    "Основная идея логистической регрессии заключается в том, что пространство исходных значений может быть разделено линейной границей (гиперплоскостью) на две соответствующих классам области. Итак, что же имеется ввиду под линейной границей? В случае двух измерений — это просто прямая линия без изгибов. В случае трех — плоскость, и так далее. Эта граница задается в зависимости от имеющихся исходных данных и обучающего алгоритма. Чтобы все работало, точки исходных данных должны разделяться линейной границей на две вышеупомянутых области. Если точки исходных данных удовлетворяют этому требованию, то их можно назвать линейно разделяемыми."
   ]
  },
  {
   "cell_type": "markdown",
   "metadata": {},
   "source": [
    "<img src=\"../../img/logit.png\">"
   ]
  },
  {
   "cell_type": "markdown",
   "metadata": {},
   "source": [
    "Итак, мы имеем функцию, с помощью которой возможно получить значение в пределах ($-\\infty$,$\\infty$) имея точку исходных данных. Но каким образом преобразовать полученное значение в вероятность, пределы которой [0, 1]? Ответ — с помощью функции отношения вероятностей (OR).\n",
    "\n",
    "Обозначим *P(X)* вероятностью происходящего события *X*. Тогда, отношение вероятностей *OR(X)* определяется из $\\frac{P(X)}{1-P(X)}$, а это — отношение вероятностей того, произойдет ли событие или не произойдет. Очевидно, что вероятность и отношение шансов содержат одинаковую информацию. Но, в то время как *P(X)* находится в пределах от 0 до 1, *OR(X)* находится в пределах от 0 до $\\infty$.\n",
    "\n",
    "Это значит, что необходимо еще одно действие, так как используемая нами граничная функция выдает значения от $-\\infty$ до $\\infty$. Далее следует вычислить логарифм *OR(X)*, что называется логарифмом отношения вероятностей. В математическом смысле, *OR(X)* имеет пределы от 0 до $\\infty$, а **log(OR(X))** — от $-\\infty$ до $\\infty$.\n",
    "\n",
    "Таким образом, мы получили способ интерпретации результатов, подставленных в граничную функцию исходных значений. В используемой нами модели граничная функция определяет логарифм отношения шансов принадлежности к классу \"+\". Алгоритм логистической регрессии будет выглядеть следующим образом:\n",
    "\n",
    "**Шаг 1.** Вычислить значение $\\Large \\beta_{0}+\\beta_{1}x_1 + \\beta_{2}x_2 + ... = \\bar{\\beta}\\bar{x}$ граничной функции (она задает разделяющую гиперплоскость).\n",
    "\n",
    "\n",
    "**Шаг 2.** Вычислить логарифм отношения шансов: $\\Large log(OR_{+}) = \\bar{\\beta}\\bar{x}$.\n",
    "\n",
    "**Шаг 3.** Имея $OR_{+}$, вычислить $P_{+}$ с помощью простой зависимости.\n",
    "\n",
    "$\\Large P_{+} = \\frac{OR_{+}}{1 + OR_{+}} = \\frac{exp^{\\bar{\\beta}\\bar{x}}}{1 + \\exp^{\\bar{\\beta}\\bar{x}}} =  \\frac{1}{1 + \\exp^{-\\bar{\\beta}\\bar{x}}} = \\sigma(\\bar{\\beta}\\bar{x})$\n",
    "\n",
    "\n",
    "Правая часть уравнения, указанного выше, называется логистической (или сигмоид-) функцией. Отсюда и название, данное этой модели обучения."
   ]
  },
  {
   "cell_type": "markdown",
   "metadata": {},
   "source": [
    "<img src='../../img/sigmoid.png' width=60%>"
   ]
  },
  {
   "cell_type": "markdown",
   "metadata": {},
   "source": [
    "Плюс логистической регрессии в том, что она выдает вероятность отнесения к определенному классу. Это следует также и из принципа максимума правдоподобия."
   ]
  },
  {
   "cell_type": "markdown",
   "metadata": {},
   "source": [
    "$\\Large Pr(y = y_i|X = x) = \\frac{1}{1 + exp^{-\\bar{\\beta}\\bar{x}y_i}}$"
   ]
  },
  {
   "cell_type": "markdown",
   "metadata": {},
   "source": [
    "Обобщение на случай *K* классов:\n",
    "\n",
    "\n",
    "$\\Large log\\frac{Pr(y = 1|X = x)}{Pr(y = K|X = x)} = β_{T}^{(1)}x$\n",
    "\n",
    "\n",
    "$\\Large log\\frac{Pr(y = 2|X = x)}{Pr(y = K|X = x)} = β_{T}^{(2)}x$\n",
    "\n",
    "\n",
    " ...\n",
    " \n",
    " \n",
    "$\\Large  log\\frac{Pr(y = K − 1|X = x)}{Pr(y = K|X = x)}= β_{T}^{(K−1)}x.$"
   ]
  },
  {
   "cell_type": "markdown",
   "metadata": {},
   "source": [
    "Путем несложных преобразований можно получить:\n",
    "\n",
    "$\\Large Pr(y = K|X = x) = \\frac{1}{1 + \\sum_{l=1}^{K-1}exp(-β_{T}^{(l)}x)}$\n"
   ]
  },
  {
   "cell_type": "markdown",
   "metadata": {},
   "source": [
    "**Как обучается функция**\n",
    "\n",
    "Функция проводит количественную оценку вероятности того, что точка обучающей выборки классифицируется моделью правильным образом. Поэтому среднее значение для всей обучающей выборки показывает вероятность того, что случайная точка данных будет корректно классифицирована системой, независимо от возможного класса.\n",
    "\n",
    "По сути обучение сводится к максимизации функции максимального правдоподобия. Например, методом градиентного спуска (подъема).\n",
    "\n",
    "$$\\Large \\beta^{*} = argmax_\\beta{\\prod_{i=1}^K P\\{y = y^{(i)}, x = x^{(i)}, \\beta\\}}$$\n",
    "\n",
    "На практике максимизируют логарифм функции максимального правдоподобия:\n",
    "\n",
    "$$\\Large ln \\beta^{*} = argmax_\\beta{\\sum_{i=1}^K ln P\\{y = y^{(i)}, x = x^{(i)}, \\beta\\}} = \\sum_{i=1}^K y^{(i)}ln\\sigma(\\beta^Tx) + (1 - y^{(i)})ln(1 - \\sigma(\\beta^Tx))$$\n",
    "Такая функция ошибки (в конце под знаком суммы) называется log-loss."
   ]
  },
  {
   "cell_type": "markdown",
   "metadata": {},
   "source": [
    "<img src='../../img/logloss.png'>"
   ]
  },
  {
   "cell_type": "markdown",
   "metadata": {},
   "source": [
    "# Плюсы и минусы подхода\n",
    "\n",
    "Плюсы:\n",
    " - Модель выдает вероятности отнесения к разным классам (это очень ценится, например, в кредитном скоринге)\n",
    " - Коэффициенты перед признаками могут трактоваться как важности признаков\n",
    " - Модель может строить и нелинейную границу, если на вход подать степени признаков\n",
    " \n",
    "Минусы:\n",
    " - Подвержена проблеме мультиколлинеарности, как и линейная регрессия\n",
    " - Чаще всего не так хорошо работает, как SVM и ансамбли "
   ]
  },
  {
   "cell_type": "markdown",
   "metadata": {},
   "source": [
    "## Пример"
   ]
  },
  {
   "cell_type": "markdown",
   "metadata": {},
   "source": [
    "Набор данных которые мы будем использовать - данные об изменах, сам набор есть в Statsmodels. Он был создан из опросника в женском журнале Redbook (1974), в котором у женщин спрашивали про их внебрачную активность. Более подробная информация об исследовании <a href=\"http://fairmodel.econ.yale.edu/rayfair/pdf/1978a200.pdf\">доступна</a> в Journal of Political Economy (1978)."
   ]
  },
  {
   "cell_type": "markdown",
   "metadata": {},
   "source": [
    "#### Описание данных"
   ]
  },
  {
   "cell_type": "markdown",
   "metadata": {},
   "source": [
    "Всего в данных 6366 наблюдений из 9 переменных:\n",
    "\n",
    "* **rate_marriage**: женщина оценивает свой брак оценкой от 1 до 5, где (1 = все очень плохо, 5 = все очень хорошо)\n",
    "\n",
    "* **age**: возраст\n",
    "\n",
    "* **yrs_married**: длительность брака (в годах)\n",
    "\n",
    "* **children**: количество детей\n",
    "\n",
    "* **religious**: женщина оценивает свою религиозность, где (1 = атеист, 4 = сильно верующая)\n",
    "\n",
    "* **educ**: уровень образования (9 = grade school, 12 = high school, 14 = some college, 16 = college graduate, 17 = some graduate school, 20 = advanced degree)\n",
    "\n",
    "* **occupation**: занятость (1 = student, 2 = farming/semi-skilled/unskilled, 3 = \"white collar\", 4 = teacher/nurse/writer/technician/skilled, 5 = managerial/business, 6 = professional with advanced degree)\n",
    "\n",
    "* **occupation_husb**: профессия мужа (в кодировке сверху)\n",
    "\n",
    "* **affairs**: время проведенное \"в интригах\""
   ]
  },
  {
   "cell_type": "markdown",
   "metadata": {},
   "source": [
    "#### Постановка задачи"
   ]
  },
  {
   "cell_type": "markdown",
   "metadata": {},
   "source": [
    "Поставим задачу классификации, добавив бинарную переменную affair которая показывает, изменяла ли женщина хотя бы один раз или нет. И спрогнозируем значение для каждой женщины."
   ]
  },
  {
   "cell_type": "code",
   "execution_count": 1,
   "metadata": {
    "collapsed": false
   },
   "outputs": [
    {
     "name": "stdout",
     "output_type": "stream",
     "text": [
      "Populating the interactive namespace from numpy and matplotlib\n"
     ]
    }
   ],
   "source": [
    "from __future__ import division, print_function\n",
    "# отключим всякие предупреждения Anaconda\n",
    "import warnings\n",
    "warnings.filterwarnings('ignore')\n",
    "%pylab inline\n",
    "figsize(6,4)\n",
    "import seaborn as sns\n",
    "import operator\n",
    "import numpy as np\n",
    "import pandas as pd\n",
    "import matplotlib.pyplot as plt\n",
    "from patsy import dmatrices\n",
    "from sklearn.linear_model import LogisticRegression\n",
    "from sklearn.model_selection import train_test_split, cross_val_score\n",
    "from sklearn import metrics"
   ]
  },
  {
   "cell_type": "code",
   "execution_count": 2,
   "metadata": {
    "collapsed": false
   },
   "outputs": [],
   "source": [
    "# load dataset\n",
    "data = pd.read_csv('../../data/affairs.csv', index_col=0)"
   ]
  },
  {
   "cell_type": "code",
   "execution_count": 3,
   "metadata": {
    "collapsed": false
   },
   "outputs": [
    {
     "data": {
      "text/html": [
       "<div>\n",
       "<table border=\"1\" class=\"dataframe\">\n",
       "  <thead>\n",
       "    <tr style=\"text-align: right;\">\n",
       "      <th></th>\n",
       "      <th>rate_marriage</th>\n",
       "      <th>age</th>\n",
       "      <th>yrs_married</th>\n",
       "      <th>children</th>\n",
       "      <th>religious</th>\n",
       "      <th>educ</th>\n",
       "      <th>occupation</th>\n",
       "      <th>occupation_husb</th>\n",
       "      <th>affairs</th>\n",
       "    </tr>\n",
       "  </thead>\n",
       "  <tbody>\n",
       "    <tr>\n",
       "      <th>0</th>\n",
       "      <td>3.0</td>\n",
       "      <td>32.0</td>\n",
       "      <td>9.0</td>\n",
       "      <td>3.0</td>\n",
       "      <td>3.0</td>\n",
       "      <td>17.0</td>\n",
       "      <td>2.0</td>\n",
       "      <td>5.0</td>\n",
       "      <td>0.111111</td>\n",
       "    </tr>\n",
       "    <tr>\n",
       "      <th>1</th>\n",
       "      <td>3.0</td>\n",
       "      <td>27.0</td>\n",
       "      <td>13.0</td>\n",
       "      <td>3.0</td>\n",
       "      <td>1.0</td>\n",
       "      <td>14.0</td>\n",
       "      <td>3.0</td>\n",
       "      <td>4.0</td>\n",
       "      <td>3.230769</td>\n",
       "    </tr>\n",
       "    <tr>\n",
       "      <th>2</th>\n",
       "      <td>4.0</td>\n",
       "      <td>22.0</td>\n",
       "      <td>2.5</td>\n",
       "      <td>0.0</td>\n",
       "      <td>1.0</td>\n",
       "      <td>16.0</td>\n",
       "      <td>3.0</td>\n",
       "      <td>5.0</td>\n",
       "      <td>1.400000</td>\n",
       "    </tr>\n",
       "    <tr>\n",
       "      <th>3</th>\n",
       "      <td>4.0</td>\n",
       "      <td>37.0</td>\n",
       "      <td>16.5</td>\n",
       "      <td>4.0</td>\n",
       "      <td>3.0</td>\n",
       "      <td>16.0</td>\n",
       "      <td>5.0</td>\n",
       "      <td>5.0</td>\n",
       "      <td>0.727273</td>\n",
       "    </tr>\n",
       "    <tr>\n",
       "      <th>4</th>\n",
       "      <td>5.0</td>\n",
       "      <td>27.0</td>\n",
       "      <td>9.0</td>\n",
       "      <td>1.0</td>\n",
       "      <td>1.0</td>\n",
       "      <td>14.0</td>\n",
       "      <td>3.0</td>\n",
       "      <td>4.0</td>\n",
       "      <td>4.666666</td>\n",
       "    </tr>\n",
       "  </tbody>\n",
       "</table>\n",
       "</div>"
      ],
      "text/plain": [
       "   rate_marriage   age  yrs_married  children  religious  educ  occupation  \\\n",
       "0            3.0  32.0          9.0       3.0        3.0  17.0         2.0   \n",
       "1            3.0  27.0         13.0       3.0        1.0  14.0         3.0   \n",
       "2            4.0  22.0          2.5       0.0        1.0  16.0         3.0   \n",
       "3            4.0  37.0         16.5       4.0        3.0  16.0         5.0   \n",
       "4            5.0  27.0          9.0       1.0        1.0  14.0         3.0   \n",
       "\n",
       "   occupation_husb   affairs  \n",
       "0              5.0  0.111111  \n",
       "1              4.0  3.230769  \n",
       "2              5.0  1.400000  \n",
       "3              5.0  0.727273  \n",
       "4              4.0  4.666666  "
      ]
     },
     "execution_count": 3,
     "metadata": {},
     "output_type": "execute_result"
    }
   ],
   "source": [
    "data.head()"
   ]
  },
  {
   "cell_type": "code",
   "execution_count": 4,
   "metadata": {
    "collapsed": false
   },
   "outputs": [
    {
     "data": {
      "text/plain": [
       "0    0.111111\n",
       "1    3.230769\n",
       "2    1.400000\n",
       "3    0.727273\n",
       "4    4.666666\n",
       "Name: affairs, dtype: float64"
      ]
     },
     "execution_count": 4,
     "metadata": {},
     "output_type": "execute_result"
    }
   ],
   "source": [
    "data['affairs'].head()"
   ]
  },
  {
   "cell_type": "code",
   "execution_count": 5,
   "metadata": {
    "collapsed": false
   },
   "outputs": [],
   "source": [
    "# add \"affair\" column: 1 represents having affairs, 0 represents not\n",
    "data['affair'] = (data.affairs > 0).astype(int)"
   ]
  },
  {
   "cell_type": "code",
   "execution_count": 6,
   "metadata": {
    "collapsed": false
   },
   "outputs": [
    {
     "data": {
      "text/plain": [
       "(6366, 10)"
      ]
     },
     "execution_count": 6,
     "metadata": {},
     "output_type": "execute_result"
    }
   ],
   "source": [
    "data.shape"
   ]
  },
  {
   "cell_type": "code",
   "execution_count": 7,
   "metadata": {
    "collapsed": false
   },
   "outputs": [
    {
     "data": {
      "text/html": [
       "<div>\n",
       "<table border=\"1\" class=\"dataframe\">\n",
       "  <thead>\n",
       "    <tr style=\"text-align: right;\">\n",
       "      <th></th>\n",
       "      <th>rate_marriage</th>\n",
       "      <th>age</th>\n",
       "      <th>yrs_married</th>\n",
       "      <th>children</th>\n",
       "      <th>religious</th>\n",
       "      <th>educ</th>\n",
       "      <th>occupation</th>\n",
       "      <th>occupation_husb</th>\n",
       "      <th>affairs</th>\n",
       "    </tr>\n",
       "    <tr>\n",
       "      <th>affair</th>\n",
       "      <th></th>\n",
       "      <th></th>\n",
       "      <th></th>\n",
       "      <th></th>\n",
       "      <th></th>\n",
       "      <th></th>\n",
       "      <th></th>\n",
       "      <th></th>\n",
       "      <th></th>\n",
       "    </tr>\n",
       "  </thead>\n",
       "  <tbody>\n",
       "    <tr>\n",
       "      <th>0</th>\n",
       "      <td>4.329701</td>\n",
       "      <td>28.390679</td>\n",
       "      <td>7.989335</td>\n",
       "      <td>1.238813</td>\n",
       "      <td>2.504521</td>\n",
       "      <td>14.322977</td>\n",
       "      <td>3.405286</td>\n",
       "      <td>3.833758</td>\n",
       "      <td>0.000000</td>\n",
       "    </tr>\n",
       "    <tr>\n",
       "      <th>1</th>\n",
       "      <td>3.647345</td>\n",
       "      <td>30.537019</td>\n",
       "      <td>11.152460</td>\n",
       "      <td>1.728933</td>\n",
       "      <td>2.261568</td>\n",
       "      <td>13.972236</td>\n",
       "      <td>3.463712</td>\n",
       "      <td>3.884559</td>\n",
       "      <td>2.187243</td>\n",
       "    </tr>\n",
       "  </tbody>\n",
       "</table>\n",
       "</div>"
      ],
      "text/plain": [
       "        rate_marriage        age  yrs_married  children  religious       educ  \\\n",
       "affair                                                                          \n",
       "0            4.329701  28.390679     7.989335  1.238813   2.504521  14.322977   \n",
       "1            3.647345  30.537019    11.152460  1.728933   2.261568  13.972236   \n",
       "\n",
       "        occupation  occupation_husb   affairs  \n",
       "affair                                         \n",
       "0         3.405286         3.833758  0.000000  \n",
       "1         3.463712         3.884559  2.187243  "
      ]
     },
     "execution_count": 7,
     "metadata": {},
     "output_type": "execute_result"
    }
   ],
   "source": [
    "data.groupby('affair').mean()"
   ]
  },
  {
   "cell_type": "code",
   "execution_count": 8,
   "metadata": {
    "collapsed": false
   },
   "outputs": [
    {
     "data": {
      "text/html": [
       "<div>\n",
       "<table border=\"1\" class=\"dataframe\">\n",
       "  <thead>\n",
       "    <tr style=\"text-align: right;\">\n",
       "      <th></th>\n",
       "      <th>age</th>\n",
       "      <th>yrs_married</th>\n",
       "      <th>children</th>\n",
       "      <th>religious</th>\n",
       "      <th>educ</th>\n",
       "      <th>occupation</th>\n",
       "      <th>occupation_husb</th>\n",
       "      <th>affairs</th>\n",
       "      <th>affair</th>\n",
       "    </tr>\n",
       "    <tr>\n",
       "      <th>rate_marriage</th>\n",
       "      <th></th>\n",
       "      <th></th>\n",
       "      <th></th>\n",
       "      <th></th>\n",
       "      <th></th>\n",
       "      <th></th>\n",
       "      <th></th>\n",
       "      <th></th>\n",
       "      <th></th>\n",
       "    </tr>\n",
       "  </thead>\n",
       "  <tbody>\n",
       "    <tr>\n",
       "      <th>1.0</th>\n",
       "      <td>33.823232</td>\n",
       "      <td>13.914141</td>\n",
       "      <td>2.308081</td>\n",
       "      <td>2.343434</td>\n",
       "      <td>13.848485</td>\n",
       "      <td>3.232323</td>\n",
       "      <td>3.838384</td>\n",
       "      <td>1.201671</td>\n",
       "      <td>0.747475</td>\n",
       "    </tr>\n",
       "    <tr>\n",
       "      <th>2.0</th>\n",
       "      <td>30.471264</td>\n",
       "      <td>10.727011</td>\n",
       "      <td>1.735632</td>\n",
       "      <td>2.330460</td>\n",
       "      <td>13.864943</td>\n",
       "      <td>3.327586</td>\n",
       "      <td>3.764368</td>\n",
       "      <td>1.615745</td>\n",
       "      <td>0.635057</td>\n",
       "    </tr>\n",
       "    <tr>\n",
       "      <th>3.0</th>\n",
       "      <td>30.008056</td>\n",
       "      <td>10.239174</td>\n",
       "      <td>1.638469</td>\n",
       "      <td>2.308157</td>\n",
       "      <td>14.001007</td>\n",
       "      <td>3.402820</td>\n",
       "      <td>3.798590</td>\n",
       "      <td>1.371281</td>\n",
       "      <td>0.550856</td>\n",
       "    </tr>\n",
       "    <tr>\n",
       "      <th>4.0</th>\n",
       "      <td>28.856601</td>\n",
       "      <td>8.816905</td>\n",
       "      <td>1.369536</td>\n",
       "      <td>2.400981</td>\n",
       "      <td>14.144514</td>\n",
       "      <td>3.420161</td>\n",
       "      <td>3.835861</td>\n",
       "      <td>0.674837</td>\n",
       "      <td>0.322926</td>\n",
       "    </tr>\n",
       "    <tr>\n",
       "      <th>5.0</th>\n",
       "      <td>28.574702</td>\n",
       "      <td>8.311662</td>\n",
       "      <td>1.252794</td>\n",
       "      <td>2.506334</td>\n",
       "      <td>14.399776</td>\n",
       "      <td>3.454918</td>\n",
       "      <td>3.892697</td>\n",
       "      <td>0.348174</td>\n",
       "      <td>0.181446</td>\n",
       "    </tr>\n",
       "  </tbody>\n",
       "</table>\n",
       "</div>"
      ],
      "text/plain": [
       "                     age  yrs_married  children  religious       educ  \\\n",
       "rate_marriage                                                           \n",
       "1.0            33.823232    13.914141  2.308081   2.343434  13.848485   \n",
       "2.0            30.471264    10.727011  1.735632   2.330460  13.864943   \n",
       "3.0            30.008056    10.239174  1.638469   2.308157  14.001007   \n",
       "4.0            28.856601     8.816905  1.369536   2.400981  14.144514   \n",
       "5.0            28.574702     8.311662  1.252794   2.506334  14.399776   \n",
       "\n",
       "               occupation  occupation_husb   affairs    affair  \n",
       "rate_marriage                                                   \n",
       "1.0              3.232323         3.838384  1.201671  0.747475  \n",
       "2.0              3.327586         3.764368  1.615745  0.635057  \n",
       "3.0              3.402820         3.798590  1.371281  0.550856  \n",
       "4.0              3.420161         3.835861  0.674837  0.322926  \n",
       "5.0              3.454918         3.892697  0.348174  0.181446  "
      ]
     },
     "execution_count": 8,
     "metadata": {},
     "output_type": "execute_result"
    }
   ],
   "source": [
    "data.groupby('rate_marriage').mean()"
   ]
  },
  {
   "cell_type": "markdown",
   "metadata": {},
   "source": [
    "**Немного визуализации**"
   ]
  },
  {
   "cell_type": "code",
   "execution_count": 9,
   "metadata": {
    "collapsed": false
   },
   "outputs": [
    {
     "data": {
      "image/png": "[encoded data removed]",
      "text/plain": [
       "<matplotlib.figure.Figure at 0x11577f6d8>"
      ]
     },
     "metadata": {},
     "output_type": "display_data"
    }
   ],
   "source": [
    "# histogram of education\n",
    "data.educ.hist()\n",
    "plt.title('Histogram of Education')\n",
    "plt.xlabel('Education Level')\n",
    "plt.ylabel('Frequency');"
   ]
  },
  {
   "cell_type": "code",
   "execution_count": 10,
   "metadata": {
    "collapsed": false
   },
   "outputs": [
    {
     "data": {
      "image/png": "[encoded data removed]",
      "text/plain": [
       "<matplotlib.figure.Figure at 0x115bf2be0>"
      ]
     },
     "metadata": {},
     "output_type": "display_data"
    }
   ],
   "source": [
    "# histogram of marriage rating\n",
    "data.rate_marriage.hist()\n",
    "plt.title('Histogram of Marriage Rating')\n",
    "plt.xlabel('Marriage Rating')\n",
    "plt.ylabel('Frequency');"
   ]
  },
  {
   "cell_type": "code",
   "execution_count": 11,
   "metadata": {
    "collapsed": false
   },
   "outputs": [
    {
     "data": {
      "image/png": "[encoded data removed]",
      "text/plain": [
       "<matplotlib.figure.Figure at 0x115d279b0>"
      ]
     },
     "metadata": {},
     "output_type": "display_data"
    }
   ],
   "source": [
    "# barplot of marriage rating grouped by affair (True or False)\n",
    "pd.crosstab(data.rate_marriage, \n",
    "            data.affair.astype(bool)).plot(kind='bar')\n",
    "plt.title('Marriage Rating Distribution by Affair Status')\n",
    "plt.xlabel('Marriage Rating')\n",
    "plt.ylabel('Frequency');"
   ]
  },
  {
   "cell_type": "code",
   "execution_count": 12,
   "metadata": {
    "collapsed": false
   },
   "outputs": [
    {
     "data": {
      "image/png": "[encoded data removed]",
      "text/plain": [
       "<matplotlib.figure.Figure at 0x11873e470>"
      ]
     },
     "metadata": {},
     "output_type": "display_data"
    }
   ],
   "source": [
    "affair_yrs_married = pd.crosstab(data.yrs_married, \n",
    "                                 data.affair.astype(bool))\n",
    "affair_yrs_married.div(affair_yrs_married.sum(1).astype(float), \n",
    "                       axis=0).plot(kind='bar', stacked=True)\n",
    "plt.title('Affair Percentage by Years Married')\n",
    "plt.xlabel('Years Married')\n",
    "plt.ylabel('Percentage');"
   ]
  },
  {
   "cell_type": "markdown",
   "metadata": {},
   "source": [
    "**Готовим данные**"
   ]
  },
  {
   "cell_type": "markdown",
   "metadata": {},
   "source": [
    "Для подготовки данных добавим столбец с пересечением для occupation и occupation_husb и немного dummy переменных, поскольку будем рассматривать эти значения как категориальные. В этом поможет метод dmatrices модуля patsy."
   ]
  },
  {
   "cell_type": "code",
   "execution_count": 13,
   "metadata": {
    "collapsed": false
   },
   "outputs": [],
   "source": [
    "X = pd.concat([data,\n",
    "               pd.get_dummies(data['children'], prefix=\"ch\"),\n",
    "               pd.get_dummies(data['religious'], prefix=\"rel\"),\n",
    "               pd.get_dummies(data['rate_marriage'], prefix=\"mar\"),\n",
    "               pd.get_dummies(data['educ'], prefix=\"educ\"),\n",
    "               pd.get_dummies(data['occupation'], prefix=\"occ\"),\n",
    "               pd.get_dummies(data['occupation_husb'], prefix=\"occ_husb\")],\n",
    "               axis=1)"
   ]
  },
  {
   "cell_type": "code",
   "execution_count": 14,
   "metadata": {
    "collapsed": false
   },
   "outputs": [
    {
     "data": {
      "text/plain": [
       "Index(['rate_marriage', 'age', 'yrs_married', 'children', 'religious', 'educ',\n",
       "       'occupation', 'occupation_husb', 'affairs', 'affair', 'ch_0.0',\n",
       "       'ch_1.0', 'ch_2.0', 'ch_3.0', 'ch_4.0', 'ch_5.5', 'rel_1.0', 'rel_2.0',\n",
       "       'rel_3.0', 'rel_4.0', 'mar_1.0', 'mar_2.0', 'mar_3.0', 'mar_4.0',\n",
       "       'mar_5.0', 'educ_9.0', 'educ_12.0', 'educ_14.0', 'educ_16.0',\n",
       "       'educ_17.0', 'educ_20.0', 'occ_1.0', 'occ_2.0', 'occ_3.0', 'occ_4.0',\n",
       "       'occ_5.0', 'occ_6.0', 'occ_husb_1.0', 'occ_husb_2.0', 'occ_husb_3.0',\n",
       "       'occ_husb_4.0', 'occ_husb_5.0', 'occ_husb_6.0'],\n",
       "      dtype='object')"
      ]
     },
     "execution_count": 14,
     "metadata": {},
     "output_type": "execute_result"
    }
   ],
   "source": [
    "X.columns"
   ]
  },
  {
   "cell_type": "code",
   "execution_count": 15,
   "metadata": {
    "collapsed": false
   },
   "outputs": [],
   "source": [
    "y = data['affair']"
   ]
  },
  {
   "cell_type": "code",
   "execution_count": 16,
   "metadata": {
    "collapsed": false
   },
   "outputs": [],
   "source": [
    "X.drop(['rate_marriage', 'occupation', 'occupation_husb', 'religious', \n",
    "        'children', 'educ', 'affairs', 'affair', ], \n",
    "       axis=1, inplace=True)"
   ]
  },
  {
   "cell_type": "code",
   "execution_count": 17,
   "metadata": {
    "collapsed": false
   },
   "outputs": [
    {
     "data": {
      "text/html": [
       "<div>\n",
       "<table border=\"1\" class=\"dataframe\">\n",
       "  <thead>\n",
       "    <tr style=\"text-align: right;\">\n",
       "      <th></th>\n",
       "      <th>age</th>\n",
       "      <th>yrs_married</th>\n",
       "      <th>ch_0.0</th>\n",
       "      <th>ch_1.0</th>\n",
       "      <th>ch_2.0</th>\n",
       "      <th>ch_3.0</th>\n",
       "      <th>ch_4.0</th>\n",
       "      <th>ch_5.5</th>\n",
       "      <th>rel_1.0</th>\n",
       "      <th>rel_2.0</th>\n",
       "      <th>...</th>\n",
       "      <th>occ_3.0</th>\n",
       "      <th>occ_4.0</th>\n",
       "      <th>occ_5.0</th>\n",
       "      <th>occ_6.0</th>\n",
       "      <th>occ_husb_1.0</th>\n",
       "      <th>occ_husb_2.0</th>\n",
       "      <th>occ_husb_3.0</th>\n",
       "      <th>occ_husb_4.0</th>\n",
       "      <th>occ_husb_5.0</th>\n",
       "      <th>occ_husb_6.0</th>\n",
       "    </tr>\n",
       "  </thead>\n",
       "  <tbody>\n",
       "    <tr>\n",
       "      <th>0</th>\n",
       "      <td>32.0</td>\n",
       "      <td>9.0</td>\n",
       "      <td>0</td>\n",
       "      <td>0</td>\n",
       "      <td>0</td>\n",
       "      <td>1</td>\n",
       "      <td>0</td>\n",
       "      <td>0</td>\n",
       "      <td>0</td>\n",
       "      <td>0</td>\n",
       "      <td>...</td>\n",
       "      <td>0</td>\n",
       "      <td>0</td>\n",
       "      <td>0</td>\n",
       "      <td>0</td>\n",
       "      <td>0</td>\n",
       "      <td>0</td>\n",
       "      <td>0</td>\n",
       "      <td>0</td>\n",
       "      <td>1</td>\n",
       "      <td>0</td>\n",
       "    </tr>\n",
       "    <tr>\n",
       "      <th>1</th>\n",
       "      <td>27.0</td>\n",
       "      <td>13.0</td>\n",
       "      <td>0</td>\n",
       "      <td>0</td>\n",
       "      <td>0</td>\n",
       "      <td>1</td>\n",
       "      <td>0</td>\n",
       "      <td>0</td>\n",
       "      <td>1</td>\n",
       "      <td>0</td>\n",
       "      <td>...</td>\n",
       "      <td>1</td>\n",
       "      <td>0</td>\n",
       "      <td>0</td>\n",
       "      <td>0</td>\n",
       "      <td>0</td>\n",
       "      <td>0</td>\n",
       "      <td>0</td>\n",
       "      <td>1</td>\n",
       "      <td>0</td>\n",
       "      <td>0</td>\n",
       "    </tr>\n",
       "    <tr>\n",
       "      <th>2</th>\n",
       "      <td>22.0</td>\n",
       "      <td>2.5</td>\n",
       "      <td>1</td>\n",
       "      <td>0</td>\n",
       "      <td>0</td>\n",
       "      <td>0</td>\n",
       "      <td>0</td>\n",
       "      <td>0</td>\n",
       "      <td>1</td>\n",
       "      <td>0</td>\n",
       "      <td>...</td>\n",
       "      <td>1</td>\n",
       "      <td>0</td>\n",
       "      <td>0</td>\n",
       "      <td>0</td>\n",
       "      <td>0</td>\n",
       "      <td>0</td>\n",
       "      <td>0</td>\n",
       "      <td>0</td>\n",
       "      <td>1</td>\n",
       "      <td>0</td>\n",
       "    </tr>\n",
       "    <tr>\n",
       "      <th>3</th>\n",
       "      <td>37.0</td>\n",
       "      <td>16.5</td>\n",
       "      <td>0</td>\n",
       "      <td>0</td>\n",
       "      <td>0</td>\n",
       "      <td>0</td>\n",
       "      <td>1</td>\n",
       "      <td>0</td>\n",
       "      <td>0</td>\n",
       "      <td>0</td>\n",
       "      <td>...</td>\n",
       "      <td>0</td>\n",
       "      <td>0</td>\n",
       "      <td>1</td>\n",
       "      <td>0</td>\n",
       "      <td>0</td>\n",
       "      <td>0</td>\n",
       "      <td>0</td>\n",
       "      <td>0</td>\n",
       "      <td>1</td>\n",
       "      <td>0</td>\n",
       "    </tr>\n",
       "    <tr>\n",
       "      <th>4</th>\n",
       "      <td>27.0</td>\n",
       "      <td>9.0</td>\n",
       "      <td>0</td>\n",
       "      <td>1</td>\n",
       "      <td>0</td>\n",
       "      <td>0</td>\n",
       "      <td>0</td>\n",
       "      <td>0</td>\n",
       "      <td>1</td>\n",
       "      <td>0</td>\n",
       "      <td>...</td>\n",
       "      <td>1</td>\n",
       "      <td>0</td>\n",
       "      <td>0</td>\n",
       "      <td>0</td>\n",
       "      <td>0</td>\n",
       "      <td>0</td>\n",
       "      <td>0</td>\n",
       "      <td>1</td>\n",
       "      <td>0</td>\n",
       "      <td>0</td>\n",
       "    </tr>\n",
       "  </tbody>\n",
       "</table>\n",
       "<p>5 rows × 35 columns</p>\n",
       "</div>"
      ],
      "text/plain": [
       "    age  yrs_married  ch_0.0  ch_1.0  ch_2.0  ch_3.0  ch_4.0  ch_5.5  rel_1.0  \\\n",
       "0  32.0          9.0       0       0       0       1       0       0        0   \n",
       "1  27.0         13.0       0       0       0       1       0       0        1   \n",
       "2  22.0          2.5       1       0       0       0       0       0        1   \n",
       "3  37.0         16.5       0       0       0       0       1       0        0   \n",
       "4  27.0          9.0       0       1       0       0       0       0        1   \n",
       "\n",
       "   rel_2.0      ...       occ_3.0  occ_4.0  occ_5.0  occ_6.0  occ_husb_1.0  \\\n",
       "0        0      ...             0        0        0        0             0   \n",
       "1        0      ...             1        0        0        0             0   \n",
       "2        0      ...             1        0        0        0             0   \n",
       "3        0      ...             0        0        1        0             0   \n",
       "4        0      ...             1        0        0        0             0   \n",
       "\n",
       "   occ_husb_2.0  occ_husb_3.0  occ_husb_4.0  occ_husb_5.0  occ_husb_6.0  \n",
       "0             0             0             0             1             0  \n",
       "1             0             0             1             0             0  \n",
       "2             0             0             0             1             0  \n",
       "3             0             0             0             1             0  \n",
       "4             0             0             1             0             0  \n",
       "\n",
       "[5 rows x 35 columns]"
      ]
     },
     "execution_count": 17,
     "metadata": {},
     "output_type": "execute_result"
    }
   ],
   "source": [
    "X.head()"
   ]
  },
  {
   "cell_type": "markdown",
   "metadata": {},
   "source": [
    "**Теперь сама логистическая регрессия**"
   ]
  },
  {
   "cell_type": "code",
   "execution_count": 18,
   "metadata": {
    "collapsed": false
   },
   "outputs": [
    {
     "data": {
      "text/plain": [
       "0.72950047125353445"
      ]
     },
     "execution_count": 18,
     "metadata": {},
     "output_type": "execute_result"
    }
   ],
   "source": [
    "# instantiate a logistic regression model, and fit with X and y\n",
    "model = LogisticRegression()\n",
    "model = model.fit(X, y)\n",
    "\n",
    "# check the accuracy on the training set\n",
    "model.score(X, y)"
   ]
  },
  {
   "cell_type": "markdown",
   "metadata": {},
   "source": [
    "73% - довольно неплохой результат, но"
   ]
  },
  {
   "cell_type": "code",
   "execution_count": 19,
   "metadata": {
    "collapsed": false
   },
   "outputs": [
    {
     "data": {
      "text/plain": [
       "0.3224945020420987"
      ]
     },
     "execution_count": 19,
     "metadata": {},
     "output_type": "execute_result"
    }
   ],
   "source": [
    "# what percentage had affairs?\n",
    "y.mean()"
   ]
  },
  {
   "cell_type": "markdown",
   "metadata": {},
   "source": [
    "Только 32% изменяли, это значит что можно добиться 68% только предсказывая \"no\". Видно, что наш результат лучше, но не намного.\n",
    "\n",
    "Посмотрим на коэффициенты:"
   ]
  },
  {
   "cell_type": "code",
   "execution_count": 20,
   "metadata": {
    "collapsed": false
   },
   "outputs": [
    {
     "data": {
      "text/plain": [
       "[('mar_5.0', -1.263088351866507),\n",
       " ('mar_1.0', 1.0686631874327577),\n",
       " ('rel_4.0', -0.66257968045808846),\n",
       " ('mar_2.0', 0.64096228699913493),\n",
       " ('rel_1.0', 0.61311849435634236),\n",
       " ('mar_4.0', -0.56481251789375997),\n",
       " ('occ_6.0', 0.53937385943546468),\n",
       " ('occ_1.0', -0.52152888682816312),\n",
       " ('occ_5.0', 0.44056874148330455),\n",
       " ('mar_3.0', 0.31010515909513603),\n",
       " ('ch_2.0', 0.29274137654584786),\n",
       " ('rel_2.0', 0.27725992037842334),\n",
       " ('ch_1.0', 0.23255984362363757),\n",
       " ('occ_2.0', -0.21435806404276725),\n",
       " ('educ_14.0', 0.19649697285537115),\n",
       " ('ch_5.5', -0.17218725621256306),\n",
       " ('ch_0.0', -0.15565014781124595),\n",
       " ('occ_husb_3.0', 0.1361523741627694),\n",
       " ('occ_4.0', -0.13544679431504655),\n",
       " ('educ_17.0', 0.10911223893486187),\n",
       " ('yrs_married', 0.1019483629461934),\n",
       " ('occ_3.0', 0.083220908033630636),\n",
       " ('occ_husb_1.0', -0.062455837052018431),\n",
       " ('ch_4.0', -0.060058477438128935),\n",
       " ('age', -0.057021796943069372),\n",
       " ('ch_3.0', 0.05442442505921867),\n",
       " ('occ_husb_6.0', 0.050726216119812824),\n",
       " ('educ_20.0', -0.043936700313954094),\n",
       " ('occ_husb_2.0', 0.040812922501082122),\n",
       " ('educ_9.0', -0.037483686823325285),\n",
       " ('rel_3.0', -0.035968970509903726),\n",
       " ('occ_husb_5.0', 0.029141464071638996),\n",
       " ('educ_16.0', -0.028252522766725408),\n",
       " ('educ_12.0', -0.0041065381194903723),\n",
       " ('occ_husb_4.0', -0.002547376036383114)]"
      ]
     },
     "execution_count": 20,
     "metadata": {},
     "output_type": "execute_result"
    }
   ],
   "source": [
    "# examine the coefficients\n",
    "coef_table = {}\n",
    "for var, coef in zip(X.columns, np.transpose(model.coef_)):\n",
    "    coef_table[var] = coef[0]\n",
    "sorted(coef_table.items(), key=lambda pair: -abs(pair[1]))"
   ]
  },
  {
   "cell_type": "markdown",
   "metadata": {},
   "source": [
    "Рост значений в показателях: качество брака и религиозности негативно сказывается на вероятности измены (довольно логичное наблюдение). Для профессии наименьшая вероятность измены как у жены, так и у мужа - базовая (студенты)."
   ]
  },
  {
   "cell_type": "markdown",
   "metadata": {},
   "source": [
    "**Оценка модели**"
   ]
  },
  {
   "cell_type": "code",
   "execution_count": 21,
   "metadata": {
    "collapsed": false
   },
   "outputs": [
    {
     "data": {
      "text/plain": [
       "LogisticRegression(C=1.0, class_weight=None, dual=False, fit_intercept=True,\n",
       "          intercept_scaling=1, max_iter=100, multi_class='ovr', n_jobs=1,\n",
       "          penalty='l2', random_state=None, solver='liblinear', tol=0.0001,\n",
       "          verbose=0, warm_start=False)"
      ]
     },
     "execution_count": 21,
     "metadata": {},
     "output_type": "execute_result"
    }
   ],
   "source": [
    "# evaluate the model by splitting into train and test sets\n",
    "X_train, X_test, y_train, y_test = train_test_split(X, y, \n",
    "                                                    test_size=0.3, \n",
    "                                                    random_state=0)\n",
    "model2 = LogisticRegression()\n",
    "model2.fit(X_train, y_train)"
   ]
  },
  {
   "cell_type": "markdown",
   "metadata": {},
   "source": [
    "Теперь надо разметить тестовую выборку."
   ]
  },
  {
   "cell_type": "code",
   "execution_count": 22,
   "metadata": {
    "collapsed": false
   },
   "outputs": [
    {
     "data": {
      "text/plain": [
       "array([1, 0, 0, ..., 0, 0, 0])"
      ]
     },
     "execution_count": 22,
     "metadata": {},
     "output_type": "execute_result"
    }
   ],
   "source": [
    "# predict class labels for the test set\n",
    "predicted = model2.predict(X_test)\n",
    "predicted"
   ]
  },
  {
   "cell_type": "code",
   "execution_count": 23,
   "metadata": {
    "collapsed": false
   },
   "outputs": [
    {
     "data": {
      "text/plain": [
       "array([[ 0.24934975,  0.75065025],\n",
       "       [ 0.94414949,  0.05585051],\n",
       "       [ 0.74447549,  0.25552451],\n",
       "       ..., \n",
       "       [ 0.61217716,  0.38782284],\n",
       "       [ 0.84828399,  0.15171601],\n",
       "       [ 0.67759931,  0.32240069]])"
      ]
     },
     "execution_count": 23,
     "metadata": {},
     "output_type": "execute_result"
    }
   ],
   "source": [
    "# generate class probabilities\n",
    "probs = model2.predict_proba(X_test)\n",
    "probs"
   ]
  },
  {
   "cell_type": "markdown",
   "metadata": {},
   "source": [
    "Как можно заметить, классификатор выдает 1 (измена была) каждый раз, когда вероятность больше чем 0.5.\n",
    "Давайте посмотрим результат на стандартных метриках."
   ]
  },
  {
   "cell_type": "code",
   "execution_count": 24,
   "metadata": {
    "collapsed": false
   },
   "outputs": [
    {
     "name": "stdout",
     "output_type": "stream",
     "text": [
      "0.728795811518\n",
      "0.751038346434\n"
     ]
    }
   ],
   "source": [
    "# generate evaluation metrics\n",
    "print(metrics.accuracy_score(y_test, predicted))\n",
    "print(metrics.roc_auc_score(y_test, probs[:, 1]))"
   ]
  },
  {
   "cell_type": "code",
   "execution_count": 25,
   "metadata": {
    "collapsed": false
   },
   "outputs": [
    {
     "name": "stdout",
     "output_type": "stream",
     "text": [
      "[[1154  149]\n",
      " [ 369  238]]\n",
      "             precision    recall  f1-score   support\n",
      "\n",
      "          0       0.76      0.89      0.82      1303\n",
      "          1       0.61      0.39      0.48       607\n",
      "\n",
      "avg / total       0.71      0.73      0.71      1910\n",
      "\n"
     ]
    }
   ],
   "source": [
    "print(metrics.confusion_matrix(y_test, predicted))\n",
    "print(metrics.classification_report(y_test, predicted))"
   ]
  },
  {
   "cell_type": "markdown",
   "metadata": {},
   "source": [
    "**Кросс-валидация**"
   ]
  },
  {
   "cell_type": "code",
   "execution_count": 26,
   "metadata": {
    "collapsed": false
   },
   "outputs": [
    {
     "name": "stdout",
     "output_type": "stream",
     "text": [
      "[ 0.71943574  0.68808777  0.73510972  0.70125786  0.70440252  0.74213836\n",
      "  0.73113208  0.70283019  0.74842767  0.76100629] 0.723382819739\n"
     ]
    }
   ],
   "source": [
    "# evaluate the model using 10-fold cross-validation\n",
    "scores = cross_val_score(LogisticRegression(), X, y, \n",
    "                         scoring='accuracy', cv=10)\n",
    "print(scores, scores.mean())"
   ]
  }
 ],
 "metadata": {
  "anaconda-cloud": {},
  "kernelspec": {
   "display_name": "Python [default]",
   "language": "python",
   "name": "python3"
  },
  "language_info": {
   "codemirror_mode": {
    "name": "ipython",
    "version": 3
   },
   "file_extension": ".py",
   "mimetype": "text/x-python",
   "name": "python",
   "nbconvert_exporter": "python",
   "pygments_lexer": "ipython3",
   "version": "3.5.2"
  },
  "name": "lesson6_part4_logit.ipynb"
 },
 "nbformat": 4,
 "nbformat_minor": 0
}
