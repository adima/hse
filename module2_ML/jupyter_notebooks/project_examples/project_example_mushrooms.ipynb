{
 "cells": [
  {
   "cell_type": "markdown",
   "metadata": {},
   "source": [
    "<center>\n",
    "# Майнор \"Интеллектуальный анализ данных\" \n",
    "# Курс \"Введение в анализ данных\"\n",
    "# Mushroom DataSet from OpenML\n",
    "<img src=\"../../img/mushroom.jpg\">\n",
    "## Автор материала: Студент ФКН ПИ НИУ ВШЭ\n",
    "## ПУТРО ПАВЕЛ\n",
    "</center>\n",
    "<a href=\"\"></a>"
   ]
  },
  {
   "cell_type": "markdown",
   "metadata": {},
   "source": [
    "### <center>\n",
    "Набор взят с сайта OpenML.org<br>\n",
    "<a href=\"\">http://www.openml.org/d/24</a><br>\n",
    "Коротко о наборе: \n",
    "В наборе представленны 8124 экземпляра 23-х видов пластинчатых грибов из рода шампьньонов, среди них есть точно съедобные, есть точно ядовитые и те которые ещё никто не рискнул попробывать(=ядовитые). При этом нет строгого правила какой гриб будет ядовитым, а какой нет.<br>\n",
    "Задание состоит в том, чтобы определить съедобность грибов, причём, если ошибки второго рода (ложные срабатывания) вполне себе можно пережить, то ошибки первого рода могут быть фатальны для горе-грибников предпочитающих подобные классификаторы своему опыту и здравому смыслу.\n",
    "<img src=\"../../img/gilled_mushoorms.jpg\" height=\"360\" width=\"360\">\n",
    "# Приятного апетита!\n",
    "</center>"
   ]
  },
  {
   "cell_type": "code",
   "execution_count": 1,
   "metadata": {
    "collapsed": false
   },
   "outputs": [
    {
     "name": "stdout",
     "output_type": "stream",
     "text": [
      "Populating the interactive namespace from numpy and matplotlib\n"
     ]
    }
   ],
   "source": [
    "# Python 2 and 3 compatibility\n",
    "from __future__ import (absolute_import, division,\n",
    "                        print_function, unicode_literals)\n",
    "# отключим предупреждения Anaconda\n",
    "import warnings\n",
    "warnings.simplefilter('ignore')\n",
    "import pandas as pd\n",
    "%pylab inline\n",
    "import seaborn as sns\n",
    "import matplotlib.pyplot as plt"
   ]
  },
  {
   "cell_type": "markdown",
   "metadata": {},
   "source": [
    "Опишем признаки по-подробней:\n",
    "Все признаки представленны символами английского алфавита. Пропущенные значения обозначаются знаком ?.\n",
    "Всего 2 класса class: съедобные(edible)=e, ядовитые(poisonous)=p\n",
    "И 22 атрибута (перевод. Оригинал можно взять на сайте):\n",
    "\n",
    "Поясняющая картинка:\n",
    "<img src=\"../../img/plan.jpg\" height=\"360\" width=\"360\">\n",
    "Атрибуты:\n",
    "1. форма шляпки cap-shape: \n",
    "колокол=b, коническая=c, выпуклая=x, плоская=f, кнопка=k, вогнутая=s\n",
    "2. поверхность шляпки cap-surface: \n",
    "волокнистая=f, с рифельная=g, чашуйчатая=y, ровная=s\n",
    "3. цвет шляпки cap-color: \n",
    "коричневый=n, тёмно-жёлтый=b,светло-коричнев=c,серый=g,зелёный=r, розовый=p, фиолетовый=u, красный=e, белый=w, желтый=y\n",
    "4. Посинения? bruises?: \n",
    "есть=t, нет=f\n",
    "5. Запах odor: \n",
    "миндаль=a, анис=l, креозот=c, рыбный=y, дурной=f, затхлый=m, нет=n, едкий=p, пряный=s\n",
    "6. положение пластинок gill-attachment: \n",
    "прилегают=a, сужаются=d, свободно=f, зазубренные=n\n",
    "7. интервал между пластинками gill-spacing: \n",
    "вплотную=c, небольшой=w, крупный=d\n",
    "8. размер пластинок gill-size: \n",
    "широкая=b, узкая=n\n",
    "9. цвет пластинок gill-color: \n",
    "чёрная=k, коричневая=n, тёмно-жёлтая=b, шоколадная=h, серая=g, зелёная=r, оранжевая=o, розовая=p, фиолетовая=u, красная=e, белая=w, жёлтая=y\n",
    "10. форма ножки stalk-shape: \n",
    "расширяющаяся=e, сужающаяся=t\n",
    "11. корень ножки stalk-root: \n",
    "луковица=b, клубень=c, чашка=u, ровная=e, rhizomorphs=z, корень=r, пропущенно=?\n",
    "12. поверхность ножки выше кольца stalk-surface-above-ring: \n",
    "волокнистая=f, чешуйчатая=y, шелковистая=k, ровная=s\n",
    "13. поверхность ножки ниже кольца stalk-surface-below-ring: \n",
    "волокнистая=f, чешуйчатая=y, шелковистая=k, ровная=s\n",
    "14. цвет ножки выше юбки stalk-color-above-ring: \n",
    "коричневая=n, тёмно-жёлтая=b, светло-коричневая=c, серая=g, оранжевая=o, розовая=p, красная=e, белая=w, жёлтая=y\n",
    "15. цвет ножки ниже юбки stalk-color-below-ring: \n",
    "коричневая=n, тёмно-жёлтая=b, светло-коричневая=c, серая=g, оранжевая=o, розовая=p, красная=e, белая=w, жёлтая=y\n",
    "16. тип вольвы veil-type: \n",
    "частичная=p, полная=u\n",
    "17. цвет вольвы veil-color: \n",
    "коричневая=n, оранжевая=o, белая=w, жёлтая=y\n",
    "18. количество колец (юбок) ring-number: \n",
    "нет=n, одно=o, два=t\n",
    "19. тип колец (юбок) ring-type: \n",
    "паутина=c, исчезающая=e, расширяющаяся=f, большая=l, нет=n, висячая=p, обшивка=s, пояс=z\n",
    "20. цвет отпечатка спор spore-print-color: чёрный=k, коричневый=n, тёмно-жёлный=b, шоколадный=h, зелёный=r, оранжевый=o, фиолетовый=u, белый=w, жёлтый=y\n",
    "21. Популяция population: \n",
    "широкая=a, кластерная=c, многочисленная=n, разрозненная=s, немногочисленная=v, одиночные=y\n",
    "22. Среда обитания habitat: \n",
    "трава=g, листья=l, луга=m, дороги=p, города=u, отходы=w, лес=d"
   ]
  },
  {
   "cell_type": "markdown",
   "metadata": {},
   "source": [
    "Изначальный набор данных представлев в формате arff поэтому конвертируем его в csv например здесь: <a href=\"\">http://web.cs.ucla.edu/~padhi/arff2csv/</a><br>\n",
    "После конвертации неплохо удалить кавычки из имён колонок и заменить #F3 на знак ?"
   ]
  },
  {
   "cell_type": "code",
   "execution_count": 2,
   "metadata": {
    "collapsed": true
   },
   "outputs": [],
   "source": [
    "mushrooms = pd.read_csv(\"../../data/mushrooms.csv\")"
   ]
  },
  {
   "cell_type": "markdown",
   "metadata": {},
   "source": [
    "Посмотрим (пристальным взглядом) на данные"
   ]
  },
  {
   "cell_type": "code",
   "execution_count": 3,
   "metadata": {
    "collapsed": false
   },
   "outputs": [
    {
     "data": {
      "text/html": [
       "<div>\n",
       "<table border=\"1\" class=\"dataframe\">\n",
       "  <thead>\n",
       "    <tr style=\"text-align: right;\">\n",
       "      <th></th>\n",
       "      <th>cap-shape</th>\n",
       "      <th>cap-surface</th>\n",
       "      <th>cap-color</th>\n",
       "      <th>bruises?</th>\n",
       "      <th>odor</th>\n",
       "      <th>gill-attachment</th>\n",
       "      <th>gill-spacing</th>\n",
       "      <th>gill-size</th>\n",
       "      <th>gill-color</th>\n",
       "      <th>stalk-shape</th>\n",
       "      <th>...</th>\n",
       "      <th>stalk-color-above-ring</th>\n",
       "      <th>stalk-color-below-ring</th>\n",
       "      <th>veil-type</th>\n",
       "      <th>veil-color</th>\n",
       "      <th>ring-number</th>\n",
       "      <th>ring-type</th>\n",
       "      <th>spore-print-color</th>\n",
       "      <th>population</th>\n",
       "      <th>habitat</th>\n",
       "      <th>class</th>\n",
       "    </tr>\n",
       "  </thead>\n",
       "  <tbody>\n",
       "    <tr>\n",
       "      <th>0</th>\n",
       "      <td>'x'</td>\n",
       "      <td>'s'</td>\n",
       "      <td>'n'</td>\n",
       "      <td>'t'</td>\n",
       "      <td>'p'</td>\n",
       "      <td>'f'</td>\n",
       "      <td>'c'</td>\n",
       "      <td>'n'</td>\n",
       "      <td>'k'</td>\n",
       "      <td>'e'</td>\n",
       "      <td>...</td>\n",
       "      <td>'w'</td>\n",
       "      <td>'w'</td>\n",
       "      <td>'p'</td>\n",
       "      <td>'w'</td>\n",
       "      <td>'o'</td>\n",
       "      <td>'p'</td>\n",
       "      <td>'k'</td>\n",
       "      <td>'s'</td>\n",
       "      <td>'u'</td>\n",
       "      <td>'p'</td>\n",
       "    </tr>\n",
       "    <tr>\n",
       "      <th>1</th>\n",
       "      <td>'x'</td>\n",
       "      <td>'s'</td>\n",
       "      <td>'y'</td>\n",
       "      <td>'t'</td>\n",
       "      <td>'a'</td>\n",
       "      <td>'f'</td>\n",
       "      <td>'c'</td>\n",
       "      <td>'b'</td>\n",
       "      <td>'k'</td>\n",
       "      <td>'e'</td>\n",
       "      <td>...</td>\n",
       "      <td>'w'</td>\n",
       "      <td>'w'</td>\n",
       "      <td>'p'</td>\n",
       "      <td>'w'</td>\n",
       "      <td>'o'</td>\n",
       "      <td>'p'</td>\n",
       "      <td>'n'</td>\n",
       "      <td>'n'</td>\n",
       "      <td>'g'</td>\n",
       "      <td>'e'</td>\n",
       "    </tr>\n",
       "    <tr>\n",
       "      <th>2</th>\n",
       "      <td>'b'</td>\n",
       "      <td>'s'</td>\n",
       "      <td>'w'</td>\n",
       "      <td>'t'</td>\n",
       "      <td>'l'</td>\n",
       "      <td>'f'</td>\n",
       "      <td>'c'</td>\n",
       "      <td>'b'</td>\n",
       "      <td>'n'</td>\n",
       "      <td>'e'</td>\n",
       "      <td>...</td>\n",
       "      <td>'w'</td>\n",
       "      <td>'w'</td>\n",
       "      <td>'p'</td>\n",
       "      <td>'w'</td>\n",
       "      <td>'o'</td>\n",
       "      <td>'p'</td>\n",
       "      <td>'n'</td>\n",
       "      <td>'n'</td>\n",
       "      <td>'m'</td>\n",
       "      <td>'e'</td>\n",
       "    </tr>\n",
       "    <tr>\n",
       "      <th>3</th>\n",
       "      <td>'x'</td>\n",
       "      <td>'y'</td>\n",
       "      <td>'w'</td>\n",
       "      <td>'t'</td>\n",
       "      <td>'p'</td>\n",
       "      <td>'f'</td>\n",
       "      <td>'c'</td>\n",
       "      <td>'n'</td>\n",
       "      <td>'n'</td>\n",
       "      <td>'e'</td>\n",
       "      <td>...</td>\n",
       "      <td>'w'</td>\n",
       "      <td>'w'</td>\n",
       "      <td>'p'</td>\n",
       "      <td>'w'</td>\n",
       "      <td>'o'</td>\n",
       "      <td>'p'</td>\n",
       "      <td>'k'</td>\n",
       "      <td>'s'</td>\n",
       "      <td>'u'</td>\n",
       "      <td>'p'</td>\n",
       "    </tr>\n",
       "    <tr>\n",
       "      <th>4</th>\n",
       "      <td>'x'</td>\n",
       "      <td>'s'</td>\n",
       "      <td>'g'</td>\n",
       "      <td>'f'</td>\n",
       "      <td>'n'</td>\n",
       "      <td>'f'</td>\n",
       "      <td>'w'</td>\n",
       "      <td>'b'</td>\n",
       "      <td>'k'</td>\n",
       "      <td>'t'</td>\n",
       "      <td>...</td>\n",
       "      <td>'w'</td>\n",
       "      <td>'w'</td>\n",
       "      <td>'p'</td>\n",
       "      <td>'w'</td>\n",
       "      <td>'o'</td>\n",
       "      <td>'e'</td>\n",
       "      <td>'n'</td>\n",
       "      <td>'a'</td>\n",
       "      <td>'g'</td>\n",
       "      <td>'e'</td>\n",
       "    </tr>\n",
       "  </tbody>\n",
       "</table>\n",
       "<p>5 rows × 23 columns</p>\n",
       "</div>"
      ],
      "text/plain": [
       "  cap-shape cap-surface cap-color bruises? odor gill-attachment gill-spacing  \\\n",
       "0       'x'         's'       'n'      't'  'p'             'f'          'c'   \n",
       "1       'x'         's'       'y'      't'  'a'             'f'          'c'   \n",
       "2       'b'         's'       'w'      't'  'l'             'f'          'c'   \n",
       "3       'x'         'y'       'w'      't'  'p'             'f'          'c'   \n",
       "4       'x'         's'       'g'      'f'  'n'             'f'          'w'   \n",
       "\n",
       "  gill-size gill-color stalk-shape  ...  stalk-color-above-ring  \\\n",
       "0       'n'        'k'         'e'  ...                     'w'   \n",
       "1       'b'        'k'         'e'  ...                     'w'   \n",
       "2       'b'        'n'         'e'  ...                     'w'   \n",
       "3       'n'        'n'         'e'  ...                     'w'   \n",
       "4       'b'        'k'         't'  ...                     'w'   \n",
       "\n",
       "  stalk-color-below-ring veil-type veil-color ring-number ring-type  \\\n",
       "0                    'w'       'p'        'w'         'o'       'p'   \n",
       "1                    'w'       'p'        'w'         'o'       'p'   \n",
       "2                    'w'       'p'        'w'         'o'       'p'   \n",
       "3                    'w'       'p'        'w'         'o'       'p'   \n",
       "4                    'w'       'p'        'w'         'o'       'e'   \n",
       "\n",
       "  spore-print-color population habitat class  \n",
       "0               'k'        's'     'u'   'p'  \n",
       "1               'n'        'n'     'g'   'e'  \n",
       "2               'n'        'n'     'm'   'e'  \n",
       "3               'k'        's'     'u'   'p'  \n",
       "4               'n'        'a'     'g'   'e'  \n",
       "\n",
       "[5 rows x 23 columns]"
      ]
     },
     "execution_count": 3,
     "metadata": {},
     "output_type": "execute_result"
    }
   ],
   "source": [
    "mushrooms.head()"
   ]
  },
  {
   "cell_type": "code",
   "execution_count": 4,
   "metadata": {
    "collapsed": false
   },
   "outputs": [
    {
     "data": {
      "text/html": [
       "<div>\n",
       "<table border=\"1\" class=\"dataframe\">\n",
       "  <thead>\n",
       "    <tr style=\"text-align: right;\">\n",
       "      <th></th>\n",
       "      <th>count</th>\n",
       "      <th>unique</th>\n",
       "      <th>top</th>\n",
       "      <th>freq</th>\n",
       "    </tr>\n",
       "  </thead>\n",
       "  <tbody>\n",
       "    <tr>\n",
       "      <th>cap-shape</th>\n",
       "      <td>8124</td>\n",
       "      <td>6</td>\n",
       "      <td>'x'</td>\n",
       "      <td>3656</td>\n",
       "    </tr>\n",
       "    <tr>\n",
       "      <th>cap-surface</th>\n",
       "      <td>8124</td>\n",
       "      <td>4</td>\n",
       "      <td>'y'</td>\n",
       "      <td>3244</td>\n",
       "    </tr>\n",
       "    <tr>\n",
       "      <th>cap-color</th>\n",
       "      <td>8124</td>\n",
       "      <td>10</td>\n",
       "      <td>'n'</td>\n",
       "      <td>2284</td>\n",
       "    </tr>\n",
       "    <tr>\n",
       "      <th>bruises?</th>\n",
       "      <td>8124</td>\n",
       "      <td>2</td>\n",
       "      <td>'f'</td>\n",
       "      <td>4748</td>\n",
       "    </tr>\n",
       "    <tr>\n",
       "      <th>odor</th>\n",
       "      <td>8124</td>\n",
       "      <td>9</td>\n",
       "      <td>'n'</td>\n",
       "      <td>3528</td>\n",
       "    </tr>\n",
       "    <tr>\n",
       "      <th>gill-attachment</th>\n",
       "      <td>8124</td>\n",
       "      <td>2</td>\n",
       "      <td>'f'</td>\n",
       "      <td>7914</td>\n",
       "    </tr>\n",
       "    <tr>\n",
       "      <th>gill-spacing</th>\n",
       "      <td>8124</td>\n",
       "      <td>2</td>\n",
       "      <td>'c'</td>\n",
       "      <td>6812</td>\n",
       "    </tr>\n",
       "    <tr>\n",
       "      <th>gill-size</th>\n",
       "      <td>8124</td>\n",
       "      <td>2</td>\n",
       "      <td>'b'</td>\n",
       "      <td>5612</td>\n",
       "    </tr>\n",
       "    <tr>\n",
       "      <th>gill-color</th>\n",
       "      <td>8124</td>\n",
       "      <td>12</td>\n",
       "      <td>'b'</td>\n",
       "      <td>1728</td>\n",
       "    </tr>\n",
       "    <tr>\n",
       "      <th>stalk-shape</th>\n",
       "      <td>8124</td>\n",
       "      <td>2</td>\n",
       "      <td>'t'</td>\n",
       "      <td>4608</td>\n",
       "    </tr>\n",
       "    <tr>\n",
       "      <th>stalk-root</th>\n",
       "      <td>8124</td>\n",
       "      <td>5</td>\n",
       "      <td>'b'</td>\n",
       "      <td>3776</td>\n",
       "    </tr>\n",
       "    <tr>\n",
       "      <th>stalk-surface-above-ring</th>\n",
       "      <td>8124</td>\n",
       "      <td>4</td>\n",
       "      <td>'s'</td>\n",
       "      <td>5176</td>\n",
       "    </tr>\n",
       "    <tr>\n",
       "      <th>stalk-surface-below-ring</th>\n",
       "      <td>8124</td>\n",
       "      <td>4</td>\n",
       "      <td>'s'</td>\n",
       "      <td>4936</td>\n",
       "    </tr>\n",
       "    <tr>\n",
       "      <th>stalk-color-above-ring</th>\n",
       "      <td>8124</td>\n",
       "      <td>9</td>\n",
       "      <td>'w'</td>\n",
       "      <td>4464</td>\n",
       "    </tr>\n",
       "    <tr>\n",
       "      <th>stalk-color-below-ring</th>\n",
       "      <td>8124</td>\n",
       "      <td>9</td>\n",
       "      <td>'w'</td>\n",
       "      <td>4384</td>\n",
       "    </tr>\n",
       "    <tr>\n",
       "      <th>veil-type</th>\n",
       "      <td>8124</td>\n",
       "      <td>1</td>\n",
       "      <td>'p'</td>\n",
       "      <td>8124</td>\n",
       "    </tr>\n",
       "    <tr>\n",
       "      <th>veil-color</th>\n",
       "      <td>8124</td>\n",
       "      <td>4</td>\n",
       "      <td>'w'</td>\n",
       "      <td>7924</td>\n",
       "    </tr>\n",
       "    <tr>\n",
       "      <th>ring-number</th>\n",
       "      <td>8124</td>\n",
       "      <td>3</td>\n",
       "      <td>'o'</td>\n",
       "      <td>7488</td>\n",
       "    </tr>\n",
       "    <tr>\n",
       "      <th>ring-type</th>\n",
       "      <td>8124</td>\n",
       "      <td>5</td>\n",
       "      <td>'p'</td>\n",
       "      <td>3968</td>\n",
       "    </tr>\n",
       "    <tr>\n",
       "      <th>spore-print-color</th>\n",
       "      <td>8124</td>\n",
       "      <td>9</td>\n",
       "      <td>'w'</td>\n",
       "      <td>2388</td>\n",
       "    </tr>\n",
       "    <tr>\n",
       "      <th>population</th>\n",
       "      <td>8124</td>\n",
       "      <td>6</td>\n",
       "      <td>'v'</td>\n",
       "      <td>4040</td>\n",
       "    </tr>\n",
       "    <tr>\n",
       "      <th>habitat</th>\n",
       "      <td>8124</td>\n",
       "      <td>7</td>\n",
       "      <td>'d'</td>\n",
       "      <td>3148</td>\n",
       "    </tr>\n",
       "    <tr>\n",
       "      <th>class</th>\n",
       "      <td>8124</td>\n",
       "      <td>2</td>\n",
       "      <td>'e'</td>\n",
       "      <td>4208</td>\n",
       "    </tr>\n",
       "  </tbody>\n",
       "</table>\n",
       "</div>"
      ],
      "text/plain": [
       "                         count unique  top  freq\n",
       "cap-shape                 8124      6  'x'  3656\n",
       "cap-surface               8124      4  'y'  3244\n",
       "cap-color                 8124     10  'n'  2284\n",
       "bruises?                  8124      2  'f'  4748\n",
       "odor                      8124      9  'n'  3528\n",
       "gill-attachment           8124      2  'f'  7914\n",
       "gill-spacing              8124      2  'c'  6812\n",
       "gill-size                 8124      2  'b'  5612\n",
       "gill-color                8124     12  'b'  1728\n",
       "stalk-shape               8124      2  't'  4608\n",
       "stalk-root                8124      5  'b'  3776\n",
       "stalk-surface-above-ring  8124      4  's'  5176\n",
       "stalk-surface-below-ring  8124      4  's'  4936\n",
       "stalk-color-above-ring    8124      9  'w'  4464\n",
       "stalk-color-below-ring    8124      9  'w'  4384\n",
       "veil-type                 8124      1  'p'  8124\n",
       "veil-color                8124      4  'w'  7924\n",
       "ring-number               8124      3  'o'  7488\n",
       "ring-type                 8124      5  'p'  3968\n",
       "spore-print-color         8124      9  'w'  2388\n",
       "population                8124      6  'v'  4040\n",
       "habitat                   8124      7  'd'  3148\n",
       "class                     8124      2  'e'  4208"
      ]
     },
     "execution_count": 4,
     "metadata": {},
     "output_type": "execute_result"
    }
   ],
   "source": [
    "mushrooms.describe(include = \"all\").T"
   ]
  },
  {
   "cell_type": "markdown",
   "metadata": {},
   "source": [
    "сразу можно найти 'безполезный' элемент veil-type (тип вульвы), который всегда = p (частично скрывает пластинки или не скрывает вообще)."
   ]
  },
  {
   "cell_type": "markdown",
   "metadata": {},
   "source": [
    "Провизуализируем наиболее интересные и интерпретируемые показатели:"
   ]
  },
  {
   "cell_type": "code",
   "execution_count": 5,
   "metadata": {
    "collapsed": false
   },
   "outputs": [
    {
     "data": {
      "text/plain": [
       "<matplotlib.axes._subplots.AxesSubplot at 0x1159a0710>"
      ]
     },
     "execution_count": 5,
     "metadata": {},
     "output_type": "execute_result"
    },
    {
     "data": {
      "image/png": "[encoded data removed]",
      "text/plain": [
       "<matplotlib.figure.Figure at 0x104c982d0>"
      ]
     },
     "metadata": {},
     "output_type": "display_data"
    }
   ],
   "source": [
    "mushrooms[\"habitat\"].value_counts().plot.bar(fontsize = 15)"
   ]
  },
  {
   "cell_type": "markdown",
   "metadata": {},
   "source": [
    "Как ни странно, но большинство грибов ростут в лесу а не на помойках."
   ]
  },
  {
   "cell_type": "code",
   "execution_count": 6,
   "metadata": {
    "collapsed": false
   },
   "outputs": [
    {
     "data": {
      "text/plain": [
       "<matplotlib.axes._subplots.AxesSubplot at 0x103d83590>"
      ]
     },
     "execution_count": 6,
     "metadata": {},
     "output_type": "execute_result"
    },
    {
     "data": {
      "image/png": "[encoded data removed]",
      "text/plain": [
       "<matplotlib.figure.Figure at 0x103d22550>"
      ]
     },
     "metadata": {},
     "output_type": "display_data"
    }
   ],
   "source": [
    "mushrooms[\"odor\"].value_counts().plot.bar(fontsize = 15)"
   ]
  },
  {
   "cell_type": "markdown",
   "metadata": {},
   "source": [
    "Больше 2000 экземпляров дурно пахнут. Может они ядовитые?"
   ]
  },
  {
   "cell_type": "code",
   "execution_count": 7,
   "metadata": {
    "collapsed": false
   },
   "outputs": [
    {
     "data": {
      "text/plain": [
       "<matplotlib.axes._subplots.AxesSubplot at 0x115c3f8d0>"
      ]
     },
     "execution_count": 7,
     "metadata": {},
     "output_type": "execute_result"
    },
    {
     "data": {
      "image/png": "[encoded data removed]",
      "text/plain": [
       "<matplotlib.figure.Figure at 0x115f42490>"
      ]
     },
     "metadata": {},
     "output_type": "display_data"
    }
   ],
   "source": [
    "mushrooms[(mushrooms[\"odor\"] == \"'f'\")][\"class\"].value_counts().plot.bar(fontsize = 15)"
   ]
  },
  {
   "cell_type": "markdown",
   "metadata": {},
   "source": [
    "Вот это поворот! Эдак можно больше половины ядовитых грибов отсеять. Напрашивается бинарное дерево. Посмотрим, что с остальными запахами..."
   ]
  },
  {
   "cell_type": "code",
   "execution_count": 9,
   "metadata": {
    "collapsed": false
   },
   "outputs": [
    {
     "data": {
      "image/png": "[encoded data removed]",
      "text/plain": [
       "<matplotlib.figure.Figure at 0x118939990>"
      ]
     },
     "metadata": {},
     "output_type": "display_data"
    },
    {
     "data": {
      "image/png": "[encoded data removed]",
      "text/plain": [
       "<matplotlib.figure.Figure at 0x115baead0>"
      ]
     },
     "metadata": {},
     "output_type": "display_data"
    },
    {
     "data": {
      "image/png": "[encoded data removed]",
      "text/plain": [
       "<matplotlib.figure.Figure at 0x118b54b90>"
      ]
     },
     "metadata": {},
     "output_type": "display_data"
    },
    {
     "data": {
      "image/png": "[encoded data removed]",
      "text/plain": [
       "<matplotlib.figure.Figure at 0x118be2490>"
      ]
     },
     "metadata": {},
     "output_type": "display_data"
    },
    {
     "data": {
      "image/png": "[encoded data removed]",
      "text/plain": [
       "<matplotlib.figure.Figure at 0x118da6b10>"
      ]
     },
     "metadata": {},
     "output_type": "display_data"
    },
    {
     "data": {
      "image/png": "[encoded data removed]",
      "text/plain": [
       "<matplotlib.figure.Figure at 0x118f3f750>"
      ]
     },
     "metadata": {},
     "output_type": "display_data"
    },
    {
     "data": {
      "image/png": "[encoded data removed]",
      "text/plain": [
       "<matplotlib.figure.Figure at 0x119002490>"
      ]
     },
     "metadata": {},
     "output_type": "display_data"
    },
    {
     "data": {
      "image/png": "[encoded data removed]",
      "text/plain": [
       "<matplotlib.figure.Figure at 0x1190ae950>"
      ]
     },
     "metadata": {},
     "output_type": "display_data"
    },
    {
     "data": {
      "image/png": "[encoded data removed]",
      "text/plain": [
       "<matplotlib.figure.Figure at 0x119135810>"
      ]
     },
     "metadata": {},
     "output_type": "display_data"
    }
   ],
   "source": [
    "for uni in mushrooms[\"odor\"].unique():\n",
    "    plt.figure()\n",
    "    mushrooms[(mushrooms[\"odor\"] == uni)][\"class\"].value_counts().plot.bar(\n",
    "        title = uni, fontsize = 15, figsize = (2,2))\n",
    "    "
   ]
  },
  {
   "cell_type": "markdown",
   "metadata": {},
   "source": [
    "Получается грибы можно распознать по запаху... все кроме тех что не пахнут"
   ]
  },
  {
   "cell_type": "code",
   "execution_count": 10,
   "metadata": {
    "collapsed": false
   },
   "outputs": [
    {
     "data": {
      "text/plain": [
       "'e'    3408\n",
       "'p'     120\n",
       "Name: class, dtype: int64"
      ]
     },
     "execution_count": 10,
     "metadata": {},
     "output_type": "execute_result"
    }
   ],
   "source": [
    "mushrooms[(mushrooms[\"odor\"] == \"'n'\")][\"class\"].value_counts()"
   ]
  },
  {
   "cell_type": "markdown",
   "metadata": {},
   "source": [
    "Подобная классификация является первым правилом набора данный и даёт точность 98,52% точности и 120 пропущенных ядовитых грибов."
   ]
  },
  {
   "cell_type": "markdown",
   "metadata": {},
   "source": [
    "Посмотрим теперь где лучше собирать грибы:"
   ]
  },
  {
   "cell_type": "code",
   "execution_count": 11,
   "metadata": {
    "collapsed": false
   },
   "outputs": [
    {
     "data": {
      "image/png": "[encoded data removed]",
      "text/plain": [
       "<matplotlib.figure.Figure at 0x11925e410>"
      ]
     },
     "metadata": {},
     "output_type": "display_data"
    },
    {
     "data": {
      "image/png": "[encoded data removed]",
      "text/plain": [
       "<matplotlib.figure.Figure at 0x104c8db10>"
      ]
     },
     "metadata": {},
     "output_type": "display_data"
    },
    {
     "data": {
      "image/png": "[encoded data removed]",
      "text/plain": [
       "<matplotlib.figure.Figure at 0x119620910>"
      ]
     },
     "metadata": {},
     "output_type": "display_data"
    },
    {
     "data": {
      "image/png": "[encoded data removed]",
      "text/plain": [
       "<matplotlib.figure.Figure at 0x1196de6d0>"
      ]
     },
     "metadata": {},
     "output_type": "display_data"
    },
    {
     "data": {
      "image/png": "[encoded data removed]",
      "text/plain": [
       "<matplotlib.figure.Figure at 0x1197a0490>"
      ]
     },
     "metadata": {},
     "output_type": "display_data"
    },
    {
     "data": {
      "image/png": "[encoded data removed]",
      "text/plain": [
       "<matplotlib.figure.Figure at 0x11a048610>"
      ]
     },
     "metadata": {},
     "output_type": "display_data"
    },
    {
     "data": {
      "image/png": "[encoded data removed]",
      "text/plain": [
       "<matplotlib.figure.Figure at 0x11a0ef310>"
      ]
     },
     "metadata": {},
     "output_type": "display_data"
    }
   ],
   "source": [
    "for uni in mushrooms[\"habitat\"].unique():\n",
    "    plt.figure()\n",
    "    mushrooms[(mushrooms[\"habitat\"] == uni)][\"class\"].value_counts().plot.bar(color = 'green', title = uni, fontsize = 15, figsize = (2,2))"
   ]
  },
  {
   "cell_type": "markdown",
   "metadata": {},
   "source": [
    "Получается что гарантированно съедобные грибы только на помойке найти можно :O<br> Я это есть не буду!"
   ]
  },
  {
   "cell_type": "code",
   "execution_count": 12,
   "metadata": {
    "collapsed": false
   },
   "outputs": [
    {
     "data": {
      "text/plain": [
       "'p'    72\n",
       "Name: class, dtype: int64"
      ]
     },
     "execution_count": 12,
     "metadata": {},
     "output_type": "execute_result"
    }
   ],
   "source": [
    "mushrooms[(mushrooms[\"spore-print-color\"] == \"'r'\")][\"class\"].value_counts()"
   ]
  },
  {
   "cell_type": "markdown",
   "metadata": {},
   "source": [
    "Протестируем все 4 правила для получения 100% результата."
   ]
  },
  {
   "cell_type": "code",
   "execution_count": 13,
   "metadata": {
    "collapsed": false
   },
   "outputs": [
    {
     "data": {
      "text/plain": [
       "'p'    3916\n",
       "'e'      16\n",
       "Name: class, dtype: int64"
      ]
     },
     "execution_count": 13,
     "metadata": {},
     "output_type": "execute_result"
    }
   ],
   "source": [
    "mushrooms[(mushrooms[\"spore-print-color\"] == \"'r'\") | ~((mushrooms[\"odor\"] == \"'n'\")\n",
    "        | (mushrooms[\"odor\"] == \"'a'\")| (mushrooms[\"odor\"] == \"'l'\"))| \n",
    "        ((mushrooms[\"odor\"] == \"'n'\") & (mushrooms[\"stalk-surface-below-ring\"] == \"'y'\")\n",
    "         & (mushrooms[\"stalk-color-above-ring\"] != \"'b'\"))  | ((mushrooms[\"habitat\"] == \"'l'\") \n",
    "        & (mushrooms[\"cap-color\"] == \"'w'\"))][\"class\"].value_counts()"
   ]
  },
  {
   "cell_type": "markdown",
   "metadata": {},
   "source": [
    "Чтож без 16 съедобных грибов мы проживём, зато мы отсеяли все ядовитые и теперь останемся живы-здоровы."
   ]
  },
  {
   "cell_type": "markdown",
   "metadata": {},
   "source": [
    "Выводы: Были проанализированы такие наиболее \"понятные\" признаки, как запах и место произростания грибов. Была выявлена сильная зависимось съедобности шампиньонов от их запаха, а также проверены теории изложеные в описании набора данных."
   ]
  }
 ],
 "metadata": {
  "kernelspec": {
   "display_name": "Python [default]",
   "language": "python",
   "name": "python2"
  },
  "language_info": {
   "codemirror_mode": {
    "name": "ipython",
    "version": 2
   },
   "file_extension": ".py",
   "mimetype": "text/x-python",
   "name": "python",
   "nbconvert_exporter": "python",
   "pygments_lexer": "ipython2",
   "version": "2.7.12"
  }
 },
 "nbformat": 4,
 "nbformat_minor": 0
}
