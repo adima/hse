{
 "cells": [
  {
   "cell_type": "markdown",
   "metadata": {},
   "source": [
    "Я решила использовать набор данных <a href=\"https://www.kaggle.com/c/sf-crime\">San Francisco Crime Classification</a> с kaggle.com."
   ]
  },
  {
   "cell_type": "markdown",
   "metadata": {},
   "source": [
    "*Описание набора данных и признаков*"
   ]
  },
  {
   "cell_type": "markdown",
   "metadata": {},
   "source": [
    "## <font color='green'>Review. Часть 1</font>\n",
    "\n",
    "-       описание набора данных и признаков (на понятном русском, желательно с картинками) - 1 балл\n",
    "\n",
    "<font color='green'>1 балл. \n",
    "</font>\n",
    "\n",
    "-       первичный анализ признаков  - 3 балла\n",
    "\n",
    "<font color='green'>2,5 балла. <br> <br>\n",
    "Есть ли в данных какие-либо выбросы? \n",
    "</font>\n",
    "\n",
    "-       первичный визуальный анализ признаков  - 3 балла\n",
    "\n",
    "<font color='green'>1,5 балла. <br> \n",
    "Графики в BI красивы (и в принципе это интересный инструмент), но хотелось бы увидеть комментарии к результатам. Как зависят признаки, как признаки связаны с целевым. То есть что нам дают все эти графики.\n",
    "</font>\n",
    "\n",
    "-       если пришли к каким-то \"инсайтам\", обнаружили закономерности - изложите  - 3 балла\n",
    "\n",
    "<font color='green'>1 балла <br> \n",
    "В конце лучше подвести итоги какие зависимости Вы нашли.</font>\n",
    "\n",
    "## <font color='green'>Итого: 6 баллов (округл.)</font>"
   ]
  },
  {
   "cell_type": "markdown",
   "metadata": {},
   "source": [
    "<a href=\"https://www.kaggle.com/c/sf-crime/download/train.csv.zip\">Выборка для обучения</a>: 878 049 строк, 122 Mb содержащих информацию по преступлениям, совершенным в Сан-Франциско за почти 12 лет: с 01.01.2003 по 13.05.2015 (источник: SFPD Crime Incident Reporting system). По времени и месту совершения преступление предлагается предсказать тип совершенного преступления.\n",
    "\n",
    "Выборка для обучения и <a href=\"https://www.kaggle.com/c/sf-crime/download/train.csv.zip\">выборка для тестирования</a> модели получаются из полного набора данных следующим образом: недели года с четными номерами (2, 4, 6 и так далее) относятся к выборке для обучения, недели года с нечетными номерами (1, 3, 5 и так далее) - к тестовой выборке.\n",
    "\n",
    "Набор данных состоит из 9 признаков:\n",
    "1. **Category** является целевым признаком\n",
    "2. **Address** содержит квартал совершения преступления\n",
    "3. **X** - долгота\n",
    "4. **Y** - широта\n",
    "5. **Dates** - дата и время совершения преступления\n",
    "6. **DayOfWeek** уточняет день недели, в которое было совершено преступление\n",
    "7. **Descript** - более подробное описание преступления\n",
    "8. **PdDistrict** - название части города, где было совершено преступление\n",
    "9. **Resolution** - чем закончилось расследование"
   ]
  },
  {
   "cell_type": "markdown",
   "metadata": {},
   "source": [
    "*Первичный анализ признаков*"
   ]
  },
  {
   "cell_type": "markdown",
   "metadata": {},
   "source": [
    "1. **Category** категориальный, содержит 39 уникальных значений в выборке для обучения, пропусков нет. В среднем (average) на одну категорию приходится 22 514 инцидентов, медиана 4 388, максимум 174 900 (Larceny\\theft), минимум 6 (Trea), дисперсия 37 583.\n",
    "2. **Address** 23 228 уникальных значения, пропусков нет. В среднем на один квартал приходится 38 инцидентов, медиана 12, максимум 26 533 (800 Block of Bryant street), минимум 1, дисперсия 44 941, стандартное отклонение 212.\n",
    "3. **Dates** - Дата и время. Если смотреть по дате, то 2 249 уникальных значения, пропусков нет, в среднем на день приходится 390 инцидентов, медиана также 390, максимум 650 (01.01.2011), минимум 2 (16.12.2007), стандартное отклонение 49.\n",
    "4. **DayOfWeek** категориальный, 7 уникальных значений (дни недели), пропусков нет, в среднем на день недели приходится 125 436 инцидентов, медиана 125 038, максимум 133 734 (пятница), минимум 116 707 (воскресение), стандартное отклонение 5020.\n",
    "5. **PdDistrict** категориальный, содержит 10 уникальных значений, пропусков нет, в среднем 87 805, медиана 83 635, максимум 157 182 (Southern), минимум 45 209 (Richmond), стандартное отклонение 31 723.\n",
    "6. **Resolution** -  категориальный, содержит 17 уникальных значений, пропусков нет, в среднем 51 650, медиана 3 934, максимум 526 690 (None), минимум 51 (presecuted for lesser offence), стандартное отклонение 128 654.\n",
    "\n",
    "Признаки Dates и DayOfWeek связаны напрямую как отображение с разным уровнем детализации момента совершения преступления.\n",
    "\n",
    "Address, X, Y и PdDistrict также связаны, так как с разной степенью точности указывают место совершения преступления."
   ]
  },
  {
   "cell_type": "code",
   "execution_count": 1,
   "metadata": {
    "collapsed": false
   },
   "outputs": [
    {
     "data": {
      "text/html": [
       "<div>\n",
       "<table border=\"1\" class=\"dataframe\">\n",
       "  <thead>\n",
       "    <tr style=\"text-align: right;\">\n",
       "      <th></th>\n",
       "      <th>Dates</th>\n",
       "      <th>Category</th>\n",
       "      <th>Descript</th>\n",
       "      <th>DayOfWeek</th>\n",
       "      <th>PdDistrict</th>\n",
       "      <th>Resolution</th>\n",
       "      <th>Address</th>\n",
       "      <th>X</th>\n",
       "      <th>Y</th>\n",
       "    </tr>\n",
       "  </thead>\n",
       "  <tbody>\n",
       "    <tr>\n",
       "      <th>0</th>\n",
       "      <td>2015-05-13 23:53:00</td>\n",
       "      <td>WARRANTS</td>\n",
       "      <td>WARRANT ARREST</td>\n",
       "      <td>Wednesday</td>\n",
       "      <td>NORTHERN</td>\n",
       "      <td>ARREST, BOOKED</td>\n",
       "      <td>OAK ST / LAGUNA ST</td>\n",
       "      <td>-122.425892</td>\n",
       "      <td>37.774599</td>\n",
       "    </tr>\n",
       "    <tr>\n",
       "      <th>1</th>\n",
       "      <td>2015-05-13 23:53:00</td>\n",
       "      <td>OTHER OFFENSES</td>\n",
       "      <td>TRAFFIC VIOLATION ARREST</td>\n",
       "      <td>Wednesday</td>\n",
       "      <td>NORTHERN</td>\n",
       "      <td>ARREST, BOOKED</td>\n",
       "      <td>OAK ST / LAGUNA ST</td>\n",
       "      <td>-122.425892</td>\n",
       "      <td>37.774599</td>\n",
       "    </tr>\n",
       "    <tr>\n",
       "      <th>2</th>\n",
       "      <td>2015-05-13 23:33:00</td>\n",
       "      <td>OTHER OFFENSES</td>\n",
       "      <td>TRAFFIC VIOLATION ARREST</td>\n",
       "      <td>Wednesday</td>\n",
       "      <td>NORTHERN</td>\n",
       "      <td>ARREST, BOOKED</td>\n",
       "      <td>VANNESS AV / GREENWICH ST</td>\n",
       "      <td>-122.424363</td>\n",
       "      <td>37.800414</td>\n",
       "    </tr>\n",
       "    <tr>\n",
       "      <th>3</th>\n",
       "      <td>2015-05-13 23:30:00</td>\n",
       "      <td>LARCENY/THEFT</td>\n",
       "      <td>GRAND THEFT FROM LOCKED AUTO</td>\n",
       "      <td>Wednesday</td>\n",
       "      <td>NORTHERN</td>\n",
       "      <td>NONE</td>\n",
       "      <td>1500 Block of LOMBARD ST</td>\n",
       "      <td>-122.426995</td>\n",
       "      <td>37.800873</td>\n",
       "    </tr>\n",
       "    <tr>\n",
       "      <th>4</th>\n",
       "      <td>2015-05-13 23:30:00</td>\n",
       "      <td>LARCENY/THEFT</td>\n",
       "      <td>GRAND THEFT FROM LOCKED AUTO</td>\n",
       "      <td>Wednesday</td>\n",
       "      <td>PARK</td>\n",
       "      <td>NONE</td>\n",
       "      <td>100 Block of BRODERICK ST</td>\n",
       "      <td>-122.438738</td>\n",
       "      <td>37.771541</td>\n",
       "    </tr>\n",
       "  </tbody>\n",
       "</table>\n",
       "</div>"
      ],
      "text/plain": [
       "                 Dates        Category                      Descript  \\\n",
       "0  2015-05-13 23:53:00        WARRANTS                WARRANT ARREST   \n",
       "1  2015-05-13 23:53:00  OTHER OFFENSES      TRAFFIC VIOLATION ARREST   \n",
       "2  2015-05-13 23:33:00  OTHER OFFENSES      TRAFFIC VIOLATION ARREST   \n",
       "3  2015-05-13 23:30:00   LARCENY/THEFT  GRAND THEFT FROM LOCKED AUTO   \n",
       "4  2015-05-13 23:30:00   LARCENY/THEFT  GRAND THEFT FROM LOCKED AUTO   \n",
       "\n",
       "   DayOfWeek PdDistrict      Resolution                    Address  \\\n",
       "0  Wednesday   NORTHERN  ARREST, BOOKED         OAK ST / LAGUNA ST   \n",
       "1  Wednesday   NORTHERN  ARREST, BOOKED         OAK ST / LAGUNA ST   \n",
       "2  Wednesday   NORTHERN  ARREST, BOOKED  VANNESS AV / GREENWICH ST   \n",
       "3  Wednesday   NORTHERN            NONE   1500 Block of LOMBARD ST   \n",
       "4  Wednesday       PARK            NONE  100 Block of BRODERICK ST   \n",
       "\n",
       "            X          Y  \n",
       "0 -122.425892  37.774599  \n",
       "1 -122.425892  37.774599  \n",
       "2 -122.424363  37.800414  \n",
       "3 -122.426995  37.800873  \n",
       "4 -122.438738  37.771541  "
      ]
     },
     "execution_count": 1,
     "metadata": {},
     "output_type": "execute_result"
    }
   ],
   "source": [
    "import pandas as pd\n",
    "data = pd.read_csv('C:/Users/achizh/Desktop/train.csv')\n",
    "data.head(5)"
   ]
  },
  {
   "cell_type": "markdown",
   "metadata": {},
   "source": [
    "К сожалению, не успела построить гистограммы средствами python, временно использовала другй инструмент. По <a href = \"https://msit.powerbi.com/view?r=eyJrIjoiMGU5NzVjZmItMzc4Ni00OWZmLWE5YjQtYTA1N2VkMDY5ZTI2IiwidCI6IjcyZjk4OGJmLTg2ZjEtNDFhZi05MWFiLTJkN2NkMDExZGI0NyIsImMiOjV9\">ссылке</a> - несколько сводный графиков и несколько выводов. Графики интерактивны, можно выбирать категории, нажимая на соответствующие столбцы диаграмм."
   ]
  },
  {
   "cell_type": "markdown",
   "metadata": {},
   "source": [
    "Также возник вопрос, как правильно проверять корреляцию категориальных признаков в pandas dataframe. На самом деле, про статистики по признакам вопрос тот же, просто тут было возможно посчитать другими методами \"в лоб\"."
   ]
  },
  {
   "cell_type": "markdown",
   "metadata": {},
   "source": [
    "При построении модели я планирую добавить детализацию по признаку даты (год - месяц - сезон - будний\\выходной день), а также час совершения преступления (возможно, объединю их на шестичасовые периоды времени, либо на день\\ночь, посмотрим по распределению инцидентов).\n",
    "\n",
    "Возможно, конкретную широту-долготу можно будет при обучении не использовать, а сосредоточиться на квартале (address) и районе (pddistrict)."
   ]
  },
  {
   "cell_type": "code",
   "execution_count": null,
   "metadata": {
    "collapsed": true
   },
   "outputs": [],
   "source": []
  }
 ],
 "metadata": {
  "kernelspec": {
   "display_name": "Python [Root]",
   "language": "python",
   "name": "Python [Root]"
  },
  "language_info": {
   "codemirror_mode": {
    "name": "ipython",
    "version": 2
   },
   "file_extension": ".py",
   "mimetype": "text/x-python",
   "name": "python",
   "nbconvert_exporter": "python",
   "pygments_lexer": "ipython2",
   "version": "2.7.12"
  }
 },
 "nbformat": 4,
 "nbformat_minor": 0
}
