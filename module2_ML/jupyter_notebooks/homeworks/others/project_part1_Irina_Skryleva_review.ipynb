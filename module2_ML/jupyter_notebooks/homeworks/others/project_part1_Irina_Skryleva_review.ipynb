{
 "cells": [
  {
   "cell_type": "markdown",
   "metadata": {},
   "source": [
    "<img src=\"../../img/ml_theme.png\">\n",
    "## <center> Дополнительное профессиональное <br> образование НИУ ВШЭ </center>\n",
    "#### <center>Программа \"Практический анализ данных и машинное обучение\" </center>\n",
    "<img src=\"../../img/faculty_logo.jpg\" height=\"240\" width=\"240\">\n",
    "### <center> Автор материала: Ирина Скрылева </center>"
   ]
  },
  {
   "cell_type": "markdown",
   "metadata": {},
   "source": [
    "## <font color='green'>Review. Часть 1</font>\n",
    "\n",
    "-       описание набора данных и признаков (на понятном русском, желательно с картинками) - 1 балл\n",
    "\n",
    "<font color='green'>1 балл. \n",
    "</font>\n",
    "\n",
    "-       первичный анализ признаков  - 3 балла\n",
    "\n",
    "<font color='green'>3 балла. <br> <br> \n",
    "</font>\n",
    "\n",
    "-       первичный визуальный анализ признаков  - 3 балла\n",
    "\n",
    "<font color='green'>3 балла. <br> \n",
    "</font>\n",
    "\n",
    "-       если пришли к каким-то \"инсайтам\", обнаружили закономерности - изложите  - 3 балла\n",
    "\n",
    "<font color='green'>3 балла <br> Первая часть проекта выполнена очень хорошо. </font>\n",
    "\n",
    "## <font color='green'>Итого: 10 баллов (округл.)</font>"
   ]
  },
  {
   "cell_type": "markdown",
   "metadata": {},
   "source": [
    "## <center> Индивидуальный проект по анализу данных </center>"
   ]
  },
  {
   "cell_type": "markdown",
   "metadata": {},
   "source": [
    "**План исследования**\n",
    " - Описание набора данных и признаков\n",
    " - Первичный анализ признаков\n",
    " - Первичный визуальный анализ признаков\n",
    " - Закономерности, \"инсайты\", особенности данных\n",
    " - Предобработка данных\n",
    " - Построение признаков\n",
    " - Отбор признаков\n",
    " - Построение модели\n",
    " - Кросс-валидация, подбор параметров\n",
    " - Кривые валидации и обучения\n",
    " - Прогноз для тестовой (или отложенной) выборки\n",
    " - Оценка модели с описанием выбранной метрики\n",
    " - Выводы"
   ]
  },
  {
   "cell_type": "code",
   "execution_count": 1,
   "metadata": {
    "collapsed": false
   },
   "outputs": [
    {
     "name": "stdout",
     "output_type": "stream",
     "text": [
      "Populating the interactive namespace from numpy and matplotlib\n"
     ]
    }
   ],
   "source": [
    "from __future__ import division, print_function\n",
    "# отключим всякие предупреждения Anaconda\n",
    "import warnings\n",
    "warnings.filterwarnings('ignore')\n",
    "import numpy as np\n",
    "import pandas as pd\n",
    "import matplotlib.pyplot as plt\n",
    "%pylab inline\n",
    "%matplotlib inline"
   ]
  },
  {
   "cell_type": "markdown",
   "metadata": {},
   "source": [
    "###  Часть 1. Описание набора данных и признаков"
   ]
  },
  {
   "cell_type": "markdown",
   "metadata": {},
   "source": [
    "*Тут надо дать ссылку на данные, описать признаки, рассказать, какая задача будет решаться.*"
   ]
  },
  {
   "cell_type": "markdown",
   "metadata": {},
   "source": [
    "### <center> Santander Customer Satisfaction</center> \n",
    "Проект взят по ссылке:\n",
    "\n",
    "https://www.kaggle.com/c/santander-customer-satisfaction\n",
    "\n",
    "<img src=\"santander_custsat_red.png\" width=\"700\">\n",
    "\n",
    "**Which customers are happy customers?**\n",
    "\n",
    "From frontline support teams to C-suites, customer satisfaction is a key measure of success. Unhappy customers don't stick around. What's more, unhappy customers rarely voice their dissatisfaction before leaving.\n",
    "\n",
    "Santander Bank is asking Kagglers to help them identify dissatisfied customers early in their relationship. Doing so would allow Santander to take proactive steps to improve a customer's happiness before it's too late.\n",
    "\n",
    "In this competition, you'll work with hundreds of anonymized features to predict if a customer is satisfied or dissatisfied with their banking experience.\n",
    "\n",
    "You are provided with an anonymized dataset containing a large number of numeric variables. The \"TARGET\" column is the variable to predict. It equals one for unsatisfied customers and 0 for satisfied customers.\n",
    "\n",
    "The task is to predict the probability that each customer in the test set is an unsatisfied customer.\n",
    "\n",
    "File descriptions\n",
    "\n",
    "train.csv - the training set including the target\n",
    "\n",
    "test.csv - the test set without the target\n",
    "\n",
    "sample_submission.csv - a sample submission file in the correct format\n",
    "__________\n",
    "\n",
    "**Какие клиенты являются счастливыми?**\n",
    "\n",
    "Удовлетворение потребностей клиентов является ключевым показателем успеха. Несчастные клиенты редко высказывают свое недовольство перед уходом.\n",
    "\n",
    "Необходимо выявить недовольных клиентов в начале их отношений с банком Santander. Это позволило бы Santander предпринять активные шаги, чтобы улучшить удовлетворенность клиента, прежде чем станет слишком поздно.\n",
    "\n",
    "В этом конкурсе, вы будете работать с сотнями анонимизированных признаков, чтобы предсказать, доволен или недоволен клиент их банковским опытом.\n"
   ]
  },
  {
   "cell_type": "markdown",
   "metadata": {},
   "source": [
    "Предоставляется анонимный набор данных, содержащий большое количество числовых переменных. \n",
    "\n",
    "Столбец \"TARGET\" является переменной, которую необходмо предсказать, где:\n",
    "\n",
    "\"1\" - неудовлетворенные клиенты,\n",
    "\n",
    "\"0\" - довольные клиенты.\n",
    "\n",
    "**Задача**: предсказать вероятность для каждого клиента из тестового набора быть неудовлетворенным."
   ]
  },
  {
   "cell_type": "code",
   "execution_count": 2,
   "metadata": {
    "collapsed": false
   },
   "outputs": [],
   "source": [
    "df = pd.read_csv('train.csv') # обучающая выборка"
   ]
  },
  {
   "cell_type": "code",
   "execution_count": 3,
   "metadata": {
    "collapsed": true
   },
   "outputs": [],
   "source": [
    "X = df.drop('TARGET',axis=1) # признаки"
   ]
  },
  {
   "cell_type": "code",
   "execution_count": 4,
   "metadata": {
    "collapsed": true
   },
   "outputs": [],
   "source": [
    "y = df['TARGET'] # целевая переменная"
   ]
  },
  {
   "cell_type": "markdown",
   "metadata": {},
   "source": [
    "###  Часть 2. Первичный анализ признаков"
   ]
  },
  {
   "cell_type": "code",
   "execution_count": 5,
   "metadata": {
    "collapsed": false
   },
   "outputs": [
    {
     "data": {
      "text/html": [
       "<div>\n",
       "<table border=\"1\" class=\"dataframe\">\n",
       "  <thead>\n",
       "    <tr style=\"text-align: right;\">\n",
       "      <th></th>\n",
       "      <th>ID</th>\n",
       "      <th>var3</th>\n",
       "      <th>var15</th>\n",
       "      <th>imp_ent_var16_ult1</th>\n",
       "      <th>imp_op_var39_comer_ult1</th>\n",
       "      <th>imp_op_var39_comer_ult3</th>\n",
       "      <th>imp_op_var40_comer_ult1</th>\n",
       "      <th>imp_op_var40_comer_ult3</th>\n",
       "      <th>imp_op_var40_efect_ult1</th>\n",
       "      <th>imp_op_var40_efect_ult3</th>\n",
       "      <th>...</th>\n",
       "      <th>saldo_medio_var33_hace2</th>\n",
       "      <th>saldo_medio_var33_hace3</th>\n",
       "      <th>saldo_medio_var33_ult1</th>\n",
       "      <th>saldo_medio_var33_ult3</th>\n",
       "      <th>saldo_medio_var44_hace2</th>\n",
       "      <th>saldo_medio_var44_hace3</th>\n",
       "      <th>saldo_medio_var44_ult1</th>\n",
       "      <th>saldo_medio_var44_ult3</th>\n",
       "      <th>var38</th>\n",
       "      <th>TARGET</th>\n",
       "    </tr>\n",
       "  </thead>\n",
       "  <tbody>\n",
       "    <tr>\n",
       "      <th>0</th>\n",
       "      <td>1</td>\n",
       "      <td>2</td>\n",
       "      <td>23</td>\n",
       "      <td>0.0</td>\n",
       "      <td>0.0</td>\n",
       "      <td>0.0</td>\n",
       "      <td>0.0</td>\n",
       "      <td>0.0</td>\n",
       "      <td>0.0</td>\n",
       "      <td>0.0</td>\n",
       "      <td>...</td>\n",
       "      <td>0.0</td>\n",
       "      <td>0.0</td>\n",
       "      <td>0.0</td>\n",
       "      <td>0.0</td>\n",
       "      <td>0.0</td>\n",
       "      <td>0.0</td>\n",
       "      <td>0.0</td>\n",
       "      <td>0.0</td>\n",
       "      <td>39205.170000</td>\n",
       "      <td>0</td>\n",
       "    </tr>\n",
       "    <tr>\n",
       "      <th>1</th>\n",
       "      <td>3</td>\n",
       "      <td>2</td>\n",
       "      <td>34</td>\n",
       "      <td>0.0</td>\n",
       "      <td>0.0</td>\n",
       "      <td>0.0</td>\n",
       "      <td>0.0</td>\n",
       "      <td>0.0</td>\n",
       "      <td>0.0</td>\n",
       "      <td>0.0</td>\n",
       "      <td>...</td>\n",
       "      <td>0.0</td>\n",
       "      <td>0.0</td>\n",
       "      <td>0.0</td>\n",
       "      <td>0.0</td>\n",
       "      <td>0.0</td>\n",
       "      <td>0.0</td>\n",
       "      <td>0.0</td>\n",
       "      <td>0.0</td>\n",
       "      <td>49278.030000</td>\n",
       "      <td>0</td>\n",
       "    </tr>\n",
       "    <tr>\n",
       "      <th>2</th>\n",
       "      <td>4</td>\n",
       "      <td>2</td>\n",
       "      <td>23</td>\n",
       "      <td>0.0</td>\n",
       "      <td>0.0</td>\n",
       "      <td>0.0</td>\n",
       "      <td>0.0</td>\n",
       "      <td>0.0</td>\n",
       "      <td>0.0</td>\n",
       "      <td>0.0</td>\n",
       "      <td>...</td>\n",
       "      <td>0.0</td>\n",
       "      <td>0.0</td>\n",
       "      <td>0.0</td>\n",
       "      <td>0.0</td>\n",
       "      <td>0.0</td>\n",
       "      <td>0.0</td>\n",
       "      <td>0.0</td>\n",
       "      <td>0.0</td>\n",
       "      <td>67333.770000</td>\n",
       "      <td>0</td>\n",
       "    </tr>\n",
       "    <tr>\n",
       "      <th>3</th>\n",
       "      <td>8</td>\n",
       "      <td>2</td>\n",
       "      <td>37</td>\n",
       "      <td>0.0</td>\n",
       "      <td>195.0</td>\n",
       "      <td>195.0</td>\n",
       "      <td>0.0</td>\n",
       "      <td>0.0</td>\n",
       "      <td>0.0</td>\n",
       "      <td>0.0</td>\n",
       "      <td>...</td>\n",
       "      <td>0.0</td>\n",
       "      <td>0.0</td>\n",
       "      <td>0.0</td>\n",
       "      <td>0.0</td>\n",
       "      <td>0.0</td>\n",
       "      <td>0.0</td>\n",
       "      <td>0.0</td>\n",
       "      <td>0.0</td>\n",
       "      <td>64007.970000</td>\n",
       "      <td>0</td>\n",
       "    </tr>\n",
       "    <tr>\n",
       "      <th>4</th>\n",
       "      <td>10</td>\n",
       "      <td>2</td>\n",
       "      <td>39</td>\n",
       "      <td>0.0</td>\n",
       "      <td>0.0</td>\n",
       "      <td>0.0</td>\n",
       "      <td>0.0</td>\n",
       "      <td>0.0</td>\n",
       "      <td>0.0</td>\n",
       "      <td>0.0</td>\n",
       "      <td>...</td>\n",
       "      <td>0.0</td>\n",
       "      <td>0.0</td>\n",
       "      <td>0.0</td>\n",
       "      <td>0.0</td>\n",
       "      <td>0.0</td>\n",
       "      <td>0.0</td>\n",
       "      <td>0.0</td>\n",
       "      <td>0.0</td>\n",
       "      <td>117310.979016</td>\n",
       "      <td>0</td>\n",
       "    </tr>\n",
       "  </tbody>\n",
       "</table>\n",
       "<p>5 rows × 371 columns</p>\n",
       "</div>"
      ],
      "text/plain": [
       "   ID  var3  var15  imp_ent_var16_ult1  imp_op_var39_comer_ult1  \\\n",
       "0   1     2     23                 0.0                      0.0   \n",
       "1   3     2     34                 0.0                      0.0   \n",
       "2   4     2     23                 0.0                      0.0   \n",
       "3   8     2     37                 0.0                    195.0   \n",
       "4  10     2     39                 0.0                      0.0   \n",
       "\n",
       "   imp_op_var39_comer_ult3  imp_op_var40_comer_ult1  imp_op_var40_comer_ult3  \\\n",
       "0                      0.0                      0.0                      0.0   \n",
       "1                      0.0                      0.0                      0.0   \n",
       "2                      0.0                      0.0                      0.0   \n",
       "3                    195.0                      0.0                      0.0   \n",
       "4                      0.0                      0.0                      0.0   \n",
       "\n",
       "   imp_op_var40_efect_ult1  imp_op_var40_efect_ult3   ...    \\\n",
       "0                      0.0                      0.0   ...     \n",
       "1                      0.0                      0.0   ...     \n",
       "2                      0.0                      0.0   ...     \n",
       "3                      0.0                      0.0   ...     \n",
       "4                      0.0                      0.0   ...     \n",
       "\n",
       "   saldo_medio_var33_hace2  saldo_medio_var33_hace3  saldo_medio_var33_ult1  \\\n",
       "0                      0.0                      0.0                     0.0   \n",
       "1                      0.0                      0.0                     0.0   \n",
       "2                      0.0                      0.0                     0.0   \n",
       "3                      0.0                      0.0                     0.0   \n",
       "4                      0.0                      0.0                     0.0   \n",
       "\n",
       "   saldo_medio_var33_ult3  saldo_medio_var44_hace2  saldo_medio_var44_hace3  \\\n",
       "0                     0.0                      0.0                      0.0   \n",
       "1                     0.0                      0.0                      0.0   \n",
       "2                     0.0                      0.0                      0.0   \n",
       "3                     0.0                      0.0                      0.0   \n",
       "4                     0.0                      0.0                      0.0   \n",
       "\n",
       "   saldo_medio_var44_ult1  saldo_medio_var44_ult3          var38  TARGET  \n",
       "0                     0.0                     0.0   39205.170000       0  \n",
       "1                     0.0                     0.0   49278.030000       0  \n",
       "2                     0.0                     0.0   67333.770000       0  \n",
       "3                     0.0                     0.0   64007.970000       0  \n",
       "4                     0.0                     0.0  117310.979016       0  \n",
       "\n",
       "[5 rows x 371 columns]"
      ]
     },
     "execution_count": 5,
     "metadata": {},
     "output_type": "execute_result"
    }
   ],
   "source": [
    "# Данные \n",
    "df.head()"
   ]
  },
  {
   "cell_type": "markdown",
   "metadata": {},
   "source": [
    "**Размер выборки**"
   ]
  },
  {
   "cell_type": "code",
   "execution_count": 6,
   "metadata": {
    "collapsed": false
   },
   "outputs": [
    {
     "name": "stdout",
     "output_type": "stream",
     "text": [
      "Количество записей в выборке: 76020\n",
      "Количество признаков: 370\n"
     ]
    }
   ],
   "source": [
    "print('Количество записей в выборке:', X.shape[0])\n",
    "print('Количество признаков:',X.shape[1])"
   ]
  },
  {
   "cell_type": "code",
   "execution_count": 7,
   "metadata": {
    "collapsed": false
   },
   "outputs": [
    {
     "data": {
      "text/plain": [
       "0    73012\n",
       "1     3008\n",
       "Name: TARGET, dtype: int64"
      ]
     },
     "execution_count": 7,
     "metadata": {},
     "output_type": "execute_result"
    }
   ],
   "source": [
    "y.value_counts()"
   ]
  },
  {
   "cell_type": "markdown",
   "metadata": {},
   "source": [
    "В выборке виден дисбаланс классов прогнозируемой переменной."
   ]
  },
  {
   "cell_type": "markdown",
   "metadata": {},
   "source": [
    "**Типы признаков**"
   ]
  },
  {
   "cell_type": "code",
   "execution_count": 8,
   "metadata": {
    "collapsed": false
   },
   "outputs": [
    {
     "name": "stdout",
     "output_type": "stream",
     "text": [
      "<class 'pandas.core.frame.DataFrame'>\n",
      "RangeIndex: 76020 entries, 0 to 76019\n",
      "Data columns (total 370 columns):\n",
      "ID                               int64\n",
      "var3                             int64\n",
      "var15                            int64\n",
      "imp_ent_var16_ult1               float64\n",
      "imp_op_var39_comer_ult1          float64\n",
      "imp_op_var39_comer_ult3          float64\n",
      "imp_op_var40_comer_ult1          float64\n",
      "imp_op_var40_comer_ult3          float64\n",
      "imp_op_var40_efect_ult1          float64\n",
      "imp_op_var40_efect_ult3          float64\n",
      "imp_op_var40_ult1                float64\n",
      "imp_op_var41_comer_ult1          float64\n",
      "imp_op_var41_comer_ult3          float64\n",
      "imp_op_var41_efect_ult1          float64\n",
      "imp_op_var41_efect_ult3          float64\n",
      "imp_op_var41_ult1                float64\n",
      "imp_op_var39_efect_ult1          float64\n",
      "imp_op_var39_efect_ult3          float64\n",
      "imp_op_var39_ult1                float64\n",
      "imp_sal_var16_ult1               float64\n",
      "ind_var1_0                       int64\n",
      "ind_var1                         int64\n",
      "ind_var2_0                       int64\n",
      "ind_var2                         int64\n",
      "ind_var5_0                       int64\n",
      "ind_var5                         int64\n",
      "ind_var6_0                       int64\n",
      "ind_var6                         int64\n",
      "ind_var8_0                       int64\n",
      "ind_var8                         int64\n",
      "ind_var12_0                      int64\n",
      "ind_var12                        int64\n",
      "ind_var13_0                      int64\n",
      "ind_var13_corto_0                int64\n",
      "ind_var13_corto                  int64\n",
      "ind_var13_largo_0                int64\n",
      "ind_var13_largo                  int64\n",
      "ind_var13_medio_0                int64\n",
      "ind_var13_medio                  int64\n",
      "ind_var13                        int64\n",
      "ind_var14_0                      int64\n",
      "ind_var14                        int64\n",
      "ind_var17_0                      int64\n",
      "ind_var17                        int64\n",
      "ind_var18_0                      int64\n",
      "ind_var18                        int64\n",
      "ind_var19                        int64\n",
      "ind_var20_0                      int64\n",
      "ind_var20                        int64\n",
      "ind_var24_0                      int64\n",
      "ind_var24                        int64\n",
      "ind_var25_cte                    int64\n",
      "ind_var26_0                      int64\n",
      "ind_var26_cte                    int64\n",
      "ind_var26                        int64\n",
      "ind_var25_0                      int64\n",
      "ind_var25                        int64\n",
      "ind_var27_0                      int64\n",
      "ind_var28_0                      int64\n",
      "ind_var28                        int64\n",
      "ind_var27                        int64\n",
      "ind_var29_0                      int64\n",
      "ind_var29                        int64\n",
      "ind_var30_0                      int64\n",
      "ind_var30                        int64\n",
      "ind_var31_0                      int64\n",
      "ind_var31                        int64\n",
      "ind_var32_cte                    int64\n",
      "ind_var32_0                      int64\n",
      "ind_var32                        int64\n",
      "ind_var33_0                      int64\n",
      "ind_var33                        int64\n",
      "ind_var34_0                      int64\n",
      "ind_var34                        int64\n",
      "ind_var37_cte                    int64\n",
      "ind_var37_0                      int64\n",
      "ind_var37                        int64\n",
      "ind_var39_0                      int64\n",
      "ind_var40_0                      int64\n",
      "ind_var40                        int64\n",
      "ind_var41_0                      int64\n",
      "ind_var41                        int64\n",
      "ind_var39                        int64\n",
      "ind_var44_0                      int64\n",
      "ind_var44                        int64\n",
      "ind_var46_0                      int64\n",
      "ind_var46                        int64\n",
      "num_var1_0                       int64\n",
      "num_var1                         int64\n",
      "num_var4                         int64\n",
      "num_var5_0                       int64\n",
      "num_var5                         int64\n",
      "num_var6_0                       int64\n",
      "num_var6                         int64\n",
      "num_var8_0                       int64\n",
      "num_var8                         int64\n",
      "num_var12_0                      int64\n",
      "num_var12                        int64\n",
      "num_var13_0                      int64\n",
      "num_var13_corto_0                int64\n",
      "num_var13_corto                  int64\n",
      "num_var13_largo_0                int64\n",
      "num_var13_largo                  int64\n",
      "num_var13_medio_0                int64\n",
      "num_var13_medio                  int64\n",
      "num_var13                        int64\n",
      "num_var14_0                      int64\n",
      "num_var14                        int64\n",
      "num_var17_0                      int64\n",
      "num_var17                        int64\n",
      "num_var18_0                      int64\n",
      "num_var18                        int64\n",
      "num_var20_0                      int64\n",
      "num_var20                        int64\n",
      "num_var24_0                      int64\n",
      "num_var24                        int64\n",
      "num_var26_0                      int64\n",
      "num_var26                        int64\n",
      "num_var25_0                      int64\n",
      "num_var25                        int64\n",
      "num_op_var40_hace2               int64\n",
      "num_op_var40_hace3               int64\n",
      "num_op_var40_ult1                int64\n",
      "num_op_var40_ult3                int64\n",
      "num_op_var41_hace2               int64\n",
      "num_op_var41_hace3               int64\n",
      "num_op_var41_ult1                int64\n",
      "num_op_var41_ult3                int64\n",
      "num_op_var39_hace2               int64\n",
      "num_op_var39_hace3               int64\n",
      "num_op_var39_ult1                int64\n",
      "num_op_var39_ult3                int64\n",
      "num_var27_0                      int64\n",
      "num_var28_0                      int64\n",
      "num_var28                        int64\n",
      "num_var27                        int64\n",
      "num_var29_0                      int64\n",
      "num_var29                        int64\n",
      "num_var30_0                      int64\n",
      "num_var30                        int64\n",
      "num_var31_0                      int64\n",
      "num_var31                        int64\n",
      "num_var32_0                      int64\n",
      "num_var32                        int64\n",
      "num_var33_0                      int64\n",
      "num_var33                        int64\n",
      "num_var34_0                      int64\n",
      "num_var34                        int64\n",
      "num_var35                        int64\n",
      "num_var37_med_ult2               int64\n",
      "num_var37_0                      int64\n",
      "num_var37                        int64\n",
      "num_var39_0                      int64\n",
      "num_var40_0                      int64\n",
      "num_var40                        int64\n",
      "num_var41_0                      int64\n",
      "num_var41                        int64\n",
      "num_var39                        int64\n",
      "num_var42_0                      int64\n",
      "num_var42                        int64\n",
      "num_var44_0                      int64\n",
      "num_var44                        int64\n",
      "num_var46_0                      int64\n",
      "num_var46                        int64\n",
      "saldo_var1                       float64\n",
      "saldo_var5                       float64\n",
      "saldo_var6                       float64\n",
      "saldo_var8                       float64\n",
      "saldo_var12                      float64\n",
      "saldo_var13_corto                float64\n",
      "saldo_var13_largo                float64\n",
      "saldo_var13_medio                int64\n",
      "saldo_var13                      float64\n",
      "saldo_var14                      float64\n",
      "saldo_var17                      float64\n",
      "saldo_var18                      int64\n",
      "saldo_var20                      float64\n",
      "saldo_var24                      float64\n",
      "saldo_var26                      float64\n",
      "saldo_var25                      float64\n",
      "saldo_var28                      int64\n",
      "saldo_var27                      int64\n",
      "saldo_var29                      float64\n",
      "saldo_var30                      float64\n",
      "saldo_var31                      float64\n",
      "saldo_var32                      float64\n",
      "saldo_var33                      float64\n",
      "saldo_var34                      int64\n",
      "saldo_var37                      float64\n",
      "saldo_var40                      float64\n",
      "saldo_var41                      int64\n",
      "saldo_var42                      float64\n",
      "saldo_var44                      float64\n",
      "saldo_var46                      int64\n",
      "var36                            int64\n",
      "delta_imp_amort_var18_1y3        int64\n",
      "delta_imp_amort_var34_1y3        int64\n",
      "delta_imp_aport_var13_1y3        float64\n",
      "delta_imp_aport_var17_1y3        float64\n",
      "delta_imp_aport_var33_1y3        float64\n",
      "delta_imp_compra_var44_1y3       float64\n",
      "delta_imp_reemb_var13_1y3        int64\n",
      "delta_imp_reemb_var17_1y3        int64\n",
      "delta_imp_reemb_var33_1y3        int64\n",
      "delta_imp_trasp_var17_in_1y3     int64\n",
      "delta_imp_trasp_var17_out_1y3    int64\n",
      "delta_imp_trasp_var33_in_1y3     int64\n",
      "delta_imp_trasp_var33_out_1y3    int64\n",
      "delta_imp_venta_var44_1y3        float64\n",
      "delta_num_aport_var13_1y3        float64\n",
      "delta_num_aport_var17_1y3        float64\n",
      "delta_num_aport_var33_1y3        float64\n",
      "delta_num_compra_var44_1y3       float64\n",
      "delta_num_reemb_var13_1y3        int64\n",
      "delta_num_reemb_var17_1y3        int64\n",
      "delta_num_reemb_var33_1y3        int64\n",
      "delta_num_trasp_var17_in_1y3     int64\n",
      "delta_num_trasp_var17_out_1y3    int64\n",
      "delta_num_trasp_var33_in_1y3     int64\n",
      "delta_num_trasp_var33_out_1y3    int64\n",
      "delta_num_venta_var44_1y3        float64\n",
      "imp_amort_var18_hace3            int64\n",
      "imp_amort_var18_ult1             float64\n",
      "imp_amort_var34_hace3            int64\n",
      "imp_amort_var34_ult1             float64\n",
      "imp_aport_var13_hace3            float64\n",
      "imp_aport_var13_ult1             float64\n",
      "imp_aport_var17_hace3            float64\n",
      "imp_aport_var17_ult1             float64\n",
      "imp_aport_var33_hace3            int64\n",
      "imp_aport_var33_ult1             int64\n",
      "imp_var7_emit_ult1               float64\n",
      "imp_var7_recib_ult1              float64\n",
      "imp_compra_var44_hace3           float64\n",
      "imp_compra_var44_ult1            float64\n",
      "imp_reemb_var13_hace3            int64\n",
      "imp_reemb_var13_ult1             float64\n",
      "imp_reemb_var17_hace3            float64\n",
      "imp_reemb_var17_ult1             float64\n",
      "imp_reemb_var33_hace3            int64\n",
      "imp_reemb_var33_ult1             int64\n",
      "imp_var43_emit_ult1              float64\n",
      "imp_trans_var37_ult1             float64\n",
      "imp_trasp_var17_in_hace3         float64\n",
      "imp_trasp_var17_in_ult1          float64\n",
      "imp_trasp_var17_out_hace3        int64\n",
      "imp_trasp_var17_out_ult1         float64\n",
      "imp_trasp_var33_in_hace3         float64\n",
      "imp_trasp_var33_in_ult1          float64\n",
      "imp_trasp_var33_out_hace3        int64\n",
      "imp_trasp_var33_out_ult1         int64\n",
      "imp_venta_var44_hace3            float64\n",
      "imp_venta_var44_ult1             float64\n",
      "ind_var7_emit_ult1               int64\n",
      "ind_var7_recib_ult1              int64\n",
      "ind_var10_ult1                   int64\n",
      "ind_var10cte_ult1                int64\n",
      "ind_var9_cte_ult1                int64\n",
      "ind_var9_ult1                    int64\n",
      "ind_var43_emit_ult1              int64\n",
      "ind_var43_recib_ult1             int64\n",
      "var21                            int64\n",
      "num_var2_0_ult1                  int64\n",
      "num_var2_ult1                    int64\n",
      "num_aport_var13_hace3            int64\n",
      "num_aport_var13_ult1             int64\n",
      "num_aport_var17_hace3            int64\n",
      "num_aport_var17_ult1             int64\n",
      "num_aport_var33_hace3            int64\n",
      "num_aport_var33_ult1             int64\n",
      "num_var7_emit_ult1               int64\n",
      "num_var7_recib_ult1              int64\n",
      "num_compra_var44_hace3           int64\n",
      "num_compra_var44_ult1            int64\n",
      "num_ent_var16_ult1               int64\n",
      "num_var22_hace2                  int64\n",
      "num_var22_hace3                  int64\n",
      "num_var22_ult1                   int64\n",
      "num_var22_ult3                   int64\n",
      "num_med_var22_ult3               int64\n",
      "num_med_var45_ult3               int64\n",
      "num_meses_var5_ult3              int64\n",
      "num_meses_var8_ult3              int64\n",
      "num_meses_var12_ult3             int64\n",
      "num_meses_var13_corto_ult3       int64\n",
      "num_meses_var13_largo_ult3       int64\n",
      "num_meses_var13_medio_ult3       int64\n",
      "num_meses_var17_ult3             int64\n",
      "num_meses_var29_ult3             int64\n",
      "num_meses_var33_ult3             int64\n",
      "num_meses_var39_vig_ult3         int64\n",
      "num_meses_var44_ult3             int64\n",
      "num_op_var39_comer_ult1          int64\n",
      "num_op_var39_comer_ult3          int64\n",
      "num_op_var40_comer_ult1          int64\n",
      "num_op_var40_comer_ult3          int64\n",
      "num_op_var40_efect_ult1          int64\n",
      "num_op_var40_efect_ult3          int64\n",
      "num_op_var41_comer_ult1          int64\n",
      "num_op_var41_comer_ult3          int64\n",
      "num_op_var41_efect_ult1          int64\n",
      "num_op_var41_efect_ult3          int64\n",
      "num_op_var39_efect_ult1          int64\n",
      "num_op_var39_efect_ult3          int64\n",
      "num_reemb_var13_hace3            int64\n",
      "num_reemb_var13_ult1             int64\n",
      "num_reemb_var17_hace3            int64\n",
      "num_reemb_var17_ult1             int64\n",
      "num_reemb_var33_hace3            int64\n",
      "num_reemb_var33_ult1             int64\n",
      "num_sal_var16_ult1               int64\n",
      "num_var43_emit_ult1              int64\n",
      "num_var43_recib_ult1             int64\n",
      "num_trasp_var11_ult1             int64\n",
      "num_trasp_var17_in_hace3         int64\n",
      "num_trasp_var17_in_ult1          int64\n",
      "num_trasp_var17_out_hace3        int64\n",
      "num_trasp_var17_out_ult1         int64\n",
      "num_trasp_var33_in_hace3         int64\n",
      "num_trasp_var33_in_ult1          int64\n",
      "num_trasp_var33_out_hace3        int64\n",
      "num_trasp_var33_out_ult1         int64\n",
      "num_venta_var44_hace3            int64\n",
      "num_venta_var44_ult1             int64\n",
      "num_var45_hace2                  int64\n",
      "num_var45_hace3                  int64\n",
      "num_var45_ult1                   int64\n",
      "num_var45_ult3                   int64\n",
      "saldo_var2_ult1                  int64\n",
      "saldo_medio_var5_hace2           float64\n",
      "saldo_medio_var5_hace3           float64\n",
      "saldo_medio_var5_ult1            float64\n",
      "saldo_medio_var5_ult3            float64\n",
      "saldo_medio_var8_hace2           float64\n",
      "saldo_medio_var8_hace3           float64\n",
      "saldo_medio_var8_ult1            float64\n",
      "saldo_medio_var8_ult3            float64\n",
      "saldo_medio_var12_hace2          float64\n",
      "saldo_medio_var12_hace3          float64\n",
      "saldo_medio_var12_ult1           float64\n",
      "saldo_medio_var12_ult3           float64\n",
      "saldo_medio_var13_corto_hace2    float64\n",
      "saldo_medio_var13_corto_hace3    float64\n",
      "saldo_medio_var13_corto_ult1     float64\n",
      "saldo_medio_var13_corto_ult3     float64\n",
      "saldo_medio_var13_largo_hace2    float64\n",
      "saldo_medio_var13_largo_hace3    float64\n",
      "saldo_medio_var13_largo_ult1     float64\n",
      "saldo_medio_var13_largo_ult3     float64\n",
      "saldo_medio_var13_medio_hace2    float64\n",
      "saldo_medio_var13_medio_hace3    int64\n",
      "saldo_medio_var13_medio_ult1     int64\n",
      "saldo_medio_var13_medio_ult3     float64\n",
      "saldo_medio_var17_hace2          float64\n",
      "saldo_medio_var17_hace3          float64\n",
      "saldo_medio_var17_ult1           float64\n",
      "saldo_medio_var17_ult3           float64\n",
      "saldo_medio_var29_hace2          float64\n",
      "saldo_medio_var29_hace3          float64\n",
      "saldo_medio_var29_ult1           float64\n",
      "saldo_medio_var29_ult3           float64\n",
      "saldo_medio_var33_hace2          float64\n",
      "saldo_medio_var33_hace3          float64\n",
      "saldo_medio_var33_ult1           float64\n",
      "saldo_medio_var33_ult3           float64\n",
      "saldo_medio_var44_hace2          float64\n",
      "saldo_medio_var44_hace3          float64\n",
      "saldo_medio_var44_ult1           float64\n",
      "saldo_medio_var44_ult3           float64\n",
      "var38                            float64\n",
      "dtypes: float64(111), int64(259)\n",
      "memory usage: 214.6 MB\n"
     ]
    }
   ],
   "source": [
    "X.info(verbose=True)"
   ]
  },
  {
   "cell_type": "markdown",
   "metadata": {},
   "source": [
    "*Найдем все бинарные признаки:*"
   ]
  },
  {
   "cell_type": "code",
   "execution_count": 9,
   "metadata": {
    "collapsed": false,
    "scrolled": true
   },
   "outputs": [],
   "source": [
    "X_bin = []\n",
    "\n",
    "c = X.columns\n",
    "for i in range(0,len(c)):\n",
    "    if (X[c[i]].value_counts().index.min() == 0) & (X[c[i]].value_counts().index.max() == 1):\n",
    "        X_bin.append(c[i])\n",
    "        "
   ]
  },
  {
   "cell_type": "code",
   "execution_count": 10,
   "metadata": {
    "collapsed": false
   },
   "outputs": [
    {
     "name": "stdout",
     "output_type": "stream",
     "text": [
      "Количество бинарных признаков: 66\n"
     ]
    }
   ],
   "source": [
    "print('Количество бинарных признаков:', len(X_bin))"
   ]
  },
  {
   "cell_type": "code",
   "execution_count": 11,
   "metadata": {
    "collapsed": false
   },
   "outputs": [
    {
     "data": {
      "text/html": [
       "<div>\n",
       "<table border=\"1\" class=\"dataframe\">\n",
       "  <thead>\n",
       "    <tr style=\"text-align: right;\">\n",
       "      <th></th>\n",
       "      <th>ind_var1_0</th>\n",
       "      <th>ind_var1</th>\n",
       "      <th>ind_var5_0</th>\n",
       "      <th>ind_var5</th>\n",
       "      <th>ind_var6_0</th>\n",
       "      <th>ind_var6</th>\n",
       "      <th>ind_var8_0</th>\n",
       "      <th>ind_var8</th>\n",
       "      <th>ind_var12_0</th>\n",
       "      <th>ind_var12</th>\n",
       "      <th>...</th>\n",
       "      <th>ind_var44_0</th>\n",
       "      <th>ind_var44</th>\n",
       "      <th>ind_var7_emit_ult1</th>\n",
       "      <th>ind_var7_recib_ult1</th>\n",
       "      <th>ind_var10_ult1</th>\n",
       "      <th>ind_var10cte_ult1</th>\n",
       "      <th>ind_var9_cte_ult1</th>\n",
       "      <th>ind_var9_ult1</th>\n",
       "      <th>ind_var43_emit_ult1</th>\n",
       "      <th>ind_var43_recib_ult1</th>\n",
       "    </tr>\n",
       "  </thead>\n",
       "  <tbody>\n",
       "    <tr>\n",
       "      <th>0</th>\n",
       "      <td>0</td>\n",
       "      <td>0</td>\n",
       "      <td>1</td>\n",
       "      <td>0</td>\n",
       "      <td>0</td>\n",
       "      <td>0</td>\n",
       "      <td>0</td>\n",
       "      <td>0</td>\n",
       "      <td>0</td>\n",
       "      <td>0</td>\n",
       "      <td>...</td>\n",
       "      <td>0</td>\n",
       "      <td>0</td>\n",
       "      <td>0</td>\n",
       "      <td>0</td>\n",
       "      <td>0</td>\n",
       "      <td>0</td>\n",
       "      <td>0</td>\n",
       "      <td>0</td>\n",
       "      <td>0</td>\n",
       "      <td>0</td>\n",
       "    </tr>\n",
       "    <tr>\n",
       "      <th>1</th>\n",
       "      <td>0</td>\n",
       "      <td>0</td>\n",
       "      <td>1</td>\n",
       "      <td>0</td>\n",
       "      <td>0</td>\n",
       "      <td>0</td>\n",
       "      <td>0</td>\n",
       "      <td>0</td>\n",
       "      <td>0</td>\n",
       "      <td>0</td>\n",
       "      <td>...</td>\n",
       "      <td>0</td>\n",
       "      <td>0</td>\n",
       "      <td>0</td>\n",
       "      <td>0</td>\n",
       "      <td>0</td>\n",
       "      <td>0</td>\n",
       "      <td>0</td>\n",
       "      <td>0</td>\n",
       "      <td>0</td>\n",
       "      <td>0</td>\n",
       "    </tr>\n",
       "    <tr>\n",
       "      <th>2</th>\n",
       "      <td>0</td>\n",
       "      <td>0</td>\n",
       "      <td>1</td>\n",
       "      <td>1</td>\n",
       "      <td>0</td>\n",
       "      <td>0</td>\n",
       "      <td>0</td>\n",
       "      <td>0</td>\n",
       "      <td>0</td>\n",
       "      <td>0</td>\n",
       "      <td>...</td>\n",
       "      <td>0</td>\n",
       "      <td>0</td>\n",
       "      <td>0</td>\n",
       "      <td>0</td>\n",
       "      <td>0</td>\n",
       "      <td>0</td>\n",
       "      <td>0</td>\n",
       "      <td>0</td>\n",
       "      <td>0</td>\n",
       "      <td>0</td>\n",
       "    </tr>\n",
       "    <tr>\n",
       "      <th>3</th>\n",
       "      <td>0</td>\n",
       "      <td>0</td>\n",
       "      <td>1</td>\n",
       "      <td>1</td>\n",
       "      <td>0</td>\n",
       "      <td>0</td>\n",
       "      <td>0</td>\n",
       "      <td>0</td>\n",
       "      <td>0</td>\n",
       "      <td>0</td>\n",
       "      <td>...</td>\n",
       "      <td>0</td>\n",
       "      <td>0</td>\n",
       "      <td>0</td>\n",
       "      <td>0</td>\n",
       "      <td>1</td>\n",
       "      <td>1</td>\n",
       "      <td>1</td>\n",
       "      <td>1</td>\n",
       "      <td>0</td>\n",
       "      <td>0</td>\n",
       "    </tr>\n",
       "    <tr>\n",
       "      <th>4</th>\n",
       "      <td>0</td>\n",
       "      <td>0</td>\n",
       "      <td>1</td>\n",
       "      <td>0</td>\n",
       "      <td>0</td>\n",
       "      <td>0</td>\n",
       "      <td>0</td>\n",
       "      <td>0</td>\n",
       "      <td>1</td>\n",
       "      <td>1</td>\n",
       "      <td>...</td>\n",
       "      <td>0</td>\n",
       "      <td>0</td>\n",
       "      <td>0</td>\n",
       "      <td>0</td>\n",
       "      <td>0</td>\n",
       "      <td>0</td>\n",
       "      <td>0</td>\n",
       "      <td>0</td>\n",
       "      <td>1</td>\n",
       "      <td>1</td>\n",
       "    </tr>\n",
       "  </tbody>\n",
       "</table>\n",
       "<p>5 rows × 66 columns</p>\n",
       "</div>"
      ],
      "text/plain": [
       "   ind_var1_0  ind_var1  ind_var5_0  ind_var5  ind_var6_0  ind_var6  \\\n",
       "0           0         0           1         0           0         0   \n",
       "1           0         0           1         0           0         0   \n",
       "2           0         0           1         1           0         0   \n",
       "3           0         0           1         1           0         0   \n",
       "4           0         0           1         0           0         0   \n",
       "\n",
       "   ind_var8_0  ind_var8  ind_var12_0  ind_var12          ...           \\\n",
       "0           0         0            0          0          ...            \n",
       "1           0         0            0          0          ...            \n",
       "2           0         0            0          0          ...            \n",
       "3           0         0            0          0          ...            \n",
       "4           0         0            1          1          ...            \n",
       "\n",
       "   ind_var44_0  ind_var44  ind_var7_emit_ult1  ind_var7_recib_ult1  \\\n",
       "0            0          0                   0                    0   \n",
       "1            0          0                   0                    0   \n",
       "2            0          0                   0                    0   \n",
       "3            0          0                   0                    0   \n",
       "4            0          0                   0                    0   \n",
       "\n",
       "   ind_var10_ult1  ind_var10cte_ult1  ind_var9_cte_ult1  ind_var9_ult1  \\\n",
       "0               0                  0                  0              0   \n",
       "1               0                  0                  0              0   \n",
       "2               0                  0                  0              0   \n",
       "3               1                  1                  1              1   \n",
       "4               0                  0                  0              0   \n",
       "\n",
       "   ind_var43_emit_ult1  ind_var43_recib_ult1  \n",
       "0                    0                     0  \n",
       "1                    0                     0  \n",
       "2                    0                     0  \n",
       "3                    0                     0  \n",
       "4                    1                     1  \n",
       "\n",
       "[5 rows x 66 columns]"
      ]
     },
     "execution_count": 11,
     "metadata": {},
     "output_type": "execute_result"
    }
   ],
   "source": [
    "X[X_bin].head(5)"
   ]
  },
  {
   "cell_type": "markdown",
   "metadata": {},
   "source": [
    "*Найдем все вещественные признаки:*"
   ]
  },
  {
   "cell_type": "code",
   "execution_count": 12,
   "metadata": {
    "collapsed": false
   },
   "outputs": [],
   "source": [
    "X_float = []\n",
    "\n",
    "c = X.drop(X_bin,axis=1).columns\n",
    "\n",
    "for i in range(0,len(c)):\n",
    "    if (type(X[c[i]][3]) == float64):\n",
    "        X_float.append(c[i])"
   ]
  },
  {
   "cell_type": "code",
   "execution_count": 13,
   "metadata": {
    "collapsed": false
   },
   "outputs": [
    {
     "name": "stdout",
     "output_type": "stream",
     "text": [
      "Количество вещественных признаков: 111\n"
     ]
    }
   ],
   "source": [
    "print('Количество вещественных признаков:', len(X_float))"
   ]
  },
  {
   "cell_type": "code",
   "execution_count": 14,
   "metadata": {
    "collapsed": false
   },
   "outputs": [
    {
     "data": {
      "text/html": [
       "<div>\n",
       "<table border=\"1\" class=\"dataframe\">\n",
       "  <thead>\n",
       "    <tr style=\"text-align: right;\">\n",
       "      <th></th>\n",
       "      <th>imp_ent_var16_ult1</th>\n",
       "      <th>imp_op_var39_comer_ult1</th>\n",
       "      <th>imp_op_var39_comer_ult3</th>\n",
       "      <th>imp_op_var40_comer_ult1</th>\n",
       "      <th>imp_op_var40_comer_ult3</th>\n",
       "      <th>imp_op_var40_efect_ult1</th>\n",
       "      <th>imp_op_var40_efect_ult3</th>\n",
       "      <th>imp_op_var40_ult1</th>\n",
       "      <th>imp_op_var41_comer_ult1</th>\n",
       "      <th>imp_op_var41_comer_ult3</th>\n",
       "      <th>...</th>\n",
       "      <th>saldo_medio_var29_ult3</th>\n",
       "      <th>saldo_medio_var33_hace2</th>\n",
       "      <th>saldo_medio_var33_hace3</th>\n",
       "      <th>saldo_medio_var33_ult1</th>\n",
       "      <th>saldo_medio_var33_ult3</th>\n",
       "      <th>saldo_medio_var44_hace2</th>\n",
       "      <th>saldo_medio_var44_hace3</th>\n",
       "      <th>saldo_medio_var44_ult1</th>\n",
       "      <th>saldo_medio_var44_ult3</th>\n",
       "      <th>var38</th>\n",
       "    </tr>\n",
       "  </thead>\n",
       "  <tbody>\n",
       "    <tr>\n",
       "      <th>0</th>\n",
       "      <td>0.0</td>\n",
       "      <td>0.0</td>\n",
       "      <td>0.0</td>\n",
       "      <td>0.0</td>\n",
       "      <td>0.0</td>\n",
       "      <td>0.0</td>\n",
       "      <td>0.0</td>\n",
       "      <td>0.0</td>\n",
       "      <td>0.0</td>\n",
       "      <td>0.0</td>\n",
       "      <td>...</td>\n",
       "      <td>0.0</td>\n",
       "      <td>0.0</td>\n",
       "      <td>0.0</td>\n",
       "      <td>0.0</td>\n",
       "      <td>0.0</td>\n",
       "      <td>0.0</td>\n",
       "      <td>0.0</td>\n",
       "      <td>0.0</td>\n",
       "      <td>0.0</td>\n",
       "      <td>39205.170000</td>\n",
       "    </tr>\n",
       "    <tr>\n",
       "      <th>1</th>\n",
       "      <td>0.0</td>\n",
       "      <td>0.0</td>\n",
       "      <td>0.0</td>\n",
       "      <td>0.0</td>\n",
       "      <td>0.0</td>\n",
       "      <td>0.0</td>\n",
       "      <td>0.0</td>\n",
       "      <td>0.0</td>\n",
       "      <td>0.0</td>\n",
       "      <td>0.0</td>\n",
       "      <td>...</td>\n",
       "      <td>0.0</td>\n",
       "      <td>0.0</td>\n",
       "      <td>0.0</td>\n",
       "      <td>0.0</td>\n",
       "      <td>0.0</td>\n",
       "      <td>0.0</td>\n",
       "      <td>0.0</td>\n",
       "      <td>0.0</td>\n",
       "      <td>0.0</td>\n",
       "      <td>49278.030000</td>\n",
       "    </tr>\n",
       "    <tr>\n",
       "      <th>2</th>\n",
       "      <td>0.0</td>\n",
       "      <td>0.0</td>\n",
       "      <td>0.0</td>\n",
       "      <td>0.0</td>\n",
       "      <td>0.0</td>\n",
       "      <td>0.0</td>\n",
       "      <td>0.0</td>\n",
       "      <td>0.0</td>\n",
       "      <td>0.0</td>\n",
       "      <td>0.0</td>\n",
       "      <td>...</td>\n",
       "      <td>0.0</td>\n",
       "      <td>0.0</td>\n",
       "      <td>0.0</td>\n",
       "      <td>0.0</td>\n",
       "      <td>0.0</td>\n",
       "      <td>0.0</td>\n",
       "      <td>0.0</td>\n",
       "      <td>0.0</td>\n",
       "      <td>0.0</td>\n",
       "      <td>67333.770000</td>\n",
       "    </tr>\n",
       "    <tr>\n",
       "      <th>3</th>\n",
       "      <td>0.0</td>\n",
       "      <td>195.0</td>\n",
       "      <td>195.0</td>\n",
       "      <td>0.0</td>\n",
       "      <td>0.0</td>\n",
       "      <td>0.0</td>\n",
       "      <td>0.0</td>\n",
       "      <td>0.0</td>\n",
       "      <td>195.0</td>\n",
       "      <td>195.0</td>\n",
       "      <td>...</td>\n",
       "      <td>0.0</td>\n",
       "      <td>0.0</td>\n",
       "      <td>0.0</td>\n",
       "      <td>0.0</td>\n",
       "      <td>0.0</td>\n",
       "      <td>0.0</td>\n",
       "      <td>0.0</td>\n",
       "      <td>0.0</td>\n",
       "      <td>0.0</td>\n",
       "      <td>64007.970000</td>\n",
       "    </tr>\n",
       "    <tr>\n",
       "      <th>4</th>\n",
       "      <td>0.0</td>\n",
       "      <td>0.0</td>\n",
       "      <td>0.0</td>\n",
       "      <td>0.0</td>\n",
       "      <td>0.0</td>\n",
       "      <td>0.0</td>\n",
       "      <td>0.0</td>\n",
       "      <td>0.0</td>\n",
       "      <td>0.0</td>\n",
       "      <td>0.0</td>\n",
       "      <td>...</td>\n",
       "      <td>0.0</td>\n",
       "      <td>0.0</td>\n",
       "      <td>0.0</td>\n",
       "      <td>0.0</td>\n",
       "      <td>0.0</td>\n",
       "      <td>0.0</td>\n",
       "      <td>0.0</td>\n",
       "      <td>0.0</td>\n",
       "      <td>0.0</td>\n",
       "      <td>117310.979016</td>\n",
       "    </tr>\n",
       "  </tbody>\n",
       "</table>\n",
       "<p>5 rows × 111 columns</p>\n",
       "</div>"
      ],
      "text/plain": [
       "   imp_ent_var16_ult1  imp_op_var39_comer_ult1  imp_op_var39_comer_ult3  \\\n",
       "0                 0.0                      0.0                      0.0   \n",
       "1                 0.0                      0.0                      0.0   \n",
       "2                 0.0                      0.0                      0.0   \n",
       "3                 0.0                    195.0                    195.0   \n",
       "4                 0.0                      0.0                      0.0   \n",
       "\n",
       "   imp_op_var40_comer_ult1  imp_op_var40_comer_ult3  imp_op_var40_efect_ult1  \\\n",
       "0                      0.0                      0.0                      0.0   \n",
       "1                      0.0                      0.0                      0.0   \n",
       "2                      0.0                      0.0                      0.0   \n",
       "3                      0.0                      0.0                      0.0   \n",
       "4                      0.0                      0.0                      0.0   \n",
       "\n",
       "   imp_op_var40_efect_ult3  imp_op_var40_ult1  imp_op_var41_comer_ult1  \\\n",
       "0                      0.0                0.0                      0.0   \n",
       "1                      0.0                0.0                      0.0   \n",
       "2                      0.0                0.0                      0.0   \n",
       "3                      0.0                0.0                    195.0   \n",
       "4                      0.0                0.0                      0.0   \n",
       "\n",
       "   imp_op_var41_comer_ult3      ...        saldo_medio_var29_ult3  \\\n",
       "0                      0.0      ...                           0.0   \n",
       "1                      0.0      ...                           0.0   \n",
       "2                      0.0      ...                           0.0   \n",
       "3                    195.0      ...                           0.0   \n",
       "4                      0.0      ...                           0.0   \n",
       "\n",
       "   saldo_medio_var33_hace2  saldo_medio_var33_hace3  saldo_medio_var33_ult1  \\\n",
       "0                      0.0                      0.0                     0.0   \n",
       "1                      0.0                      0.0                     0.0   \n",
       "2                      0.0                      0.0                     0.0   \n",
       "3                      0.0                      0.0                     0.0   \n",
       "4                      0.0                      0.0                     0.0   \n",
       "\n",
       "   saldo_medio_var33_ult3  saldo_medio_var44_hace2  saldo_medio_var44_hace3  \\\n",
       "0                     0.0                      0.0                      0.0   \n",
       "1                     0.0                      0.0                      0.0   \n",
       "2                     0.0                      0.0                      0.0   \n",
       "3                     0.0                      0.0                      0.0   \n",
       "4                     0.0                      0.0                      0.0   \n",
       "\n",
       "   saldo_medio_var44_ult1  saldo_medio_var44_ult3          var38  \n",
       "0                     0.0                     0.0   39205.170000  \n",
       "1                     0.0                     0.0   49278.030000  \n",
       "2                     0.0                     0.0   67333.770000  \n",
       "3                     0.0                     0.0   64007.970000  \n",
       "4                     0.0                     0.0  117310.979016  \n",
       "\n",
       "[5 rows x 111 columns]"
      ]
     },
     "execution_count": 14,
     "metadata": {},
     "output_type": "execute_result"
    }
   ],
   "source": [
    "X[X_float].head(5)"
   ]
  },
  {
   "cell_type": "markdown",
   "metadata": {},
   "source": [
    "*Найдем все целочисленные признаки:*"
   ]
  },
  {
   "cell_type": "code",
   "execution_count": 15,
   "metadata": {
    "collapsed": true
   },
   "outputs": [],
   "source": [
    "X_int = []\n",
    "\n",
    "c = X.drop(X_bin,axis=1).drop(X_float,axis=1).columns\n",
    "\n",
    "for i in range(0,len(c)):\n",
    "    if (type(X[c[i]][3]) == int64):\n",
    "        X_int.append(c[i])"
   ]
  },
  {
   "cell_type": "code",
   "execution_count": 16,
   "metadata": {
    "collapsed": false
   },
   "outputs": [
    {
     "name": "stdout",
     "output_type": "stream",
     "text": [
      "Количество целочисленных признаков: 193\n"
     ]
    }
   ],
   "source": [
    "print('Количество целочисленных признаков:', len(X_int))"
   ]
  },
  {
   "cell_type": "code",
   "execution_count": 17,
   "metadata": {
    "collapsed": false,
    "scrolled": true
   },
   "outputs": [
    {
     "data": {
      "text/html": [
       "<div>\n",
       "<table border=\"1\" class=\"dataframe\">\n",
       "  <thead>\n",
       "    <tr style=\"text-align: right;\">\n",
       "      <th></th>\n",
       "      <th>ID</th>\n",
       "      <th>var3</th>\n",
       "      <th>var15</th>\n",
       "      <th>ind_var2_0</th>\n",
       "      <th>ind_var2</th>\n",
       "      <th>ind_var27_0</th>\n",
       "      <th>ind_var28_0</th>\n",
       "      <th>ind_var28</th>\n",
       "      <th>ind_var27</th>\n",
       "      <th>ind_var41</th>\n",
       "      <th>...</th>\n",
       "      <th>num_trasp_var33_out_ult1</th>\n",
       "      <th>num_venta_var44_hace3</th>\n",
       "      <th>num_venta_var44_ult1</th>\n",
       "      <th>num_var45_hace2</th>\n",
       "      <th>num_var45_hace3</th>\n",
       "      <th>num_var45_ult1</th>\n",
       "      <th>num_var45_ult3</th>\n",
       "      <th>saldo_var2_ult1</th>\n",
       "      <th>saldo_medio_var13_medio_hace3</th>\n",
       "      <th>saldo_medio_var13_medio_ult1</th>\n",
       "    </tr>\n",
       "  </thead>\n",
       "  <tbody>\n",
       "    <tr>\n",
       "      <th>0</th>\n",
       "      <td>1</td>\n",
       "      <td>2</td>\n",
       "      <td>23</td>\n",
       "      <td>0</td>\n",
       "      <td>0</td>\n",
       "      <td>0</td>\n",
       "      <td>0</td>\n",
       "      <td>0</td>\n",
       "      <td>0</td>\n",
       "      <td>0</td>\n",
       "      <td>...</td>\n",
       "      <td>0</td>\n",
       "      <td>0</td>\n",
       "      <td>0</td>\n",
       "      <td>0</td>\n",
       "      <td>0</td>\n",
       "      <td>0</td>\n",
       "      <td>0</td>\n",
       "      <td>0</td>\n",
       "      <td>0</td>\n",
       "      <td>0</td>\n",
       "    </tr>\n",
       "    <tr>\n",
       "      <th>1</th>\n",
       "      <td>3</td>\n",
       "      <td>2</td>\n",
       "      <td>34</td>\n",
       "      <td>0</td>\n",
       "      <td>0</td>\n",
       "      <td>0</td>\n",
       "      <td>0</td>\n",
       "      <td>0</td>\n",
       "      <td>0</td>\n",
       "      <td>0</td>\n",
       "      <td>...</td>\n",
       "      <td>0</td>\n",
       "      <td>0</td>\n",
       "      <td>0</td>\n",
       "      <td>0</td>\n",
       "      <td>0</td>\n",
       "      <td>0</td>\n",
       "      <td>0</td>\n",
       "      <td>0</td>\n",
       "      <td>0</td>\n",
       "      <td>0</td>\n",
       "    </tr>\n",
       "    <tr>\n",
       "      <th>2</th>\n",
       "      <td>4</td>\n",
       "      <td>2</td>\n",
       "      <td>23</td>\n",
       "      <td>0</td>\n",
       "      <td>0</td>\n",
       "      <td>0</td>\n",
       "      <td>0</td>\n",
       "      <td>0</td>\n",
       "      <td>0</td>\n",
       "      <td>0</td>\n",
       "      <td>...</td>\n",
       "      <td>0</td>\n",
       "      <td>0</td>\n",
       "      <td>0</td>\n",
       "      <td>0</td>\n",
       "      <td>0</td>\n",
       "      <td>0</td>\n",
       "      <td>0</td>\n",
       "      <td>0</td>\n",
       "      <td>0</td>\n",
       "      <td>0</td>\n",
       "    </tr>\n",
       "    <tr>\n",
       "      <th>3</th>\n",
       "      <td>8</td>\n",
       "      <td>2</td>\n",
       "      <td>37</td>\n",
       "      <td>0</td>\n",
       "      <td>0</td>\n",
       "      <td>0</td>\n",
       "      <td>0</td>\n",
       "      <td>0</td>\n",
       "      <td>0</td>\n",
       "      <td>0</td>\n",
       "      <td>...</td>\n",
       "      <td>0</td>\n",
       "      <td>0</td>\n",
       "      <td>0</td>\n",
       "      <td>27</td>\n",
       "      <td>3</td>\n",
       "      <td>18</td>\n",
       "      <td>48</td>\n",
       "      <td>0</td>\n",
       "      <td>0</td>\n",
       "      <td>0</td>\n",
       "    </tr>\n",
       "    <tr>\n",
       "      <th>4</th>\n",
       "      <td>10</td>\n",
       "      <td>2</td>\n",
       "      <td>39</td>\n",
       "      <td>0</td>\n",
       "      <td>0</td>\n",
       "      <td>0</td>\n",
       "      <td>0</td>\n",
       "      <td>0</td>\n",
       "      <td>0</td>\n",
       "      <td>0</td>\n",
       "      <td>...</td>\n",
       "      <td>0</td>\n",
       "      <td>0</td>\n",
       "      <td>0</td>\n",
       "      <td>0</td>\n",
       "      <td>0</td>\n",
       "      <td>0</td>\n",
       "      <td>0</td>\n",
       "      <td>0</td>\n",
       "      <td>0</td>\n",
       "      <td>0</td>\n",
       "    </tr>\n",
       "  </tbody>\n",
       "</table>\n",
       "<p>5 rows × 193 columns</p>\n",
       "</div>"
      ],
      "text/plain": [
       "   ID  var3  var15  ind_var2_0  ind_var2  ind_var27_0  ind_var28_0  ind_var28  \\\n",
       "0   1     2     23           0         0            0            0          0   \n",
       "1   3     2     34           0         0            0            0          0   \n",
       "2   4     2     23           0         0            0            0          0   \n",
       "3   8     2     37           0         0            0            0          0   \n",
       "4  10     2     39           0         0            0            0          0   \n",
       "\n",
       "   ind_var27  ind_var41              ...               \\\n",
       "0          0          0              ...                \n",
       "1          0          0              ...                \n",
       "2          0          0              ...                \n",
       "3          0          0              ...                \n",
       "4          0          0              ...                \n",
       "\n",
       "   num_trasp_var33_out_ult1  num_venta_var44_hace3  num_venta_var44_ult1  \\\n",
       "0                         0                      0                     0   \n",
       "1                         0                      0                     0   \n",
       "2                         0                      0                     0   \n",
       "3                         0                      0                     0   \n",
       "4                         0                      0                     0   \n",
       "\n",
       "   num_var45_hace2  num_var45_hace3  num_var45_ult1  num_var45_ult3  \\\n",
       "0                0                0               0               0   \n",
       "1                0                0               0               0   \n",
       "2                0                0               0               0   \n",
       "3               27                3              18              48   \n",
       "4                0                0               0               0   \n",
       "\n",
       "   saldo_var2_ult1  saldo_medio_var13_medio_hace3  \\\n",
       "0                0                              0   \n",
       "1                0                              0   \n",
       "2                0                              0   \n",
       "3                0                              0   \n",
       "4                0                              0   \n",
       "\n",
       "   saldo_medio_var13_medio_ult1  \n",
       "0                             0  \n",
       "1                             0  \n",
       "2                             0  \n",
       "3                             0  \n",
       "4                             0  \n",
       "\n",
       "[5 rows x 193 columns]"
      ]
     },
     "execution_count": 17,
     "metadata": {},
     "output_type": "execute_result"
    }
   ],
   "source": [
    "X[X_int].head(5)"
   ]
  },
  {
   "cell_type": "code",
   "execution_count": 18,
   "metadata": {
    "collapsed": false
   },
   "outputs": [
    {
     "data": {
      "text/plain": [
       "True"
      ]
     },
     "execution_count": 18,
     "metadata": {},
     "output_type": "execute_result"
    }
   ],
   "source": [
    "# Проверка: все ли признаки отнесены к той или иной категории\n",
    "len(X_bin)+len(X_float)+len(X_int)==len(X.columns)"
   ]
  },
  {
   "cell_type": "markdown",
   "metadata": {},
   "source": [
    "**Статистические показатели признаков**"
   ]
  },
  {
   "cell_type": "code",
   "execution_count": 19,
   "metadata": {
    "collapsed": false,
    "scrolled": true
   },
   "outputs": [],
   "source": [
    "stats = X.describe().T"
   ]
  },
  {
   "cell_type": "code",
   "execution_count": 20,
   "metadata": {
    "collapsed": false
   },
   "outputs": [
    {
     "data": {
      "text/html": [
       "<div>\n",
       "<table border=\"1\" class=\"dataframe\">\n",
       "  <thead>\n",
       "    <tr style=\"text-align: right;\">\n",
       "      <th></th>\n",
       "      <th>count</th>\n",
       "      <th>mean</th>\n",
       "      <th>std</th>\n",
       "      <th>min</th>\n",
       "      <th>25%</th>\n",
       "      <th>50%</th>\n",
       "      <th>75%</th>\n",
       "      <th>max</th>\n",
       "    </tr>\n",
       "  </thead>\n",
       "  <tbody>\n",
       "    <tr>\n",
       "      <th>ind_var1_0</th>\n",
       "      <td>76020.0</td>\n",
       "      <td>0.011458</td>\n",
       "      <td>0.106425</td>\n",
       "      <td>0.0</td>\n",
       "      <td>0.0</td>\n",
       "      <td>0.0</td>\n",
       "      <td>0.0</td>\n",
       "      <td>1.0</td>\n",
       "    </tr>\n",
       "    <tr>\n",
       "      <th>ind_var1</th>\n",
       "      <td>76020.0</td>\n",
       "      <td>0.003762</td>\n",
       "      <td>0.061221</td>\n",
       "      <td>0.0</td>\n",
       "      <td>0.0</td>\n",
       "      <td>0.0</td>\n",
       "      <td>0.0</td>\n",
       "      <td>1.0</td>\n",
       "    </tr>\n",
       "    <tr>\n",
       "      <th>ind_var2_0</th>\n",
       "      <td>76020.0</td>\n",
       "      <td>0.000000</td>\n",
       "      <td>0.000000</td>\n",
       "      <td>0.0</td>\n",
       "      <td>0.0</td>\n",
       "      <td>0.0</td>\n",
       "      <td>0.0</td>\n",
       "      <td>0.0</td>\n",
       "    </tr>\n",
       "    <tr>\n",
       "      <th>ind_var2</th>\n",
       "      <td>76020.0</td>\n",
       "      <td>0.000000</td>\n",
       "      <td>0.000000</td>\n",
       "      <td>0.0</td>\n",
       "      <td>0.0</td>\n",
       "      <td>0.0</td>\n",
       "      <td>0.0</td>\n",
       "      <td>0.0</td>\n",
       "    </tr>\n",
       "    <tr>\n",
       "      <th>ind_var5_0</th>\n",
       "      <td>76020.0</td>\n",
       "      <td>0.958024</td>\n",
       "      <td>0.200535</td>\n",
       "      <td>0.0</td>\n",
       "      <td>1.0</td>\n",
       "      <td>1.0</td>\n",
       "      <td>1.0</td>\n",
       "      <td>1.0</td>\n",
       "    </tr>\n",
       "  </tbody>\n",
       "</table>\n",
       "</div>"
      ],
      "text/plain": [
       "              count      mean       std  min  25%  50%  75%  max\n",
       "ind_var1_0  76020.0  0.011458  0.106425  0.0  0.0  0.0  0.0  1.0\n",
       "ind_var1    76020.0  0.003762  0.061221  0.0  0.0  0.0  0.0  1.0\n",
       "ind_var2_0  76020.0  0.000000  0.000000  0.0  0.0  0.0  0.0  0.0\n",
       "ind_var2    76020.0  0.000000  0.000000  0.0  0.0  0.0  0.0  0.0\n",
       "ind_var5_0  76020.0  0.958024  0.200535  0.0  1.0  1.0  1.0  1.0"
      ]
     },
     "execution_count": 20,
     "metadata": {},
     "output_type": "execute_result"
    }
   ],
   "source": [
    "stats[20:25]"
   ]
  },
  {
   "cell_type": "markdown",
   "metadata": {},
   "source": [
    "*Пропуски в данных*"
   ]
  },
  {
   "cell_type": "code",
   "execution_count": 21,
   "metadata": {
    "collapsed": false
   },
   "outputs": [
    {
     "data": {
      "text/plain": [
       "76020.0    370\n",
       "Name: count, dtype: int64"
      ]
     },
     "execution_count": 21,
     "metadata": {},
     "output_type": "execute_result"
    }
   ],
   "source": [
    "stats['count'].value_counts()"
   ]
  },
  {
   "cell_type": "markdown",
   "metadata": {},
   "source": [
    "* Пропусков в данных нет"
   ]
  },
  {
   "cell_type": "markdown",
   "metadata": {},
   "source": [
    "*Выбросы*"
   ]
  },
  {
   "cell_type": "code",
   "execution_count": 83,
   "metadata": {
    "collapsed": false
   },
   "outputs": [],
   "source": [
    "f_ = []\n",
    "c = X.columns\n",
    "for i in range(0,len(c)):\n",
    "    st = X[c[i]][X[c[i]] != 0].describe()\n",
    "    if (st['max'] > st['75%']+1.5*(st['75%']-st['25%'])) or (st['min'] < st['25%']-1.5*(st['75%']-st['25%'])):\n",
    "        f_.append(c[i])"
   ]
  },
  {
   "cell_type": "code",
   "execution_count": 84,
   "metadata": {
    "collapsed": false
   },
   "outputs": [
    {
     "name": "stdout",
     "output_type": "stream",
     "text": [
      "* Из  370 имеющихся признаков  191 имеют выбросы относительно интерквартильного размаха\n"
     ]
    }
   ],
   "source": [
    "print('* Из ', len(X.columns), 'имеющихся признаков ', len(f_), 'имеют выбросы относительно интерквартильного размаха')"
   ]
  },
  {
   "cell_type": "markdown",
   "metadata": {},
   "source": [
    "Выбросы оценивались в каждом признаке, исключая нулевые значения"
   ]
  },
  {
   "cell_type": "markdown",
   "metadata": {},
   "source": [
    "*Признаки-константы и дубликаты*"
   ]
  },
  {
   "cell_type": "markdown",
   "metadata": {},
   "source": [
    "Можно заметить существование признаков с полностью нулевыми значениями. Также возможно существование признаков-констант.\n",
    "\n",
    "Исключим эти признаки из набора данных:"
   ]
  },
  {
   "cell_type": "code",
   "execution_count": 22,
   "metadata": {
    "collapsed": false
   },
   "outputs": [
    {
     "name": "stdout",
     "output_type": "stream",
     "text": [
      "Количество нулевых признаков и признаков-констант:  34\n"
     ]
    }
   ],
   "source": [
    "# Поиск полностью нулевых признаков и признаков-констант\n",
    "F_c = stats[(stats['std'] == 0) ].index\n",
    "print('Количество нулевых признаков и признаков-констант: ', len(F_c))"
   ]
  },
  {
   "cell_type": "code",
   "execution_count": 23,
   "metadata": {
    "collapsed": false
   },
   "outputs": [],
   "source": [
    "# Набор данных бех признаков-констант\n",
    "X_1 = X.drop(F_c, axis = 1)"
   ]
  },
  {
   "cell_type": "markdown",
   "metadata": {},
   "source": [
    "Проверим на наличие дубликатов в столбцах:"
   ]
  },
  {
   "cell_type": "code",
   "execution_count": 41,
   "metadata": {
    "collapsed": false
   },
   "outputs": [],
   "source": [
    "c = X_1.columns\n",
    "eq = []\n",
    "\n",
    "# Попарное сравнение столбцов\n",
    "for i in range(0,len(c)):\n",
    "    for j in range(i+1,len(c)):\n",
    "        if (X_1[c[i]] == X_1[c[j]]).min() == True:\n",
    "            eq.append([c[i],c[j]])   \n",
    "    "
   ]
  },
  {
   "cell_type": "code",
   "execution_count": 42,
   "metadata": {
    "collapsed": false
   },
   "outputs": [
    {
     "name": "stdout",
     "output_type": "stream",
     "text": [
      "Количество пар дубликатов: 29\n"
     ]
    }
   ],
   "source": [
    "eq = pd.DataFrame(eq)\n",
    "print('Количество пар дубликатов:',eq[1].count())"
   ]
  },
  {
   "cell_type": "code",
   "execution_count": 43,
   "metadata": {
    "collapsed": false
   },
   "outputs": [],
   "source": [
    "# Набор данных без дубликатов\n",
    "X_2 = X_1.drop(list(eq[1]), axis=1)"
   ]
  },
  {
   "cell_type": "code",
   "execution_count": 44,
   "metadata": {
    "collapsed": false
   },
   "outputs": [
    {
     "name": "stdout",
     "output_type": "stream",
     "text": [
      "Количество признаков в исходном наборе данных: 370\n",
      "Количество признаков после удаления признаков-констант и дубликатов: 307\n"
     ]
    }
   ],
   "source": [
    "print('Количество признаков в исходном наборе данных:', len(X.columns))\n",
    "print('Количество признаков после удаления признаков-констант и дубликатов:', len(X_2.columns))"
   ]
  },
  {
   "cell_type": "markdown",
   "metadata": {},
   "source": [
    "**Выберем наиболее важные признаки**"
   ]
  },
  {
   "cell_type": "code",
   "execution_count": 48,
   "metadata": {
    "collapsed": true
   },
   "outputs": [],
   "source": [
    "from sklearn.ensemble import RandomForestClassifier"
   ]
  },
  {
   "cell_type": "code",
   "execution_count": 49,
   "metadata": {
    "collapsed": false
   },
   "outputs": [],
   "source": [
    "forest = RandomForestClassifier(n_estimators=1000, max_depth = 10,\n",
    "                                random_state=42).fit(X_2, y)"
   ]
  },
  {
   "cell_type": "code",
   "execution_count": 50,
   "metadata": {
    "collapsed": false
   },
   "outputs": [
    {
     "data": {
      "text/html": [
       "<div>\n",
       "<table border=\"1\" class=\"dataframe\">\n",
       "  <thead>\n",
       "    <tr style=\"text-align: right;\">\n",
       "      <th></th>\n",
       "      <th>Importance</th>\n",
       "    </tr>\n",
       "  </thead>\n",
       "  <tbody>\n",
       "    <tr>\n",
       "      <th>var15</th>\n",
       "      <td>0.129594</td>\n",
       "    </tr>\n",
       "    <tr>\n",
       "      <th>var38</th>\n",
       "      <td>0.047854</td>\n",
       "    </tr>\n",
       "    <tr>\n",
       "      <th>saldo_var30</th>\n",
       "      <td>0.046288</td>\n",
       "    </tr>\n",
       "    <tr>\n",
       "      <th>saldo_var42</th>\n",
       "      <td>0.037195</td>\n",
       "    </tr>\n",
       "    <tr>\n",
       "      <th>saldo_medio_var5_ult1</th>\n",
       "      <td>0.024995</td>\n",
       "    </tr>\n",
       "    <tr>\n",
       "      <th>saldo_var5</th>\n",
       "      <td>0.024780</td>\n",
       "    </tr>\n",
       "    <tr>\n",
       "      <th>num_var4</th>\n",
       "      <td>0.023899</td>\n",
       "    </tr>\n",
       "    <tr>\n",
       "      <th>num_meses_var5_ult3</th>\n",
       "      <td>0.022263</td>\n",
       "    </tr>\n",
       "    <tr>\n",
       "      <th>saldo_medio_var5_hace2</th>\n",
       "      <td>0.021960</td>\n",
       "    </tr>\n",
       "    <tr>\n",
       "      <th>ind_var30</th>\n",
       "      <td>0.021160</td>\n",
       "    </tr>\n",
       "  </tbody>\n",
       "</table>\n",
       "</div>"
      ],
      "text/plain": [
       "                        Importance\n",
       "var15                     0.129594\n",
       "var38                     0.047854\n",
       "saldo_var30               0.046288\n",
       "saldo_var42               0.037195\n",
       "saldo_medio_var5_ult1     0.024995\n",
       "saldo_var5                0.024780\n",
       "num_var4                  0.023899\n",
       "num_meses_var5_ult3       0.022263\n",
       "saldo_medio_var5_hace2    0.021960\n",
       "ind_var30                 0.021160"
      ]
     },
     "execution_count": 50,
     "metadata": {},
     "output_type": "execute_result"
    }
   ],
   "source": [
    "features = pd.DataFrame(forest.feature_importances_,\n",
    "                        index=X_2.columns, \n",
    "                        columns=['Importance']).sort(['Importance'],\n",
    "                                                     ascending=False)\n",
    "# Первые 10 признаков:\n",
    "f=(features.head(10).index)\n",
    "features.head(10)"
   ]
  },
  {
   "cell_type": "code",
   "execution_count": 51,
   "metadata": {
    "collapsed": false
   },
   "outputs": [
    {
     "data": {
      "text/html": [
       "<div>\n",
       "<table border=\"1\" class=\"dataframe\">\n",
       "  <thead>\n",
       "    <tr style=\"text-align: right;\">\n",
       "      <th></th>\n",
       "      <th>var15</th>\n",
       "      <th>var38</th>\n",
       "      <th>saldo_var30</th>\n",
       "      <th>saldo_var42</th>\n",
       "      <th>saldo_medio_var5_ult1</th>\n",
       "      <th>saldo_var5</th>\n",
       "      <th>num_var4</th>\n",
       "      <th>num_meses_var5_ult3</th>\n",
       "      <th>saldo_medio_var5_hace2</th>\n",
       "      <th>ind_var30</th>\n",
       "    </tr>\n",
       "  </thead>\n",
       "  <tbody>\n",
       "    <tr>\n",
       "      <th>0</th>\n",
       "      <td>23</td>\n",
       "      <td>39205.170000</td>\n",
       "      <td>0.00</td>\n",
       "      <td>0.00</td>\n",
       "      <td>0.00</td>\n",
       "      <td>0.00</td>\n",
       "      <td>0</td>\n",
       "      <td>0</td>\n",
       "      <td>0.00</td>\n",
       "      <td>0</td>\n",
       "    </tr>\n",
       "    <tr>\n",
       "      <th>1</th>\n",
       "      <td>34</td>\n",
       "      <td>49278.030000</td>\n",
       "      <td>300.00</td>\n",
       "      <td>0.00</td>\n",
       "      <td>0.00</td>\n",
       "      <td>0.00</td>\n",
       "      <td>1</td>\n",
       "      <td>1</td>\n",
       "      <td>0.00</td>\n",
       "      <td>1</td>\n",
       "    </tr>\n",
       "    <tr>\n",
       "      <th>2</th>\n",
       "      <td>23</td>\n",
       "      <td>67333.770000</td>\n",
       "      <td>3.00</td>\n",
       "      <td>3.00</td>\n",
       "      <td>3.00</td>\n",
       "      <td>3.00</td>\n",
       "      <td>1</td>\n",
       "      <td>3</td>\n",
       "      <td>3.00</td>\n",
       "      <td>1</td>\n",
       "    </tr>\n",
       "    <tr>\n",
       "      <th>3</th>\n",
       "      <td>37</td>\n",
       "      <td>64007.970000</td>\n",
       "      <td>70.62</td>\n",
       "      <td>70.62</td>\n",
       "      <td>91.56</td>\n",
       "      <td>70.62</td>\n",
       "      <td>3</td>\n",
       "      <td>2</td>\n",
       "      <td>186.09</td>\n",
       "      <td>1</td>\n",
       "    </tr>\n",
       "    <tr>\n",
       "      <th>4</th>\n",
       "      <td>39</td>\n",
       "      <td>117310.979016</td>\n",
       "      <td>135003.00</td>\n",
       "      <td>135003.00</td>\n",
       "      <td>40501.08</td>\n",
       "      <td>0.00</td>\n",
       "      <td>1</td>\n",
       "      <td>3</td>\n",
       "      <td>3.00</td>\n",
       "      <td>1</td>\n",
       "    </tr>\n",
       "  </tbody>\n",
       "</table>\n",
       "</div>"
      ],
      "text/plain": [
       "   var15          var38  saldo_var30  saldo_var42  saldo_medio_var5_ult1  \\\n",
       "0     23   39205.170000         0.00         0.00                   0.00   \n",
       "1     34   49278.030000       300.00         0.00                   0.00   \n",
       "2     23   67333.770000         3.00         3.00                   3.00   \n",
       "3     37   64007.970000        70.62        70.62                  91.56   \n",
       "4     39  117310.979016    135003.00    135003.00               40501.08   \n",
       "\n",
       "   saldo_var5  num_var4  num_meses_var5_ult3  saldo_medio_var5_hace2  \\\n",
       "0        0.00         0                    0                    0.00   \n",
       "1        0.00         1                    1                    0.00   \n",
       "2        3.00         1                    3                    3.00   \n",
       "3       70.62         3                    2                  186.09   \n",
       "4        0.00         1                    3                    3.00   \n",
       "\n",
       "   ind_var30  \n",
       "0          0  \n",
       "1          1  \n",
       "2          1  \n",
       "3          1  \n",
       "4          1  "
      ]
     },
     "execution_count": 51,
     "metadata": {},
     "output_type": "execute_result"
    }
   ],
   "source": [
    "# Набор данных наиболее важных признаков\n",
    "X_imp = X_2[f]\n",
    "X_imp.head()"
   ]
  },
  {
   "cell_type": "code",
   "execution_count": 52,
   "metadata": {
    "collapsed": false
   },
   "outputs": [],
   "source": [
    "X_f = [] # выбранные вещественные признаки\n",
    "X_i = [] # выбранные целочисленные признаки\n",
    "X_b = [] # выбранные бинарные признаки\n",
    "\n",
    "c = X_imp.columns\n",
    "for i in range(0,len(c)):\n",
    "     if (X_imp[c[i]].value_counts().index.min() == 0) & (X_imp[c[i]].value_counts().index.max() == 1):\n",
    "            X_b.append(c[i])\n",
    "\n",
    "c = X_imp.drop(X_b,axis=1).columns\n",
    "\n",
    "for i in range(0,len(c)):\n",
    "    if (type(X_imp[c[i]][3]) == float64):\n",
    "        X_f.append(c[i])\n",
    "\n",
    "c = X_imp.drop(X_b,axis=1).drop(X_f,axis=1).columns\n",
    "\n",
    "for i in range(0,len(c)):\n",
    "    if (type(X_imp[c[i]][3]) == int64):\n",
    "        X_i.append(c[i])"
   ]
  },
  {
   "cell_type": "markdown",
   "metadata": {},
   "source": [
    "**Зависимости выбранных признаков друг от друга и зависимость целевого признака от других**"
   ]
  },
  {
   "cell_type": "code",
   "execution_count": 85,
   "metadata": {
    "collapsed": false
   },
   "outputs": [],
   "source": [
    "from scipy.stats import pearsonr"
   ]
  },
  {
   "cell_type": "markdown",
   "metadata": {},
   "source": [
    "Оценим зависимость вещественных признаков друг от друга с помощью коэффициента корреляции Пирсона:"
   ]
  },
  {
   "cell_type": "code",
   "execution_count": 54,
   "metadata": {
    "collapsed": false
   },
   "outputs": [
    {
     "data": {
      "text/html": [
       "<div>\n",
       "<table border=\"1\" class=\"dataframe\">\n",
       "  <thead>\n",
       "    <tr style=\"text-align: right;\">\n",
       "      <th></th>\n",
       "      <th>var38</th>\n",
       "      <th>saldo_var30</th>\n",
       "      <th>saldo_var42</th>\n",
       "      <th>saldo_medio_var5_ult1</th>\n",
       "      <th>saldo_var5</th>\n",
       "      <th>saldo_medio_var5_hace2</th>\n",
       "    </tr>\n",
       "  </thead>\n",
       "  <tbody>\n",
       "    <tr>\n",
       "      <th>0</th>\n",
       "      <td>39205.17</td>\n",
       "      <td>0.00</td>\n",
       "      <td>0.00</td>\n",
       "      <td>0.00</td>\n",
       "      <td>0.00</td>\n",
       "      <td>0.00</td>\n",
       "    </tr>\n",
       "    <tr>\n",
       "      <th>1</th>\n",
       "      <td>49278.03</td>\n",
       "      <td>300.00</td>\n",
       "      <td>0.00</td>\n",
       "      <td>0.00</td>\n",
       "      <td>0.00</td>\n",
       "      <td>0.00</td>\n",
       "    </tr>\n",
       "    <tr>\n",
       "      <th>2</th>\n",
       "      <td>67333.77</td>\n",
       "      <td>3.00</td>\n",
       "      <td>3.00</td>\n",
       "      <td>3.00</td>\n",
       "      <td>3.00</td>\n",
       "      <td>3.00</td>\n",
       "    </tr>\n",
       "    <tr>\n",
       "      <th>3</th>\n",
       "      <td>64007.97</td>\n",
       "      <td>70.62</td>\n",
       "      <td>70.62</td>\n",
       "      <td>91.56</td>\n",
       "      <td>70.62</td>\n",
       "      <td>186.09</td>\n",
       "    </tr>\n",
       "  </tbody>\n",
       "</table>\n",
       "</div>"
      ],
      "text/plain": [
       "      var38  saldo_var30  saldo_var42  saldo_medio_var5_ult1  saldo_var5  \\\n",
       "0  39205.17         0.00         0.00                   0.00        0.00   \n",
       "1  49278.03       300.00         0.00                   0.00        0.00   \n",
       "2  67333.77         3.00         3.00                   3.00        3.00   \n",
       "3  64007.97        70.62        70.62                  91.56       70.62   \n",
       "\n",
       "   saldo_medio_var5_hace2  \n",
       "0                    0.00  \n",
       "1                    0.00  \n",
       "2                    3.00  \n",
       "3                  186.09  "
      ]
     },
     "execution_count": 54,
     "metadata": {},
     "output_type": "execute_result"
    }
   ],
   "source": [
    "X_imp[X_f].head(4)"
   ]
  },
  {
   "cell_type": "code",
   "execution_count": 55,
   "metadata": {
    "collapsed": false
   },
   "outputs": [],
   "source": [
    "c = X_imp[X_f].columns\n",
    "pears=[]\n",
    "for i in range(0,len(c)):\n",
    "    for j in range(i+1,len(c)):\n",
    "        pp=pearsonr(X_imp[c[i]],X_imp[c[j]])\n",
    "        p=[c[i],c[j],pp[0]]\n",
    "        pears.append(p)"
   ]
  },
  {
   "cell_type": "code",
   "execution_count": 56,
   "metadata": {
    "collapsed": false
   },
   "outputs": [
    {
     "name": "stdout",
     "output_type": "stream",
     "text": [
      "Наиболее коррелируемые пары признаков:\n"
     ]
    },
    {
     "data": {
      "text/html": [
       "<div>\n",
       "<table border=\"1\" class=\"dataframe\">\n",
       "  <thead>\n",
       "    <tr style=\"text-align: right;\">\n",
       "      <th></th>\n",
       "      <th>0</th>\n",
       "      <th>1</th>\n",
       "      <th>2</th>\n",
       "    </tr>\n",
       "  </thead>\n",
       "  <tbody>\n",
       "    <tr>\n",
       "      <th>12</th>\n",
       "      <td>saldo_medio_var5_ult1</td>\n",
       "      <td>saldo_var5</td>\n",
       "      <td>0.838142</td>\n",
       "    </tr>\n",
       "    <tr>\n",
       "      <th>5</th>\n",
       "      <td>saldo_var30</td>\n",
       "      <td>saldo_var42</td>\n",
       "      <td>0.792772</td>\n",
       "    </tr>\n",
       "    <tr>\n",
       "      <th>13</th>\n",
       "      <td>saldo_medio_var5_ult1</td>\n",
       "      <td>saldo_medio_var5_hace2</td>\n",
       "      <td>0.536249</td>\n",
       "    </tr>\n",
       "    <tr>\n",
       "      <th>14</th>\n",
       "      <td>saldo_var5</td>\n",
       "      <td>saldo_medio_var5_hace2</td>\n",
       "      <td>0.389211</td>\n",
       "    </tr>\n",
       "    <tr>\n",
       "      <th>8</th>\n",
       "      <td>saldo_var30</td>\n",
       "      <td>saldo_medio_var5_hace2</td>\n",
       "      <td>0.387112</td>\n",
       "    </tr>\n",
       "    <tr>\n",
       "      <th>11</th>\n",
       "      <td>saldo_var42</td>\n",
       "      <td>saldo_medio_var5_hace2</td>\n",
       "      <td>0.292410</td>\n",
       "    </tr>\n",
       "    <tr>\n",
       "      <th>9</th>\n",
       "      <td>saldo_var42</td>\n",
       "      <td>saldo_medio_var5_ult1</td>\n",
       "      <td>0.225363</td>\n",
       "    </tr>\n",
       "    <tr>\n",
       "      <th>6</th>\n",
       "      <td>saldo_var30</td>\n",
       "      <td>saldo_medio_var5_ult1</td>\n",
       "      <td>0.213331</td>\n",
       "    </tr>\n",
       "    <tr>\n",
       "      <th>10</th>\n",
       "      <td>saldo_var42</td>\n",
       "      <td>saldo_var5</td>\n",
       "      <td>0.194311</td>\n",
       "    </tr>\n",
       "    <tr>\n",
       "      <th>7</th>\n",
       "      <td>saldo_var30</td>\n",
       "      <td>saldo_var5</td>\n",
       "      <td>0.155236</td>\n",
       "    </tr>\n",
       "  </tbody>\n",
       "</table>\n",
       "</div>"
      ],
      "text/plain": [
       "                        0                       1         2\n",
       "12  saldo_medio_var5_ult1              saldo_var5  0.838142\n",
       "5             saldo_var30             saldo_var42  0.792772\n",
       "13  saldo_medio_var5_ult1  saldo_medio_var5_hace2  0.536249\n",
       "14             saldo_var5  saldo_medio_var5_hace2  0.389211\n",
       "8             saldo_var30  saldo_medio_var5_hace2  0.387112\n",
       "11            saldo_var42  saldo_medio_var5_hace2  0.292410\n",
       "9             saldo_var42   saldo_medio_var5_ult1  0.225363\n",
       "6             saldo_var30   saldo_medio_var5_ult1  0.213331\n",
       "10            saldo_var42              saldo_var5  0.194311\n",
       "7             saldo_var30              saldo_var5  0.155236"
      ]
     },
     "execution_count": 56,
     "metadata": {},
     "output_type": "execute_result"
    }
   ],
   "source": [
    "pears = pd.DataFrame(pears)\n",
    "print('Наиболее коррелируемые пары признаков:')\n",
    "pears.sort(columns = 2, ascending=False).head(10)"
   ]
  },
  {
   "cell_type": "markdown",
   "metadata": {},
   "source": [
    "остальные зависимости онаружим визуально."
   ]
  },
  {
   "cell_type": "markdown",
   "metadata": {},
   "source": [
    "###  Часть 3. Первичный визуальный анализ признаков"
   ]
  },
  {
   "cell_type": "code",
   "execution_count": 59,
   "metadata": {
    "collapsed": true
   },
   "outputs": [],
   "source": [
    "import seaborn as sns"
   ]
  },
  {
   "cell_type": "code",
   "execution_count": 357,
   "metadata": {
    "collapsed": true
   },
   "outputs": [],
   "source": [
    "figsize=(6,4)"
   ]
  },
  {
   "cell_type": "markdown",
   "metadata": {},
   "source": [
    "**Целочисленные переменные**"
   ]
  },
  {
   "cell_type": "code",
   "execution_count": 73,
   "metadata": {
    "collapsed": false
   },
   "outputs": [
    {
     "data": {
      "text/plain": [
       "['var15', 'num_var4', 'num_meses_var5_ult3']"
      ]
     },
     "execution_count": 73,
     "metadata": {},
     "output_type": "execute_result"
    }
   ],
   "source": [
    "X_i # целочисленные переменные"
   ]
  },
  {
   "cell_type": "markdown",
   "metadata": {},
   "source": [
    "*Переменная \"var15\"*"
   ]
  },
  {
   "cell_type": "code",
   "execution_count": 74,
   "metadata": {
    "collapsed": false
   },
   "outputs": [
    {
     "data": {
      "image/png": "[encoded data removed]",
      "text/plain": [
       "<matplotlib.figure.Figure at 0x165514ca8d0>"
      ]
     },
     "metadata": {},
     "output_type": "display_data"
    }
   ],
   "source": [
    "sns.boxplot(y,X_imp['var15']);"
   ]
  },
  {
   "cell_type": "code",
   "execution_count": 389,
   "metadata": {
    "collapsed": false
   },
   "outputs": [],
   "source": [
    "# Нормализуем данные к количеству значений\n",
    "X0 = X_imp\n",
    "X0['TARGET'] = y\n",
    "X0['Count'] = y\n",
    "X0=X0[['var15','TARGET','Count']]\n",
    "# Количество данных в категориях TARGET\n",
    "z_0 = X0[['TARGET','Count']].groupby('TARGET').count()\n",
    "# Количество данных по категориям TARGET и переменной var15\n",
    "z = X0.groupby(['TARGET','var15'],axis=0).count()\n",
    "# Вычислим отношения\n",
    "xx =z.merge(z_0, left_index='TARGET', right_index='TARGET')\n",
    "xx ['Count'] = xx['Count_x']/xx['Count_y']\n",
    "# 'Count' - переменная показывающая, сколько данных попадает в ту или иную категорию, относительно количества данных в группе TARGET\n",
    "#xx"
   ]
  },
  {
   "cell_type": "code",
   "execution_count": 388,
   "metadata": {
    "collapsed": false
   },
   "outputs": [
    {
     "data": {
      "image/png": "[encoded data removed]",
      "text/plain": [
       "<matplotlib.figure.Figure at 0x16574959d68>"
      ]
     },
     "metadata": {},
     "output_type": "display_data"
    }
   ],
   "source": [
    "# Гистограмма\n",
    "pos = np.array(range(len(xx.loc[0]['Count'])))\n",
    "width = 0.4\n",
    "\n",
    "fig, ax = plt.subplots(figsize=(20,5))\n",
    "\n",
    "plt.bar(pos+width, xx.loc[0]['Count'], width, alpha=0.5, color='#EE3224')\n",
    "\n",
    "ax.set_xticks([p+width for p in pos] );\n",
    "ax.set_xticklabels(xx.index.labels[1]);\n",
    "pos = np.array(range(len(xx.loc[1]['Count'])))\n",
    "\n",
    "plt.bar(pos, xx.loc[1]['Count'], width, alpha=0.5, color= 'blue')\n",
    "ax.legend(('Довольные клиенты \"0\"', 'Недовольные клиенты \"1\"'),loc='upper center');\n",
    "ax.set_xlabel(('var15'));"
   ]
  },
  {
   "cell_type": "markdown",
   "metadata": {},
   "source": [
    "*Вывод:* По гистограмме заметна зависимость целевой переменной от исследуемой: \n",
    "\n",
    "* Пик довольных клиентов приходится на значение переменной ~18.\n",
    "\n",
    "* При значении > 18 и < 23 количество довольных клиентов больше количества недовольных.\n",
    "\n",
    "* При значении переменной < 18  значительно больше недовольных клиентов (практически все - недовольные).\n",
    "\n"
   ]
  },
  {
   "cell_type": "markdown",
   "metadata": {},
   "source": [
    "*Переменная \"num_var4\"*"
   ]
  },
  {
   "cell_type": "code",
   "execution_count": 75,
   "metadata": {
    "collapsed": false
   },
   "outputs": [
    {
     "data": {
      "image/png": "[encoded data removed]",
      "text/plain": [
       "<matplotlib.figure.Figure at 0x165514dcfd0>"
      ]
     },
     "metadata": {},
     "output_type": "display_data"
    }
   ],
   "source": [
    "sns.boxplot(y,X_imp['num_var4']);"
   ]
  },
  {
   "cell_type": "markdown",
   "metadata": {},
   "source": [
    "* Основное количество довольных клиентов приходится на значение переменной 1.\n",
    "\n",
    "* Основное количество недовольных клиентов приходится на значения 0 и 1."
   ]
  },
  {
   "cell_type": "code",
   "execution_count": 364,
   "metadata": {
    "collapsed": false,
    "scrolled": true
   },
   "outputs": [],
   "source": [
    "# Нормализуем данные к количеству значений\n",
    "X0 = X_imp\n",
    "X0['TARGET'] = y\n",
    "X0['Count'] = y\n",
    "X0=X0[['num_var4','TARGET','Count']]\n",
    "# Количество данных в категориях TARGET\n",
    "z_0 = X0[['TARGET','Count']].groupby('TARGET').count()\n",
    "# Количество данных по категориям TARGET и переменной num_var4\n",
    "z = X0.groupby(['TARGET','num_var4'],axis=0).count()\n",
    "# Вычислим отношения\n",
    "xx =z.merge(z_0, left_index='TARGET', right_index='TARGET')\n",
    "xx ['Count'] = xx['Count_x']/xx['Count_y']\n",
    "# 'Count' - переменная показывающая, сколько данных попадает в ту или иную категорию, относительно количества данных в группе TARGET\n",
    "#xx"
   ]
  },
  {
   "cell_type": "code",
   "execution_count": 365,
   "metadata": {
    "collapsed": false
   },
   "outputs": [
    {
     "data": {
      "image/png": "[encoded data removed]",
      "text/plain": [
       "<matplotlib.figure.Figure at 0x165759260f0>"
      ]
     },
     "metadata": {},
     "output_type": "display_data"
    }
   ],
   "source": [
    "# Гистограмма\n",
    "pos = np.array(range(len(xx.loc[0]['Count'])))\n",
    "width = 0.4\n",
    "\n",
    "fig, ax = plt.subplots(figsize=(10,5))\n",
    "\n",
    "plt.bar(pos+width, xx.loc[0]['Count'], width, alpha=0.5, color='#EE3224')\n",
    "pos = np.array(range(len(xx.loc[1]['Count'])))\n",
    "\n",
    "plt.bar(pos, xx.loc[1]['Count'], width, alpha=0.5, color= 'blue')\n",
    "\n",
    "ax.set_xticks([p+width for p in pos] );\n",
    "ax.set_xticklabels(xx.index.labels[1]);\n",
    "ax.legend(('Довольные клиенты \"0\"', 'Недовольные клиенты \"1\"'),loc='upper center',);\n",
    "ax.set_xlabel(('num_var4'));"
   ]
  },
  {
   "cell_type": "markdown",
   "metadata": {},
   "source": [
    "*Вывод:* По гистограмме заметна зависимость целевой переменной от исследуемой: \n",
    "\n",
    "* Наблюдается обратная зависимость для недовольных клиентов. Для нименьшего значения переменной соответствует максимальное количество недовольных клиентов, и, наоборт.\n",
    "\n",
    "* При значении переменной, равной 1 или 2, количество довольных клиентов значительно больше, чем недовольных."
   ]
  },
  {
   "cell_type": "markdown",
   "metadata": {},
   "source": [
    "*Переменная \"num_meses_var5_ult3\"*"
   ]
  },
  {
   "cell_type": "code",
   "execution_count": 81,
   "metadata": {
    "collapsed": false,
    "scrolled": true
   },
   "outputs": [
    {
     "data": {
      "image/png": "[encoded data removed]",
      "text/plain": [
       "<matplotlib.figure.Figure at 0x1655d968c88>"
      ]
     },
     "metadata": {},
     "output_type": "display_data"
    }
   ],
   "source": [
    "sns.boxplot(y,X_imp['num_meses_var5_ult3']);"
   ]
  },
  {
   "cell_type": "markdown",
   "metadata": {},
   "source": [
    "* Переменная изменяется в одинаковых пределах для счастливых и несчастливых клиентов."
   ]
  },
  {
   "cell_type": "code",
   "execution_count": 362,
   "metadata": {
    "collapsed": true
   },
   "outputs": [],
   "source": [
    "# Нормализуем данные к количеству значений\n",
    "X0 = X_imp\n",
    "X0['TARGET'] = y\n",
    "X0['Count'] = y\n",
    "X0=X0[['num_meses_var5_ult3','TARGET','Count']]\n",
    "# Количество данных в категориях TARGET\n",
    "z_0 = X0[['TARGET','Count']].groupby('TARGET').count()\n",
    "# Количество данных по категориям TARGET и переменной num_meses_var5_ult3\n",
    "z = X0.groupby(['TARGET','num_meses_var5_ult3'],axis=0).count()\n",
    "# Вычислим отношения\n",
    "xx =z.merge(z_0, left_index='TARGET', right_index='TARGET')\n",
    "xx ['Count'] = xx['Count_x']/xx['Count_y']\n",
    "# 'Count' - переменная показывающая, сколько данных попадает в ту или иную категорию, относительно количества данных в группе TARGET\n",
    "#xx"
   ]
  },
  {
   "cell_type": "code",
   "execution_count": 363,
   "metadata": {
    "collapsed": false
   },
   "outputs": [
    {
     "data": {
      "image/png": "[encoded data removed]",
      "text/plain": [
       "<matplotlib.figure.Figure at 0x16575f8a0b8>"
      ]
     },
     "metadata": {},
     "output_type": "display_data"
    }
   ],
   "source": [
    "# Гистограмма\n",
    "pos = np.array(range(len(xx.loc[0]['Count'])))\n",
    "width = 0.4\n",
    "\n",
    "fig, ax = plt.subplots(figsize=(8,5))\n",
    "\n",
    "plt.bar(pos+width, xx.loc[0]['Count'], width, alpha=0.5, color='#EE3224')\n",
    "plt.bar(pos, xx.loc[1]['Count'], width, alpha=0.5, color= 'blue')\n",
    "\n",
    "ax.set_xticks([p+width for p in pos] );\n",
    "ax.set_xticklabels(xx.index.labels[1]);\n",
    "ax.legend(('Довольные клиенты \"0\"', 'Недовольные клиенты \"1\"'),loc='upper center',);\n",
    "ax.set_xlabel(('num_meses_var5_ult3'));"
   ]
  },
  {
   "cell_type": "markdown",
   "metadata": {},
   "source": [
    "*Вывод:* По гистограмме заметна зависимость целевой переменной от исследуемой: \n",
    "\n",
    "* при значении переменной <= 1 количество недовольных клиентов возрастает значительно,\n",
    "\n",
    "* при значении переменной >= 2 количество довольных клиентов возрастает значительно."
   ]
  },
  {
   "cell_type": "markdown",
   "metadata": {},
   "source": [
    "**Вещественные переменные**"
   ]
  },
  {
   "cell_type": "code",
   "execution_count": 84,
   "metadata": {
    "collapsed": false
   },
   "outputs": [
    {
     "data": {
      "text/plain": [
       "['var38',\n",
       " 'saldo_var30',\n",
       " 'saldo_var42',\n",
       " 'saldo_medio_var5_ult1',\n",
       " 'saldo_var5',\n",
       " 'saldo_medio_var5_hace2']"
      ]
     },
     "execution_count": 84,
     "metadata": {},
     "output_type": "execute_result"
    }
   ],
   "source": [
    "X_f # вещественные переменные"
   ]
  },
  {
   "cell_type": "code",
   "execution_count": 107,
   "metadata": {
    "collapsed": false
   },
   "outputs": [],
   "source": [
    "XX1 = X_imp[X_f[0:3]]\n",
    "XX1['TARGET']=y"
   ]
  },
  {
   "cell_type": "code",
   "execution_count": 108,
   "metadata": {
    "collapsed": false
   },
   "outputs": [
    {
     "data": {
      "text/plain": [
       "<seaborn.axisgrid.PairGrid at 0x1656e7e2cf8>"
      ]
     },
     "execution_count": 108,
     "metadata": {},
     "output_type": "execute_result"
    },
    {
     "data": {
      "image/png": "[encoded data removed]",
      "text/plain": [
       "<matplotlib.figure.Figure at 0x1656e814978>"
      ]
     },
     "metadata": {},
     "output_type": "display_data"
    }
   ],
   "source": [
    "sns.pairplot(data = XX1,hue = 'TARGET')"
   ]
  },
  {
   "cell_type": "code",
   "execution_count": 109,
   "metadata": {
    "collapsed": true
   },
   "outputs": [],
   "source": [
    "XX2 = X_imp[X_f[3:]]\n",
    "XX2['TARGET']=y"
   ]
  },
  {
   "cell_type": "code",
   "execution_count": 110,
   "metadata": {
    "collapsed": false
   },
   "outputs": [
    {
     "data": {
      "text/plain": [
       "<seaborn.axisgrid.PairGrid at 0x165710120b8>"
      ]
     },
     "execution_count": 110,
     "metadata": {},
     "output_type": "execute_result"
    },
    {
     "data": {
      "image/png": "[encoded data removed]",
      "text/plain": [
       "<matplotlib.figure.Figure at 0x16570ff8780>"
      ]
     },
     "metadata": {},
     "output_type": "display_data"
    }
   ],
   "source": [
    "sns.pairplot(data = XX2,hue = 'TARGET')"
   ]
  },
  {
   "cell_type": "markdown",
   "metadata": {},
   "source": [
    "По построенным диаграммам наблюдается:\n",
    "    \n",
    "* Относительно всех вещественных переменных скопление точек значений целевой переменной для недовольных клиентов находится в небольшом радиусе окружности от начала координат.\n",
    "\n",
    "* Многие вещественные переменные имеют ярко выраженную зависимость, особенно четко прослеживается у переменных saldo_var32 и saldo_var40."
   ]
  },
  {
   "cell_type": "markdown",
   "metadata": {},
   "source": [
    "**Бинарные признаки**"
   ]
  },
  {
   "cell_type": "code",
   "execution_count": 111,
   "metadata": {
    "collapsed": false
   },
   "outputs": [
    {
     "data": {
      "text/plain": [
       "['ind_var30']"
      ]
     },
     "execution_count": 111,
     "metadata": {},
     "output_type": "execute_result"
    }
   ],
   "source": [
    "X_b # бинарные признаки"
   ]
  },
  {
   "cell_type": "code",
   "execution_count": 392,
   "metadata": {
    "collapsed": false
   },
   "outputs": [],
   "source": [
    "# Нормализуем данные к количеству значений\n",
    "X0 = X_imp\n",
    "X0['TARGET'] = y\n",
    "X0['Count'] = y\n",
    "X0=X0[['ind_var30','TARGET','Count']]\n",
    "# Количество данных в категориях TARGET\n",
    "z_0 = X0[['TARGET','Count']].groupby('TARGET').count()\n",
    "# Количество данных по категориям TARGET и переменной ind_var30\n",
    "z = X0.groupby(['TARGET','ind_var30'],axis=0).count()\n",
    "# Вычислим отношения\n",
    "xx =z.merge(z_0, left_index='TARGET', right_index='TARGET')\n",
    "xx ['Count'] = xx['Count_x']/xx['Count_y']\n",
    "# 'Count' - переменная показывающая, сколько данных попадает в ту или иную категорию, относительно количества данных в группе TARGET\n",
    "#xx"
   ]
  },
  {
   "cell_type": "code",
   "execution_count": 394,
   "metadata": {
    "collapsed": false
   },
   "outputs": [
    {
     "data": {
      "image/png": "[encoded data removed]",
      "text/plain": [
       "<matplotlib.figure.Figure at 0x165749644a8>"
      ]
     },
     "metadata": {},
     "output_type": "display_data"
    }
   ],
   "source": [
    "# Гистограмма\n",
    "pos = np.array(range(len(xx.loc[0]['Count'])))\n",
    "width = 0.4\n",
    "\n",
    "fig, ax = plt.subplots(figsize=(6,4))\n",
    "\n",
    "plt.bar(pos+width, xx.loc[0]['Count'], width, alpha=0.5, color='#EE3224')\n",
    "plt.bar(pos, xx.loc[1]['Count'], width, alpha=0.5, color= 'blue')\n",
    "\n",
    "ax.set_xticks([p+width for p in pos] );\n",
    "ax.set_xticklabels(xx.index.labels[1]);\n",
    "ax.legend(('Довольные клиенты \"0\"', 'Недовольные клиенты \"1\"'),loc='upper center',);\n",
    "ax.set_xlabel(('ind_var30'));"
   ]
  },
  {
   "cell_type": "markdown",
   "metadata": {},
   "source": [
    "*Вывод:* По гистограмме заметна зависимость целевой переменной от исследуемой: \n",
    "\n",
    "* При значении переменной = 0 количество недовольных клиентов значительно больше количества довольных.\n",
    "\n",
    "* При значении переменной = 1 количество довольных клиентов значительно больше количества недовольных."
   ]
  },
  {
   "cell_type": "markdown",
   "metadata": {},
   "source": [
    "**Проверяем простые статистические гипотезы **"
   ]
  },
  {
   "cell_type": "markdown",
   "metadata": {},
   "source": [
    "*1) Проверим гипотизу о том, что доля довольных клиентов отличается от доли недовольных клиентов относительно признака ind_var30:*"
   ]
  },
  {
   "cell_type": "markdown",
   "metadata": {},
   "source": [
    "H0: доли клиентов, как довольных, так и недовольных, равны при обоих значениях признака ind_var30.\n",
    "\n",
    "H1: доли количества довольных и недоволных клиентов не равны."
   ]
  },
  {
   "cell_type": "code",
   "execution_count": 60,
   "metadata": {
    "collapsed": true
   },
   "outputs": [],
   "source": [
    "import sys\n",
    "sys.path.append('../../scripts/') "
   ]
  },
  {
   "cell_type": "code",
   "execution_count": 61,
   "metadata": {
    "collapsed": false
   },
   "outputs": [],
   "source": [
    "from yandex_mipt_stat_tests import proportions_diff_z_test, proportions_diff_z_stat_ind "
   ]
  },
  {
   "cell_type": "code",
   "execution_count": 79,
   "metadata": {
    "collapsed": false
   },
   "outputs": [
    {
     "name": "stdout",
     "output_type": "stream",
     "text": [
      "z_stat: 41.3053439345\n",
      "p-value: 0.0\n"
     ]
    }
   ],
   "source": [
    "z_stat = proportions_diff_z_stat_ind(y[X_imp['ind_var30']==0], y[X_imp['ind_var30']==1])\n",
    "print('z_stat:',z_stat)\n",
    "print('p-value:',proportions_diff_z_test(z_stat))"
   ]
  },
  {
   "cell_type": "markdown",
   "metadata": {},
   "source": [
    "p-value при z-тесте явно меньше 0,5.\n",
    "\n",
    "Следовательно, отвергаем нулевую гипотезу.\n",
    "\n",
    "*Вывод:* Средние доли количества недовольных и довольных клиентов при обоих значениях перменных отличаются (статистически значимы)."
   ]
  },
  {
   "cell_type": "markdown",
   "metadata": {},
   "source": [
    "*2) Проверим гипотизу о том, что среднее значение признака var15 довольных клиентов отличается от среднего значения признака var15 недовольных клиентов:*"
   ]
  },
  {
   "cell_type": "markdown",
   "metadata": {},
   "source": [
    "H0: Средние переменной var15 для довольных и недовольных клиентов равны.\n",
    "H1: Средние переменной var15 для довольных и недовольных клиентов не равны."
   ]
  },
  {
   "cell_type": "code",
   "execution_count": 69,
   "metadata": {
    "collapsed": true
   },
   "outputs": [],
   "source": [
    "from scipy.stats import ttest_ind"
   ]
  },
  {
   "cell_type": "code",
   "execution_count": 78,
   "metadata": {
    "collapsed": false
   },
   "outputs": [
    {
     "name": "stdout",
     "output_type": "stream",
     "text": [
      "t_stat: 30.0187497525\n",
      "p-value: 2.96121334267e-175\n"
     ]
    }
   ],
   "source": [
    "t_stat = ttest_ind(X_imp['var15'][y == 1],X_imp['var15'][y == 0],equal_var=False)\n",
    "print('t_stat:', t_stat[0])\n",
    "print('p-value:', t_stat[1])"
   ]
  },
  {
   "cell_type": "markdown",
   "metadata": {},
   "source": [
    "p-value при t-тесте явно меньше 0,5.\n",
    "\n",
    "Следовательно, отвергаем нулевую гипотезу.\n",
    "\n",
    "*Вывод:* Средние переменной var15 для довольных и недовольных клиентов не равны (статистически значимы)."
   ]
  },
  {
   "cell_type": "markdown",
   "metadata": {},
   "source": [
    "###  Часть 4. Закономерности, \"инсайты\", особенности данных"
   ]
  },
  {
   "cell_type": "markdown",
   "metadata": {},
   "source": [
    "**Особенности данных**\n",
    "\n",
    "* Пропусков в данных нет;\n",
    "\n",
    "* 34 полностью нулевых признака и признаков констант;\n",
    "\n",
    "* 29 пар признаков-дубликатов;\n",
    "\n",
    "* Есть признаки, зависящие от других признаков (корреляция);\n",
    "\n",
    "* Присутствует дисбаланс классов целевой переменной в имеющихся данных (\"0\":\"1\" ~ 24:1)\n"
   ]
  },
  {
   "cell_type": "markdown",
   "metadata": {},
   "source": [
    "**Закономерности**\n",
    "\n",
    "Целевая переменная зависит \n",
    "                            \n",
    "                            от вещественных признаков:\n",
    "                            \n",
    "Для всех: скопление значений признаков для группы недовольных клиентов сосредоточены ~ 1/3-1/4 относительно всего размаха значений ближе к нулю.\n",
    "\n",
    "- var38\n",
    "\n",
    "- saldo_var30\n",
    "\n",
    "- saldo_var42\n",
    "\n",
    "- saldo_medio_var5_ult1\n",
    "\n",
    "- saldo_var5\n",
    "\n",
    "- saldo_medio_var5_hace2\n",
    "\n",
    "                            от целочисленных признаков:\n",
    "                            \n",
    "- var15: \n",
    "\n",
    "Пик довольных клиентов приходится на значение переменной ~18.\n",
    "\n",
    "При значении > 18 и < 23 количество довольных клиентов больше количества недовольных.\n",
    "\n",
    "При значении переменной < 18  значительно больше недовольных клиентов (практически все - недовольные).\n",
    "\n",
    "- num_var4:\n",
    "\n",
    "Наблюдается обратная зависимость для недовольных клиентов. Для нименьшего значения переменной соответствует максимальное количество недовольных клиентов, и, наоборт.\n",
    "\n",
    "При значении переменной, равной 1 или 2, количество довольных клиентов значительно больше, чем недовольных.\n",
    "\n",
    "- num_meses_var5_ult3:\n",
    "\n",
    "При значении переменной <= 1 количество недовольных клиентов возрастает значительно,\n",
    "\n",
    "При значении переменной >= 2 количество довольных клиентов возрастает значительно.\n",
    "\n",
    "                            от бинарных признаков:\n",
    "- ind_var30:\n",
    "\n",
    "При значении переменной = 0 количество недовольных клиентов значительно больше количества довольных.\n",
    "\n",
    "При значении переменной = 1 количество довольных клиентов значительно больше количества недовольных.\n",
    "\n",
    "\n",
    "\n",
    "\n",
    "\n"
   ]
  },
  {
   "cell_type": "markdown",
   "metadata": {},
   "source": [
    "###  Часть 5. Предобработка данных "
   ]
  },
  {
   "cell_type": "code",
   "execution_count": null,
   "metadata": {
    "collapsed": true
   },
   "outputs": [],
   "source": []
  },
  {
   "cell_type": "markdown",
   "metadata": {},
   "source": [
    "###  Часть 6. Построение признаков"
   ]
  },
  {
   "cell_type": "code",
   "execution_count": null,
   "metadata": {
    "collapsed": true
   },
   "outputs": [],
   "source": []
  },
  {
   "cell_type": "markdown",
   "metadata": {},
   "source": [
    "###  Часть 7. Отбор признаков"
   ]
  },
  {
   "cell_type": "code",
   "execution_count": null,
   "metadata": {
    "collapsed": true
   },
   "outputs": [],
   "source": []
  },
  {
   "cell_type": "markdown",
   "metadata": {},
   "source": [
    "###  Часть 8. Построение модели"
   ]
  },
  {
   "cell_type": "code",
   "execution_count": null,
   "metadata": {
    "collapsed": true
   },
   "outputs": [],
   "source": []
  },
  {
   "cell_type": "markdown",
   "metadata": {},
   "source": [
    "###  Часть 9. Кросс-валидация, подбор параметров"
   ]
  },
  {
   "cell_type": "code",
   "execution_count": null,
   "metadata": {
    "collapsed": true
   },
   "outputs": [],
   "source": []
  },
  {
   "cell_type": "markdown",
   "metadata": {},
   "source": [
    "###  Часть 10. Кривые валидации и обучения"
   ]
  },
  {
   "cell_type": "code",
   "execution_count": null,
   "metadata": {
    "collapsed": true
   },
   "outputs": [],
   "source": []
  },
  {
   "cell_type": "markdown",
   "metadata": {},
   "source": [
    "###  Часть 11. Прогноз для тестовой (или отложенной) выборки"
   ]
  },
  {
   "cell_type": "code",
   "execution_count": null,
   "metadata": {
    "collapsed": true
   },
   "outputs": [],
   "source": []
  },
  {
   "cell_type": "markdown",
   "metadata": {},
   "source": [
    "###  Часть 12. Оценка модели с описанием выбранной метрики"
   ]
  },
  {
   "cell_type": "code",
   "execution_count": null,
   "metadata": {
    "collapsed": true
   },
   "outputs": [],
   "source": []
  },
  {
   "cell_type": "markdown",
   "metadata": {},
   "source": [
    "### Часть 13. Выводы "
   ]
  },
  {
   "cell_type": "code",
   "execution_count": null,
   "metadata": {
    "collapsed": true
   },
   "outputs": [],
   "source": []
  }
 ],
 "metadata": {
  "anaconda-cloud": {},
  "kernelspec": {
   "display_name": "Python [Root]",
   "language": "python",
   "name": "Python [Root]"
  },
  "language_info": {
   "codemirror_mode": {
    "name": "ipython",
    "version": 2
   },
   "file_extension": ".py",
   "mimetype": "text/x-python",
   "name": "python",
   "nbconvert_exporter": "python",
   "pygments_lexer": "ipython2",
   "version": "2.7.12"
  }
 },
 "nbformat": 4,
 "nbformat_minor": 0
}
