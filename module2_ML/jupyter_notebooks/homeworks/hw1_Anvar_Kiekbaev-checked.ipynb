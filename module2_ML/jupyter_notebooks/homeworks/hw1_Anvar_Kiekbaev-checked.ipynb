{
 "cells": [
  {
   "cell_type": "markdown",
   "metadata": {},
   "source": [
    "<center>\n",
    "<img src=\"../../img/ml_theme.png\">\n",
    "# Дополнительное профессиональное <br> образование НИУ ВШЭ\n",
    "#### Программа \"Практический анализ данных и машинное обучение\"\n",
    "<img src=\"../../img/faculty_logo.jpg\" height=\"240\" width=\"240\">\n",
    "## Автор материала: преподаватель Факультета Компьютерных Наук НИУ ВШЭ <br> Кашницкий Юрий\n",
    "</center>\n",
    "Материал распространяется на условиях лицензии <a href=\"https://opensource.org/licenses/MS-RL\">Ms-RL</a>. Можно использовать в любых целях, кроме коммерческих, но с обязательным упоминанием автора материала."
   ]
  },
  {
   "cell_type": "markdown",
   "metadata": {},
   "source": [
    "# <center>Домашнее задание 1. <br> Анализ данных по доходу населения UCI Adult</center>"
   ]
  },
  {
   "cell_type": "markdown",
   "metadata": {},
   "source": [
    "**В задании предлагается с помощью Pandas ответить на несколько вопросов по данным репозитория UCI [Adult](https://archive.ics.uci.edu/ml/datasets/Adult).**"
   ]
  },
  {
   "cell_type": "markdown",
   "metadata": {},
   "source": [
    "Уникальные значения признаков (больше информации по ссылке выше):\n",
    "- age: continuous.\n",
    "- workclass: Private, Self-emp-not-inc, Self-emp-inc, Federal-gov, Local-gov, State-gov, Without-pay, Never-worked.\n",
    "- fnlwgt: continuous.\n",
    "- education: Bachelors, Some-college, 11th, HS-grad, Prof-school, Assoc-acdm, Assoc-voc, 9th, 7th-8th, 12th, Masters, 1st-4th, 10th, Doctorate, 5th-6th, Preschool.\n",
    "- education-num: continuous.\n",
    "- marital-status: Married-civ-spouse, Divorced, Never-married, Separated, Widowed, Married-spouse-absent, Married-AF-spouse.\n",
    "- occupation: Tech-support, Craft-repair, Other-service, Sales, Exec-managerial, Prof-specialty, Handlers-cleaners, Machine-op-inspct, Adm-clerical, Farming-fishing, Transport-moving, Priv-house-serv, Protective-serv, Armed-Forces.\n",
    "- relationship: Wife, Own-child, Husband, Not-in-family, Other-relative, Unmarried.\n",
    "- race: White, Asian-Pac-Islander, Amer-Indian-Eskimo, Other, Black.\n",
    "- sex: Female, Male.\n",
    "- capital-gain: continuous.\n",
    "- capital-loss: continuous.\n",
    "- hours-per-week: continuous.\n",
    "- native-country: United-States, Cambodia, England, Puerto-Rico, Canada, Germany, Outlying-US(Guam-USVI-etc), India, Japan, Greece, South, China, Cuba, Iran, Honduras, Philippines, Italy, Poland, Jamaica, Vietnam, Mexico, Portugal, Ireland, France, Dominican-Republic, Laos, Ecuador, Taiwan, Haiti, Columbia, Hungary, Guatemala, Nicaragua, Scotland, Thailand, Yugoslavia, El-Salvador, Trinadad&Tobago, Peru, Hong, Holand-Netherlands.   \n",
    "- salary: >50K,<=50K"
   ]
  },
  {
   "cell_type": "code",
   "execution_count": 1,
   "metadata": {
    "collapsed": false
   },
   "outputs": [
    {
     "name": "stdout",
     "output_type": "stream",
     "text": [
      "Populating the interactive namespace from numpy and matplotlib\n"
     ]
    }
   ],
   "source": [
    "import pandas as pd\n",
    "%pylab inline"
   ]
  },
  {
   "cell_type": "code",
   "execution_count": 2,
   "metadata": {
    "collapsed": false
   },
   "outputs": [
    {
     "data": {
      "text/html": [
       "<div>\n",
       "<table border=\"1\" class=\"dataframe\">\n",
       "  <thead>\n",
       "    <tr style=\"text-align: right;\">\n",
       "      <th></th>\n",
       "      <th>age</th>\n",
       "      <th>workclass</th>\n",
       "      <th>fnlwgt</th>\n",
       "      <th>education</th>\n",
       "      <th>education-num</th>\n",
       "      <th>marital-status</th>\n",
       "      <th>occupation</th>\n",
       "      <th>relationship</th>\n",
       "      <th>race</th>\n",
       "      <th>sex</th>\n",
       "      <th>capital-gain</th>\n",
       "      <th>capital-loss</th>\n",
       "      <th>hours-per-week</th>\n",
       "      <th>native-country</th>\n",
       "      <th>salary</th>\n",
       "    </tr>\n",
       "  </thead>\n",
       "  <tbody>\n",
       "    <tr>\n",
       "      <th>0</th>\n",
       "      <td>39</td>\n",
       "      <td>State-gov</td>\n",
       "      <td>77516</td>\n",
       "      <td>Bachelors</td>\n",
       "      <td>13</td>\n",
       "      <td>Never-married</td>\n",
       "      <td>Adm-clerical</td>\n",
       "      <td>Not-in-family</td>\n",
       "      <td>White</td>\n",
       "      <td>Male</td>\n",
       "      <td>2174</td>\n",
       "      <td>0</td>\n",
       "      <td>40</td>\n",
       "      <td>United-States</td>\n",
       "      <td>&lt;=50K</td>\n",
       "    </tr>\n",
       "    <tr>\n",
       "      <th>1</th>\n",
       "      <td>50</td>\n",
       "      <td>Self-emp-not-inc</td>\n",
       "      <td>83311</td>\n",
       "      <td>Bachelors</td>\n",
       "      <td>13</td>\n",
       "      <td>Married-civ-spouse</td>\n",
       "      <td>Exec-managerial</td>\n",
       "      <td>Husband</td>\n",
       "      <td>White</td>\n",
       "      <td>Male</td>\n",
       "      <td>0</td>\n",
       "      <td>0</td>\n",
       "      <td>13</td>\n",
       "      <td>United-States</td>\n",
       "      <td>&lt;=50K</td>\n",
       "    </tr>\n",
       "    <tr>\n",
       "      <th>2</th>\n",
       "      <td>38</td>\n",
       "      <td>Private</td>\n",
       "      <td>215646</td>\n",
       "      <td>HS-grad</td>\n",
       "      <td>9</td>\n",
       "      <td>Divorced</td>\n",
       "      <td>Handlers-cleaners</td>\n",
       "      <td>Not-in-family</td>\n",
       "      <td>White</td>\n",
       "      <td>Male</td>\n",
       "      <td>0</td>\n",
       "      <td>0</td>\n",
       "      <td>40</td>\n",
       "      <td>United-States</td>\n",
       "      <td>&lt;=50K</td>\n",
       "    </tr>\n",
       "    <tr>\n",
       "      <th>3</th>\n",
       "      <td>53</td>\n",
       "      <td>Private</td>\n",
       "      <td>234721</td>\n",
       "      <td>11th</td>\n",
       "      <td>7</td>\n",
       "      <td>Married-civ-spouse</td>\n",
       "      <td>Handlers-cleaners</td>\n",
       "      <td>Husband</td>\n",
       "      <td>Black</td>\n",
       "      <td>Male</td>\n",
       "      <td>0</td>\n",
       "      <td>0</td>\n",
       "      <td>40</td>\n",
       "      <td>United-States</td>\n",
       "      <td>&lt;=50K</td>\n",
       "    </tr>\n",
       "    <tr>\n",
       "      <th>4</th>\n",
       "      <td>28</td>\n",
       "      <td>Private</td>\n",
       "      <td>338409</td>\n",
       "      <td>Bachelors</td>\n",
       "      <td>13</td>\n",
       "      <td>Married-civ-spouse</td>\n",
       "      <td>Prof-specialty</td>\n",
       "      <td>Wife</td>\n",
       "      <td>Black</td>\n",
       "      <td>Female</td>\n",
       "      <td>0</td>\n",
       "      <td>0</td>\n",
       "      <td>40</td>\n",
       "      <td>Cuba</td>\n",
       "      <td>&lt;=50K</td>\n",
       "    </tr>\n",
       "  </tbody>\n",
       "</table>\n",
       "</div>"
      ],
      "text/plain": [
       "   age         workclass  fnlwgt  education  education-num  \\\n",
       "0   39         State-gov   77516  Bachelors             13   \n",
       "1   50  Self-emp-not-inc   83311  Bachelors             13   \n",
       "2   38           Private  215646    HS-grad              9   \n",
       "3   53           Private  234721       11th              7   \n",
       "4   28           Private  338409  Bachelors             13   \n",
       "\n",
       "       marital-status         occupation   relationship   race     sex  \\\n",
       "0       Never-married       Adm-clerical  Not-in-family  White    Male   \n",
       "1  Married-civ-spouse    Exec-managerial        Husband  White    Male   \n",
       "2            Divorced  Handlers-cleaners  Not-in-family  White    Male   \n",
       "3  Married-civ-spouse  Handlers-cleaners        Husband  Black    Male   \n",
       "4  Married-civ-spouse     Prof-specialty           Wife  Black  Female   \n",
       "\n",
       "   capital-gain  capital-loss  hours-per-week native-country salary  \n",
       "0          2174             0              40  United-States  <=50K  \n",
       "1             0             0              13  United-States  <=50K  \n",
       "2             0             0              40  United-States  <=50K  \n",
       "3             0             0              40  United-States  <=50K  \n",
       "4             0             0              40           Cuba  <=50K  "
      ]
     },
     "execution_count": 2,
     "metadata": {},
     "output_type": "execute_result"
    }
   ],
   "source": [
    "data = pd.read_csv('../../data/adult.data.csv')\n",
    "data.head()"
   ]
  },
  {
   "cell_type": "markdown",
   "metadata": {},
   "source": [
    "**1. Сколько мужчин и женщин (признак sex) представлено в этом наборе данных?**"
   ]
  },
  {
   "cell_type": "code",
   "execution_count": 3,
   "metadata": {
    "collapsed": false
   },
   "outputs": [
    {
     "name": "stdout",
     "output_type": "stream",
     "text": [
      "Мужчин: 21790\n",
      "Женщин: 10771\n"
     ]
    }
   ],
   "source": [
    "print('Мужчин: {}'.format(data['sex'].value_counts().Male))\n",
    "print('Женщин: {}'.format(data['sex'].value_counts().Female))"
   ]
  },
  {
   "cell_type": "markdown",
   "metadata": {},
   "source": [
    "**2. Каков средний возраст (признак age) женщин?**"
   ]
  },
  {
   "cell_type": "code",
   "execution_count": 4,
   "metadata": {
    "collapsed": false
   },
   "outputs": [
    {
     "name": "stdout",
     "output_type": "stream",
     "text": [
      "Средний возраст женщин: 36.8582\n"
     ]
    }
   ],
   "source": [
    "print('Средний возраст женщин: {:.4f}'.format(data[data['sex'] == 'Female']['age'].mean()))"
   ]
  },
  {
   "cell_type": "markdown",
   "metadata": {},
   "source": [
    "**3. Какова доля граждан Германии (признак native-country)?**"
   ]
  },
  {
   "cell_type": "code",
   "execution_count": 5,
   "metadata": {
    "collapsed": false
   },
   "outputs": [
    {
     "name": "stdout",
     "output_type": "stream",
     "text": [
      "Доля граждан Германии: 0.4207 %\n"
     ]
    }
   ],
   "source": [
    "print('Доля граждан Германии: {:.4f} %'.format(len(data[data['native-country'] == 'Germany']) / len(data) * 100)) "
   ]
  },
  {
   "cell_type": "markdown",
   "metadata": {},
   "source": [
    "**4. Постройте гистограмму распределения (bar plot) образования людей (признак education).**"
   ]
  },
  {
   "cell_type": "code",
   "execution_count": 6,
   "metadata": {
    "collapsed": false
   },
   "outputs": [
    {
     "data": {
      "text/plain": [
       "<matplotlib.axes._subplots.AxesSubplot at 0x7f02a2671940>"
      ]
     },
     "execution_count": 6,
     "metadata": {},
     "output_type": "execute_result"
    },
    {
     "data": {
      "image/png": "[encoded data removed]",
      "text/plain": [
       "<matplotlib.figure.Figure at 0x7f02a2664518>"
      ]
     },
     "metadata": {},
     "output_type": "display_data"
    }
   ],
   "source": [
    "education_names = []\n",
    "education_counts = []\n",
    "for education, sub_df in data.groupby('education'):\n",
    "    education_names.append(education)\n",
    "    education_counts.append(len(sub_df))\n",
    "help_df = pd.DataFrame({'education': education_counts},                      \n",
    "                     index=education_names)\n",
    "help_df.plot.bar()"
   ]
  },
  {
   "cell_type": "markdown",
   "metadata": {},
   "source": [
    "**5. Каковы средние и среднеквадратичные отклонения возраста тех, кто получает более 50K в год (признак salary) и тех, кто получает менее 50K в год? **"
   ]
  },
  {
   "cell_type": "code",
   "execution_count": 7,
   "metadata": {
    "collapsed": false
   },
   "outputs": [
    {
     "name": "stdout",
     "output_type": "stream",
     "text": [
      "Средний возраст тех, кто получает более 50К в год:                            44.25\n",
      "Среднеквадратичное отклонения возраста тех, кто получает более 50К в год:     10.52\n",
      "Средний возраст тех, кто получает менее или 50К в год:                        36.78\n",
      "Среднеквадратичное отклонения возраста тех, кто получает менее или 50К в год: 14.02\n"
     ]
    }
   ],
   "source": [
    "print('Средний возраст тех, кто получает более 50К в год:                            {:.2f}'\\\n",
    "      .format(data[data['salary'] == '>50K']['age'].mean()))\n",
    "print('Среднеквадратичное отклонения возраста тех, кто получает более 50К в год:     {:.2f}'\\\n",
    "      .format(data[data['salary'] == '>50K']['age'].std()))\n",
    "print('Средний возраст тех, кто получает менее или 50К в год:                        {:.2f}'\\\n",
    "      .format(data[data['salary'] == '<=50K']['age'].mean()))\n",
    "print('Среднеквадратичное отклонения возраста тех, кто получает менее или 50К в год: {:.2f}'\\\n",
    "      .format(data[data['salary'] == '<=50K']['age'].std()))"
   ]
  },
  {
   "cell_type": "markdown",
   "metadata": {},
   "source": [
    "**6. Правда ли, что люди, которые получают больше 50k, имеют минимум высшее образование? (признак education - Bachelors, Prof-school, Assoc-acdm, Assoc-voc, Masters или Doctorate)**"
   ]
  },
  {
   "cell_type": "code",
   "execution_count": 8,
   "metadata": {
    "collapsed": false
   },
   "outputs": [
    {
     "name": "stdout",
     "output_type": "stream",
     "text": [
      "Неправда! Людей с высшим образованием: 3270, без высшего образования: 4571\n"
     ]
    }
   ],
   "source": [
    "high_education = ['Bachelors', 'Prof-school', 'Assoc-acdm', 'Assoc-voc', 'Masters' 'Doctorate']\n",
    "data['high_education'] = data['education'].isin(high_education)\n",
    "result = data[data['salary'] == '>50K']['high_education'].value_counts()\n",
    "if result[True] ==  len(data):\n",
    "    print('Правда!')\n",
    "else:\n",
    "    print('Неправда! Людей с высшим образованием: {}, без высшего образования: {}'.format(result[True], result[False]))\n"
   ]
  },
  {
   "cell_type": "markdown",
   "metadata": {},
   "source": [
    "**7. Выведите статистику возраста для каждой расы (признак race) и каждого пола. Используйте groupby и describe.**"
   ]
  },
  {
   "cell_type": "code",
   "execution_count": 9,
   "metadata": {
    "collapsed": false
   },
   "outputs": [
    {
     "name": "stdout",
     "output_type": "stream",
     "text": [
      "Раса: Amer-Indian-Eskimo,\n",
      "Пол: Female\n",
      "Статистика возраста:\n",
      "count    119.000000\n",
      "mean      37.117647\n",
      "std       13.114991\n",
      "min       17.000000\n",
      "25%       27.000000\n",
      "50%       36.000000\n",
      "75%       46.000000\n",
      "max       80.000000\n",
      "Name: age, dtype: float64\n",
      "\n",
      "Раса: Amer-Indian-Eskimo,\n",
      "Пол: Male\n",
      "Статистика возраста:\n",
      "count    192.000000\n",
      "mean      37.208333\n",
      "std       12.049563\n",
      "min       17.000000\n",
      "25%       28.000000\n",
      "50%       35.000000\n",
      "75%       45.000000\n",
      "max       82.000000\n",
      "Name: age, dtype: float64\n",
      "\n",
      "Раса: Asian-Pac-Islander,\n",
      "Пол: Female\n",
      "Статистика возраста:\n",
      "count    346.000000\n",
      "mean      35.089595\n",
      "std       12.300845\n",
      "min       17.000000\n",
      "25%       25.000000\n",
      "50%       33.000000\n",
      "75%       43.750000\n",
      "max       75.000000\n",
      "Name: age, dtype: float64\n",
      "\n",
      "Раса: Asian-Pac-Islander,\n",
      "Пол: Male\n",
      "Статистика возраста:\n",
      "count    693.000000\n",
      "mean      39.073593\n",
      "std       12.883944\n",
      "min       18.000000\n",
      "25%       29.000000\n",
      "50%       37.000000\n",
      "75%       46.000000\n",
      "max       90.000000\n",
      "Name: age, dtype: float64\n",
      "\n",
      "Раса: Black,\n",
      "Пол: Female\n",
      "Статистика возраста:\n",
      "count    1555.000000\n",
      "mean       37.854019\n",
      "std        12.637197\n",
      "min        17.000000\n",
      "25%        28.000000\n",
      "50%        37.000000\n",
      "75%        46.000000\n",
      "max        90.000000\n",
      "Name: age, dtype: float64\n",
      "\n",
      "Раса: Black,\n",
      "Пол: Male\n",
      "Статистика возраста:\n",
      "count    1569.000000\n",
      "mean       37.682600\n",
      "std        12.882612\n",
      "min        17.000000\n",
      "25%        27.000000\n",
      "50%        36.000000\n",
      "75%        46.000000\n",
      "max        90.000000\n",
      "Name: age, dtype: float64\n",
      "\n",
      "Раса: Other,\n",
      "Пол: Female\n",
      "Статистика возраста:\n",
      "count    109.000000\n",
      "mean      31.678899\n",
      "std       11.631599\n",
      "min       17.000000\n",
      "25%       23.000000\n",
      "50%       29.000000\n",
      "75%       39.000000\n",
      "max       74.000000\n",
      "Name: age, dtype: float64\n",
      "\n",
      "Раса: Other,\n",
      "Пол: Male\n",
      "Статистика возраста:\n",
      "count    162.000000\n",
      "mean      34.654321\n",
      "std       11.355531\n",
      "min       17.000000\n",
      "25%       26.000000\n",
      "50%       32.000000\n",
      "75%       42.000000\n",
      "max       77.000000\n",
      "Name: age, dtype: float64\n",
      "\n",
      "Раса: White,\n",
      "Пол: Female\n",
      "Статистика возраста:\n",
      "count    8642.000000\n",
      "mean       36.811618\n",
      "std        14.329093\n",
      "min        17.000000\n",
      "25%        25.000000\n",
      "50%        35.000000\n",
      "75%        46.000000\n",
      "max        90.000000\n",
      "Name: age, dtype: float64\n",
      "\n",
      "Раса: White,\n",
      "Пол: Male\n",
      "Статистика возраста:\n",
      "count    19174.000000\n",
      "mean        39.652498\n",
      "std         13.436029\n",
      "min         17.000000\n",
      "25%         29.000000\n",
      "50%         38.000000\n",
      "75%         49.000000\n",
      "max         90.000000\n",
      "Name: age, dtype: float64\n",
      "\n"
     ]
    }
   ],
   "source": [
    "for i, sub_df in data.groupby(['race','sex']):\n",
    "    print('Раса: {},\\nПол: {}\\nСтатистика возраста:\\n{}\\n'.format(i[0], i[1], sub_df['age'].describe()))"
   ]
  },
  {
   "cell_type": "markdown",
   "metadata": {},
   "source": [
    "**8. Среди кого больше доля зарабатывающих много (>50K): среди женатых или холостых мужчин (признак marital-status)?**"
   ]
  },
  {
   "cell_type": "code",
   "execution_count": 10,
   "metadata": {
    "collapsed": false
   },
   "outputs": [
    {
     "name": "stdout",
     "output_type": "stream",
     "text": [
      "Доля зарабатывающих много женатых мужчин больше чем доля зарабатывающих много холостых мужчин.\n"
     ]
    }
   ],
   "source": [
    "'''\n",
    "Never-married = Not-Married\n",
    "Married-AF-spouse = Married\n",
    "Married-civ-spouse = Married\n",
    "Married-spouse-absent = Not-Married\n",
    "Separated = Not-Married\n",
    "Divorced = Not-Married\n",
    "Widowed = Not-Married\n",
    "'''\n",
    "is_married_statuses = ['Married-AF-spouse', 'Married-civ-spouse']\n",
    "rich_married = len(data[(data['marital-status'].isin(is_married_statuses))\\\n",
    "                        & (data['salary'] == '>50K')\\\n",
    "                        & (data['sex'] == 'Male')])\n",
    "rich_not_married = len(data[(~data['marital-status'].isin(is_married_statuses))\\\n",
    "                            & (data['salary'] == '>50K')\\\n",
    "                            & (data['sex'] == 'Male')])\n",
    "result = 'меньше'\n",
    "if rich_married > rich_not_married:\n",
    "    result = 'больше'\n",
    "print('Доля зарабатывающих много женатых мужчин {} чем доля зарабатывающих много холостых мужчин.'\\\n",
    "     .format(result))"
   ]
  },
  {
   "cell_type": "markdown",
   "metadata": {},
   "source": [
    "**9. Какое максимальное число часов человек работает в неделю (признак hours-per-week)? Сколько людей работают такое количество часов и каков среди них процент зарабатывающих много?**"
   ]
  },
  {
   "cell_type": "code",
   "execution_count": 11,
   "metadata": {
    "collapsed": false
   },
   "outputs": [
    {
     "name": "stdout",
     "output_type": "stream",
     "text": [
      "Максимальное количество часов в неделю:                        99\n",
      "Всего человек работают максимальное количество часов в неделю: 85\n",
      "Процент зарабатывающих много среди них:                        29.4118\n"
     ]
    }
   ],
   "source": [
    "max_hpw = data['hours-per-week'].max()\n",
    "all_with_max_hpw = data[data['hours-per-week'] == max_hpw]\n",
    "rich_with_max_hpw = all_with_max_hpw[all_with_max_hpw['salary'] == '>50K']\n",
    "print('Максимальное количество часов в неделю:                        {}'.format(max_hpw))\n",
    "print('Всего человек работают максимальное количество часов в неделю: {}'.format(len(all_with_max_hpw)))\n",
    "print('Процент зарабатывающих много среди них:                        {:.4f}'\\\n",
    "      .format(len(rich_with_max_hpw) / len(all_with_max_hpw) * 100))"
   ]
  },
  {
   "cell_type": "markdown",
   "metadata": {},
   "source": [
    "**10. Посчитайте среднее время работы (hours-per-week) зарабатывающих много и мало (salary) для каждой страны (native-country).**"
   ]
  },
  {
   "cell_type": "code",
   "execution_count": 12,
   "metadata": {
    "collapsed": false
   },
   "outputs": [
    {
     "name": "stdout",
     "output_type": "stream",
     "text": [
      "Страна: ?\n",
      "    среднее время работы зарабатывающих много: 45.5479\n",
      "    среднее время работы зарабатывающих мало:  40.1648\n",
      "\n",
      "Страна: Cambodia\n",
      "    среднее время работы зарабатывающих много: 40.0000\n",
      "    среднее время работы зарабатывающих мало:  41.4167\n",
      "\n",
      "Страна: Canada\n",
      "    среднее время работы зарабатывающих много: 45.6410\n",
      "    среднее время работы зарабатывающих мало:  37.9146\n",
      "\n",
      "Страна: China\n",
      "    среднее время работы зарабатывающих много: 38.9000\n",
      "    среднее время работы зарабатывающих мало:  37.3818\n",
      "\n",
      "Страна: Columbia\n",
      "    среднее время работы зарабатывающих много: 50.0000\n",
      "    среднее время работы зарабатывающих мало:  38.6842\n",
      "\n",
      "Страна: Cuba\n",
      "    среднее время работы зарабатывающих много: 42.4400\n",
      "    среднее время работы зарабатывающих мало:  37.9857\n",
      "\n",
      "Страна: Dominican-Republic\n",
      "    среднее время работы зарабатывающих много: 47.0000\n",
      "    среднее время работы зарабатывающих мало:  42.3382\n",
      "\n",
      "Страна: Ecuador\n",
      "    среднее время работы зарабатывающих много: 48.7500\n",
      "    среднее время работы зарабатывающих мало:  38.0417\n",
      "\n",
      "Страна: El-Salvador\n",
      "    среднее время работы зарабатывающих много: 45.0000\n",
      "    среднее время работы зарабатывающих мало:  36.0309\n",
      "\n",
      "Страна: England\n",
      "    среднее время работы зарабатывающих много: 44.5333\n",
      "    среднее время работы зарабатывающих мало:  40.4833\n",
      "\n",
      "Страна: France\n",
      "    среднее время работы зарабатывающих много: 50.7500\n",
      "    среднее время работы зарабатывающих мало:  41.0588\n",
      "\n",
      "Страна: Germany\n",
      "    среднее время работы зарабатывающих много: 44.9773\n",
      "    среднее время работы зарабатывающих мало:  39.1398\n",
      "\n",
      "Страна: Greece\n",
      "    среднее время работы зарабатывающих много: 50.6250\n",
      "    среднее время работы зарабатывающих мало:  41.8095\n",
      "\n",
      "Страна: Guatemala\n",
      "    среднее время работы зарабатывающих много: 36.6667\n",
      "    среднее время работы зарабатывающих мало:  39.3607\n",
      "\n",
      "Страна: Haiti\n",
      "    среднее время работы зарабатывающих много: 42.7500\n",
      "    среднее время работы зарабатывающих мало:  36.3250\n",
      "\n",
      "Страна: Holand-Netherlands\n",
      "    среднее время работы зарабатывающих много: nan\n",
      "    среднее время работы зарабатывающих мало:  40.0000\n",
      "\n",
      "Страна: Honduras\n",
      "    среднее время работы зарабатывающих много: 60.0000\n",
      "    среднее время работы зарабатывающих мало:  34.3333\n",
      "\n",
      "Страна: Hong\n",
      "    среднее время работы зарабатывающих много: 45.0000\n",
      "    среднее время работы зарабатывающих мало:  39.1429\n",
      "\n",
      "Страна: Hungary\n",
      "    среднее время работы зарабатывающих много: 50.0000\n",
      "    среднее время работы зарабатывающих мало:  31.3000\n",
      "\n",
      "Страна: India\n",
      "    среднее время работы зарабатывающих много: 46.4750\n",
      "    среднее время работы зарабатывающих мало:  38.2333\n",
      "\n",
      "Страна: Iran\n",
      "    среднее время работы зарабатывающих много: 47.5000\n",
      "    среднее время работы зарабатывающих мало:  41.4400\n",
      "\n",
      "Страна: Ireland\n",
      "    среднее время работы зарабатывающих много: 48.0000\n",
      "    среднее время работы зарабатывающих мало:  40.9474\n",
      "\n",
      "Страна: Italy\n",
      "    среднее время работы зарабатывающих много: 45.4000\n",
      "    среднее время работы зарабатывающих мало:  39.6250\n",
      "\n",
      "Страна: Jamaica\n",
      "    среднее время работы зарабатывающих много: 41.1000\n",
      "    среднее время работы зарабатывающих мало:  38.2394\n",
      "\n",
      "Страна: Japan\n",
      "    среднее время работы зарабатывающих много: 47.9583\n",
      "    среднее время работы зарабатывающих мало:  41.0000\n",
      "\n",
      "Страна: Laos\n",
      "    среднее время работы зарабатывающих много: 40.0000\n",
      "    среднее время работы зарабатывающих мало:  40.3750\n",
      "\n",
      "Страна: Mexico\n",
      "    среднее время работы зарабатывающих много: 46.5758\n",
      "    среднее время работы зарабатывающих мало:  40.0033\n",
      "\n",
      "Страна: Nicaragua\n",
      "    среднее время работы зарабатывающих много: 37.5000\n",
      "    среднее время работы зарабатывающих мало:  36.0938\n",
      "\n",
      "Страна: Outlying-US(Guam-USVI-etc)\n",
      "    среднее время работы зарабатывающих много: nan\n",
      "    среднее время работы зарабатывающих мало:  41.8571\n",
      "\n",
      "Страна: Peru\n",
      "    среднее время работы зарабатывающих много: 40.0000\n",
      "    среднее время работы зарабатывающих мало:  35.0690\n",
      "\n",
      "Страна: Philippines\n",
      "    среднее время работы зарабатывающих много: 43.0328\n",
      "    среднее время работы зарабатывающих мало:  38.0657\n",
      "\n",
      "Страна: Poland\n",
      "    среднее время работы зарабатывающих много: 39.0000\n",
      "    среднее время работы зарабатывающих мало:  38.1667\n",
      "\n",
      "Страна: Portugal\n",
      "    среднее время работы зарабатывающих много: 41.5000\n",
      "    среднее время работы зарабатывающих мало:  41.9394\n",
      "\n",
      "Страна: Puerto-Rico\n",
      "    среднее время работы зарабатывающих много: 39.4167\n",
      "    среднее время работы зарабатывающих мало:  38.4706\n",
      "\n",
      "Страна: Scotland\n",
      "    среднее время работы зарабатывающих много: 46.6667\n",
      "    среднее время работы зарабатывающих мало:  39.4444\n",
      "\n",
      "Страна: South\n",
      "    среднее время работы зарабатывающих много: 51.4375\n",
      "    среднее время работы зарабатывающих мало:  40.1562\n",
      "\n",
      "Страна: Taiwan\n",
      "    среднее время работы зарабатывающих много: 46.8000\n",
      "    среднее время работы зарабатывающих мало:  33.7742\n",
      "\n",
      "Страна: Thailand\n",
      "    среднее время работы зарабатывающих много: 58.3333\n",
      "    среднее время работы зарабатывающих мало:  42.8667\n",
      "\n",
      "Страна: Trinadad&Tobago\n",
      "    среднее время работы зарабатывающих много: 40.0000\n",
      "    среднее время работы зарабатывающих мало:  37.0588\n",
      "\n",
      "Страна: United-States\n",
      "    среднее время работы зарабатывающих много: 45.5054\n",
      "    среднее время работы зарабатывающих мало:  38.7991\n",
      "\n",
      "Страна: Vietnam\n",
      "    среднее время работы зарабатывающих много: 39.2000\n",
      "    среднее время работы зарабатывающих мало:  37.1935\n",
      "\n",
      "Страна: Yugoslavia\n",
      "    среднее время работы зарабатывающих много: 49.5000\n",
      "    среднее время работы зарабатывающих мало:  41.6000\n",
      "\n"
     ]
    }
   ],
   "source": [
    "for i, sub_df in data.groupby('native-country'):\n",
    "    mean_rich = sub_df[sub_df['salary'] == '>50K']['hours-per-week'].mean()\n",
    "    mean_poor = sub_df[sub_df['salary'] == '<=50K']['hours-per-week'].mean()\n",
    "    print('Страна: {}\\n'.format(i) +\n",
    "          '    среднее время работы зарабатывающих много: {:.4f}\\n'.format(mean_rich) + \\\n",
    "          '    среднее время работы зарабатывающих мало:  {:.4f}\\n'.format(mean_poor))"
   ]
  },
  {
   "cell_type": "markdown",
   "metadata": {},
   "source": [
    "---\n",
    "\n",
    "# Review\n",
    "\n",
    "Отлично, оценка 10/10\n",
    "\n",
    "---"
   ]
  }
 ],
 "metadata": {
  "anaconda-cloud": {},
  "kernelspec": {
   "display_name": "Python 3",
   "language": "python",
   "name": "python3"
  },
  "language_info": {
   "codemirror_mode": {
    "name": "ipython",
    "version": 3
   },
   "file_extension": ".py",
   "mimetype": "text/x-python",
   "name": "python",
   "nbconvert_exporter": "python",
   "pygments_lexer": "ipython3",
   "version": "3.5.2"
  }
 },
 "nbformat": 4,
 "nbformat_minor": 0
}
