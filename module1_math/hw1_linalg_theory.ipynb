{
 "cells": [
  {
   "cell_type": "markdown",
   "metadata": {},
   "source": [
    "# Математика для машинного обучения\n",
    "## Домашнее задание №1\n",
    "\n",
    "_Автор задания: Илья Щуров_\n",
    "\n",
    "Подготовлено для программы «[Практический анализ данных и машинное обучение](https://cs.hse.ru/dpo/bigml)» (ФКН НИУ ВШЭ)."
   ]
  },
  {
   "cell_type": "markdown",
   "metadata": {},
   "source": [
    "Задание выполнил: *(впишите сюда фамилию и имя)*"
   ]
  },
  {
   "cell_type": "markdown",
   "metadata": {},
   "source": [
    "**Определение.** *$n$-мерным векторным (или линейным) пространством* $\\mathbb R^n$ называется множество упорядоченных наборов из $n$ вещественных чисел $\\{(x_1, x_2, \\ldots, x_n)\\mid x_1, \\ldots, x_n \\in \\mathbb R^n\\}$, на котором определены следующие операции:\n",
    "\n",
    "1. Сложение двух векторов: если $u=(u_1, u_2, \\ldots, u_n)$ и $v=(v_1, v_2, \\ldots, v_n)$, то $u+v=(u_1+v_1, u_2+v_2, \\ldots, u_n + v_n)$.\n",
    "\n",
    "2. Умножения вектора на число: если $u=(u_1, u_2, \\ldots, u_n)$ и $\\lambda \\in \\mathbb R$ (то есть $\\lambda$ — это просто число), то $\\lambda u = (\\lambda u_1, \\lambda u_2, \\ldots, \\lambda u_n)$."
   ]
  },
  {
   "cell_type": "markdown",
   "metadata": {},
   "source": [
    "**Определение.** *Линейной комбинацией* векторов $u^1, u^2, \\ldots, u^k$ называется любое выражение вида $\\lambda_1 u^1 + \\lambda_2 u^2 + \\cdots + \\lambda_k u^k$, где $\\lambda_1, \\lambda_2,\\ldots, \\lambda_k$ — какие-то числа. Линейная комбинация называется *нетривиальной*, если хотя бы одно $\\lambda_j$ не равняется нулю."
   ]
  },
  {
   "cell_type": "markdown",
   "metadata": {},
   "source": [
    "Мы также будем использовать «школьное» понятие вектора на декартовой плоскости или в трёхмерном пространстве. С этой точки зрения\n",
    "вектор — это отрезок, на котором задано направление. При этом мы считаем, что\n",
    "вектор не меняется, если его параллельно перенести в другую точку, сохраняя\n",
    "направление и длину.\n",
    "\n",
    "Если начало вектора совпадает с\n",
    "началом координат, то координаты вектора совпадают с координатами его конца. Координаты произвольного вектора можно вычислить как\n",
    "покомпонентную разность между координатами конца и координатами начала. Если\n",
    "$A=(a_1, a_2)$ и $B=(b_1, b_2)$, то $\\overrightarrow{AB}=(b_1-a_1, b_2-a_2)$.\n",
    "\n",
    "Таким образом множество векторов на двумерной плоскости отождествляется с множеством пар чисел $\\mathbb R^2$. Аналогично множество векторов в трёхмерном пространстве отождествляется с множеством троек чисел $\\mathbb R^3$."
   ]
  },
  {
   "cell_type": "markdown",
   "metadata": {},
   "source": [
    "### Задача 1"
   ]
  },
  {
   "cell_type": "markdown",
   "metadata": {},
   "source": [
    "Рассмотрим картинку."
   ]
  },
  {
   "cell_type": "code",
   "execution_count": 18,
   "metadata": {
    "collapsed": false
   },
   "outputs": [
    {
     "data": {
      "image/png": "[encoded data removed]",
      "text/plain": [
       "<matplotlib.figure.Figure at 0x1108a1240>"
      ]
     },
     "metadata": {},
     "output_type": "display_data"
    }
   ],
   "source": [
    "import matplotlib.pyplot as plt\n",
    "import numpy as np\n",
    "\n",
    "%matplotlib inline\n",
    "fig = plt.figure(figsize=(6,6))\n",
    "fig.gca().grid(True)\n",
    "plt.xlim(-4, 4)\n",
    "plt.ylim(-4, 4)\n",
    "plt.xlabel(\"$x_1$\", fontsize=18)\n",
    "plt.ylabel(\"$x_2$\", fontsize=18)\n",
    "\n",
    "points = [('O', 0, 0), ('A', 2, 3), ('B', -2, 1), ('C', 1, 1), ('D', -1, 2), ('E', 0, 1), ('F', 1, 0), ('H', 4, -1)]\n",
    "\n",
    "plt.plot([p[1] for p in points], [p[2] for p in points], 'o', color='black')\n",
    "for p in points:\n",
    "    plt.text(p[1] + 0.1, p[2] + 0.1, \"$%s$\" % p[0], fontsize = 18)"
   ]
  },
  {
   "cell_type": "markdown",
   "metadata": {},
   "source": [
    "1. Найти координаты вектора $\\overrightarrow{AE}$.\n",
    "1. Найти сумму $\\overrightarrow{OC}+\\overrightarrow{CD}$.\n",
    "1. Найти сумму $\\overrightarrow{OC}+\\overrightarrow{OB}$.\n",
    "2. Выразить вектор $\\overrightarrow{OC}$ в виде линейной комбинации векторов $\\overrightarrow{OE}$ и $\\overrightarrow{OF}$.\n",
    "3. Выразить вектор $\\overrightarrow{OB}$ в виде линейной комбинации векторов $\\overrightarrow{OC}$ и $\\overrightarrow{FE}$.\n",
    "4. Выразить вектор $\\overrightarrow{FH}$ в виде линейной комбинации векторов $\\overrightarrow{OC}$ и $\\overrightarrow{FE}$."
   ]
  },
  {
   "cell_type": "markdown",
   "metadata": {},
   "source": [
    "#### Решение \n",
    "*(впишите решение сюда)*"
   ]
  },
  {
   "cell_type": "markdown",
   "metadata": {},
   "source": [
    "**Утверждение.** Прямая, проходящая через точку $P$ в направлении вектора $u$ задаётся как множество точек $Q$, таких, что\n",
    "\n",
    "$\\overrightarrow{OQ} = \\overrightarrow{OP} + tu$, где параметр $t$ пробегает множество всех вещественных чисел."
   ]
  },
  {
   "cell_type": "markdown",
   "metadata": {},
   "source": [
    "### Задача 2\n",
    "Для той же картинки:\n",
    "1. Записать в параметрическом виде уравнение прямой, проходящей через точки $B$ и $A$.\n",
    "2. Записать в параметрическом виде уравнение прямой, проходящей через точки $D$ и $E$.\n",
    "3. Найти координаты точки пересечения этих прямых, используя результаты двух предыдущих пунктов (записать систему уравнений, решить её и найти координаты точки пересечения)."
   ]
  },
  {
   "cell_type": "markdown",
   "metadata": {},
   "source": [
    "#### Решение \n",
    "*(впишите решение сюда)*"
   ]
  },
  {
   "cell_type": "markdown",
   "metadata": {},
   "source": [
    "### Задача 3\n",
    "При каком условии на вектор $u=(u_1, u_2)$ прямая, параллельная вектору $u$, может быть задана в виде $x_2 = k x_1 + b$? Докажите."
   ]
  },
  {
   "cell_type": "markdown",
   "metadata": {},
   "source": [
    "#### Решение \n",
    "*(впишите решение сюда)*"
   ]
  },
  {
   "cell_type": "markdown",
   "metadata": {},
   "source": [
    "**Определение.** *Скалярным произведением* векторов $u=(u_1, \\ldots, u_n)$ и $v=(v_1, \\ldots, v_n)$ будем называть число (скаляр), обозначаемое $(u, v)$ и равное $u_1 v_1 + u_2 v_2 + \\ldots + u_n v_n$. Скалярное произведение также можно определить как $|u|\\cdot |v|\\cdot \\cos \\alpha$, где $\\alpha$ — угол между векторами, $|u|$ и $|v|$ — их длины.\n",
    "\n",
    "**Замечание.** Вообще говоря, скалярное произведение не всегда определяется координатной формулой, указанной выше: она справедлива только если система координат прямоугольная (вернее, базис ортонормирован). Но мы в основном будем работать именно с такими системами координат.\n",
    "\n",
    "**Следствие из определения.** Векторы $u$ и $v$ перпендикулярны тогда и только тогда, когда их скалярное произведение равно нулю. (Нулевой вектор перпендикулярен чему угодно.)"
   ]
  },
  {
   "cell_type": "markdown",
   "metadata": {},
   "source": [
    "### Задача 4\n",
    "Доказать следующие свойства скалярного произведения:\n",
    "\n",
    "Для любых трёх векторов $u, v, w$ и любого скаляра $\\lambda$:\n",
    "\n",
    "1. $(u + v, w) = (u, w) + (v, w)$;\n",
    "2. $(u, v + w) = (u, v) + (u, w)$;\n",
    "3. $(\\lambda u, v) = \\lambda (u, v)$;\n",
    "4. $(u, \\lambda v) = \\lambda (u, v)$.\n",
    "\n",
    "Эти свойства называются «билинейностью» (то есть линейности по обоим аргументам)."
   ]
  },
  {
   "cell_type": "markdown",
   "metadata": {},
   "source": [
    "#### Решение \n",
    "*(впишите решение сюда)*"
   ]
  },
  {
   "cell_type": "markdown",
   "metadata": {},
   "source": [
    "### Задача 5\n",
    "При каком значении параметра $t$ векторы $u=(2, t)$ и $v=(4, -1)$\n",
    "\n",
    "1. Параллельны;\n",
    "2. Перпендикулярны?"
   ]
  },
  {
   "cell_type": "markdown",
   "metadata": {},
   "source": [
    "#### Решение \n",
    "*(впишите решение сюда)*"
   ]
  },
  {
   "cell_type": "markdown",
   "metadata": {},
   "source": [
    "### Задача 6\n",
    "Описать множество всех векторов\n",
    "\n",
    "1. параллельных;\n",
    "2. перпрендикулярных\n",
    "\n",
    "прямой, заданной уравнением $2x_1 + 3x_2 = \\sqrt{\\pi}$"
   ]
  },
  {
   "cell_type": "markdown",
   "metadata": {},
   "source": [
    "#### Решение \n",
    "*(впишите решение сюда)*"
   ]
  },
  {
   "cell_type": "markdown",
   "metadata": {},
   "source": [
    "**Определение.** Система векторов $u^1, u^2, \\ldots, u^k$ называется *линейно независимой* (ещё говорят, что эти векторы являются линейно независимыми), если ни один из этих векторов не выражается в виде линейной комбинации остальных."
   ]
  },
  {
   "cell_type": "markdown",
   "metadata": {},
   "source": [
    "### Задача 7\n",
    "Более традиционное определение линейной независимости звучит так:\n",
    "\n",
    "Система векторов $u^1, u^2, \\ldots, u^k$ называется *линейно независимой*, если никакая **нетривиальная** линейная комбинация этих векторов не равна нулевому вектору.\n",
    "\n",
    "Докажите, что это определение эквивалентно данному выше (по крайней мере, если векторов больше одного)."
   ]
  },
  {
   "cell_type": "markdown",
   "metadata": {},
   "source": [
    "#### Решение \n",
    "*(впишите решение сюда)*"
   ]
  },
  {
   "cell_type": "markdown",
   "metadata": {},
   "source": [
    "### Задача 8\n",
    "Являются ли следующие системы векторов линейно независимыми? Ответ обосновать.\n",
    "\n",
    "1. $(1, 2)$, $(2,1)$.\n",
    "2. $(1, 2)$, $(2, 3)$, $(3, 5)$.\n",
    "2. $(1, 2)$, $(2, 3)$, $(\\sqrt{\\pi}, \\sin e)$.\n",
    "3. $(1, 0, 1)$, $(0, 1, 0)$, $(10, 3, 10)$.\n",
    "4. $(1, 0, 0)$, $(0, 3, 0)$, $(0, 0, 2)$.\n",
    "5. $(1, 2, 3, 4, 5)$, $(2, 4, 6, 8, 11)$.\n",
    "6. $(1, 2, 3, 4, 5, 6)$, $(2, 3, 4, 5, 6, 7), (10, 10, 10, 10, 10, 10)$."
   ]
  },
  {
   "cell_type": "markdown",
   "metadata": {},
   "source": [
    "#### Решение \n",
    "*(впишите решение сюда)*"
   ]
  },
  {
   "cell_type": "markdown",
   "metadata": {},
   "source": [
    "### Задача 9\n",
    "Пусть система векторов $u^1, u^2, \\ldots, u^k$ является линейно независимой. Пусть вектор $v$ представляется в виде линейной комбинации векторов $u^1, \\ldots, u^k$, то есть $v = \\lambda_1 u^1+\\ldots + \\lambda_k u^k$. Докажите, что в этом случае такая линейная комбинация единственна, то есть если $v = \\mu_1 u^1 + \\ldots + \\mu_k u^k$, то $\\lambda_1=\\mu_1$, ..., $\\lambda_k = \\mu_k$.\n",
    "\n",
    "Подсказка: воспользоваться определением из задачи 7."
   ]
  },
  {
   "cell_type": "markdown",
   "metadata": {},
   "source": [
    "#### Решение \n",
    "*(впишите решение сюда)*"
   ]
  },
  {
   "cell_type": "markdown",
   "metadata": {},
   "source": [
    "### Задача 10\n",
    "Рассмотрим плоскость в трёхмерном пространстве, проходящую через точку $P = (1, 1, 1)$ перпендикулярно вектору $n=(1, 2, 4)$.\n",
    "\n",
    "1. Записать уравнение этой плоскости в виде $A_1 x_1 + A_2 x_2 + A_3 x_3 = D$.\n",
    "2. Найти точки пересечени этой плоскости с осями координат."
   ]
  },
  {
   "cell_type": "markdown",
   "metadata": {},
   "source": [
    "#### Решение \n",
    "*(впишите решение сюда)*"
   ]
  },
  {
   "cell_type": "markdown",
   "metadata": {},
   "source": [
    "### Задание 11\n",
    "Рассмотрим плоскость в трёхмерном пространстве, проходящую через точки $P=(1, 0, 1)$, $S=(1, 1, 0)$ и $T=(0, 1, 1)$.\n",
    "\n",
    "1. Записать уравнение этой плоскости в параметрическом виде (то есть описать координаты произвольной точки $Q$, зависящей от двух параметров).\n",
    "2. Записать уравнение этой плоскости в виде $A_1 x_1 + A_2 x_3 + A_3 x_3 = D$.\n",
    "3. Найти какой-нибудь вектор, перпендикулярный этой плоскости."
   ]
  },
  {
   "cell_type": "markdown",
   "metadata": {},
   "source": [
    "#### Решение \n",
    "*(впишите решение сюда)*"
   ]
  },
  {
   "cell_type": "markdown",
   "metadata": {},
   "source": [
    "### Задача 12\n",
    "С помощью `numpy` и `matplotlib.pyplot` построить график функции $y = \\sin \\exp x$ на отрезке $[-1,5]$."
   ]
  },
  {
   "cell_type": "code",
   "execution_count": 39,
   "metadata": {
    "collapsed": false
   },
   "outputs": [],
   "source": [
    "# Впишите решение сюда"
   ]
  },
  {
   "cell_type": "markdown",
   "metadata": {},
   "source": [
    "### Задача 13\n",
    "Напишите каким-нибудь образом функцию, вычисляющую факториал целого числа (например, с помощью цикла или рекурсии). Сравните с помощью `%%timeit` скорость работы вашей функции с `math.factorial` для больших значений аргумента."
   ]
  },
  {
   "cell_type": "code",
   "execution_count": 40,
   "metadata": {
    "collapsed": true
   },
   "outputs": [],
   "source": [
    "# Впишите решение сюда"
   ]
  }
 ],
 "metadata": {
  "kernelspec": {
   "display_name": "Python [default]",
   "language": "python",
   "name": "python2"
  },
  "language_info": {
   "codemirror_mode": {
    "name": "ipython",
    "version": 2
   },
   "file_extension": ".py",
   "mimetype": "text/x-python",
   "name": "python",
   "nbconvert_exporter": "python",
   "pygments_lexer": "ipython2",
   "version": "2.7.12"
  },
  "toc": {
   "toc_cell": false,
   "toc_number_sections": false,
   "toc_section_display": "none",
   "toc_threshold": 6,
   "toc_window_display": false
  }
 },
 "nbformat": 4,
 "nbformat_minor": 0
}
