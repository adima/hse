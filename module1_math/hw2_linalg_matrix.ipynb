{
 "cells": [
  {
   "cell_type": "markdown",
   "metadata": {},
   "source": [
    "# Математика для машинного обучения\n",
    "## Домашнее задание №2\n",
    "\n",
    "_Автор задания: Илья Щуров_\n",
    "\n",
    "Подготовлено для программы «[Практический анализ данных и машинное обучение](https://cs.hse.ru/dpo/bigml)» (ФКН НИУ ВШЭ)."
   ]
  },
  {
   "cell_type": "markdown",
   "metadata": {},
   "source": [
    "Задание выполнил(а): *(впишите сюда фамилию и имя)*"
   ]
  },
  {
   "cell_type": "markdown",
   "metadata": {},
   "source": [
    "### Задача 1\n",
    "Рассмотрим уравнение\n",
    "$$2x_1 + 3x_2 - 5x_3 = 0.$$\n",
    "\n",
    "Оно задаёт некоторую плоскость. Найти координаты двух линейно независимых векторов, лежащих в этой плоскости.\n",
    "\n",
    "**Подсказка.** Искомые векторы можно найти в виде $(x_1^1, 1, 0)$ и $(x_1^2, 0, 1)$ (верхний индекс — это номер вектора, а не степень). Докажите, что любые такие векторы линейно независимы (какими бы ни были $x_1^1$ и $x_1^2$). Найдите $x_1^1$ и $x_1^2$ из уравнения."
   ]
  },
  {
   "cell_type": "markdown",
   "metadata": {},
   "source": [
    "*(впишите решение сюда)*"
   ]
  },
  {
   "cell_type": "markdown",
   "metadata": {},
   "source": [
    "### Задача 2\n",
    "\n",
    "Рассмотрим систему уравнений\n",
    "\n",
    "$$\\begin{cases}\n",
    "x_1 - 2x_2 + x_3 = 0 \\\\\n",
    "2x_1 + 3x_2 - 5x_3 = 0\n",
    "\\end{cases}$$\n",
    "\n",
    "Показать, что система задаёт некоторую прямую и задать её в параметрическом виде.\n",
    "\n",
    "**Подсказка.** Выразить $x_1$ и $x_2$ через $x_3$, затем найти вектор вида $(x_1, x_2, 1)$, лежащий на этой прямой."
   ]
  },
  {
   "cell_type": "markdown",
   "metadata": {},
   "source": [
    "*(впишите решение сюда)*"
   ]
  },
  {
   "cell_type": "markdown",
   "metadata": {},
   "source": [
    "### Задача 3\n",
    "Рассмотрим систему уравнений\n",
    "\n",
    "$$\\begin{cases}\n",
    "x_1 + 2x_2 + x_3 + x_4 = 0 \\\\\n",
    "2x_1 + 3x_2 - 5x_3 - x_4 = 0\n",
    "\\end{cases}$$\n",
    "\n",
    "Показать, что система задёт некоторую двумерную плоскость и найти координаты двух линейно незвисимых векторов, лежащих в этой плоскости.\n",
    "\n",
    "**Подсказка.** Искомые векторы можно найти в виде $(x_1^1, x_2^1, 1, 0)$ и $(x_1^2, x_2^2, 0, 1)$."
   ]
  },
  {
   "cell_type": "markdown",
   "metadata": {},
   "source": [
    "*(впишите решение сюда)*"
   ]
  },
  {
   "cell_type": "markdown",
   "metadata": {},
   "source": [
    "### Задача 4\n",
    "Найти длину ортогональной проекции вектора $u=(2, 3, 4, 2, 2)$ на вектор $v = (1, 2, 3, 1, 1)$."
   ]
  },
  {
   "cell_type": "markdown",
   "metadata": {},
   "source": [
    "*(впишите решение сюда)*"
   ]
  },
  {
   "cell_type": "markdown",
   "metadata": {},
   "source": [
    "### Расстояние от точки до гиперплоскости\n",
    "Расстояние от точки $P=(p_1, p_2, \\ldots, p_n)\\in \\mathbb R^n$ до гиперплоскости $H$, заданной уравнением $a_1 x_1 + a_2 x_2 + \\ldots + a_n x_n + b = 0$, можно вычислить по формуле:\n",
    "\n",
    "$$d(P, H) = \\frac{|a_1 p_1 + a_2 p_2 + \\ldots + a_n p_n + b|}{\\sqrt{a_1^2+a_2^2 + \\ldots + a_n^2}}$$"
   ]
  },
  {
   "cell_type": "markdown",
   "metadata": {},
   "source": [
    "### Задача 5\n",
    "Рассмотрим $n$-мерное пространство. Найти расстояние от начала координат до гиперплоскости, проходящей через точки $(1, 0, \\ldots, 0, 0)$, $(0, 1, \\ldots, 0, 0)$,..., $(0, 0, \\ldots, 1, 0)$, $(0, 0, \\ldots, 0, 1)$ (единица на одном месте, остальные компоненты нулевые).\n",
    "\n",
    "**Подсказка.** Сначала нужно найти уравнение гиперплоскости. Пусть искомое уравнение имеет вид $a_1 x_1 + a_2 x_2 + \\ldots a_n x_n + b = 0$. Подставляя каждую из точек, получим систему уравнений на $a_1,a_2,\\ldots, a_n, b$. Достаточно найти какое-нибудь решение этой системы (например, можно положить $b=1$ и найти все $a_i$, $i=1,\\ldots, n$)."
   ]
  },
  {
   "cell_type": "markdown",
   "metadata": {},
   "source": [
    "*(впишите решение сюда)*"
   ]
  },
  {
   "cell_type": "markdown",
   "metadata": {},
   "source": [
    "### Задача 6\n",
    "\n",
    "Докажите, что $(AB)^T=B^T A^T$ для любых матриц $A$, $B$, таких, что определено произведение $AB$. Здесь $X^T$ — транспонированная матрица $X$."
   ]
  },
  {
   "cell_type": "markdown",
   "metadata": {},
   "source": [
    "*(впишите решение сюда)*"
   ]
  },
  {
   "cell_type": "markdown",
   "metadata": {},
   "source": [
    "### Задача 7\n",
    "Рассмотрим *диагональную* матрицу \n",
    "$$D=D(\\lambda_1, \\lambda_2, \\ldots, \\lambda_n) = \n",
    "\\begin{pmatrix}\n",
    "\\lambda_1 & 0& \\ldots& 0\\\\\n",
    "0& \\lambda_2& \\ldots &0\\\\\n",
    "\\vdots & \\vdots & \\ddots & \\vdots \\\\\n",
    "0& 0&\\ldots &\\lambda_n\n",
    "\\end{pmatrix}.\n",
    "$$\n",
    "(На диагонали — числа $\\lambda_1,\\lambda_2, \\ldots, \\lambda_n$, все остальные компоненты нулевые.)\n",
    "\n",
    "Рассмотрим произвольную матрицу $A$ подходящего размера (такого, чтобы соответствующие произведения были определены).\n",
    "\n",
    "1. Как связаны матрицы $A$ и $DA$?\n",
    "2. Как связаны матрицы $A$ и $AD$?"
   ]
  },
  {
   "cell_type": "markdown",
   "metadata": {},
   "source": [
    "*(впишите решение сюда)*"
   ]
  },
  {
   "cell_type": "markdown",
   "metadata": {},
   "source": [
    "### Собственные векторы и собственные значения\n",
    "Вектор $v\\ne 0$ называется (правым) собственным вектором матрицы $A$ с собственным значением $\\lambda$, если\n",
    "\n",
    "$$Av = \\lambda v.$$"
   ]
  },
  {
   "cell_type": "markdown",
   "metadata": {},
   "source": [
    "### Задача 8\n",
    "Угадать все собственные векторы и найти соответствующие им собственные значения матрицы $D$ из задачи 7 (в предположении, что все $\\lambda_k$ различны)."
   ]
  },
  {
   "cell_type": "markdown",
   "metadata": {},
   "source": [
    "*(впишите решение сюда)*"
   ]
  },
  {
   "cell_type": "markdown",
   "metadata": {},
   "source": [
    "### Задача 9\n",
    "Является ли вектор $(-2, -1, 1)$ собственным для матрицы?\n",
    "$$\n",
    "\\left(\\begin{matrix}0 & -6 & -10\\\\-2 & -1 & -7\\\\2 & 4 & 10\\end{matrix}\\right)\n",
    "$$\n",
    "Если да, найти его собственное значение. Эту задачу можно решать на компьютере, используя оператор матричного умножения, но нельзя использовать функцию `np.eig` и аналогичные."
   ]
  },
  {
   "cell_type": "markdown",
   "metadata": {},
   "source": [
    "*(впишите решение сюда)*"
   ]
  },
  {
   "cell_type": "markdown",
   "metadata": {},
   "source": [
    "### Задача 10\n",
    "Найдите все собственные значения и соответствующие им собственные векторы для матрицы из задачи 9. (Теперь можно использовать функцию `np.eig`.)"
   ]
  },
  {
   "cell_type": "markdown",
   "metadata": {},
   "source": [
    "*(впишите решение сюда)*"
   ]
  },
  {
   "cell_type": "markdown",
   "metadata": {},
   "source": [
    "### Задача 11\n"
   ]
  },
  {
   "cell_type": "markdown",
   "metadata": {},
   "source": [
    "Дан вектор $v\\in \\mathbb R^n$ (в виде одномерного `np.array`). Требуется написать программу, строящую матрицу, строками которой являются векторы $t v$ для $t = -1 + k/10,\\ k = 0, \\ldots, 20$ (то есть $t$ пробегает значения от $-1$ до $1$ с шагом $1/10$, всего $21$ значение). Получающаяся матрица должна иметь $21$ строку и $n$ столбцов. \n",
    "\n",
    "**Подсказка.** Для решения задачи вам нужно использовать матричное умножение, а для этого придётся делать из векторов матрицы (вектор-столбцы или вектор-строки). Это можно сделать, например, так:"
   ]
  },
  {
   "cell_type": "code",
   "execution_count": 53,
   "metadata": {
    "collapsed": false
   },
   "outputs": [
    {
     "data": {
      "text/plain": [
       "array([ 1,  3, 10,  3])"
      ]
     },
     "execution_count": 53,
     "metadata": {},
     "output_type": "execute_result"
    }
   ],
   "source": [
    "import numpy as np\n",
    "v = np.array([1, 3, 10, 3])\n",
    "v # это просто вектор"
   ]
  },
  {
   "cell_type": "code",
   "execution_count": 74,
   "metadata": {
    "collapsed": false
   },
   "outputs": [
    {
     "data": {
      "text/plain": [
       "array([ 1,  3, 10,  3])"
      ]
     },
     "execution_count": 74,
     "metadata": {},
     "output_type": "execute_result"
    }
   ],
   "source": [
    "v.T # он не меняется при транспонировании"
   ]
  },
  {
   "cell_type": "code",
   "execution_count": 68,
   "metadata": {
    "collapsed": false
   },
   "outputs": [
    {
     "data": {
      "text/plain": [
       "array([[ 1],\n",
       "       [ 3],\n",
       "       [10],\n",
       "       [ 3]])"
      ]
     },
     "execution_count": 68,
     "metadata": {},
     "output_type": "execute_result"
    }
   ],
   "source": [
    "v_column = v[:, np.newaxis]\n",
    "v_column # это вектор-столбец"
   ]
  },
  {
   "cell_type": "code",
   "execution_count": 69,
   "metadata": {
    "collapsed": false
   },
   "outputs": [
    {
     "data": {
      "text/plain": [
       "array([[ 1,  3, 10,  3]])"
      ]
     },
     "execution_count": 69,
     "metadata": {},
     "output_type": "execute_result"
    }
   ],
   "source": [
    "v_row = v[np.newaxis, :]\n",
    "v_row # это вектор-строка"
   ]
  },
  {
   "cell_type": "code",
   "execution_count": 73,
   "metadata": {
    "collapsed": false
   },
   "outputs": [],
   "source": [
    "# ваше решение здесь"
   ]
  }
 ],
 "metadata": {
  "kernelspec": {
   "display_name": "Python [default]",
   "language": "python",
   "name": "python2"
  },
  "language_info": {
   "codemirror_mode": {
    "name": "ipython",
    "version": 2
   },
   "file_extension": ".py",
   "mimetype": "text/x-python",
   "name": "python",
   "nbconvert_exporter": "python",
   "pygments_lexer": "ipython2",
   "version": "2.7.12"
  },
  "toc": {
   "toc_cell": false,
   "toc_number_sections": false,
   "toc_section_display": "none",
   "toc_threshold": 6,
   "toc_window_display": false
  }
 },
 "nbformat": 4,
 "nbformat_minor": 0
}
