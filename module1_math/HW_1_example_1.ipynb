{
 "cells": [
  {
   "cell_type": "markdown",
   "metadata": {},
   "source": [
    "# Математика для машинного обучения\n",
    "## Домашнее задание №1\n",
    "\n",
    "_Автор задания: Илья Щуров_\n",
    "\n",
    "Подготовлено для программы «[Практический анализ данных и машинное обучение](https://cs.hse.ru/dpo/bigml)» (ФКН НИУ ВШЭ)."
   ]
  },
  {
   "cell_type": "markdown",
   "metadata": {},
   "source": [
    "Задание выполнил: *(впишите сюда фамилию и имя)*"
   ]
  },
  {
   "cell_type": "markdown",
   "metadata": {},
   "source": [
    "**Определение.** *$n$-мерным векторным (или линейным) пространством* $\\mathbb R^n$ называется множество упорядоченных наборов из $n$ вещественных чисел $\\{(x_1, x_2, \\ldots, x_n)\\mid x_1, \\ldots, x_n \\in \\mathbb R^n\\}$, на котором определены следующие операции:\n",
    "\n",
    "1. Сложение двух векторов: если $u=(u_1, u_2, \\ldots, u_n)$ и $v=(v_1, v_2, \\ldots, v_n)$, то $u+v=(u_1+v_1, u_2+v_2, \\ldots, u_n + v_n)$.\n",
    "\n",
    "2. Умножения вектора на число: если $u=(u_1, u_2, \\ldots, u_n)$ и $\\lambda \\in \\mathbb R$ (то есть $\\lambda$ — это просто число), то $\\lambda u = (\\lambda u_1, \\lambda u_2, \\ldots, \\lambda u_n)$."
   ]
  },
  {
   "cell_type": "markdown",
   "metadata": {},
   "source": [
    "**Определение.** *Линейной комбинацией* векторов $u^1, u^2, \\ldots, u^k$ называется любое выражение вида $\\lambda_1 u^1 + \\lambda_2 u^2 + \\cdots + \\lambda_k u^k$, где $\\lambda_1, \\lambda_2,\\ldots, \\lambda_k$ — какие-то числа. Линейная комбинация называется *нетривиальной*, если хотя бы одно $\\lambda_j$ не равняется нулю."
   ]
  },
  {
   "cell_type": "markdown",
   "metadata": {},
   "source": [
    "Мы также будем использовать «школьное» понятие вектора на декартовой плоскости или в трёхмерном пространстве. С этой точки зрения\n",
    "вектор — это отрезок, на котором задано направление. При этом мы считаем, что\n",
    "вектор не меняется, если его параллельно перенести в другую точку, сохраняя\n",
    "направление и длину.\n",
    "\n",
    "Если начало вектора совпадает с\n",
    "началом координат, то координаты вектора совпадают с координатами его конца. Координаты произвольного вектора можно вычислить как\n",
    "покомпонентную разность между координатами конца и координатами начала. Если\n",
    "$A=(a_1, a_2)$ и $B=(b_1, b_2)$, то $\\overrightarrow{AB}=(b_1-a_1, b_2-a_2)$.\n",
    "\n",
    "Таким образом множество векторов на двумерной плоскости отождествляется с множеством пар чисел $\\mathbb R^2$. Аналогично множество векторов в трёхмерном пространстве отождествляется с множеством троек чисел $\\mathbb R^3$."
   ]
  },
  {
   "cell_type": "markdown",
   "metadata": {},
   "source": [
    "### Задача 1"
   ]
  },
  {
   "cell_type": "markdown",
   "metadata": {},
   "source": [
    "Рассмотрим картинку."
   ]
  },
  {
   "cell_type": "code",
   "execution_count": null,
   "metadata": {
    "collapsed": false
   },
   "outputs": [],
   "source": [
    "import matplotlib.pyplot as plt\n",
    "import numpy as np\n",
    "\n",
    "%matplotlib inline\n",
    "fig = plt.figure(figsize=(6,6))\n",
    "fig.gca().grid(True)\n",
    "plt.xlim(-4, 4)\n",
    "plt.ylim(-4, 4)\n",
    "plt.xlabel(\"$x_1$\", fontsize=18)\n",
    "plt.ylabel(\"$x_2$\", fontsize=18)\n",
    "\n",
    "points = [('O', 0, 0), ('A', 2, 3), ('B', -2, 1), ('C', 1, 1), ('D', -1, 2), ('E', 0, 1), ('F', 1, 0), ('H', 4, -1)]\n",
    "\n",
    "plt.plot([p[1] for p in points], [p[2] for p in points], 'o', color='black')\n",
    "for p in points:\n",
    "    plt.text(p[1] + 0.1, p[2] + 0.1, \"$%s$\" % p[0], fontsize = 18)"
   ]
  },
  {
   "cell_type": "markdown",
   "metadata": {},
   "source": [
    "1. Найти координаты вектора $\\overrightarrow{AE}$.\n",
    "2. Найти сумму $\\overrightarrow{OC}+\\overrightarrow{CD}$.\n",
    "3. Найти сумму $\\overrightarrow{OC}+\\overrightarrow{OB}$.\n",
    "4. Выразить вектор $\\overrightarrow{OC}$ в виде линейной комбинации векторов $\\overrightarrow{OE}$ и $\\overrightarrow{OF}$.\n",
    "5. Выразить вектор $\\overrightarrow{OB}$ в виде линейной комбинации векторов $\\overrightarrow{OC}$ и $\\overrightarrow{FE}$.\n",
    "6. Выразить вектор $\\overrightarrow{FH}$ в виде линейной комбинации векторов $\\overrightarrow{OC}$ и $\\overrightarrow{FE}$."
   ]
  },
  {
   "cell_type": "markdown",
   "metadata": {},
   "source": [
    "#### Решение \n",
    "1. $(-2, -2)$\n",
    "2. $(1, 1) + (-2, 1) = (-1, 2)$\n",
    "3. $(-1, 2)$\n",
    "4. $\\overrightarrow{OC} = k \\cdot \\overrightarrow{OE} +n \\cdot \\overrightarrow{OF}$\n",
    "\n",
    "   $(1,1) = k \\cdot (0,1) + n \\cdot (1,0)$\n",
    "    \n",
    "   $k=1,  n=1$\n",
    "    \n",
    "   $\\overrightarrow{OC} = \\overrightarrow{OE} + \\overrightarrow{OF}$.\n",
    "    \n",
    "5. $\\overrightarrow{OB} = k \\cdot \\overrightarrow{OC} +n \\cdot \\overrightarrow{FE}$\n",
    "\n",
    "   $(-2,1) = k \\cdot (1,1) + n \\cdot (-1,1)$\n",
    "    \n",
    "   $\\begin{cases}\n",
    "   -2 = k - n \\\\\n",
    "   1 = k + n\n",
    "    \\end{cases}$\n",
    "    \n",
    "    $\\begin{cases}\n",
    "      k = n - 2 \\\\\n",
    "      n = \\frac {3}{2}\n",
    "    \\end{cases}$\n",
    "    \n",
    "    $\\overrightarrow{OB} = -\\frac {1}{2}\\overrightarrow{OC} + \\frac {3} {2}\\overrightarrow{FE}$\n",
    "6. $\\overrightarrow{FH} = k \\cdot \\overrightarrow{OC} +n \\cdot \\overrightarrow{FE}$\n",
    "\n",
    "   $(3,-1) = k \\cdot (1,1) + n \\cdot (-1,1)$\n",
    "    \n",
    "   $\\begin{cases}\n",
    "      3 = k - n \\\\\n",
    "    -1 = k + n\n",
    "    \\end{cases}$\n",
    "    \n",
    "    $\\begin{cases}\n",
    "      k = n + 3 \\\\\n",
    "      n = -2\n",
    "     \\end{cases}$\n",
    "    \n",
    "    $\\overrightarrow{OB} = \\overrightarrow{OC} -2 \\overrightarrow{FE}$"
   ]
  },
  {
   "cell_type": "raw",
   "metadata": {},
   "source": [
    "#### Комментарии к заданию\n",
    "Все верно"
   ]
  },
  {
   "cell_type": "markdown",
   "metadata": {},
   "source": [
    "**Утверждение.** Прямая, проходящая через точку $P$ в направлении вектора $u$ задаётся как множество точек $Q$, таких, что\n",
    "\n",
    "$\\overrightarrow{OQ} = \\overrightarrow{OP} + tu$, где параметр $t$ пробегает множество всех вещественных чисел."
   ]
  },
  {
   "cell_type": "markdown",
   "metadata": {},
   "source": [
    "### Задача 2\n",
    "Для той же картинки:\n",
    "1. Записать в параметрическом виде уравнение прямой, проходящей через точки $B$ и $A$.\n",
    "2. Записать в параметрическом виде уравнение прямой, проходящей через точки $D$ и $E$.\n",
    "3. Найти координаты точки пересечения этих прямых, используя результаты двух предыдущих пунктов (записать систему уравнений, решить её и найти координаты точки пересечения)."
   ]
  },
  {
   "cell_type": "markdown",
   "metadata": {},
   "source": [
    "#### Решение \n",
    "1. $B (-2, 1) , A (2, 3), \\overrightarrow{BA} = (4, 2)$\n",
    "\n",
    "    $\\begin{cases}\n",
    "    {x_1} = 2 + 4 \\cdot t\\\\\n",
    "    {x_2} = 3 + 2 \\cdot t\n",
    "    \\end{cases}$\n",
    "    \n",
    "2. $D (-1, 2) , E (0, 1), \\overrightarrow{DE} = (1, -1)$\n",
    "\n",
    "    $\\begin{cases}\n",
    "    {x_1} = t\\\\\n",
    "    {x_2} = 1 - t\n",
    "    \\end{cases}$\n",
    "    \n",
    "3. $\\\\$\n",
    "\n",
    "    $\\begin{cases}\n",
    "    2 + 4t = k\\\\\n",
    "    3 + 2t = 1 - k\n",
    "    \\end{cases}$\n",
    "    \n",
    "    $\\begin{cases}\n",
    "    2 + 4t = k\\\\\n",
    "    2t + 4t = 1 - 5 \n",
    "    \\end{cases}$\n",
    "    \n",
    "    $\\begin{cases}\n",
    "    k = - \\frac{2}{3}\\\\\n",
    "    t = - \\frac {2}{3} \n",
    "    \\end{cases}$\n",
    "    \n",
    "    точка пересечения: $(- \\frac{2}{3}, 1\\frac{2}{3})$\n"
   ]
  },
  {
   "cell_type": "raw",
   "metadata": {},
   "source": [
    "#### Комментарии к заданию\n",
    "Все решено верно"
   ]
  },
  {
   "cell_type": "markdown",
   "metadata": {},
   "source": [
    "### Задача 3\n",
    "При каком условии на вектор $u=(u_1, u_2)$ прямая, параллельная вектору $u$, может быть задана в виде $x_2 = k x_1 + b$? Докажите."
   ]
  },
  {
   "cell_type": "markdown",
   "metadata": {},
   "source": [
    "#### Решение \n",
    "$ k{x_1} - {x_2} + b = 0$\n",
    "\n",
    "$\\overrightarrow{n} = (k, -1)$ - нормальный вектор\n",
    "\n",
    "$(\\overrightarrow{n}, \\overrightarrow{u}) = 0$\n",
    "\n",
    "$ k{u_1} - {u_2} = 0$\n",
    "\n",
    "Получаем условие на направляющий вектор:\n",
    "\n",
    "$u =({u_1}, k{u_1})$\n"
   ]
  },
  {
   "cell_type": "markdown",
   "metadata": {},
   "source": [
    "**Определение.** *Скалярным произведением* векторов $u=(u_1, \\ldots, u_n)$ и $v=(v_1, \\ldots, v_n)$ будем называть число (скаляр), обозначаемое $(u, v)$ и равное $u_1 v_1 + u_2 v_2 + \\ldots + u_n v_n$. Скалярное произведение также можно определить как $|u|\\cdot |v|\\cdot \\cos \\alpha$, где $\\alpha$ — угол между векторами, $|u|$ и $|v|$ — их длины.\n",
    "\n",
    "**Замечание.** Вообще говоря, скалярное произведение не всегда определяется координатной формулой, указанной выше: она справедлива только если система координат прямоугольная (вернее, базис ортонормирован). Но мы в основном будем работать именно с такими системами координат.\n",
    "\n",
    "**Следствие из определения.** Векторы $u$ и $v$ перпендикулярны тогда и только тогда, когда их скалярное произведение равно нулю. (Нулевой вектор перпендикулярен чему угодно.)"
   ]
  },
  {
   "cell_type": "markdown",
   "metadata": {},
   "source": [
    "### Задача 4\n",
    "Доказать следующие свойства скалярного произведения:\n",
    "\n",
    "Для любых трёх векторов $u, v, w$ и любого скаляра $\\lambda$:\n",
    "\n",
    "1. $(u + v, w) = (u, w) + (v, w)$;\n",
    "2. $(u, v + w) = (u, v) + (u, w)$;\n",
    "3. $(\\lambda u, v) = \\lambda (u, v)$;\n",
    "4. $(u, \\lambda v) = \\lambda (u, v)$.\n",
    "\n",
    "Эти свойства называются «билинейностью» (то есть линейности по обоим аргументам)."
   ]
  },
  {
   "cell_type": "markdown",
   "metadata": {},
   "source": [
    "#### Решение \n",
    "1. $(u + v, w) = ({u_1}+{v_1}) \\cdot {w_1} + ({u_2}+{v_2}) \\cdot {w_2} = {u_1}\\cdot{w_1} + {v_1}\\cdot{w_1} + {u_2}\\cdot{w_2} + {v_2}\\cdot{w_2} = ({u_1}\\cdot{w_1} + {u_2}\\cdot{w_2}) + ({v_1}\\cdot{w_1} + {v_2}\\cdot{w_2}) = (u,w) + (v,w)$\n",
    "2. $(u, v + w) = (v + w, u) = (v, u) + (w, u) = (u, v) + (u, w)$\n",
    "3. $(\\lambda u, v) = \\lambda {u_1}{v_1} + \\lambda {u_2}{v_2} = \\lambda (u, v)$\n",
    "4. $(u, \\lambda v) = (\\lambda v, u) = \\lambda (v, u) = \\lambda (u, v)$"
   ]
  },
  {
   "cell_type": "markdown",
   "metadata": {},
   "source": [
    "### Задача 5\n",
    "При каком значении параметра $t$ векторы $u=(2, t)$ и $v=(4, -1)$\n",
    "\n",
    "1. Параллельны;\n",
    "2. Перпендикулярны?"
   ]
  },
  {
   "cell_type": "markdown",
   "metadata": {},
   "source": [
    "#### Решение \n",
    "1. $u = k \\cdot v$\n",
    "\n",
    "   $\\begin{cases}\n",
    "   2 = 4k\\\\\n",
    "   t = -k\n",
    "   \\end{cases}$\n",
    "   \n",
    "   $t = -\\frac{1}{2}$\n",
    "   \n",
    "2. $(u, v) = 0$\n",
    "\n",
    "   $8 - t = 0$\n",
    "   \n",
    "   $t = 8$\n"
   ]
  },
  {
   "cell_type": "markdown",
   "metadata": {},
   "source": [
    "### Задача 6\n",
    "Описать множество всех векторов\n",
    "\n",
    "1. параллельных;\n",
    "2. перпрендикулярных\n",
    "\n",
    "прямой, заданной уравнением $2x_1 + 3x_2 = \\sqrt{\\pi}$"
   ]
  },
  {
   "cell_type": "markdown",
   "metadata": {},
   "source": [
    "#### Решение \n",
    "#2. Нормаль прямой из общего уравнения: $\\overrightarrow{n} = (2, 3)$\n",
    "\n",
    "   Множество всех перпендикулярных векторов: $\\lambda(2, 3)$\n",
    "   \n",
    "#1. $\\overrightarrow{u}$ - направляющий вектор\n",
    "\n",
    "   $(u, n) = 0$\n",
    "   \n",
    "   $({u_1}2 + {u_2}3)=0$\n",
    "   \n",
    "   ${u_2} = -\\frac{2}{3} {u_1}$\n",
    "   \n",
    "   Множество всех параллельных векторов: $k(3, -2)$"
   ]
  },
  {
   "cell_type": "markdown",
   "metadata": {},
   "source": [
    "**Определение.** Система векторов $u^1, u^2, \\ldots, u^k$ называется *линейно независимой* (ещё говорят, что эти векторы являются линейно независимыми), если ни один из этих векторов не выражается в виде линейной комбинации остальных."
   ]
  },
  {
   "cell_type": "markdown",
   "metadata": {},
   "source": [
    "### Задача 7\n",
    "Более традиционное определение линейной независимости звучит так:\n",
    "\n",
    "Система векторов $u^1, u^2, \\ldots, u^k$ называется *линейно независимой*, если никакая **нетривиальная** линейная комбинация этих векторов не равна нулевому вектору.\n",
    "\n",
    "Докажите, что это определение эквивалентно данному выше (по крайней мере, если векторов больше одного)."
   ]
  },
  {
   "cell_type": "markdown",
   "metadata": {},
   "source": [
    "#### Решение \n",
    "1. Пусть $U = {u_1, u_2, .. u_k}$ - система линейно независимых векторов. Предположим, что существует нетривиальная линейная комбинация равная нулю:\n",
    "\n",
    "    $\\sum \\limits_{n=1}^{k}x_i u_i = 0$\n",
    "\n",
    "    Пусть $x_j \\ne 0$. Тогда $u_j = -\\sum \\limits_{n=1}^{k} \\frac {x_i} {x_j} u_i$  - противоречит определению линейной независимости системы векторов\n",
    "\n",
    "    В одну сторону доказали.\n",
    "\n",
    "2. Пусть никакая линейная комбинация векторов $U = {u_1, u_2, .. u_k}$ не равна нулевому вектору. Предположим, что система векторов является линейно зависимой:\n",
    "\n",
    "    $u_j = \\sum \\limits_{n=1}^{k}x_i u_i , i \\ne j$\n",
    "\n",
    "    $\\sum \\limits_{n=1}^{k, i\\ne j}x_i u_i - u_j = 0$ - противоречие.\n",
    "\n",
    "    чтд"
   ]
  },
  {
   "cell_type": "markdown",
   "metadata": {},
   "source": [
    "### Задача 8\n",
    "Являются ли следующие системы векторов линейно независимыми? Ответ обосновать.\n",
    "\n",
    "1. $(1, 2)$, $(2,1)$.\n",
    "2. $(1, 2)$, $(2, 3)$, $(3, 5)$.\n",
    "2. $(1, 2)$, $(2, 3)$, $(\\sqrt{\\pi}, \\sin e)$.\n",
    "3. $(1, 0, 1)$, $(0, 1, 0)$, $(10, 3, 10)$.\n",
    "4. $(1, 0, 0)$, $(0, 3, 0)$, $(0, 0, 2)$.\n",
    "5. $(1, 2, 3, 4, 5)$, $(2, 4, 6, 8, 11)$.\n",
    "6. $(1, 2, 3, 4, 5, 6)$, $(2, 3, 4, 5, 6, 7), (10, 10, 10, 10, 10, 10)$."
   ]
  },
  {
   "cell_type": "markdown",
   "metadata": {},
   "source": [
    "#### Решение \n",
    "1. Линейно независимы.\n",
    "\n",
    "    $\\begin{cases}\n",
    "    k + 2t = 0\\\\\n",
    "    2k + t = 0\n",
    "    \\end{cases}$\n",
    "\n",
    "    $\\begin{cases}\n",
    "    k = - 2t\\\\\n",
    "    -3t = 0\n",
    "    \\end{cases}$\n",
    "\n",
    "    Система уровнений имеет решение только при k=t=0, сл-но система векторов линейно независима.\n",
    "\n",
    "2. Вектора линейно зависимы, так как их число больше размерности пространства. Система из 3х векторов в 2х мерном простаранстве всегда линейно зависима.\n",
    "\n",
    "3. Вектора линейно зависимы, так как их число больше размерности пространства. Система из 3х векторов в 2х мерном простаранстве всегда линейно зависима.\n",
    "\n",
    "4. Линейно зависимы. Третий вектор = 10 первых + 3 вторых.\n",
    "\n",
    "5. Линейно независимы. Так как у каждого из векторов ненулевой является одна из координат, и у каждого разная. Или тоже самое системой уравнений:\n",
    "\n",
    "    $\\begin{cases}\n",
    "    k = 0\\\\\n",
    "    3 t = 0\\\\\n",
    "    2 v = 0\n",
    "    \\end{cases}$\n",
    "\n",
    "    Система уровнений имеет решение только при k=t=v=0, сл-но система векторов линейно независима.\n",
    "    \n",
    "6. Линейно независимы.\n",
    "\n",
    "    Рассмотрим часть системы:\n",
    "    \n",
    "    $\\begin{cases}\n",
    "    k + 2t = 0\\\\\n",
    "    5k + 11t= 0\n",
    "    \\end{cases}$\n",
    "\n",
    "    $\\begin{cases}\n",
    "    k = - 2t\\\\\n",
    "    t = 0\n",
    "    \\end{cases}$\n",
    "\n",
    "    Система уровнений имеет решение только при k=t=0, сл-но система векторов линейно независима.\n",
    "    \n",
    "7. Линейно независимы.\n",
    "\n",
    "    Рассмотрим часть системы:\n",
    "    \n",
    "    $\\begin{cases}\n",
    "    k + 2t + 10v = 0\\\\\n",
    "    2k + 3t + 10v = 0\\\\\n",
    "    3k + 4t + 10v = 0\n",
    "    \\end{cases}$\n",
    "\n",
    "    $\\begin{cases}\n",
    "     k = - 2t - 10v\\\\\n",
    "    -t = 0\\\\\n",
    "    -30v + 10v = 0\n",
    "    \\end{cases}$\n",
    "    \n",
    "    Система уровнений имеет решение только при k=t=v=0, сл-но система векторов линейно независима."
   ]
  },
  {
   "cell_type": "raw",
   "metadata": {},
   "source": [
    "#### Комментарии к заданию\n",
    "В 7 примере система линейно-зависима\n",
    "Пример: (10,10,10,10,10,10)=10*((2,3,4,5,6,7) - (1,2,3,4,5,6))"
   ]
  },
  {
   "cell_type": "markdown",
   "metadata": {},
   "source": [
    "### Задача 9\n",
    "Пусть система векторов $u^1, u^2, \\ldots, u^k$ является линейно независимой. Пусть вектор $v$ представляется в виде линейной комбинации векторов $u^1, \\ldots, u^k$, то есть $v = \\lambda_1 u^1+\\ldots + \\lambda_k u^k$. Докажите, что в этом случае такая линейная комбинация единственна, то есть если $v = \\mu_1 u^1 + \\ldots + \\mu_k u^k$, то $\\lambda_1=\\mu_1$, ..., $\\lambda_k = \\mu_k$.\n",
    "\n",
    "Подсказка: воспользоваться определением из задачи 7."
   ]
  },
  {
   "cell_type": "markdown",
   "metadata": {},
   "source": [
    "#### Решение \n",
    "(от противного)\n",
    "\n",
    "Допустим $\\exists \\mu_j \\ne \\lambda_j$.\n",
    "Тогда:\n",
    "\n",
    "$v - v =  0$\n",
    "\n",
    "$\\sum \\limits_{n=1}^{k}\\lambda_i u_i - \\sum \\limits_{n=1}^{k}\\mu_i u_i = 0$\n",
    "\n",
    "$\\sum \\limits_{n=1}^{k}(\\lambda_i - \\mu_i) u_i = 0$\n",
    "\n",
    "При выполнении нашего предположения $\\mu_j \\ne \\lambda_j$ получаем нетривиальную линейную комбинацию векторов равную нулю. Что противоречит их линейной независимости."
   ]
  },
  {
   "cell_type": "markdown",
   "metadata": {},
   "source": [
    "### Задача 10\n",
    "Рассмотрим плоскость в трёхмерном пространстве, проходящую через точку $P = (1, 1, 1)$ перпендикулярно вектору $n=(1, 2, 4)$.\n",
    "\n",
    "1. Записать уравнение этой плоскости в виде $A_1 x_1 + A_2 x_2 + A_3 x_3 = D$.\n",
    "2. Найти точки пересечени этой плоскости с осями координат."
   ]
  },
  {
   "cell_type": "markdown",
   "metadata": {},
   "source": [
    "#### Решение \n",
    "1. $x_1 + 2x_2 + 4x_3 = D$\n",
    "\n",
    "    Подставим значения точки и найдём D:\n",
    "    \n",
    "    $1 + 2 + 4 = D$\n",
    "    \n",
    "    Итого:\n",
    "    \n",
    "    $x_1 + 2x_2 + 4x_3 = 7$ - уравнение плоскости\n",
    "    \n",
    "2. Точки пересечения с осями координам: $(7, 0, 0), (0, \\frac{7}{2}, 0), (0, 0, \\frac{7}{4})$"
   ]
  },
  {
   "cell_type": "markdown",
   "metadata": {},
   "source": [
    "### Задание 11\n",
    "Рассмотрим плоскость в трёхмерном пространстве, проходящую через точки $P=(1, 0, 1)$, $S=(1, 1, 0)$ и $T=(0, 1, 1)$.\n",
    "\n",
    "1. Записать уравнение этой плоскости в параметрическом виде (то есть описать координаты произвольной точки $Q$, зависящей от двух параметров).\n",
    "2. Записать уравнение этой плоскости в виде $A_1 x_1 + A_2 x_3 + A_3 x_3 = D$.\n",
    "3. Найти какой-нибудь вектор, перпендикулярный этой плоскости."
   ]
  },
  {
   "cell_type": "markdown",
   "metadata": {},
   "source": [
    "#### Решение \n",
    "1. Направляющие вектора плоскости: $\\overrightarrow{PS} = (0, 1,-1) и \\overrightarrow{PT} = (-1, 1, 0)$\n",
    "    \n",
    "    Уравнение плоскости имеет вид: $\\overrightarrow{OP} +  k\\overrightarrow{PS} + n\\overrightarrow{PT}$\n",
    "    \n",
    "    Получаем уравнение плоскости в параметрическом виде:\n",
    "    \n",
    "    $\\begin{cases}\n",
    "    x_1 = 1 - n\\\\\n",
    "    x_2 = k + n\\\\\n",
    "    x_3 = 1 - k\n",
    "    \\end{cases}$\n",
    "    \n",
    "2. Найдём нормаль $\\overrightarrow{n} = (A, B, C)$ к этой плоскости из следующей системы:\n",
    "\n",
    "    $\\begin{cases}\n",
    "    (\\overrightarrow{PS},\\overrightarrow{n}) = 0\\\\\n",
    "    (\\overrightarrow{PT},\\overrightarrow{n}) = 0\n",
    "    \\end{cases}$\n",
    "\n",
    "     $\\begin{cases}\n",
    "    B - C = 0\\\\\n",
    "    -A + B = 0\n",
    "    \\end{cases}$\n",
    "    \n",
    "    Получаем условие на нормаль $A = B = C$. Примем $\\overrightarrow{n} = (1, 1, 1)$ и получим:\n",
    "    \n",
    "    $x_1 + x_2 + x_3 = D$\n",
    "    \n",
    "    Подставим координаты точки P, найдём D (D=2) и получим общее уравнение плоскости:\n",
    "    \n",
    "     $x_1 + x_2 + x_3 = 2$\n",
    "     \n",
    "    Можно было просуммировать параметрические уравнения и получить тоже самое, но на лекции вроде не разбирали такого варианта.\n",
    "\n",
    "3. (1, 1, 1)\n"
   ]
  },
  {
   "cell_type": "markdown",
   "metadata": {},
   "source": [
    "### Задача 12\n",
    "С помощью `numpy` и `matplotlib.pyplot` построить график функции $y = \\sin \\exp x$ на отрезке $[-1,5]$."
   ]
  },
  {
   "cell_type": "code",
   "execution_count": 1,
   "metadata": {
    "collapsed": false
   },
   "outputs": [
    {
     "data": {
      "text/plain": [
       "[<matplotlib.lines.Line2D at 0xa8dd04eb00>]"
      ]
     },
     "execution_count": 1,
     "metadata": {},
     "output_type": "execute_result"
    },
    {
     "data": {
      "image/png": "[encoded data removed]",
      "text/plain": [
       "<matplotlib.figure.Figure at 0xa8daea2c18>"
      ]
     },
     "metadata": {},
     "output_type": "display_data"
    }
   ],
   "source": [
    "import numpy as np\n",
    "%matplotlib inline\n",
    "import matplotlib.pyplot as plt\n",
    "x = np.linspace(-1,5)\n",
    "y = np.sin(np.exp(x))\n",
    "plt.plot(x, y, 'o-')"
   ]
  },
  {
   "cell_type": "markdown",
   "metadata": {},
   "source": [
    "### Задача 13\n",
    "Напишите каким-нибудь образом функцию, вычисляющую факториал целого числа (например, с помощью цикла или рекурсии). Сравните с помощью `%%timeit` скорость работы вашей функции с `math.factorial` для больших значений аргумента."
   ]
  },
  {
   "cell_type": "code",
   "execution_count": 3,
   "metadata": {
    "collapsed": false
   },
   "outputs": [
    {
     "name": "stdout",
     "output_type": "stream",
     "text": [
      "100000 loops, best of 3: 13.9 µs per loop\n",
      "100000 loops, best of 3: 7.29 µs per loop\n"
     ]
    }
   ],
   "source": [
    "# Впишите решение сюда\n",
    "import math\n",
    "def F(m):\n",
    "    y=1\n",
    "    x=1\n",
    "    while x <= m:\n",
    "        y = x*y\n",
    "        x = x + 1\n",
    "    return y\n",
    "\n",
    "%timeit F(100)\n",
    "%timeit math.factorial(100)"
   ]
  },
  {
   "cell_type": "code",
   "execution_count": null,
   "metadata": {
    "collapsed": true
   },
   "outputs": [],
   "source": []
  }
 ],
 "metadata": {
  "anaconda-cloud": {},
  "kernelspec": {
   "display_name": "Python [Root]",
   "language": "python",
   "name": "Python [Root]"
  },
  "language_info": {
   "codemirror_mode": {
    "name": "ipython",
    "version": 2
   },
   "file_extension": ".py",
   "mimetype": "text/x-python",
   "name": "python",
   "nbconvert_exporter": "python",
   "pygments_lexer": "ipython2",
   "version": "2.7.12"
  },
  "toc": {
   "toc_cell": false,
   "toc_number_sections": false,
   "toc_section_display": "none",
   "toc_threshold": 6,
   "toc_window_display": false
  }
 },
 "nbformat": 4,
 "nbformat_minor": 0
}
