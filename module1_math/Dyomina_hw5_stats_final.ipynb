{
 "cells": [
  {
   "cell_type": "markdown",
   "metadata": {},
   "source": [
    "# Математика для машинного обучения\n",
    "## Домашнее задание №5\n",
    "\n",
    "_Автор задания: Илья Щуров_\n",
    "\n",
    "Подготовлено для программы «[Практический анализ данных и машинное обучение](https://cs.hse.ru/dpo/bigml)» (ФКН НИУ ВШЭ)."
   ]
  },
  {
   "cell_type": "markdown",
   "metadata": {},
   "source": [
    "** Задание выполнил(а): Дёмина Ирина **"
   ]
  },
  {
   "cell_type": "markdown",
   "metadata": {},
   "source": [
    "## Статистика"
   ]
  },
  {
   "cell_type": "markdown",
   "metadata": {},
   "source": [
    "### Описательные статистики"
   ]
  },
  {
   "cell_type": "markdown",
   "metadata": {},
   "source": [
    "Для выборки $x_1, x_2, \\ldots, x_n$ определены следующие величины (они часто называются *описательными статистиками*):\n",
    "\n",
    "1. Выборочное среднее: $$\\bar x = \\frac{x_1 + x_2 + \\ldots + x_n}{n}.$$\n",
    "2. Выборочная дисперсия: $$\\sigma^2 = \\frac{(x_1-\\bar x)^2 + (x_2 - \\bar x)^2 + \\ldots + (x_n - \\bar x)^2}{n}.$$\n",
    "3. Исправленная выборочная дисперсия: $$\\sigma_+^2 = \\frac{(x_1-\\bar x)^2 + (x_2 - \\bar x)^2 + \\ldots + (x_n - \\bar x)^2}{n - 1}.$$\n",
    "4. Выборочное стандартное отклонение: квадратный корень из выборочной дисперсии (обозначается $\\sigma$ или $SD$).\n",
    "5. Исправленное выборочное стандартное отклонение: квадратный корень из исправленной выборочной дисперсии (обозначается $\\sigma_+$ или $SD_+$ или ещё как-нибудь).\n",
    "6. [Медиана](https://ru.wikipedia.org/wiki/%D0%9C%D0%B5%D0%B4%D0%B8%D0%B0%D0%BD%D0%B0_(%D1%81%D1%82%D0%B0%D1%82%D0%B8%D1%81%D1%82%D0%B8%D0%BA%D0%B0)."
   ]
  },
  {
   "cell_type": "markdown",
   "metadata": {},
   "source": [
    "### Задача 1\n",
    "Для выборки $\\{1, 10, 2, 15, 100\\}$ найти все характеристики, перечисленные выше.\n",
    "\n",
    "Подсказка: можно использовать функции `np.mean`, `np.var`, `np.std`, `np.median`. Для вычисления исправленной выборочной дисперсии и исправленного выборочного стандартного отклонения необходимо соответствующим функциям передать параметр `ddof=1`."
   ]
  },
  {
   "cell_type": "code",
   "execution_count": 1,
   "metadata": {
    "collapsed": true
   },
   "outputs": [],
   "source": [
    "%matplotlib inline\n",
    "import matplotlib.pyplot as plt\n",
    "import numpy as np"
   ]
  },
  {
   "cell_type": "code",
   "execution_count": 2,
   "metadata": {
    "collapsed": false
   },
   "outputs": [],
   "source": [
    "# впишите решение сюда\n",
    "\n",
    "set_a=np.array([1, 10, 2, 15, 100])"
   ]
  },
  {
   "cell_type": "code",
   "execution_count": 3,
   "metadata": {
    "collapsed": false,
    "scrolled": false
   },
   "outputs": [
    {
     "name": "stdout",
     "output_type": "stream",
     "text": [
      "1.Выборочное среднее 25.6\n",
      "2.Выборочная дисперсия 1411.0\n",
      "3.Исправленная выборочная дисперсия 1763.0\n",
      "4.Выборочное стандартное отклонение 38.0\n",
      "5.Исправленное выборочное стандартное отклонение 42.0\n",
      "6.Медиана 10.0\n"
     ]
    }
   ],
   "source": [
    "print \"1.Выборочное среднее\", np.mean(set_a)\n",
    "print \"2.Выборочная дисперсия\", round (np.var(set_a))\n",
    "print \"3.Исправленная выборочная дисперсия\", round (np.var(set_a,ddof=1))\n",
    "print \"4.Выборочное стандартное отклонение\", round (np.std(set_a))\n",
    "print \"5.Исправленное выборочное стандартное отклонение\", round (np.std(set_a,ddof=1))\n",
    "print \"6.Медиана\", np.median(set_a)"
   ]
  },
  {
   "cell_type": "markdown",
   "metadata": {},
   "source": [
    "### Квартет Энскомба\n",
    "Загрузим набор данных, который называется «квартетом Энскомба». (Нам потребуется использовать пакет `pandas`.)"
   ]
  },
  {
   "cell_type": "code",
   "execution_count": 4,
   "metadata": {
    "collapsed": false,
    "scrolled": true
   },
   "outputs": [
    {
     "data": {
      "text/html": [
       "<div>\n",
       "<table border=\"1\" class=\"dataframe\">\n",
       "  <thead>\n",
       "    <tr style=\"text-align: right;\">\n",
       "      <th></th>\n",
       "      <th>x1</th>\n",
       "      <th>x2</th>\n",
       "      <th>x3</th>\n",
       "      <th>x4</th>\n",
       "      <th>y1</th>\n",
       "      <th>y2</th>\n",
       "      <th>y3</th>\n",
       "      <th>y4</th>\n",
       "    </tr>\n",
       "  </thead>\n",
       "  <tbody>\n",
       "    <tr>\n",
       "      <th>1</th>\n",
       "      <td>10</td>\n",
       "      <td>10</td>\n",
       "      <td>10</td>\n",
       "      <td>8</td>\n",
       "      <td>8.04</td>\n",
       "      <td>9.14</td>\n",
       "      <td>7.46</td>\n",
       "      <td>6.58</td>\n",
       "    </tr>\n",
       "    <tr>\n",
       "      <th>2</th>\n",
       "      <td>8</td>\n",
       "      <td>8</td>\n",
       "      <td>8</td>\n",
       "      <td>8</td>\n",
       "      <td>6.95</td>\n",
       "      <td>8.14</td>\n",
       "      <td>6.77</td>\n",
       "      <td>5.76</td>\n",
       "    </tr>\n",
       "    <tr>\n",
       "      <th>3</th>\n",
       "      <td>13</td>\n",
       "      <td>13</td>\n",
       "      <td>13</td>\n",
       "      <td>8</td>\n",
       "      <td>7.58</td>\n",
       "      <td>8.74</td>\n",
       "      <td>12.74</td>\n",
       "      <td>7.71</td>\n",
       "    </tr>\n",
       "    <tr>\n",
       "      <th>4</th>\n",
       "      <td>9</td>\n",
       "      <td>9</td>\n",
       "      <td>9</td>\n",
       "      <td>8</td>\n",
       "      <td>8.81</td>\n",
       "      <td>8.77</td>\n",
       "      <td>7.11</td>\n",
       "      <td>8.84</td>\n",
       "    </tr>\n",
       "    <tr>\n",
       "      <th>5</th>\n",
       "      <td>11</td>\n",
       "      <td>11</td>\n",
       "      <td>11</td>\n",
       "      <td>8</td>\n",
       "      <td>8.33</td>\n",
       "      <td>9.26</td>\n",
       "      <td>7.81</td>\n",
       "      <td>8.47</td>\n",
       "    </tr>\n",
       "    <tr>\n",
       "      <th>6</th>\n",
       "      <td>14</td>\n",
       "      <td>14</td>\n",
       "      <td>14</td>\n",
       "      <td>8</td>\n",
       "      <td>9.96</td>\n",
       "      <td>8.10</td>\n",
       "      <td>8.84</td>\n",
       "      <td>7.04</td>\n",
       "    </tr>\n",
       "    <tr>\n",
       "      <th>7</th>\n",
       "      <td>6</td>\n",
       "      <td>6</td>\n",
       "      <td>6</td>\n",
       "      <td>8</td>\n",
       "      <td>7.24</td>\n",
       "      <td>6.13</td>\n",
       "      <td>6.08</td>\n",
       "      <td>5.25</td>\n",
       "    </tr>\n",
       "    <tr>\n",
       "      <th>8</th>\n",
       "      <td>4</td>\n",
       "      <td>4</td>\n",
       "      <td>4</td>\n",
       "      <td>19</td>\n",
       "      <td>4.26</td>\n",
       "      <td>3.10</td>\n",
       "      <td>5.39</td>\n",
       "      <td>12.50</td>\n",
       "    </tr>\n",
       "    <tr>\n",
       "      <th>9</th>\n",
       "      <td>12</td>\n",
       "      <td>12</td>\n",
       "      <td>12</td>\n",
       "      <td>8</td>\n",
       "      <td>10.84</td>\n",
       "      <td>9.13</td>\n",
       "      <td>8.15</td>\n",
       "      <td>5.56</td>\n",
       "    </tr>\n",
       "    <tr>\n",
       "      <th>10</th>\n",
       "      <td>7</td>\n",
       "      <td>7</td>\n",
       "      <td>7</td>\n",
       "      <td>8</td>\n",
       "      <td>4.82</td>\n",
       "      <td>7.26</td>\n",
       "      <td>6.42</td>\n",
       "      <td>7.91</td>\n",
       "    </tr>\n",
       "    <tr>\n",
       "      <th>11</th>\n",
       "      <td>5</td>\n",
       "      <td>5</td>\n",
       "      <td>5</td>\n",
       "      <td>8</td>\n",
       "      <td>5.68</td>\n",
       "      <td>4.74</td>\n",
       "      <td>5.73</td>\n",
       "      <td>6.89</td>\n",
       "    </tr>\n",
       "  </tbody>\n",
       "</table>\n",
       "</div>"
      ],
      "text/plain": [
       "    x1  x2  x3  x4     y1    y2     y3     y4\n",
       "1   10  10  10   8   8.04  9.14   7.46   6.58\n",
       "2    8   8   8   8   6.95  8.14   6.77   5.76\n",
       "3   13  13  13   8   7.58  8.74  12.74   7.71\n",
       "4    9   9   9   8   8.81  8.77   7.11   8.84\n",
       "5   11  11  11   8   8.33  9.26   7.81   8.47\n",
       "6   14  14  14   8   9.96  8.10   8.84   7.04\n",
       "7    6   6   6   8   7.24  6.13   6.08   5.25\n",
       "8    4   4   4  19   4.26  3.10   5.39  12.50\n",
       "9   12  12  12   8  10.84  9.13   8.15   5.56\n",
       "10   7   7   7   8   4.82  7.26   6.42   7.91\n",
       "11   5   5   5   8   5.68  4.74   5.73   6.89"
      ]
     },
     "execution_count": 4,
     "metadata": {},
     "output_type": "execute_result"
    }
   ],
   "source": [
    "import pandas as pd\n",
    "url = \"https://vincentarelbundock.github.io/Rdatasets/csv/datasets/anscombe.csv\"\n",
    "data = pd.read_csv(url, index_col=0)\n",
    "data"
   ]
  },
  {
   "cell_type": "markdown",
   "metadata": {},
   "source": [
    "\n",
    "### Задача 2\n",
    "1. Для каждой из переменных, входящих в «квартет Энскомба», найти среднее и выборочную дисперсию.\n",
    "2. Для каждой из четырёх пар соответствующих переменных (`x1` и `y1`, `x2` и `y2` и т.д.) найти корреляцию Пирсона. (Подсказка: можно использовать функцию `pearsonr` из `scipy.stats`: она возвращает пару, первый элемент которой — коэффициент корреляции, а второй — *p-value* для проверки нулевой гипотезы об отсутствии зависимости между величинами.)\n",
    "3. Для каждой из указанных пар переменных построить scatter plot. (Подсказка: можно использовать `plt.plot` или `plt.scatter`.)\n",
    "\n",
    "*Квартет Энскомба демонстрирует, что даже если числовые характеристики выборок совпадают, их реальное распределение и характер связей между переменными могут существенно различаться. Поэтому визуализация — важный элемент анализа данных.*"
   ]
  },
  {
   "cell_type": "markdown",
   "metadata": {
    "collapsed": true
   },
   "source": [
    "**#1.**"
   ]
  },
  {
   "cell_type": "code",
   "execution_count": 5,
   "metadata": {
    "collapsed": false
   },
   "outputs": [
    {
     "name": "stdout",
     "output_type": "stream",
     "text": [
      "Среднее значение для переменной  x1 = 9.0\n",
      "Выборочная дисперсия для переменной  x1 = 10.0 \n",
      "\n",
      "Среднее значение для переменной  x2 = 9.0\n",
      "Выборочная дисперсия для переменной  x2 = 10.0 \n",
      "\n",
      "Среднее значение для переменной  x3 = 9.0\n",
      "Выборочная дисперсия для переменной  x3 = 10.0 \n",
      "\n",
      "Среднее значение для переменной  x4 = 9.0\n",
      "Выборочная дисперсия для переменной  x4 = 10.0 \n",
      "\n",
      "Среднее значение для переменной  y1 = 7.5\n",
      "Выборочная дисперсия для переменной  y1 = 3.75 \n",
      "\n",
      "Среднее значение для переменной  y2 = 7.5\n",
      "Выборочная дисперсия для переменной  y2 = 3.75 \n",
      "\n",
      "Среднее значение для переменной  y3 = 7.5\n",
      "Выборочная дисперсия для переменной  y3 = 3.75 \n",
      "\n",
      "Среднее значение для переменной  y4 = 7.5\n",
      "Выборочная дисперсия для переменной  y4 = 3.75 \n",
      "\n"
     ]
    }
   ],
   "source": [
    "for col in data.columns:\n",
    "    print 'Среднее значение для переменной ', col, '=', round(np.mean(data[col]),2)\n",
    "    print 'Выборочная дисперсия для переменной ', col, '=', round(np.var(data[col]),2), '\\n'"
   ]
  },
  {
   "cell_type": "markdown",
   "metadata": {},
   "source": [
    "**#2**"
   ]
  },
  {
   "cell_type": "code",
   "execution_count": 6,
   "metadata": {
    "collapsed": true
   },
   "outputs": [],
   "source": [
    "from scipy.stats import pearsonr"
   ]
  },
  {
   "cell_type": "code",
   "execution_count": 7,
   "metadata": {
    "collapsed": false
   },
   "outputs": [
    {
     "name": "stdout",
     "output_type": "stream",
     "text": [
      "Коэффициент корреляции Пирсона, p-value для x1, y1: \n",
      "(0.81642051634484003, 0.0021696288730787888) \n",
      "\n",
      "Коэффициент корреляции Пирсона, p-value: для x2, y2: \n",
      "(0.81623650600024267, 0.0021788162369108031) \n",
      "\n",
      "Коэффициент корреляции Пирсона, p-value: для x3, y3: \n",
      "(0.81628673948959807, 0.0021763052792280304) \n",
      "\n",
      "Коэффициент корреляции Пирсона, p-value: для x4, y4: \n",
      "(0.81652143688850298, 0.0021646023471972127) \n",
      "\n"
     ]
    }
   ],
   "source": [
    "print 'Коэффициент корреляции Пирсона,','p-value','для x1, y1:','\\n', pearsonr (data['x1'],data['y1']),'\\n'\n",
    "print 'Коэффициент корреляции Пирсона,','p-value:','для x2, y2:','\\n', pearsonr (data['x2'],data['y2']),'\\n'\n",
    "print 'Коэффициент корреляции Пирсона,','p-value:','для x3, y3:','\\n', pearsonr (data['x3'],data['y3']),'\\n'\n",
    "print 'Коэффициент корреляции Пирсона,','p-value:','для x4, y4:','\\n', pearsonr (data['x4'],data['y4']),'\\n'"
   ]
  },
  {
   "cell_type": "code",
   "execution_count": 8,
   "metadata": {
    "collapsed": false,
    "scrolled": true
   },
   "outputs": [
    {
     "data": {
      "text/plain": [
       "<matplotlib.collections.PathCollection at 0x117988f10>"
      ]
     },
     "execution_count": 8,
     "metadata": {},
     "output_type": "execute_result"
    },
    {
     "data": {
      "image/png": "[encoded data removed]",
      "text/plain": [
       "<matplotlib.figure.Figure at 0x1153937d0>"
      ]
     },
     "metadata": {},
     "output_type": "display_data"
    }
   ],
   "source": [
    "plt.scatter(data['x1'],data['y1'], c='yellow') \n",
    "plt.scatter(data['x2'],data['y2'], c='red')\n",
    "plt.scatter(data['x3'],data['y3'], c='blue')\n",
    "plt.scatter(data['x4'],data['y4'], c='green')"
   ]
  },
  {
   "cell_type": "markdown",
   "metadata": {},
   "source": [
    "### Задача 3\n",
    "Будем проводить следующий эксперимент: сгенерируем две различные независимые выборки размером `n = 5` из равномерного распределения на отрезке $[0, 1]$. С помощью теста Стьюдента проверим гипотезу о том, что эти две выборки были получены из распределений с различными средними ($H_0\\colon m_1 = m_2$, $H_1\\colon m_1 ≠ m_2$) на уровне значимости 5%.\n",
    "\n",
    "Повторим этот эксперимент 10000 раз. Сколько раз мы будем совершать ошибку первого рода, то есть ошибочно отвергать нулевую гипотезу? Что будет, если изменить уровень значимости (например, использовать уровень значимости 1%)? Что будет, если увеличить размер выборки до `n = 20`?\n",
    "\n",
    "Для генерирования выборок можно использовать `uniform.rvs`, для теста Стьюдента — `ttest_ind` (обе функции из пакета `scipy.stats`). Последняя функция возвращает пару, состоящую из значения t-статистики и p-value."
   ]
  },
  {
   "cell_type": "code",
   "execution_count": 9,
   "metadata": {
    "collapsed": true
   },
   "outputs": [],
   "source": [
    "from scipy.stats import uniform, ttest_ind"
   ]
  },
  {
   "cell_type": "code",
   "execution_count": 10,
   "metadata": {
    "collapsed": false
   },
   "outputs": [
    {
     "name": "stdout",
     "output_type": "stream",
     "text": [
      "[ 0.46518412  0.80070886  0.92506711  0.68435178  0.57542707] 0.690147786807\n"
     ]
    }
   ],
   "source": [
    "x = uniform.rvs(size=5, loc=0, scale=1) \n",
    "print x, np.mean(x)"
   ]
  },
  {
   "cell_type": "code",
   "execution_count": 11,
   "metadata": {
    "collapsed": false,
    "scrolled": true
   },
   "outputs": [
    {
     "name": "stdout",
     "output_type": "stream",
     "text": [
      "[ 0.11015983  0.20337287  0.14260408  0.44106767  0.06023993] 0.191488876395\n"
     ]
    }
   ],
   "source": [
    "y = uniform.rvs(size=5, loc=0, scale=1) \n",
    "print y, np.mean(y)"
   ]
  },
  {
   "cell_type": "code",
   "execution_count": 12,
   "metadata": {
    "collapsed": false,
    "scrolled": true
   },
   "outputs": [
    {
     "name": "stdout",
     "output_type": "stream",
     "text": [
      "Ttest_indResult(statistic=4.7558757664581064, pvalue=0.0014343788822469312)\n",
      "0.00143437888225\n"
     ]
    }
   ],
   "source": [
    "print ttest_ind(x,y)\n",
    "print ttest_ind(x,y)[1]"
   ]
  },
  {
   "cell_type": "code",
   "execution_count": 13,
   "metadata": {
    "collapsed": true
   },
   "outputs": [],
   "source": [
    "result =np.array(ttest_ind(x,y))"
   ]
  },
  {
   "cell_type": "code",
   "execution_count": 14,
   "metadata": {
    "collapsed": false
   },
   "outputs": [
    {
     "data": {
      "text/plain": [
       "0.0014343788822469312"
      ]
     },
     "execution_count": 14,
     "metadata": {},
     "output_type": "execute_result"
    }
   ],
   "source": [
    "result[1]"
   ]
  },
  {
   "cell_type": "code",
   "execution_count": 15,
   "metadata": {
    "collapsed": false
   },
   "outputs": [
    {
     "name": "stdout",
     "output_type": "stream",
     "text": [
      "гипотезу H_0 отклоняем 588 раз из 10,000 или в 5.88 процентов случаев\n"
     ]
    }
   ],
   "source": [
    "n = 0\n",
    "_size = 5\n",
    "alfa = 0.05\n",
    "# проведем эксперимент 10 000\n",
    "for i in range(10000):\n",
    "    x = uniform.rvs(size=_size,loc=0, scale=1)\n",
    "    y = uniform.rvs(size=_size,loc=0, scale=1)\n",
    "    result = np.array(ttest_ind(x,y))\n",
    "    if result[1] < alfa:\n",
    "        n = n + 1\n",
    "print \"гипотезу H_0 отклоняем\", n, 'раз из 10,000 или в', n/10000.0*100, 'процентов случаев'"
   ]
  },
  {
   "cell_type": "code",
   "execution_count": 16,
   "metadata": {
    "collapsed": false
   },
   "outputs": [
    {
     "name": "stdout",
     "output_type": "stream",
     "text": [
      "гипотезу H_0 отклоняем 504 раз из 10,000 или в 5.04 процентов случаев\n"
     ]
    }
   ],
   "source": [
    "n = 0\n",
    "_size = 20\n",
    "alfa = 0.05\n",
    "for i in range(10000):\n",
    "    x = uniform.rvs(size=_size,loc=0, scale=1)\n",
    "    y = uniform.rvs(size=_size,loc=0, scale=1)\n",
    "    result = np.array(ttest_ind(x,y))\n",
    "    if result[1] < alfa:\n",
    "        n = n + 1\n",
    "print \"гипотезу H_0 отклоняем\", n, 'раз из 10,000 или в', n/10000.0*100, 'процентов случаев'"
   ]
  },
  {
   "cell_type": "code",
   "execution_count": 17,
   "metadata": {
    "collapsed": false
   },
   "outputs": [
    {
     "name": "stdout",
     "output_type": "stream",
     "text": [
      "гипотезу H_0 отклоняем 163 раз из 10,000 или в 1.63 процентов случаев\n"
     ]
    }
   ],
   "source": [
    "n = 0\n",
    "_size = 5\n",
    "alfa = 0.01\n",
    "for i in range(10000):\n",
    "    x = uniform.rvs(size=_size,loc=0, scale=1)\n",
    "    y = uniform.rvs(size=_size,loc=0, scale=1)\n",
    "    result = np.array(ttest_ind(x,y))\n",
    "    if result[1] < alfa:\n",
    "        n = n + 1\n",
    "print \"гипотезу H_0 отклоняем\", n, 'раз из 10,000 или в', n/10000.0*100, 'процентов случаев'"
   ]
  },
  {
   "cell_type": "code",
   "execution_count": 18,
   "metadata": {
    "collapsed": false
   },
   "outputs": [
    {
     "name": "stdout",
     "output_type": "stream",
     "text": [
      "гипотезу H_0 отклоняем 100 раз из 10,000 или в 1.0 процентов случаев\n"
     ]
    }
   ],
   "source": [
    "n = 0\n",
    "_size = 20\n",
    "alfa = 0.01\n",
    "for i in range(10000):\n",
    "    x = uniform.rvs(size=_size,loc=0, scale=1)\n",
    "    y = uniform.rvs(size=_size,loc=0, scale=1)\n",
    "    result = np.array(ttest_ind(x,y))\n",
    "    if result[1] < alfa:\n",
    "        n = n + 1\n",
    "print \"гипотезу H_0 отклоняем\", n, 'раз из 10,000 или в', n/10000.0*100, 'процентов случаев'"
   ]
  },
  {
   "cell_type": "markdown",
   "metadata": {},
   "source": [
    "Увеличение размера выборки так и ужесточение порога значимости уменьшает кол-во ошибок 1го рода."
   ]
  },
  {
   "cell_type": "markdown",
   "metadata": {},
   "source": [
    "### Задача 4\n",
    "Будем проводить следующий численный эксперимент. Сгенерируем две независимые выборки из стандартного нормального распределения одинаковой длины `n = 10`. Посчитаем коэффициент корреляции Пирсона между ними. Повторим процедуру 1000 раз. Выберем пару выборок с наибольшим по модулю коэффициентом корреляции.\n",
    "\n",
    "Указать, какой коэффициент корреляции получится. Нарисовать scatter plot для этой пары выборок.\n",
    "\n",
    "*Эта задача показывает, что если долго искать, то можно найти хорошо коррелирующие переменные, даже если они заведомо были порождены независимыми случайными величинами.*"
   ]
  },
  {
   "cell_type": "code",
   "execution_count": 19,
   "metadata": {
    "collapsed": false
   },
   "outputs": [],
   "source": [
    "from scipy.stats import pearsonr\n",
    "from scipy.stats import norm"
   ]
  },
  {
   "cell_type": "code",
   "execution_count": 20,
   "metadata": {
    "collapsed": false
   },
   "outputs": [
    {
     "data": {
      "text/plain": [
       "array([ 0.8180533 , -0.87391835, -0.63707242, -0.04396208, -0.02879938,\n",
       "       -0.58191518,  0.06733261, -0.10914132, -0.03900744, -1.14932906])"
      ]
     },
     "execution_count": 20,
     "metadata": {},
     "output_type": "execute_result"
    }
   ],
   "source": [
    "norm.rvs(size=10)"
   ]
  },
  {
   "cell_type": "code",
   "execution_count": 21,
   "metadata": {
    "collapsed": false
   },
   "outputs": [
    {
     "name": "stdout",
     "output_type": "stream",
     "text": [
      "0.887417439073\n",
      "[-1.78009131  1.06590003  0.72553333  1.15944205 -0.60525366  1.54475601\n",
      " -0.92293233  0.06381778  1.83908674 -0.63683288]\n",
      "[-2.79797735 -0.33724577 -0.67718921  0.84816361 -0.91932836  1.62271282\n",
      " -1.21035611 -0.17354363  1.72815462 -0.13679518]\n"
     ]
    }
   ],
   "source": [
    "n = 10\n",
    "max_value = 0\n",
    "for i in range(1000):\n",
    "    x = norm.rvs(size=n)\n",
    "    y = norm.rvs(size=n)\n",
    "    p = pearsonr(x,y)[0]\n",
    "    if p > max_value:\n",
    "        max_value = p\n",
    "        x_scat = x\n",
    "        y_scat = y\n",
    "print max_value\n",
    "print x_scat\n",
    "print y_scat"
   ]
  },
  {
   "cell_type": "code",
   "execution_count": 22,
   "metadata": {
    "collapsed": false
   },
   "outputs": [
    {
     "data": {
      "text/plain": [
       "<matplotlib.collections.PathCollection at 0x117c6fcd0>"
      ]
     },
     "execution_count": 22,
     "metadata": {},
     "output_type": "execute_result"
    },
    {
     "data": {
      "image/png": "[encoded data removed]",
      "text/plain": [
       "<matplotlib.figure.Figure at 0x115393b10>"
      ]
     },
     "metadata": {},
     "output_type": "display_data"
    }
   ],
   "source": [
    "plt.scatter(x_scat, y_scat) "
   ]
  },
  {
   "cell_type": "markdown",
   "metadata": {},
   "source": [
    "### Задача 5\n",
    "Рассмотрим две выборки: $x = \\{1, 3, 1, 5, 2, 6\\}$ и $y = \\{5, 9, 10, 4, 12\\}$. Пусть мы проверяем гипотезу о том, что они были получены из распределений с различными средними ($H_0: m_1 = m_2$, $H_1: m_1 \\ne m_2$). Будем действовать двумя методами:\n",
    "\n",
    "1. Используя тест Стьюдента: найти p-value и сделать вывод о наличии статистически значимой разницы средних. (При использовании функции `ttest_ind` укажите параметр `equal_var=False`, поскольку дисперсии выборок существенно различаются.)\n",
    "2. Используя компьютерную симуляцию (permutation test).\n",
    "\n",
    "Компьютерная симуляция будет устроена следующим образом:\n",
    "\n",
    "1. Запомнить разность средних двух исходных выборок: $\\bar x - \\bar y$.\n",
    "2. 10000 раз повторить следущие действия:\n",
    "    1. Перемешать выборки: взять случайный элемент первой выборки, случайный элемент второй выборки и поменять их местами. И так 100 раз.\n",
    "    2. Посчитать разность средних получившихся выборок.\n",
    "\n",
    "Вычислить, с какой частотой модуль разности перемешанных выборок будет оказываться больше или равным модулю разности исходных выборок. Сравнить c p-value, полученным с помощью применения t-теста."
   ]
  },
  {
   "cell_type": "code",
   "execution_count": 23,
   "metadata": {
    "collapsed": false
   },
   "outputs": [],
   "source": [
    "# впишите решение сюда\n",
    "\n",
    "x = np.array([1,3,1,5,2,6])\n",
    "y = np.array([5,9,10,4,12])"
   ]
  },
  {
   "cell_type": "code",
   "execution_count": 24,
   "metadata": {
    "collapsed": false
   },
   "outputs": [
    {
     "data": {
      "text/plain": [
       "Ttest_indResult(statistic=-2.8708462588160728, pvalue=0.026273074813275191)"
      ]
     },
     "execution_count": 24,
     "metadata": {},
     "output_type": "execute_result"
    }
   ],
   "source": [
    "ttest_ind(x,y, equal_var=False)"
   ]
  },
  {
   "cell_type": "markdown",
   "metadata": {},
   "source": [
    "При уровне значимости alfa = 0,05 гипотеза Ho не верна, при уровне значимости alfa = 0,01 гипотеза Ho верна."
   ]
  },
  {
   "cell_type": "code",
   "execution_count": 25,
   "metadata": {
    "collapsed": false
   },
   "outputs": [
    {
     "name": "stdout",
     "output_type": "stream",
     "text": [
      "Разность средних исходных выборок -5.0\n"
     ]
    }
   ],
   "source": [
    "x_mean = np.mean(x)\n",
    "y_mean = np.mean(y)\n",
    "delta_x_y = x_mean - y_mean\n",
    "print \"Разность средних исходных выборок\", delta_x_y"
   ]
  },
  {
   "cell_type": "code",
   "execution_count": 26,
   "metadata": {
    "collapsed": true
   },
   "outputs": [],
   "source": [
    "import random"
   ]
  },
  {
   "cell_type": "code",
   "execution_count": 27,
   "metadata": {
    "collapsed": false
   },
   "outputs": [
    {
     "name": "stdout",
     "output_type": "stream",
     "text": [
      "223 раз или 2.23 процентов.\n"
     ]
    }
   ],
   "source": [
    "n = 0\n",
    "\n",
    "for m in range(10000):\n",
    "    x = np.array([1,3,1,5,2,6])\n",
    "    y = np.array([5,9,10,4,12])\n",
    "    delta1 = abs(np.mean(x) - np.mean(y))\n",
    "    for k in range(100):\n",
    "        i = random.randint(0, len(x)-1)\n",
    "        j = random.randint(0, len(y)-1)\n",
    "        x_i = x[i]\n",
    "        y_j = y[j]\n",
    "        x[i] = y_j\n",
    "        y[j] = x_i\n",
    "    delta2 = abs(np.mean(x) - np.mean(y))\n",
    "    if delta2 >= delta1:\n",
    "        n+=1    \n",
    "print n, \"раз или\", n/100.0, \"процентов.\""
   ]
  },
  {
   "cell_type": "markdown",
   "metadata": {},
   "source": [
    "Процент случаев, когда модуль разности перемешанных выборок был больше или равным модулю разности исходных выборок, сопоставим со значением p-value из первого теста."
   ]
  }
 ],
 "metadata": {
  "kernelspec": {
   "display_name": "Python 2",
   "language": "python",
   "name": "python2"
  },
  "language_info": {
   "codemirror_mode": {
    "name": "ipython",
    "version": 2
   },
   "file_extension": ".py",
   "mimetype": "text/x-python",
   "name": "python",
   "nbconvert_exporter": "python",
   "pygments_lexer": "ipython2",
   "version": "2.7.11"
  },
  "toc": {
   "toc_cell": false,
   "toc_number_sections": false,
   "toc_section_display": "none",
   "toc_threshold": 6,
   "toc_window_display": false
  }
 },
 "nbformat": 4,
 "nbformat_minor": 0
}
