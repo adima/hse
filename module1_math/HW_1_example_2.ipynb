{
 "cells": [
  {
   "cell_type": "markdown",
   "metadata": {},
   "source": [
    "# Математика для машинного обучения\n",
    "## Домашнее задание №1\n",
    "\n",
    "_Автор задания: Илья Щуров_\n",
    "\n",
    "Подготовлено для программы «[Практический анализ данных и машинное обучение](https://cs.hse.ru/dpo/bigml)» (ФКН НИУ ВШЭ)."
   ]
  },
  {
   "cell_type": "markdown",
   "metadata": {},
   "source": [
    "Задание выполнила: **"
   ]
  },
  {
   "cell_type": "markdown",
   "metadata": {},
   "source": [
    "**Определение.** *$n$-мерным векторным (или линейным) пространством* $\\mathbb R^n$ называется множество упорядоченных наборов из $n$ вещественных чисел $\\{(x_1, x_2, \\ldots, x_n)\\mid x_1, \\ldots, x_n \\in \\mathbb R^n\\}$, на котором определены следующие операции:\n",
    "\n",
    "1. Сложение двух векторов: если $u=(u_1, u_2, \\ldots, u_n)$ и $v=(v_1, v_2, \\ldots, v_n)$, то $u+v=(u_1+v_1, u_2+v_2, \\ldots, u_n + v_n)$.\n",
    "\n",
    "2. Умножения вектора на число: если $u=(u_1, u_2, \\ldots, u_n)$ и $\\lambda \\in \\mathbb R$ (то есть $\\lambda$ — это просто число), то $\\lambda u = (\\lambda u_1, \\lambda u_2, \\ldots, \\lambda u_n)$."
   ]
  },
  {
   "cell_type": "markdown",
   "metadata": {},
   "source": [
    "**Определение.** *Линейной комбинацией* векторов $u^1, u^2, \\ldots, u^k$ называется любое выражение вида $\\lambda_1 u^1 + \\lambda_2 u^2 + \\cdots + \\lambda_k u^k$, где $\\lambda_1, \\lambda_2,\\ldots, \\lambda_k$ — какие-то числа. Линейная комбинация называется *нетривиальной*, если хотя бы одно $\\lambda_j$ не равняется нулю."
   ]
  },
  {
   "cell_type": "markdown",
   "metadata": {},
   "source": [
    "Мы также будем использовать «школьное» понятие вектора на декартовой плоскости или в трёхмерном пространстве. С этой точки зрения\n",
    "вектор — это отрезок, на котором задано направление. При этом мы считаем, что\n",
    "вектор не меняется, если его параллельно перенести в другую точку, сохраняя\n",
    "направление и длину.\n",
    "\n",
    "Если начало вектора совпадает с\n",
    "началом координат, то координаты вектора совпадают с координатами его конца. Координаты произвольного вектора можно вычислить как\n",
    "покомпонентную разность между координатами конца и координатами начала. Если\n",
    "$A=(a_1, a_2)$ и $B=(b_1, b_2)$, то $\\overrightarrow{AB}=(b_1-a_1, b_2-a_2)$.\n",
    "\n",
    "Таким образом множество векторов на двумерной плоскости отождествляется с множеством пар чисел $\\mathbb R^2$. Аналогично множество векторов в трёхмерном пространстве отождествляется с множеством троек чисел $\\mathbb R^3$."
   ]
  },
  {
   "cell_type": "markdown",
   "metadata": {},
   "source": [
    "### Задача 1"
   ]
  },
  {
   "cell_type": "markdown",
   "metadata": {},
   "source": [
    "Рассмотрим картинку."
   ]
  },
  {
   "cell_type": "code",
   "execution_count": 19,
   "metadata": {
    "collapsed": false
   },
   "outputs": [
    {
     "data": {
      "image/png": "[encoded data removed]",
      "text/plain": [
       "<matplotlib.figure.Figure at 0x82edef0>"
      ]
     },
     "metadata": {},
     "output_type": "display_data"
    }
   ],
   "source": [
    "import matplotlib.pyplot as plt\n",
    "import numpy as np\n",
    "\n",
    "%matplotlib inline\n",
    "fig = plt.figure(figsize=(6,6))\n",
    "fig.gca().grid(True)\n",
    "plt.xlim(-4, 4)\n",
    "plt.ylim(-4, 4)\n",
    "plt.xlabel(\"$x_1$\", fontsize=18)\n",
    "plt.ylabel(\"$x_2$\", fontsize=18)\n",
    "\n",
    "points = [('O', 0, 0), ('A', 2, 3), ('B', -2, 1), ('C', 1, 1), ('D', -1, 2), ('E', 0, 1), ('F', 1, 0), ('H', 4, -1)]\n",
    "\n",
    "plt.plot([p[1] for p in points], [p[2] for p in points], 'o', color='black')\n",
    "for p in points:\n",
    "    plt.text(p[1] + 0.1, p[2] + 0.1, \"$%s$\" % p[0], fontsize = 18)"
   ]
  },
  {
   "cell_type": "markdown",
   "metadata": {},
   "source": [
    "1. Найти координаты вектора $\\overrightarrow{AE}$.\n",
    "1. Найти сумму $\\overrightarrow{OC}+\\overrightarrow{CD}$.\n",
    "1. Найти сумму $\\overrightarrow{OC}+\\overrightarrow{OB}$.\n",
    "2. Выразить вектор $\\overrightarrow{OC}$ в виде линейной комбинации векторов $\\overrightarrow{OE}$ и $\\overrightarrow{OF}$.\n",
    "3. Выразить вектор $\\overrightarrow{OB}$ в виде линейной комбинации векторов $\\overrightarrow{OC}$ и $\\overrightarrow{FE}$.\n",
    "4. Выразить вектор $\\overrightarrow{FH}$ в виде линейной комбинации векторов $\\overrightarrow{OC}$ и $\\overrightarrow{FE}$."
   ]
  },
  {
   "cell_type": "markdown",
   "metadata": {},
   "source": [
    "#### Решение \n",
    "\n",
    "**1)** $A=(2, 3)$, $E=(0, 1)$, то $\\overrightarrow{AE}=(0-2, 1-3)=(-2, -2)$.\n",
    "    \n",
    "**Ответ (1):** $\\overrightarrow{AE}=(-2, -2)$.\n",
    "\n",
    "**2)** $O=(0, 0)$, $C=(1, 1)$, $D=(-1, 2)$; $\\overrightarrow{OC}=(1-0, 1-0)=(1,1)$, $\\overrightarrow{CD}=(-1-1, 2-1)=(-2, 1)$; \n",
    "\n",
    "$\\overrightarrow{OC}+\\overrightarrow{CD}=(1+(-2), 1 + 1)=(-1, 2)$.\n",
    "    \n",
    "**Ответ (2):** $\\overrightarrow{OC}+\\overrightarrow{CD}=(-1, 2)$\n",
    "\n",
    "**3)** $O=(0, 0)$, $C=(1, 1)$, $B=(-2, 1)$; $\\overrightarrow{OC}=(1,1)$, $\\overrightarrow{OB}=(-2-0, 1-0)=(-2, 1)$; $\\overrightarrow{OC}+\\overrightarrow{OB}=(1+(-2), 1+1)=(-1, 2)$.\n",
    "\n",
    "**Ответ (3):** $\\overrightarrow{OC}+\\overrightarrow{OB}=(-1, 2)$.\n",
    "\n",
    "**4)** $\\overrightarrow{OC}$ = $\\overrightarrow{OE}$ + $\\overrightarrow{OF}$ (по правилу параллелограмма).\n",
    "\n",
    "**Ответ (4):** $\\overrightarrow{OC}$ = $\\overrightarrow{OE}$ + $\\overrightarrow{OF}$\n",
    "\n",
    "**5)** $\\overrightarrow{OC}=(1, 1)$; $F=(1, 0)$, $E=(0, 1)$, $\\overrightarrow{FE}=(0-1, 1-0)=(-1,1)$; $\\overrightarrow{OB}=(-2, 1)$.\n",
    "\n",
    "$a(1, 1) + b(-1, 1) = (-2, 1)$;\n",
    "    \n",
    "$a - b = -2$ и $a + b = 1$; \n",
    "    \n",
    "Выразим: $a = 1 - b$, отсюда: $1 - b - b = -2$; $-2b = -3$; $b = 3/2$; $a = 1 - 3/2 = -1/2$.\n",
    "\n",
    "Получаем: $\\overrightarrow{OB} = -1/2 \\overrightarrow{OC} + 3/2 \\overrightarrow{FE}$.\n",
    "\n",
    "**Ответ (5):** $\\overrightarrow{OB} = -1/2 \\overrightarrow{OC} + 3/2 \\overrightarrow{FE}$.\n",
    "\n",
    "**6)** $\\overrightarrow{OC}=(1, 1)$; $\\overrightarrow{FE}=(-1,1)$; $F=(1, 0)$, $H=(4, 1)$, $\\overrightarrow{FH}=(4-1,1-0)=(3,1)$;\n",
    "    \n",
    "$a(1, 1) + b(-1, 1) = (3, 1)$;\n",
    "    \n",
    "$a - b = 3$ и $a + b = 1$; \n",
    "    \n",
    "Выразим: $a = 1 - b$, отсюда $1 - b - b = 3$; $-2b = 2$; $b = -1$; $a = 1 - (-1) = 2$.\n",
    "\n",
    "Получаем: $\\overrightarrow{FH} = 2 \\overrightarrow{OC} - \\overrightarrow{FE}$.\n",
    "\n",
    "**Ответ (6):** $\\overrightarrow{FH} = 2 \\overrightarrow{OC} - \\overrightarrow{FE}$."
   ]
  },
  {
   "cell_type": "markdown",
   "metadata": {},
   "source": [
    "#### Комментарии к заданию\n",
    "(1)-(5) верно\n",
    "\n",
    "(6) Ошибка при вычислении координат вектора $\\overrightarrow{FH}$ (координаты точки $H=(4, -1)$)"
   ]
  },
  {
   "cell_type": "markdown",
   "metadata": {},
   "source": [
    "**Утверждение.** Прямая, проходящая через точку $P$ в направлении вектора $u$ задаётся как множество точек $Q$, таких, что\n",
    "\n",
    "$\\overrightarrow{OQ} = \\overrightarrow{OP} + tu$, где параметр $t$ пробегает множество всех вещественных чисел."
   ]
  },
  {
   "cell_type": "markdown",
   "metadata": {},
   "source": [
    "### Задача 2\n",
    "Для той же картинки:\n",
    "1. Записать в параметрическом виде уравнение прямой, проходящей через точки $B$ и $A$.\n",
    "2. Записать в параметрическом виде уравнение прямой, проходящей через точки $D$ и $E$.\n",
    "3. Найти координаты точки пересечения этих прямых, используя результаты двух предыдущих пунктов (записать систему уравнений, решить её и найти координаты точки пересечения)."
   ]
  },
  {
   "cell_type": "markdown",
   "metadata": {},
   "source": [
    "#### Решение \n",
    "\n",
    "**1)** $B = (-2,1)$, $A = (2,3)$, имеем систему:\n",
    "\\begin{eqnarray}\n",
    "x_1(\\lambda_1) & = & -2 + 4\\lambda_1  \\\\\n",
    "x_2(\\lambda_1)        & = & 1 + 2\\lambda_1\n",
    "\\end{eqnarray}\n",
    "\n",
    "**2)** $D = (-1,2)$, $E = (0,1)$, имеем систему:\n",
    "\\begin{eqnarray}\n",
    "x_1(\\lambda_2) & = & \\lambda_2 - 1  \\\\\n",
    "x_2(\\lambda_2)        & = & -\\lambda_2 + 2\n",
    "\\end{eqnarray}\n",
    "\n",
    "**3)** Перед нахождением координат точки пересечения заданных прямых приведем их уравнения к общему виду:\n",
    "\\begin{eqnarray}\n",
    "x_1(\\lambda_1) & = & -2 + 4\\lambda_1  \\\\\n",
    "x_2(\\lambda_1)        & = & 1 + 2\\lambda_1\n",
    "\\end{eqnarray}\n",
    "\\begin{eqnarray}\n",
    "\\lambda_1 & = & \\frac{x_1+2}{4}  \\\\\n",
    "\\lambda_1 & = & \\frac{x_2-1}{2}\n",
    "\\end{eqnarray}\n",
    "$2(x_1+2) = 4(x_2-1)$, $x_1-2x_2+4=0$.\n",
    "\\begin{eqnarray}\n",
    "x_1(\\lambda_2) & = & \\lambda_2 - 1  \\\\\n",
    "x_2(\\lambda_2)        & = & -\\lambda_2 + 2\n",
    "\\end{eqnarray}\n",
    "\\begin{eqnarray}\n",
    "\\lambda_2 & = & x_1+1   \\\\\n",
    "\\lambda_2        & = & -x_2 +2\n",
    "\\end{eqnarray}\n",
    "$x_1+x_2-1=0$.\n",
    "\n",
    "Решаем систему:\n",
    "\\begin{eqnarray}\n",
    "x_1-2x_2+4 & = & 0   \\\\\n",
    "x_1+x_2-1        & = & 0\n",
    "\\end{eqnarray}\n",
    "$x_1 = 1 - x_2$, $1-x_2-2x_2+4=0$, $x_2$ = $5/3$, $x_1$ = $-2/3$, точка пересечения прямых $(-2/3, 5/3)$."
   ]
  },
  {
   "cell_type": "markdown",
   "metadata": {},
   "source": [
    "#### Комментарии к заданию\n",
    "(1)-(3) верно"
   ]
  },
  {
   "cell_type": "markdown",
   "metadata": {},
   "source": [
    "### Задача 3\n",
    "При каком условии на вектор $u=(u_1, u_2)$ прямая, параллельная вектору $u$, может быть задана в виде $x_2 = k x_1 + b$? Докажите."
   ]
  },
  {
   "cell_type": "markdown",
   "metadata": {},
   "source": [
    "#### Решение \n",
    "k - (действительное число) Тангенс угла наклона к оси $Ox_1$. Так как u || рассматриваемой прямой, то этот угол для них будет совпадать.\n",
    "\n",
    "Вектор u не должен быть параллелен $x_2$ (перпендикулярен $x_1$), так как тогда k - тангенс угла наклона к оси $Ox_1$ тогда будет равен бесконечности (тангенс угла в 90 градусов)."
   ]
  },
  {
   "cell_type": "raw",
   "metadata": {},
   "source": [
    "#### Комментарии к заданию\n",
    "Достаточно сказать, что u1 <> 0\n"
   ]
  },
  {
   "cell_type": "markdown",
   "metadata": {},
   "source": [
    "**Определение.** *Скалярным произведением* векторов $u=(u_1, \\ldots, u_n)$ и $v=(v_1, \\ldots, v_n)$ будем называть число (скаляр), обозначаемое $(u, v)$ и равное $u_1 v_1 + u_2 v_2 + \\ldots + u_n v_n$. Скалярное произведение также можно определить как $|u|\\cdot |v|\\cdot \\cos \\alpha$, где $\\alpha$ — угол между векторами, $|u|$ и $|v|$ — их длины.\n",
    "\n",
    "**Замечание.** Вообще говоря, скалярное произведение не всегда определяется координатной формулой, указанной выше: она справедлива только если система координат прямоугольная (вернее, базис ортонормирован). Но мы в основном будем работать именно с такими системами координат.\n",
    "\n",
    "**Следствие из определения.** Векторы $u$ и $v$ перпендикулярны тогда и только тогда, когда их скалярное произведение равно нулю. (Нулевой вектор перпендикулярен чему угодно.)"
   ]
  },
  {
   "cell_type": "markdown",
   "metadata": {},
   "source": [
    "### Задача 4\n",
    "Доказать следующие свойства скалярного произведения:\n",
    "\n",
    "Для любых трёх векторов $u, v, w$ и любого скаляра $\\lambda$:\n",
    "\n",
    "1. $(u + v, w) = (u, w) + (v, w)$;\n",
    "2. $(u, v + w) = (u, v) + (u, w)$;\n",
    "3. $(\\lambda u, v) = \\lambda (u, v)$;\n",
    "4. $(u, \\lambda v) = \\lambda (u, v)$.\n",
    "\n",
    "Эти свойства называются «билинейностью» (то есть линейности по обоим аргументам)."
   ]
  },
  {
   "cell_type": "markdown",
   "metadata": {},
   "source": [
    "#### Решение \n",
    "\n",
    "**1)** $(u + v, w) = (u_x+v_x)w_x + (u_y+v_y)w_y$ = $u_x$$w_x$ + $v_x$$w_x$ + $u_y$$w_y$ + $v_y$$w_y$ = ($u_x$$w_x$ + $u_y$$w_y$) + ($v_x$$w_x$ + $v_y$$w_y$) = $(u, w) + (v, w)$.\n",
    "\n",
    "**2)** $(u, v + w) = u_x(v_x+w_x) + u_y(v_y+w_y)$ = $u_x$$v_x$ + $u_x$$w_x$ + $u_y$$v_y$ + $u_y$$w_y$ = ($u_x$$v_x$ + $u_y$$v_y$) + ($u_x$$w_x$ + $u_y$$w_y$) = $(u, w) + (v, w)$.\n",
    "\n",
    "**3)** $(\\lambda u, v)$ = $\\lambda$$u_x$$v_x$ + $\\lambda$$u_y$$v_y$ = $\\lambda$($u_x$$v_x$ + $u_y$$v_y$) = $\\lambda$$(u, v)$.\n",
    "\n",
    "**4)** $(u, \\lambda v)$ = $u_x$$\\lambda$$v_x$ + $u_y$$\\lambda$$v_y$ = $\\lambda$($u_x$$v_x$ + $u_y$$v_y$) = $\\lambda$$(u, v)$."
   ]
  },
  {
   "cell_type": "markdown",
   "metadata": {},
   "source": [
    "#### Комментарии к заданию\n",
    "(1)-(4) верно"
   ]
  },
  {
   "cell_type": "markdown",
   "metadata": {},
   "source": [
    "### Задача 5\n",
    "При каком значении параметра $t$ векторы $u=(2, t)$ и $v=(4, -1)$\n",
    "\n",
    "1. Параллельны;\n",
    "2. Перпендикулярны?"
   ]
  },
  {
   "cell_type": "markdown",
   "metadata": {},
   "source": [
    "#### Решение \n",
    "\n",
    "**1)** Вектора параллельны (коллениарны), если для $A = (a_x, a_y)$ и $B = (b_x, b_y)$ выполнено: $\\frac{a_x}{b_x}$ = $\\frac{a_y}{b_y}$ = $k$.\n",
    "\n",
    "То есть имеем: $\\frac{2}{4}$ = $\\frac{t}{-1}$; $t$ = $-1/2$.\n",
    "\n",
    "**2)** Вектора перпендикулярны (ортогональны), если их скалярное произведение равно 0: $a_x$$b_x$ + $a_y$$b_y$ = $0$. \n",
    "\n",
    "То есть имеем: $8$ - $t$ = $0$; $t$ = $8$."
   ]
  },
  {
   "cell_type": "markdown",
   "metadata": {},
   "source": [
    "#### Комментарии к заданию\n",
    "Задача 5 верно"
   ]
  },
  {
   "cell_type": "markdown",
   "metadata": {},
   "source": [
    "### Задача 6\n",
    "Описать множество всех векторов\n",
    "\n",
    "1. параллельных;\n",
    "2. перпендикулярных\n",
    "\n",
    "прямой, заданной уравнением $2x_1 + 3x_2 = \\sqrt{\\pi}$"
   ]
  },
  {
   "cell_type": "markdown",
   "metadata": {},
   "source": [
    "#### Решение \n",
    "\n",
    "**1)** Приведем общее уравнение прямой $2x_1 + 3x_2 = \\sqrt{\\pi}$ к каноническому виду: $2x_1 = \\sqrt{\\pi} - 3x_2$; $2x_1 = -3(x_2 - \\frac{\\sqrt{\\pi}}{3})$; \n",
    "\n",
    "$\\frac{x_1}{-3}$ = $\\frac{x_2 - \\frac{\\sqrt{\\pi}}{3}}{2}$, то есть направляющий вектор: $(3,-2)$, общее множество всех векторов: $(3k_1, -2k_1)$, $k_1 \\in \\mathbb R^n$.\n",
    "\n",
    "**2)** Множество всех векторов, перпендикулярных данному, определяется из условия, что скалярное произведение этих векторов $= 0$.\n",
    "\n",
    "Имеем: $3a + (-2)b = 0$, $3a = 2b$; $b = \\frac{3a}{2}$, $\\overrightarrow{v} = (a,  \\frac{3a}{2})$, значит общее множество всех таких векторов: $k_2(a, \\frac{3a}{2})$ = $a$$k_2$$(1, \\frac{3}{2})$, при $k_3$ = $a$$k_2$ имеем $k_3(1, \\frac{3}{2})$, $k_2, k_3 \\in \\mathbb R^n$."
   ]
  },
  {
   "cell_type": "markdown",
   "metadata": {},
   "source": [
    "**Определение (1).** Система векторов $u^1, u^2, \\ldots, u^k$ называется *линейно независимой* (ещё говорят, что эти векторы являются линейно независимыми), если ни один из этих векторов не выражается в виде линейной комбинации остальных."
   ]
  },
  {
   "cell_type": "markdown",
   "metadata": {},
   "source": [
    "### Задача 7\n",
    "Более традиционное определение линейной независимости звучит так:\n",
    "\n",
    "**Определение (2).** Система векторов $u^1, u^2, \\ldots, u^k$ называется *линейно независимой*, если никакая **нетривиальная** линейная комбинация этих векторов не равна нулевому вектору.\n",
    "\n",
    "Докажите, что это определение эквивалентно данному выше (по крайней мере, если векторов больше одного)."
   ]
  },
  {
   "cell_type": "markdown",
   "metadata": {},
   "source": [
    "#### Решение\n",
    "\n",
    "**1)** Докажем, что из *(2)* следует *(1)*:\n",
    "Пусть (2) *выполнено*: есть набор векторов, никакая нетривиальная линейная комбинация которых не равно 0, (1) *не  выполнено* (от противного): то есть найддется такой вектор, который выражается через другие: $v = \\lambda_1 u^1+\\ldots + \\lambda_k u^k$. \n",
    "\n",
    "Перенесем $v$ в длругую сторону равенства, получили $0 = -v + \\lambda_1 u^1+\\ldots + \\lambda_k u^k$, что есть противоречение выполнению (2). Значит, из (2) следует (1), ч.т.д.\n",
    "\n",
    "**2)** Докажем, что из *(1)* следует *(2)*:\n",
    "Пусть (1) *выполнено*: ни один из векторов не выражается как линейная комбинация других, (2) *не выполнено* (от противного): то есть существует нетривиальная линейная комбинация, которая равна 0. \n",
    "\n",
    "Рассмотрим эту линейную комбинацию. Рассмотрим сколько в нее вошло векторов с ненулевыми коэффициентами. \n",
    "\n",
    "Если только у одного вектора ненулевой коэффициент, то, так как эта линейная комбинация равна 0, этот вектор должен быть нулевой. А если в системе есть нулевой вектор, то можем выразить его как линейную комбинацию других, то есть (1) не выполнено.\n",
    "\n",
    "Если хотя бы у 2 векторов ненулевые коэффициенты, то один из них переносим в другую часть равенства, делим обе части на коэффициент при этом члене и получаем выражение вектора через другие, что противоречит выполнению (1). Значит, из (1) следует (2), ч.т.д."
   ]
  },
  {
   "cell_type": "markdown",
   "metadata": {},
   "source": [
    "### Задача 8\n",
    "Являются ли следующие системы векторов линейно независимыми? Ответ обосновать.\n",
    "\n",
    "1. $(1, 2)$, $(2,1)$.\n",
    "2. $(1, 2)$, $(2, 3)$, $(3, 5)$.\n",
    "2. $(1, 2)$, $(2, 3)$, $(\\sqrt{\\pi}, \\sin e)$.\n",
    "3. $(1, 0, 1)$, $(0, 1, 0)$, $(10, 3, 10)$.\n",
    "4. $(1, 0, 0)$, $(0, 3, 0)$, $(0, 0, 2)$.\n",
    "5. $(1, 2, 3, 4, 5)$, $(2, 4, 6, 8, 11)$.\n",
    "6. $(1, 2, 3, 4, 5, 6)$, $(2, 3, 4, 5, 6, 7), (10, 10, 10, 10, 10, 10)$."
   ]
  },
  {
   "cell_type": "markdown",
   "metadata": {},
   "source": [
    "#### Решение \n",
    "\n",
    "**1)** Вычислим ранг матрицы, приведя её к ступенчатому виду используя элементарные преобразования над строками и столбцами матрицы: от 2 строки отнимаем 1 строку, умноженную на 2; 2-ую строку делим на -3.\n",
    "\\begin{bmatrix}\n",
    "    1       & 2 \\\\\n",
    "    0       & 1 \\\\\n",
    "\\end{bmatrix}\n",
    "Так как ненулевых строк 2, то Rank(A) = 2, значит вектора линейно **не**зависимы.\n",
    "\n",
    "**2)** Число векторов $(3)$ превосходит размерность системы $(2)$, значит система линейно зависима.\n",
    "\n",
    "**3)** Число векторов $(3)$ превосходит размерность системы $(2)$, значит система линейно зависима.\n",
    "\n",
    "**4)** Вычислим ранг матрицы, приведя её к ступенчатому виду используя элементарные преобразования над строками и столбцами матрицы: от 3 строки отнимаем 1 строку, умноженную на 10; от 3 строки отнимаем 2 строку, умноженную на 3\n",
    "\\begin{bmatrix}\n",
    "    1       & 0 & 1 \\\\\n",
    "    0       & 1 & 0 \\\\\n",
    "    0       & 0 & 0 \\\\\n",
    "\\end{bmatrix}\n",
    "Так как ненулевых строк 2, то Rank(A) = 2, значить вектора линейно зависимы.\n",
    "\n",
    "**5)** Вычислим ранг матрицы, приведя её к ступенчатому виду используя элементарные преобразования над строками и столбцами матрицы: 2-ую строку делим на 3; 3-ую строку делим на 2\n",
    "\\begin{bmatrix}\n",
    "    1       & 0 & 0 \\\\\n",
    "    0       & 1 & 0 \\\\\n",
    "    0       & 0 & 1 \\\\\n",
    "\\end{bmatrix}\n",
    "Так как ненулевых строк 3, то Rank(A) = 3, значить вектора линейно **не**зависимы.\n",
    "\n",
    "**6)** Вычислим ранг матрицы, приведя её к ступенчатому виду используя элементарные преобразования над строками и столбцами матрицы: от 2 строки отнимаем 1 строку, умноженную на 2\n",
    "\\begin{bmatrix}\n",
    "    1       & 2 & 3 & 4 & 5 \\\\\n",
    "    0       & 0 & 0 & 0 & 1 \\\\\n",
    "\\end{bmatrix}\n",
    "Так как ненулевых строк 2, то Rank(A) = 2, значить вектора линейно **не**зависимы.\n",
    "\n",
    "**7)** Вычислим ранг матрицы, приведя её к ступенчатому виду используя элементарные преобразования над строками и столбцами матрицы: от 2 строки отнимаем 1 строку, умноженную на 2; от 3 строки отнимаем 1 строку, умноженную на 10; 2-ую строку делим на -1; к 3 строке добавляем 2 строку, умноженную на 10\n",
    "\\begin{bmatrix}\n",
    "    1       & 2 & 3 & 4 & 5 & 6 \\\\\n",
    "    0       & 1 & 2 & 3 & 4 & 5 \\\\\n",
    "    0       & 0 & 0 & 0 & 0 & 0 \\\\\n",
    "\\end{bmatrix}\n",
    "Так как ненулевых строк 2, то Rank(A) = 2, значить вектора линейно зависимы."
   ]
  },
  {
   "cell_type": "markdown",
   "metadata": {},
   "source": [
    "### Задача 9\n",
    "Пусть система векторов $u^1, u^2, \\ldots, u^k$ является линейно независимой. Пусть вектор $v$ представляется в виде линейной комбинации векторов $u^1, \\ldots, u^k$, то есть $v = \\lambda_1 u^1+\\ldots + \\lambda_k u^k$. Докажите, что в этом случае такая линейная комбинация единственна, то есть если $v = \\mu_1 u^1 + \\ldots + \\mu_k u^k$, то $\\lambda_1=\\mu_1$, ..., $\\lambda_k = \\mu_k$.\n",
    "\n",
    "Подсказка: воспользоваться определением из задачи 7."
   ]
  },
  {
   "cell_type": "markdown",
   "metadata": {},
   "source": [
    "#### Решение \n",
    "\n",
    "$u^1, u^2, \\ldots, u^k$ - базис. Предположим, что вектор $v$ имеет в этом базисе два разложения: \n",
    "$v = v_1^1 u^1 + \\ldots + v_k^1 u^k$ и $v = v_1^2 u^1 + \\ldots + v_k^2 u^k$.\n",
    "\n",
    "Так как мы можем преобразовывать линейные комбинации так же, как и обычные алгебраические выражения, вычтем из первого\n",
    "равенства второе почленно, получим $(v_1^1 - v_1^2)u^1 + \\ldots + (v_k^1 - v_k^2)u^k = 0$.\n",
    "\n",
    "Так как базис — это линейно независимая система векторов, ее линейная комбинация равна 0, лишь если она тривиальная . Значит, все коэффициенты этой линейной комбинации равны нулю: $v_1^1 - v_1^2 = 0$, $\\ldots$, $v_k^1 - v_k^2 = 0$. Таким образом $v_1^1 = v_1^2$, $\\ldots$, $v_k^1 = v_k^2$, разложения вектора совпадают, значит разложение единственно."
   ]
  },
  {
   "cell_type": "markdown",
   "metadata": {},
   "source": [
    "#### Комментарии к заданию\n",
    "9 задача доказана верно"
   ]
  },
  {
   "cell_type": "markdown",
   "metadata": {},
   "source": [
    "### Задача 10\n",
    "Рассмотрим плоскость в трёхмерном пространстве, проходящую через точку $P = (1, 1, 1)$ перпендикулярно вектору $n=(1, 2, 4)$.\n",
    "\n",
    "1. Записать уравнение этой плоскости в виде $A_1 x_1 + A_2 x_2 + A_3 x_3 = D$.\n",
    "2. Найти точки пересечения этой плоскости с осями координат."
   ]
  },
  {
   "cell_type": "markdown",
   "metadata": {},
   "source": [
    "#### Решение \n",
    "\n",
    "Уравнение плоскости, проходящей через точку A($x_A$, $y_A$, $z_A$) перпендикулярно вектору $\\overrightarrow{n}$ = (*a, b, c*), имеет вид *a*$(x-x_A)$ + *b*$(y-y_A)$ + *c*$(z-z_A)$ = 0. Отсюда получаем: $1(x_1-1) + 2(x_2-1) + 4(x_3-1) = 0$; $x_1 - 1 + 2x_2 - 2 + 4x_3 - 4 = 0$; $x_1 + 2x_2 + 4x_3 = 7$. \n",
    "\n",
    "Точки пересечения с осями координат: чтобы найти точку пересечения плоскости $x_1 + 2x_2 + 4x_3 = 7$ с осью $Ox_1$, надо решить систему уравнений: $x_2 = 0$, $x_3 = 0$, $x_1 + 2x_2 + 4x_3 = 7$, получаем $(7, 0, 0)$. Аналогично получаемся пересечение с $Ox_2$: $(0, 7/2, 0)$, с $Ox_3$: $(0, 0, 7/4)$."
   ]
  },
  {
   "cell_type": "markdown",
   "metadata": {},
   "source": [
    "### Задание 11\n",
    "Рассмотрим плоскость в трёхмерном пространстве, проходящую через точки $P=(1, 0, 1)$, $S=(1, 1, 0)$ и $T=(0, 1, 1)$.\n",
    "\n",
    "1. Записать уравнение этой плоскости в параметрическом виде (то есть описать координаты произвольной точки $Q$, зависящей от двух параметров).\n",
    "2. Записать уравнение этой плоскости в виде $A_1 x_1 + A_2 x_2 + A_3 x_3 = D$.\n",
    "3. Найти какой-нибудь вектор, перпендикулярный этой плоскости."
   ]
  },
  {
   "cell_type": "markdown",
   "metadata": {},
   "source": [
    "#### Решение \n",
    "**1)** $P=(1, 0, 1)$, $\\overrightarrow{PS} = (0,1,-1)$, $\\overrightarrow{ST} = (-1, 0, 1)$.\n",
    "\n",
    "\\begin{eqnarray}\n",
    "x & = & x_0 + a_1\\lambda_1 + a_2\\lambda_2   \\\\\n",
    "y & = & y_0 + b_1\\lambda_1 + b_2\\lambda_2 \\\\\n",
    "z & = & z_0 + c_1\\lambda_1 + c_2\\lambda_2 \n",
    "\\end{eqnarray}\n",
    "Имеем\n",
    "\\begin{eqnarray}\n",
    "x_1 & = & 1-\\lambda_2   \\\\\n",
    "x_2 & = & \\lambda_1  \\\\\n",
    "x_3 & = & 1-\\lambda_1 +\\lambda_2 \n",
    "\\end{eqnarray}\n",
    "\n",
    "\n",
    "**2)** Уравнение плоскости, проходящей через три различные точки $M_0(x_0, y_0, z_0), M_1(x_1, y_1, z_1), M_2(x_2, y_2, z_2)$, которые не лежат на одной прямой, можно составить по следующему принципу: определитель матрицы ниже приравнять к 0:\n",
    "\\begin{bmatrix}\n",
    "    x-x_0       & x_1-x_0 & x_2-x_0 \\\\\n",
    "    y-y_0       & y_1-y_0 & y_2-y_0 \\\\\n",
    "    z-z_0       & z_1-z_0 & z_2-z_0 \\\\\n",
    "\\end{bmatrix}\n",
    "\n",
    "Получим\n",
    "\\begin{bmatrix}\n",
    "    x_1-1       & 0 & -1 \\\\\n",
    "    x_2-1       & 1 & 1 \\\\\n",
    "    x_3       & -1 & 0 \\\\\n",
    "\\end{bmatrix}, \n",
    "Вычислим определитель с помощью разложения по первой строке, имеем $(x_1 - 1) - (-x_2+1-x_3) = x_1 + x_2 + x_3 = 2$.\n",
    "\n",
    "**3)** Если плоскость задана общим уравнением $A_1 x_1 + A_2 x_2 + A_3 x_3 = D$, то вектор $\\overrightarrow{n}$ = $(A_1, A_2, A_3)$ является вектором нормали (перпендикулярен) данной плоскости. Отсюда имеем: $\\overrightarrow{n}$ = $(1, 1, 1)$"
   ]
  },
  {
   "cell_type": "markdown",
   "metadata": {},
   "source": [
    "### Задача 12\n",
    "С помощью `numpy` и `matplotlib.pyplot` построить график функции $y = \\sin \\exp x$ на отрезке $[-1,5]$."
   ]
  },
  {
   "cell_type": "code",
   "execution_count": 7,
   "metadata": {
    "collapsed": false
   },
   "outputs": [
    {
     "data": {
      "text/plain": [
       "[<matplotlib.lines.Line2D at 0x10a640090>]"
      ]
     },
     "execution_count": 7,
     "metadata": {},
     "output_type": "execute_result"
    },
    {
     "data": {
      "image/png": "[encoded data removed]",
      "text/plain": [
       "<matplotlib.figure.Figure at 0x10a6400d0>"
      ]
     },
     "metadata": {},
     "output_type": "display_data"
    }
   ],
   "source": [
    "import numpy as np\n",
    "import matplotlib.pyplot as plt\n",
    "\n",
    "x = np.arange(-1, 5, 0.2);\n",
    "y = np.sin(np.exp(x))\n",
    "\n",
    "%matplotlib inline\n",
    "\n",
    "plt.plot(x, y)"
   ]
  },
  {
   "cell_type": "markdown",
   "metadata": {},
   "source": [
    "### Задача 13\n",
    "Напишите каким-нибудь образом функцию, вычисляющую факториал целого числа (например, с помощью цикла или рекурсии). Сравните с помощью `%%timeit` скорость работы вашей функции с `math.factorial` для больших значений аргумента."
   ]
  },
  {
   "cell_type": "code",
   "execution_count": 3,
   "metadata": {
    "collapsed": false
   },
   "outputs": [
    {
     "name": "stdout",
     "output_type": "stream",
     "text": [
      "my func %timeit:\n",
      "120\n",
      "1000000 loops, best of 3: 698 ns per loop\n"
     ]
    }
   ],
   "source": [
    "import numpy as np\n",
    "def funcfactor(n):\n",
    "    fact = 1\n",
    "    for i in range(1, n + 1, 1):\n",
    "        fact *= i \n",
    "    return fact\n",
    "n=5\n",
    "print(\"my func %timeit:\")\n",
    "\n",
    "%timeit funcfactor(n)"
   ]
  },
  {
   "cell_type": "code",
   "execution_count": 32,
   "metadata": {
    "collapsed": false
   },
   "outputs": [
    {
     "name": "stdout",
     "output_type": "stream",
     "text": [
      "math.factorial %timeit:\n",
      "10 loops, best of 3: 41.2 ms per loop\n"
     ]
    }
   ],
   "source": [
    "import math\n",
    "n=10000\n",
    "print(\"math.factorial %timeit:\")\n",
    "%timeit math.factorial(n)"
   ]
  },
  {
   "cell_type": "markdown",
   "metadata": {},
   "source": [
    "n = 100\n",
    "100000 loops, best of 3:\n",
    "my func %timeit: 16.4 µs per loop, \n",
    "math.factorial %timeit: 10.1 µs per loop\n",
    "\n",
    "n=1000\n",
    "1000 loops, best of 3:\n",
    "my func %timeit: 958 µs per loop\n",
    "my func %timeit: 589 µs per loop\n",
    "\n",
    "n = 10000\n",
    "10 loops, best of 3:\n",
    "my func %timeit: 62.8 ms per loop\n",
    "my func %timeit: 41.2 ms per loop"
   ]
  },
  {
   "cell_type": "code",
   "execution_count": null,
   "metadata": {
    "collapsed": true
   },
   "outputs": [],
   "source": []
  }
 ],
 "metadata": {
  "anaconda-cloud": {},
  "kernelspec": {
   "display_name": "Python [Root]",
   "language": "python",
   "name": "Python [Root]"
  },
  "language_info": {
   "codemirror_mode": {
    "name": "ipython",
    "version": 2
   },
   "file_extension": ".py",
   "mimetype": "text/x-python",
   "name": "python",
   "nbconvert_exporter": "python",
   "pygments_lexer": "ipython2",
   "version": "2.7.12"
  },
  "toc": {
   "toc_cell": false,
   "toc_number_sections": false,
   "toc_section_display": "none",
   "toc_threshold": 6,
   "toc_window_display": false
  }
 },
 "nbformat": 4,
 "nbformat_minor": 0
}
