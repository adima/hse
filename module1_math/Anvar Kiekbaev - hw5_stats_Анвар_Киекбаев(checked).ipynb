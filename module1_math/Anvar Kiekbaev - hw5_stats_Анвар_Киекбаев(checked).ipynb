{
 "cells": [
  {
   "cell_type": "markdown",
   "metadata": {},
   "source": [
    "# Математика для машинного обучения\n",
    "## Домашнее задание №5\n",
    "\n",
    "_Автор задания: Илья Щуров_\n",
    "\n",
    "Подготовлено для программы «[Практический анализ данных и машинное обучение](https://cs.hse.ru/dpo/bigml)» (ФКН НИУ ВШЭ)."
   ]
  },
  {
   "cell_type": "markdown",
   "metadata": {},
   "source": [
    "Задание выполнил(а): *Киекбаев Анвар Эхиярович*"
   ]
  },
  {
   "cell_type": "markdown",
   "metadata": {},
   "source": [
    "## Статистика"
   ]
  },
  {
   "cell_type": "markdown",
   "metadata": {},
   "source": [
    "### Описательные статистики"
   ]
  },
  {
   "cell_type": "markdown",
   "metadata": {},
   "source": [
    "Для выборки $x_1, x_2, \\ldots, x_n$ определены следующие величины (они часто называются *описательными статистиками*):\n",
    "\n",
    "1. Выборочное среднее: $$\\bar x = \\frac{x_1 + x_2 + \\ldots + x_n}{n}.$$\n",
    "2. Выборочная дисперсия: $$\\sigma^2 = \\frac{(x_1-\\bar x)^2 + (x_2 - \\bar x)^2 + \\ldots + (x_n - \\bar x)^2}{n}.$$\n",
    "3. Исправленная выборочная дисперсия: $$\\sigma_+^2 = \\frac{(x_1-\\bar x)^2 + (x_2 - \\bar x)^2 + \\ldots + (x_n - \\bar x)^2}{n - 1}.$$\n",
    "4. Выборочное стандартное отклонение: квадратный корень из выборочной дисперсии (обозначается $\\sigma$ или $SD$).\n",
    "5. Исправленное выборочное стандартное отклонение: квадратный корень из исправленной выборочной дисперсии (обозначается $\\sigma_+$ или $SD_+$ или ещё как-нибудь).\n",
    "6. [Медиана](https://ru.wikipedia.org/wiki/%D0%9C%D0%B5%D0%B4%D0%B8%D0%B0%D0%BD%D0%B0_(%D1%81%D1%82%D0%B0%D1%82%D0%B8%D1%81%D1%82%D0%B8%D0%BA%D0%B0)."
   ]
  },
  {
   "cell_type": "code",
   "execution_count": 2,
   "metadata": {
    "collapsed": true
   },
   "outputs": [],
   "source": [
    "from scipy import stats\n",
    "from matplotlib import pyplot as plt\n",
    "from matplotlib import cm"
   ]
  },
  {
   "cell_type": "markdown",
   "metadata": {},
   "source": [
    "### Задача 1\n",
    "Для выборки $\\{1, 10, 2, 15, 100\\}$ найти все характеристики, перечисленные выше.\n",
    "\n",
    "Подсказка: можно использовать функции `np.mean`, `np.var`, `np.std`, `np.median`. Для вычисления исправленной выборочной дисперсии и исправленного выборочного стандартного отклонения необходимо соответствующим функциям передать параметр `ddof=1`."
   ]
  },
  {
   "cell_type": "code",
   "execution_count": 4,
   "metadata": {
    "collapsed": false
   },
   "outputs": [
    {
     "name": "stdout",
     "output_type": "stream",
     "text": [
      "\n",
      "Выборочное среднее: 25.6\n",
      "Выборочная дисперсия: 1410.64\n",
      "Исправленная выборочная дисперсия: 1763.3000000000002\n",
      "Выборочное стандартное отклонение: 37.55848772248425\n",
      "Исправленное выборочное стандартное отклонение: 41.99166583978302\n",
      "Медиана: 10.0\n",
      "\n"
     ]
    }
   ],
   "source": [
    "import numpy as np\n",
    "\n",
    "population = [1,10,2,15,100]\n",
    "\n",
    "mean = np.mean(population)\n",
    "var = np.var(population)\n",
    "var_crctd = np.var(population, ddof=1)\n",
    "std = np.std(population)\n",
    "std_crctd = np.std(population, ddof=1)\n",
    "median = np.median(population)\n",
    "\n",
    "print('''\n",
    "Выборочное среднее: {}\n",
    "Выборочная дисперсия: {}\n",
    "Исправленная выборочная дисперсия: {}\n",
    "Выборочное стандартное отклонение: {}\n",
    "Исправленное выборочное стандартное отклонение: {}\n",
    "Медиана: {}\n",
    "'''.format(mean, var, var_crctd, std, std_crctd, median))"
   ]
  },
  {
   "cell_type": "markdown",
   "metadata": {},
   "source": [
    "### Квартет Энскомба\n",
    "Загрузим набор данных, который называется «квартетом Энскомба». (Нам потребуется использовать пакет `pandas`.)"
   ]
  },
  {
   "cell_type": "code",
   "execution_count": 5,
   "metadata": {
    "collapsed": false
   },
   "outputs": [
    {
     "data": {
      "text/html": [
       "<div>\n",
       "<table border=\"1\" class=\"dataframe\">\n",
       "  <thead>\n",
       "    <tr style=\"text-align: right;\">\n",
       "      <th></th>\n",
       "      <th>x1</th>\n",
       "      <th>x2</th>\n",
       "      <th>x3</th>\n",
       "      <th>x4</th>\n",
       "      <th>y1</th>\n",
       "      <th>y2</th>\n",
       "      <th>y3</th>\n",
       "      <th>y4</th>\n",
       "    </tr>\n",
       "  </thead>\n",
       "  <tbody>\n",
       "    <tr>\n",
       "      <th>1</th>\n",
       "      <td>10</td>\n",
       "      <td>10</td>\n",
       "      <td>10</td>\n",
       "      <td>8</td>\n",
       "      <td>8.04</td>\n",
       "      <td>9.14</td>\n",
       "      <td>7.46</td>\n",
       "      <td>6.58</td>\n",
       "    </tr>\n",
       "    <tr>\n",
       "      <th>2</th>\n",
       "      <td>8</td>\n",
       "      <td>8</td>\n",
       "      <td>8</td>\n",
       "      <td>8</td>\n",
       "      <td>6.95</td>\n",
       "      <td>8.14</td>\n",
       "      <td>6.77</td>\n",
       "      <td>5.76</td>\n",
       "    </tr>\n",
       "    <tr>\n",
       "      <th>3</th>\n",
       "      <td>13</td>\n",
       "      <td>13</td>\n",
       "      <td>13</td>\n",
       "      <td>8</td>\n",
       "      <td>7.58</td>\n",
       "      <td>8.74</td>\n",
       "      <td>12.74</td>\n",
       "      <td>7.71</td>\n",
       "    </tr>\n",
       "    <tr>\n",
       "      <th>4</th>\n",
       "      <td>9</td>\n",
       "      <td>9</td>\n",
       "      <td>9</td>\n",
       "      <td>8</td>\n",
       "      <td>8.81</td>\n",
       "      <td>8.77</td>\n",
       "      <td>7.11</td>\n",
       "      <td>8.84</td>\n",
       "    </tr>\n",
       "    <tr>\n",
       "      <th>5</th>\n",
       "      <td>11</td>\n",
       "      <td>11</td>\n",
       "      <td>11</td>\n",
       "      <td>8</td>\n",
       "      <td>8.33</td>\n",
       "      <td>9.26</td>\n",
       "      <td>7.81</td>\n",
       "      <td>8.47</td>\n",
       "    </tr>\n",
       "    <tr>\n",
       "      <th>6</th>\n",
       "      <td>14</td>\n",
       "      <td>14</td>\n",
       "      <td>14</td>\n",
       "      <td>8</td>\n",
       "      <td>9.96</td>\n",
       "      <td>8.10</td>\n",
       "      <td>8.84</td>\n",
       "      <td>7.04</td>\n",
       "    </tr>\n",
       "    <tr>\n",
       "      <th>7</th>\n",
       "      <td>6</td>\n",
       "      <td>6</td>\n",
       "      <td>6</td>\n",
       "      <td>8</td>\n",
       "      <td>7.24</td>\n",
       "      <td>6.13</td>\n",
       "      <td>6.08</td>\n",
       "      <td>5.25</td>\n",
       "    </tr>\n",
       "    <tr>\n",
       "      <th>8</th>\n",
       "      <td>4</td>\n",
       "      <td>4</td>\n",
       "      <td>4</td>\n",
       "      <td>19</td>\n",
       "      <td>4.26</td>\n",
       "      <td>3.10</td>\n",
       "      <td>5.39</td>\n",
       "      <td>12.50</td>\n",
       "    </tr>\n",
       "    <tr>\n",
       "      <th>9</th>\n",
       "      <td>12</td>\n",
       "      <td>12</td>\n",
       "      <td>12</td>\n",
       "      <td>8</td>\n",
       "      <td>10.84</td>\n",
       "      <td>9.13</td>\n",
       "      <td>8.15</td>\n",
       "      <td>5.56</td>\n",
       "    </tr>\n",
       "    <tr>\n",
       "      <th>10</th>\n",
       "      <td>7</td>\n",
       "      <td>7</td>\n",
       "      <td>7</td>\n",
       "      <td>8</td>\n",
       "      <td>4.82</td>\n",
       "      <td>7.26</td>\n",
       "      <td>6.42</td>\n",
       "      <td>7.91</td>\n",
       "    </tr>\n",
       "    <tr>\n",
       "      <th>11</th>\n",
       "      <td>5</td>\n",
       "      <td>5</td>\n",
       "      <td>5</td>\n",
       "      <td>8</td>\n",
       "      <td>5.68</td>\n",
       "      <td>4.74</td>\n",
       "      <td>5.73</td>\n",
       "      <td>6.89</td>\n",
       "    </tr>\n",
       "  </tbody>\n",
       "</table>\n",
       "</div>"
      ],
      "text/plain": [
       "    x1  x2  x3  x4     y1    y2     y3     y4\n",
       "1   10  10  10   8   8.04  9.14   7.46   6.58\n",
       "2    8   8   8   8   6.95  8.14   6.77   5.76\n",
       "3   13  13  13   8   7.58  8.74  12.74   7.71\n",
       "4    9   9   9   8   8.81  8.77   7.11   8.84\n",
       "5   11  11  11   8   8.33  9.26   7.81   8.47\n",
       "6   14  14  14   8   9.96  8.10   8.84   7.04\n",
       "7    6   6   6   8   7.24  6.13   6.08   5.25\n",
       "8    4   4   4  19   4.26  3.10   5.39  12.50\n",
       "9   12  12  12   8  10.84  9.13   8.15   5.56\n",
       "10   7   7   7   8   4.82  7.26   6.42   7.91\n",
       "11   5   5   5   8   5.68  4.74   5.73   6.89"
      ]
     },
     "execution_count": 5,
     "metadata": {},
     "output_type": "execute_result"
    }
   ],
   "source": [
    "import pandas as pd\n",
    "url = \"https://vincentarelbundock.github.io/Rdatasets/csv/datasets/anscombe.csv\"\n",
    "data = pd.read_csv(url, index_col=0)\n",
    "data"
   ]
  },
  {
   "cell_type": "markdown",
   "metadata": {},
   "source": [
    "Для обращения к отдельным переменным (стобцам таблицы) нужно использовать такой синтаксис:"
   ]
  },
  {
   "cell_type": "markdown",
   "metadata": {},
   "source": [
    "(Первая колонка — номер наблюдения; на неё сейчас можно не обращать внимания.)\n",
    "\n",
    "### Задача 2\n",
    "1. Для каждой из переменных, входящих в «квартет Энскомба», найти среднее и выборочную дисперсию.\n",
    "2. Для каждой из четырёх пар соответствующих переменных (`x1` и `y1`, `x2` и `y2` и т.д.) найти корреляцию Пирсона. (Подсказка: можно использовать функцию `pearsonr` из `scipy.stats`: она возвращает пару, первый элемент которой — коэффициент корреляции, а второй — *p-value* для проверки нулевой гипотезы об отсутствии зависимости между величинами.)\n",
    "3. Для каждой из указанных пар переменных построить scatter plot. (Подсказка: можно использовать `plt.plot` или `plt.scatter`.)\n",
    "\n",
    "*Квартет Энскомба демонстрирует, что даже если числовые характеристики выборок совпадают, их реальное распределение и характер связей между переменными могут существенно различаться. Поэтому визуализация — важный элемент анализа данных.*"
   ]
  },
  {
   "cell_type": "code",
   "execution_count": 6,
   "metadata": {
    "collapsed": false
   },
   "outputs": [
    {
     "name": "stdout",
     "output_type": "stream",
     "text": [
      "1:\n",
      "   Выборочное среднее для x1:   9.0\n",
      "   Выборочная дисперсия для x1: 10.0\n",
      "   Выборочное среднее для x2:   9.0\n",
      "   Выборочная дисперсия для x2: 10.0\n",
      "   Выборочное среднее для x3:   9.0\n",
      "   Выборочная дисперсия для x3: 10.0\n",
      "   Выборочное среднее для x4:   9.0\n",
      "   Выборочная дисперсия для x4: 10.0\n",
      "   Выборочное среднее для y1:   7.500909090909093\n",
      "   Выборочная дисперсия для y1: 3.7520628099173554\n",
      "   Выборочное среднее для y2:   7.50090909090909\n",
      "   Выборочная дисперсия для y2: 3.752390082644628\n",
      "   Выборочное среднее для y3:   7.5\n",
      "   Выборочная дисперсия для y3: 3.747836363636364\n",
      "   Выборочное среднее для y4:   7.500909090909091\n",
      "   Выборочная дисперсия для y4: 3.7484082644628103\n",
      "2:\n",
      "   Корреляция Пирсона для (x1, y1): 0.81642051634484\n",
      "   Корреляция Пирсона для (x2, y2): 0.8162365060002427\n",
      "   Корреляция Пирсона для (x3, y3): 0.8162867394895981\n",
      "   Корреляция Пирсона для (x4, y4): 0.816521436888503\n",
      "3:\n"
     ]
    },
    {
     "data": {
      "text/plain": [
       "<matplotlib.legend.Legend at 0x7f7ebee617f0>"
      ]
     },
     "execution_count": 6,
     "metadata": {},
     "output_type": "execute_result"
    },
    {
     "data": {
      "image/png": "[encoded data removed]",
      "text/plain": [
       "<matplotlib.figure.Figure at 0x7f7ec4a9b1d0>"
      ]
     },
     "metadata": {},
     "output_type": "display_data"
    }
   ],
   "source": [
    "%matplotlib inline\n",
    "\n",
    "print('1:')\n",
    "for column in data:\n",
    "    print('   Выборочное среднее для {}:   {}'.format(column, np.mean(data[column])))\n",
    "    print('   Выборочная дисперсия для {}: {}'.format(column, np.var(data[column])))\n",
    "\n",
    "print('2:')\n",
    "for index in range(1, 5):\n",
    "    print(\n",
    "        '   Корреляция Пирсона для (x{}, y{}): {}'\\\n",
    "        .format(index, index, stats.pearsonr(data['x' + str(index)], data['y' + str(index)])[0]))\n",
    "\n",
    "print('3:')\n",
    "plt.xlim(0, 30)\n",
    "plt.xlabel('x')\n",
    "plt.ylabel('y')\n",
    "colors = cm.rainbow(np.linspace(0, 1, 4))\n",
    "for clr, i in zip(colors, range(1, 5)):\n",
    "    plt.scatter(data['x' + str(i)], data['y' + str(i)], label='(x' + str(i) +', y' + str(i) + ')', color=clr)\n",
    "plt.legend()"
   ]
  },
  {
   "cell_type": "markdown",
   "metadata": {},
   "source": [
    "### Задача 3\n",
    "Будем проводить следующий эксперимент: сгенерируем две различные независимые выборки размером `n = 5` из равномерного распределения на отрезке $[0, 1]$. С помощью теста Стьюдента проверим гипотезу о том, что эти две выборки были получены из распределений с различными средними ($H_0\\colon m_1 = m_2$, $H_1\\colon m_1 ≠ m_2$) на уровне значимости 5%.\n",
    "\n",
    "Повторим этот эксперимент 10000 раз. Сколько раз мы будем совершать ошибку первого рода, то есть ошибочно отвергать нулевую гипотезу? Что будет, если изменить уровень значимости (например, использовать уровень значимости 1%)? Что будет, если увеличить размер выборки до `n = 20`?\n",
    "\n",
    "Для генерирования выборок можно использовать `uniform.rvs`, для теста Стьюдента — `ttest_ind` (обе функции из пакета `scipy.stats`). Последняя функция возвращает пару, состоящую из значения t-статистики и p-value."
   ]
  },
  {
   "cell_type": "code",
   "execution_count": 7,
   "metadata": {
    "collapsed": false
   },
   "outputs": [
    {
     "name": "stdout",
     "output_type": "stream",
     "text": [
      "Выборка: 5, уровень значимости 5%: 556\n",
      "Выборка: 5, уровень значимости 1%: 125\n",
      "Выборка: 20, уровень значимости 5%: 512\n",
      "Выборка: 20, уровень значимости 1%: 96\n"
     ]
    }
   ],
   "source": [
    "def count_error(pop_size, err_lvl):\n",
    "    err_cnt = 0\n",
    "    for i in range(10000):\n",
    "        p1 = stats.uniform.rvs(size=pop_size)\n",
    "        p2 = stats.uniform.rvs(size=pop_size)\n",
    "        if abs(stats.ttest_ind(p1, p2)[1]) < err_lvl:\n",
    "            err_cnt += 1\n",
    "    return err_cnt\n",
    "        \n",
    "print('Выборка: 5, уровень значимости 5%: {}'.format(count_error(5, 0.05)))\n",
    "print('Выборка: 5, уровень значимости 1%: {}'.format(count_error(5, 0.01)))\n",
    "print('Выборка: 20, уровень значимости 5%: {}'.format(count_error(20, 0.05)))\n",
    "print('Выборка: 20, уровень значимости 1%: {}'.format(count_error(20, 0.01)))"
   ]
  },
  {
   "cell_type": "markdown",
   "metadata": {},
   "source": [
    "---\n",
    "\n",
    "# Review\n",
    "\n",
    "Немного не хватает вашего заключения на тему, что же изменится с изменением параметров эксперимента. Поскольку вы имеете дело со случайными величинами, просто один раз поставить эксперимент и привести его результаты в качестве ответа, увы, недостаточно.\n",
    "\n",
    "По крайней мере, ожидалось, что вы заметите, что доля ошибок довольно близка к выбранному уровню значимости. Это особенно заметно при повторении эксперимента.\n",
    "\n",
    "---"
   ]
  },
  {
   "cell_type": "markdown",
   "metadata": {},
   "source": [
    "### Задача 4\n",
    "Будем проводить следующий численный эксперимент. Сгенерируем две независимые выборки из стандартного нормального распределения одинаковой длины `n = 10`. Посчитаем коэффициент корреляции Пирсона между ними. Повторим процедуру 1000 раз. Выберем пару выборок с наибольшим по модулю коэффициентом корреляции.\n",
    "\n",
    "Указать, какой коэффициент корреляции получится. Нарисовать scatter plot для этой пары выборок.\n",
    "\n",
    "*Эта задача показывает, что если долго искать, то можно найти хорошо коррелирующие переменные, даже если они заведомо были порождены независимыми случайными величинами.*"
   ]
  },
  {
   "cell_type": "code",
   "execution_count": 10,
   "metadata": {
    "collapsed": false
   },
   "outputs": [
    {
     "name": "stdout",
     "output_type": "stream",
     "text": [
      "Наибольший по модулю коэффициент корреляции: 0.5505357772931855\n"
     ]
    },
    {
     "data": {
      "text/plain": [
       "<matplotlib.collections.PathCollection at 0x7f7ebecacb70>"
      ]
     },
     "execution_count": 10,
     "metadata": {},
     "output_type": "execute_result"
    },
    {
     "data": {
      "image/png": "[encoded data removed]",
      "text/plain": [
       "<matplotlib.figure.Figure at 0x7f7ec170c3c8>"
      ]
     },
     "metadata": {},
     "output_type": "display_data"
    }
   ],
   "source": [
    "mx = 0\n",
    "max_populations = []\n",
    "for i in range(1000):\n",
    "    p1 = np.random.normal(size=10)\n",
    "    p2 = np.random.normal(size=10)\n",
    "    corr = stats.pearsonr(p1, p2)[0]\n",
    "    if mx < abs(corr):\n",
    "        mx = corr\n",
    "        max_populations = [p1, p2]\n",
    "print('Наибольший по модулю коэффициент корреляции: {}'.format(mx))\n",
    "plt.scatter(max_populations[0], max_populations[1])"
   ]
  },
  {
   "cell_type": "markdown",
   "metadata": {},
   "source": [
    "---\n",
    "\n",
    "# Review\n",
    "\n",
    "corr = stats.pearsonr(p1, p2)[1]\n",
    "\n",
    "Надо было брать по индексу 0, да и что-то из картинки совсем не похоже, что величины коррелируют, скорее строго наоборот.\n",
    "\n",
    "---\n",
    "\n"
   ]
  },
  {
   "cell_type": "markdown",
   "metadata": {},
   "source": [
    "### Задача 5\n",
    "Рассмотрим две выборки: $x = \\{1, 3, 1, 5, 2, 6\\}$ и $y = \\{5, 9, 10, 4, 12\\}$. Пусть мы проверяем гипотезу о том, что они были получены из распределений с различными средними ($H_0: m_1 = m_2$, $H_1: m_1 \\ne m_2$). Будем действовать двумя методами:\n",
    "\n",
    "1. Используя тест Стьюдента: найти p-value и сделать вывод о наличии статистически значимой разницы средних. (При использовании функции `ttest_ind` укажите параметр `equal_var=False`, поскольку дисперсии выборок существенно различаются.)\n",
    "2. Используя компьютерную симуляцию (permutation test).\n",
    "\n",
    "Компьютерная симуляция будет устроена следующим образом:\n",
    "\n",
    "1. Запомнить разность средних двух исходных выборок: $\\bar x - \\bar y$.\n",
    "2. 10000 раз повторить следущие действия:\n",
    "    1. Перемешать выборки: взять случайный элемент первой выборки, случайный элемент второй выборки и поменять их местами. И так 100 раз.\n",
    "    2. Посчитать разность средних получившихся выборок.\n",
    "\n",
    "Вычислить, с какой частотой модуль разности перемешанных выборок будет оказываться больше или равным модулю разности исходных выборок. Сравнить в p-value, полученным с помощью применения t-теста."
   ]
  },
  {
   "cell_type": "code",
   "execution_count": 9,
   "metadata": {
    "collapsed": false
   },
   "outputs": [
    {
     "name": "stdout",
     "output_type": "stream",
     "text": [
      "P-value теста Стьюдента: 0.02627307481327519\n",
      "Частота компьютерной симуляции: 0.0227\n",
      "P-value теста Стьюдента больше чем частота компьютерной симуляции\n"
     ]
    }
   ],
   "source": [
    "x = [1,3,1,5,2,6]\n",
    "y = [5,9,10,4,12]\n",
    "\n",
    "p_val_st = stats.ttest_ind(x, y, equal_var=False)[1]\n",
    "diff_st = abs(np.mean(x) - np.mean(y))\n",
    "\n",
    "diff_cnt = 0\n",
    "for _ in range(10000):\n",
    "    for _ in range(100):\n",
    "        a = np.random.randint(0, len(x))\n",
    "        b = np.random.randint(0, len(y))\n",
    "        t = x[a]\n",
    "        x[a] = y[b]\n",
    "        y[b] = t\n",
    "    if abs(np.mean(x) - np.mean(y)) >= diff_st:\n",
    "        diff_cnt += 1\n",
    "        \n",
    "p_val_pt = diff_cnt / 10000\n",
    "\n",
    "print('P-value теста Стьюдента: {}'.format(p_val_st))\n",
    "print('Частота компьютерной симуляции: {}'.format(p_val_pt))\n",
    "if p_val_st > p_val_pt:\n",
    "    print('P-value теста Стьюдента больше чем частота компьютерной симуляции')\n",
    "elif (p_val_st < p_val_pt):\n",
    "    print('P-value теста Стьюдента меньше чем частота компьютерной симуляции')\n",
    "else:\n",
    "    print('Значения равны')"
   ]
  },
  {
   "cell_type": "markdown",
   "metadata": {
    "collapsed": true
   },
   "source": [
    "---\n",
    "\n",
    "# Review\n",
    "\n",
    "В целом все хорошо, оценка 8/10\n",
    "\n",
    "---"
   ]
  }
 ],
 "metadata": {
  "kernelspec": {
   "display_name": "Python 3",
   "language": "python",
   "name": "python3"
  },
  "language_info": {
   "codemirror_mode": {
    "name": "ipython",
    "version": 3.0
   },
   "file_extension": ".py",
   "mimetype": "text/x-python",
   "name": "python",
   "nbconvert_exporter": "python",
   "pygments_lexer": "ipython3",
   "version": "3.5.2"
  },
  "toc": {
   "toc_cell": false,
   "toc_number_sections": false,
   "toc_section_display": "none",
   "toc_threshold": 6.0,
   "toc_window_display": false
  }
 },
 "nbformat": 4,
 "nbformat_minor": 0
}