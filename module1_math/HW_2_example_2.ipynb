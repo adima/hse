{
 "cells": [
  {
   "cell_type": "markdown",
   "metadata": {},
   "source": [
    "# Математика для машинного обучения\n",
    "## Домашнее задание №2\n",
    "\n",
    "_Автор задания: Илья Щуров_\n",
    "\n",
    "Подготовлено для программы «[Практический анализ данных и машинное обучение](https://cs.hse.ru/dpo/bigml)» (ФКН НИУ ВШЭ)."
   ]
  },
  {
   "cell_type": "markdown",
   "metadata": {},
   "source": [
    "Задание выполнила:**"
   ]
  },
  {
   "cell_type": "markdown",
   "metadata": {},
   "source": [
    "### Задача 1\n",
    "Рассмотрим уравнение\n",
    "$$2x_1 + 3x_2 - 5x_3 = 0.$$\n",
    "\n",
    "Оно задаёт некоторую плоскость. Найти координаты двух линейно независимых векторов, лежащих в этой плоскости.\n",
    "\n",
    "**Подсказка.** Искомые векторы можно найти в виде $(x_1^1, 1, 0)$ и $(x_1^2, 0, 1)$ (верхний индекс — это номер вектора, а не степень). Докажите, что любые такие векторы линейно независимы (какими бы ни были $x_1^1$ и $x_1^2$). Найдите $x_1^1$ и $x_1^2$ из уравнения."
   ]
  },
  {
   "cell_type": "markdown",
   "metadata": {},
   "source": [
    "**Решение задачи 1**\n",
    "\n",
    "Искомые векторы можно найти в виде $(x_1^1, 1, 0)$ и $(x_1^2, 0, 1)$: поставим первый: $2x_1^1 = -3$, $x_1^1 = -3/2$; подставим второй:  $2x_1^2 = 5$, $x_1^2 = 5/2$.\n",
    "\n",
    "Получили $(-3/2, 1, 0)$ и $(5/2, 0, 1)$.\n",
    "\n",
    "Докажем, что любых таких вектора вида $(x_1^1, 1, 0)$ и $(x_1^2, 0, 1)$ линейно независимы.\n",
    "От противного: пусть они линейно зависимы. Тогда один можно выразить через другой с неким ненулевым (т.к. в линейной комбинации должен быть хотя бы один ненулевой коэффициент) коэффициентом, то есть $x^1$ = a$x^2$, то есть $(x_1^1, 1, 0)$ = a$(x_1^2, 0, 1)$, $(x_1^1, 1, 0)$ = $(a x_1^2, 0, a)$, то есть получаем несовместную систему:\n",
    "\n",
    "$$\\begin{cases}\n",
    "x_1^1 = a x_1^2 \\\\\n",
    "1 = 0 \\\\\n",
    "0 = a\n",
    "\\end{cases}$$\n"
   ]
  },
  {
   "cell_type": "markdown",
   "metadata": {},
   "source": [
    "### Задача 2\n",
    "\n",
    "Рассмотрим систему уравнений\n",
    "\n",
    "$$\\begin{cases}\n",
    "x_1 - 2x_2 + x_3 = 0 \\\\\n",
    "2x_1 + 3x_2 - 5x_3 = 0\n",
    "\\end{cases}$$\n",
    "\n",
    "Показать, что система задаёт некоторую прямую и задать её в параметрическом виде.\n",
    "\n",
    "**Подсказка.** Выразить $x_1$ и $x_2$ через $x_3$, затем найти вектор вида $(x_1, x_2, 1)$, лежащий на этой прямой."
   ]
  },
  {
   "cell_type": "markdown",
   "metadata": {},
   "source": [
    "**Решение задачи 2**\n",
    "\n",
    "Если плоскости $a^1: A_1x +B_1y + C_1z + D_1 = 0$, $a^2: A_2x +B_2y + C_2z + D_2 = 0$ пересекаются, то система линейных уравнений  $$\\begin{cases}\n",
    "A_1x +B_1y + C_1z + D_1 = 0 \\\\\n",
    " A_2x +B_2y + C_2z + D_2 = 0\n",
    "\\end{cases}$$ задаёт прямую в пространстве.\n",
    "\n",
    "Чтобы составить канонические уравнения прямой, необходимо знать точку прямой и направляющий вектор. \n",
    "\n",
    "Сначала найдём какую-либо точку, принадлежащую данной прямой. В системе уравнений обнулим какую-нибудь координату: пусть $x_2$ = 0, тогда получаем систему двух линейных уравнений с двумя неизвестными: \n",
    "$$\\begin{cases}\n",
    "x_1  + x_3 = 0 \\\\\n",
    "2x_1 - 5x_3 = 0\n",
    "\\end{cases}$$ Находим решение системы: $M(0, 0, 0)$ (можно проверить, подставив в исходную систему).\n",
    "\n",
    "Теперь необходимо найти направляющий вектор прямой. Направляющий вектор нашей прямой ортогонален нормальным векторам плоскостей - найдём этот вектор как векторное произведение нормальных векторов плоскостей. $\\overrightarrow{n_1} = (1, -2, 1)$, $\\overrightarrow{n_2} = (2, 3, -5)$. Находим направляющий вектор прямой:\n",
    "\n",
    "$\\overrightarrow{p}$ = [$\\overrightarrow{n_2}$ x $\\overrightarrow{n_2}$] = \n",
    "$$\\begin{vmatrix}\n",
    "  i& j& k\\\\\n",
    "  1& -2& 1\\\\\n",
    "  2& 3& -5\n",
    "\\end{vmatrix} = 7i + 7j + 7k.$$ \n",
    "\n",
    "Составим каноническое уравнение прямой по точке $M(0, 0, 0)$ и направляющему вектору $\\overrightarrow{p}$ = $7i + 7j + 7k$:\n",
    "$\\frac{x_1}{7}$ = $\\frac{x_2}{7}$ = $\\frac{x_3}{7}$.\n",
    "\n",
    "Перейдем к заданию параметрическому уравнению полученной прямой: приравниваем обе части заданного уравнения прямой к параметру $\\lambda$: $\\frac{x_1}{7}$ = $\\frac{x_2}{7}$ = $\\frac{x_3}{7}$ = $\\lambda$. Отсюда получаем параметрические уравнения прямой: \n",
    "$$\\begin{cases}\n",
    "\\lambda = \\frac{x_1}{7} \\\\\n",
    "\\lambda = \\frac{x_2}{7} \\\\\n",
    "\\lambda = \\frac{x_3}{7}\n",
    "\\end{cases}\n",
    "=\n",
    "\\begin{cases}\n",
    "x_1 = 7\\lambda \\\\\n",
    "x_2 = 7\\lambda\\\\\n",
    "x_3 = 7\\lambda\n",
    "\\end{cases}$$"
   ]
  },
  {
   "cell_type": "markdown",
   "metadata": {},
   "source": [
    "### Задача 3\n",
    "Рассмотрим систему уравнений\n",
    "\n",
    "$$\\begin{cases}\n",
    "x_1 + 2x_2 + x_3 + x_4 = 0 \\\\\n",
    "2x_1 + 3x_2 - 5x_3 - x_4 = 0\n",
    "\\end{cases}$$\n",
    "\n",
    "Показать, что система задёт некоторую двумерную плоскость и найти координаты двух линейно незвисимых векторов, лежащих в этой плоскости.\n",
    "\n",
    "**Подсказка.** Искомые векторы можно найти в виде $(x_1^1, x_2^1, 1, 0)$ и $(x_1^2, x_2^2, 0, 1)$."
   ]
  },
  {
   "cell_type": "markdown",
   "metadata": {},
   "source": [
    "**Решение задачи 3**\n",
    "\n",
    "Искомые векторы можно найти в виде $(x_1^1, x_2^1, 1, 0)$ и $(x_1^2, x_2^2, 0, 1)$.\n",
    "\n",
    "$(x_1^1, x_2^1, 1, 0)$: подставив в систему, найдем $x_1^1$, $x_2^1$:\n",
    "\n",
    "$$\\begin{cases}\n",
    "x_1^1 + 2x_2^1  = -1 \\\\\n",
    "2x_1^1 + 3x_2^1  = 5\n",
    "\\end{cases}; \n",
    "\\begin{cases}\n",
    "2x_1^1 + 4x_2^1  = -2 \\\\\n",
    "2x_1^1 + 3x_2^1  = 5\n",
    "\\end{cases}; \n",
    "x_2^1 = -7; x_1^1 = 13$$.\n",
    "Получили $(13, -7, 1, 0)$.\n",
    "\n",
    "$(x_1^2, x_2^2, 0, 1)$: подставив в систему, найдем $x_1^2$, $x_2^2$:\n",
    "\n",
    "$$\\begin{cases}\n",
    "x_1^2 + 2x_2^2  = -1 \\\\\n",
    "2x_1^2 + 3x_2^2  = 1\n",
    "\\end{cases}; \n",
    "\\begin{cases}\n",
    "2x_1^2 + 4x_2^2  = -2 \\\\\n",
    "2x_1^2 + 3x_2^2  = 1\n",
    "\\end{cases}; \n",
    "x_2^2 = -3; x_1^2 = 5$$.\n",
    "Получили $(5, -3, 1, 0)$."
   ]
  },
  {
   "cell_type": "code",
   "execution_count": null,
   "metadata": {},
   "outputs": [],
   "source": [
    "#### Комментарии к заданию\n",
    "До"
   ]
  },
  {
   "cell_type": "markdown",
   "metadata": {},
   "source": [
    "### Задача 4\n",
    "Найти длину ортогональной проекции вектора $u=(2, 3, 4, 2, 2)$ на вектор $v = (1, 2, 3, 1, 1)$."
   ]
  },
  {
   "cell_type": "markdown",
   "metadata": {},
   "source": [
    "**Решение задачи 4**\n",
    "\n",
    "Найдем скалярное произведение этих векторов ($\\overrightarrow u$, $\\overrightarrow v$) = $2 * 1 + 3 * 2 + 4 * 3 + 2 * 1 + 2 * 1$ = $2 + 6 + 12 + 2 + 2 = 24$.\n",
    "\n",
    "Найдем модуль вектора $\\overrightarrow v$: |$\\overrightarrow v$| = $\\sqrt{1^2+2^2 + 3^2 + 1^2 + 1^2} = 4$.\n",
    "\n",
    "Найдем проекцию вектора $\\overrightarrow u$ на вектор $\\overrightarrow v$: Пр${_\\overrightarrow v}\\overrightarrow u$ = $\\frac{(\\overrightarrow u, \\overrightarrow v)}{|\\overrightarrow v|} = \\frac{24}{4} = 6$."
   ]
  },
  {
   "cell_type": "markdown",
   "metadata": {},
   "source": [
    "### Расстояние от точки до гиперплоскости\n",
    "Расстояние от точки $P=(p_1, p_2, \\ldots, p_n)\\in \\mathbb R^n$ до гиперплоскости $H$, заданной уравнением $a_1 x_1 + a_2 x_2 + \\ldots + a_n x_n + b = 0$, можно вычислить по формуле:\n",
    "\n",
    "$$d(P, H) = \\frac{|a_1 p_1 + a_2 p_2 + \\ldots + a_n p_n + b|}{\\sqrt{a_1^2+a_2^2 + \\ldots + a_n^2}}$$"
   ]
  },
  {
   "cell_type": "markdown",
   "metadata": {},
   "source": [
    "### Задача 5\n",
    "Рассмотрим $n$-мерное пространство. Найти расстояние от начала координат до гиперплоскости, проходящей через точки $(1, 0, \\ldots, 0, 0)$, $(0, 1, \\ldots, 0, 0)$,..., $(0, 0, \\ldots, 1, 0)$, $(0, 0, \\ldots, 0, 1)$ (единица на одном месте, остальные компоненты нулевые).\n",
    "\n",
    "**Подсказка.** Сначала нужно найти уравнение гиперплоскости. Пусть искомое уравнение имеет вид $a_1 x_1 + a_2 x_2 + \\ldots a_n x_n + b = 0$. Подставляя каждую из точек, получим систему уравнений на $a_1,a_2,\\ldots, a_n, b$. Достаточно найти какое-нибудь решение этой системы (например, можно положить $b=1$ и найти все $a_i$, $i=1,\\ldots, n$)."
   ]
  },
  {
   "cell_type": "markdown",
   "metadata": {},
   "source": [
    "**Решение задачи 5**\n",
    "\n",
    "Сначала нужно найти уравнение гиперплоскости. Пусть искомое уравнение имеет вид $a_1 x_1 + a_2 x_2 + \\ldots a_n x_n + b = 0$.\n",
    "Подставляем поочереди точки, через которые проходит гиперплоскость: для $M_1 = (1, 0, \\ldots, 0)$:  $a_1 + b = 0$, для $M_2 = (0, 1, 0, \\ldots, 0)$:  $a_2 + b = 0$, $\\ldots$, для $M_n = (0, \\ldots, 0, 1)$:  $a_n + b = 0$.\n",
    "\n",
    "Положим  $b=-1$, тогда $a_i = 1$,  ($i=1$,$\\ldots$,n). Получаем уравнение гиперплоскости H: $x_1 + x_2 + \\ldots + x_n  - 1 = 0$.\n",
    "\n",
    "Начало координат: точка O = $(0, \\ldots, 0)$\n",
    "\n",
    "$$d(O, H) = \\frac{|a_1 p_1 + a_2 p_2 + \\ldots + a_n p_n + b|}{\\sqrt{a_1^2+a_2^2 + \\ldots + a_n^2}} = \n",
    "\\frac{|b|}{\\sqrt{1^2+1^2 + \\ldots + 1^2}} = \\frac{|-1|}{\\sqrt{n}} = \\frac{1}{\\sqrt{n}}$$"
   ]
  },
  {
   "cell_type": "markdown",
   "metadata": {},
   "source": [
    "### Задача 6\n",
    "\n",
    "Докажите, что $(AB)^T=B^T A^T$ для любых матриц $A$, $B$, таких, что определено произведение $AB$. Здесь $X^T$ — транспонированная матрица $X$."
   ]
  },
  {
   "cell_type": "markdown",
   "metadata": {},
   "source": [
    "**Решение задачи 6.**\n",
    "\n",
    "Пусть $$A = \\begin{pmatrix}\n",
    "a_{11} & a_{12} & \\ldots& a_{1k}\\\\\n",
    "a_{21} & a_{22} & \\ldots& a_{2k}\\\\\n",
    "\\ldots& \\ldots& \\ldots &\\ldots\\\\\n",
    "a_{m1} & a_{m2} & \\ldots& a_{mk}\n",
    "\\end{pmatrix}, \n",
    "B = \\begin{pmatrix}\n",
    "a_{11} & a_{12} & \\ldots& a_{1n}\\\\\n",
    "a_{21} & a_{22} & \\ldots& a_{2n}\\\\\n",
    "\\ldots& \\ldots& \\ldots &\\ldots\\\\\n",
    "a_{k1} & a_{k2} & \\ldots& a_{kn}\n",
    "\\end{pmatrix}$$\n",
    "\n",
    "Положим $$С = A^T = \\begin{pmatrix}\n",
    "c_{11} & c_{12} & \\ldots& c_{1m} \\\\\n",
    "c_{21} & c_{22} & \\ldots& c_{2m} \\\\\n",
    "\\ldots& \\ldots& \\ldots &\\ldots\\\\\n",
    "c_{k1} & c_{k2} & \\ldots & c_{km}\n",
    "\\end{pmatrix}, \n",
    "D = B^T = \\begin{pmatrix}\n",
    "d_{11} & с_{12} & \\ldots& d_{1k}\\\\\n",
    "d_{21} & с_{22} & \\ldots& d_{2k}\\\\\n",
    "\\ldots& \\ldots& \\ldots &\\ldots\\\\\n",
    "d_{n1} & d_{n2} & \\ldots& d_{nk}\n",
    "\\end{pmatrix}, c_{ji} = a_{ij}, d_{ba} = b_{ab}.$$\n",
    "\n",
    "Пусть далее $$AB = F = \\begin{pmatrix}\n",
    "f_{11} & f_{12} & \\ldots& f_{1n} \\\\\n",
    "f_{21} & f_{22} & \\ldots& f_{2n} \\\\\n",
    "\\ldots& \\ldots& \\ldots &\\ldots\\\\\n",
    "f_{m1} & f_{m2} & \\ldots & f_{mn}\n",
    "\\end{pmatrix}, B^TA^T = G = \\begin{pmatrix}\n",
    "g_{11} & g_{12} & \\ldots& g_{1m} \\\\\n",
    "g_{21} & g_{22} & \\ldots& g_{2m} \\\\\n",
    "\\ldots& \\ldots& \\ldots &\\ldots\\\\\n",
    "g_{n1} & g_{n2} & \\ldots & g_{nm}\n",
    "\\end{pmatrix}$$ \n",
    "\n",
    "Тогда $f_{ij} = \\sum\\limits_{a=1}^ka_{ia}b_{aj}$, $g_{ji} = \\sum\\limits_{a=1}^kd_{ja}c_{ai} = \\sum\\limits_{a=1}^kb_{aj}a_{ia} = \\sum\\limits_{a=1}^ka_{ia}b_{aj} = f_{ij}$, ч.т.д."
   ]
  },
  {
   "cell_type": "markdown",
   "metadata": {},
   "source": [
    "### Задача 7\n",
    "Рассмотрим *диагональную* матрицу \n",
    "$$D=D(\\lambda_1, \\lambda_2, \\ldots, \\lambda_n) = \n",
    "\\begin{pmatrix}\n",
    "\\lambda_1 & 0& \\ldots& 0\\\\\n",
    "0& \\lambda_2& \\ldots &0\\\\\n",
    "\\vdots & \\vdots & \\ddots & \\vdots \\\\\n",
    "0& 0&\\ldots &\\lambda_n\n",
    "\\end{pmatrix}.\n",
    "$$\n",
    "(На диагонали — числа $\\lambda_1,\\lambda_2, \\ldots, \\lambda_n$, все остальные компоненты нулевые.)\n",
    "\n",
    "Рассмотрим произвольную матрицу $A$ подходящего размера (такого, чтобы соответствующие произведения были определены).\n",
    "\n",
    "1. Как связаны матрицы $A$ и $DA$?\n",
    "2. Как связаны матрицы $A$ и $AD$?"
   ]
  },
  {
   "cell_type": "markdown",
   "metadata": {},
   "source": [
    "**Решение задачи 7**\n",
    "\n",
    "Чтобы были определены матричные произведения AD и DA, с учётом размерности матрицы D n x n, матрица А должна быть также квадратной матрицы размерности n (это следует из условия возможности перемножить 2 матрицы: *операция умножения двух матриц выполнима только в том случае, если число столбцов в первом сомножителе равно числу строк во втором*).\n",
    "\n",
    "Пусть $$A = \\begin{pmatrix}\n",
    "a_{11} & a_{12} & \\ldots& a_{1n}\\\\\n",
    "a_{21} & a_{22} & \\ldots& a_{2n}\\\\\n",
    "\\ldots& \\ldots& \\ldots &\\ldots\\\\\n",
    "a_{n1} & a_{n2} & \\ldots& a_{nn}\n",
    "\\end{pmatrix}$$ \n",
    "\n",
    "*Матрицы $A$ и $DA$*\n",
    "\n",
    "$$DA =  \n",
    "\\begin{pmatrix}\n",
    "\\lambda_1 & 0& \\ldots& 0\\\\\n",
    "0& \\lambda_2& \\ldots &0\\\\\n",
    "\\vdots & \\vdots & \\ddots & \\vdots \\\\\n",
    "0& 0&\\ldots &\\lambda_n\n",
    "\\end{pmatrix}\n",
    "\\begin{pmatrix}\n",
    "a_{11} & a_{12} & \\ldots& a_{1n}\\\\\n",
    "a_{21} & a_{22} & \\ldots& a_{2n}\\\\\n",
    "\\vdots & \\vdots & \\ddots & \\vdots \\\\\n",
    "a_{n1} & a_{n2} & \\ldots& a_{nn}\n",
    "\\end{pmatrix} = \n",
    "\\begin{pmatrix}\n",
    "\\lambda_1 a_{11} & \\lambda_1 a_{12} & \\ldots& \\lambda_1 a_{1n}\\\\\n",
    "\\lambda_2 a_{21} & \\lambda_2 a_{22} & \\ldots& \\lambda_2 a_{2n}\\\\\n",
    "\\vdots & \\vdots & \\ddots & \\vdots \\\\\n",
    "\\lambda_n a_{n1} & \\lambda_n a_{n2} & \\ldots& \\lambda_n a_{nn}\n",
    "\\end{pmatrix}\n",
    "$$\n",
    "\n",
    "То есть мы каждую i-ую строку матрицы А поэлементно умножили на сооответствующее значение $\\lambda_i$ матрицы D.\n",
    "\n",
    "*Матрицы $A$ и $AD$*\n",
    "\n",
    "$$AD = \n",
    "\\begin{pmatrix}\n",
    "a_{11} & a_{12} & \\ldots& a_{1n}\\\\\n",
    "a_{21} & a_{22} & \\ldots& a_{2n}\\\\\n",
    "\\vdots & \\vdots & \\ddots & \\vdots \\\\\n",
    "a_{n1} & a_{n2} & \\ldots& a_{nn}\n",
    "\\end{pmatrix}\n",
    "\\begin{pmatrix}\n",
    "\\lambda_1 & 0& \\ldots& 0\\\\\n",
    "0& \\lambda_2& \\ldots &0\\\\\n",
    "\\vdots & \\vdots & \\ddots & \\vdots \\\\\n",
    "0& 0&\\ldots &\\lambda_n\n",
    "\\end{pmatrix} = \n",
    "\\begin{pmatrix}\n",
    "\\lambda_1 a_{11} & \\lambda_2 a_{12} & \\ldots& \\lambda_n a_{1n}\\\\\n",
    "\\lambda_1 a_{21} & \\lambda_2 a_{22} & \\ldots& \\lambda_n a_{2n}\\\\\n",
    "\\vdots & \\vdots & \\ddots & \\vdots \\\\\n",
    "\\lambda_1 a_{n1} & \\lambda_2 a_{n2} & \\ldots& \\lambda_n a_{nn}\n",
    "\\end{pmatrix}\n",
    "$$\n",
    "\n",
    "То есть мы каждую j-ый столбец матрицы А поэлементно умножили на сооответствующее значение $\\lambda_j$ матрицы D."
   ]
  },
  {
   "cell_type": "markdown",
   "metadata": {},
   "source": [
    "### Собственные векторы и собственные значения\n",
    "Вектор $v\\ne 0$ называется (правым) собственным вектором матрицы $A$ с собственным значением $\\lambda$, если\n",
    "\n",
    "$$Av = \\lambda v.$$"
   ]
  },
  {
   "cell_type": "markdown",
   "metadata": {},
   "source": [
    "### Задача 8\n",
    "Угадать все собственные векторы и найти соответствующие им собственные значения матрицы $D$ из задачи 7 (в предположении, что все $\\lambda_k$ различны)."
   ]
  },
  {
   "cell_type": "markdown",
   "metadata": {},
   "source": [
    "**Решение задачи 8.**\n",
    "\n",
    "Собственными значениями матрицы $D$ будут $\\lambda_1$, $\\lambda_2$, $\\ldots$, $\\lambda_n$, т.з. характеристическое уравнение будет выглядеть как \n",
    "\n",
    "$$\\begin{vmatrix}\n",
    "\\lambda_1-\\lambda & 0& \\ldots& 0\\\\\n",
    "0& \\lambda_2-\\lambda& \\ldots &0\\\\\n",
    "\\vdots & \\vdots & \\ddots & \\vdots \\\\\n",
    "0& 0&\\ldots &\\lambda_n-\\lambda\n",
    "\\end{vmatrix} = (\\lambda_1-\\lambda)(\\lambda_2-\\lambda)\\ldots(\\lambda_n-\\lambda) = 0$$.\n",
    "\n",
    "Чтобы найти собственные вектора рассмотрим как будет выглядеть условие $Av = \\lambda v$ для наших $A$ и $\\lambda$: $Dv = \\lambda v$:\n",
    "\n",
    "$$\\begin{pmatrix}\n",
    "\\lambda_1 & 0& \\ldots& 0\\\\\n",
    "0& \\lambda_2& \\ldots &0\\\\\n",
    "\\vdots & \\vdots & \\ddots & \\vdots \\\\\n",
    "0& 0&\\ldots &\\lambda_n\n",
    "\\end{pmatrix}\n",
    "\\begin{pmatrix}\n",
    "v_1\\\\\n",
    "v_2\\\\\n",
    "\\ldots \\\\\n",
    "v_n\n",
    "\\end{pmatrix} = \\lambda \\begin{pmatrix}\n",
    "v_1\\\\\n",
    "v_2\\\\\n",
    "\\ldots \\\\\n",
    "v_n\n",
    "\\end{pmatrix}$$\n",
    "\n",
    "для каждого $\\lambda$ получим системы уравнений:\n",
    "\n",
    "$$\\lambda_1:\n",
    "\\begin{cases}\n",
    "\\lambda_1 v_1 + 0 v_2 + \\ldots + 0 v_n = \\lambda_1 v_1 \\\\\n",
    "0 v_1 + \\lambda_2 v_2 + \\ldots + 0 v_n = \\lambda_1 v_2 \\\\\n",
    "\\ldots \\\\\n",
    "0 v_1 + 0 v_2 + \\ldots + \\lambda_n v_n = \\lambda_1 v_n\n",
    "\\end{cases},\n",
    "\\begin{cases}\n",
    "\\lambda_1 v_1 = \\lambda_1 v_1 \\\\\n",
    "\\lambda_2 v_2 = \\lambda_1 v_2 \\\\\n",
    "\\ldots \\\\\n",
    "\\lambda_n v_n = \\lambda_1 v_n\n",
    "\\end{cases}\n",
    "$$\n",
    "\n",
    "$$\\lambda_2:\n",
    "\\begin{cases}\n",
    "\\lambda_1 v_1 + 0 v_2 + \\ldots + 0 v_n = \\lambda_2 v_1 \\\\\n",
    "0 v_1 + \\lambda_2 v_2 + \\ldots + 0 v_n = \\lambda_2 v_2 \\\\\n",
    "\\ldots \\\\\n",
    "0 v_1 + 0 v_2 + \\ldots + \\lambda_n v_n = \\lambda_2 v_n\n",
    "\\end{cases},\n",
    "\\begin{cases}\n",
    "\\lambda_1 v_1 = \\lambda_2 v_1 \\\\\n",
    "\\lambda_2 v_2 = \\lambda_2 v_2 \\\\\n",
    "\\ldots \\\\\n",
    "\\lambda_n v_n = \\lambda_2 v_n\n",
    "\\end{cases}\n",
    "$$\n",
    "\n",
    "$$\\ldots$$\n",
    "\n",
    "$$\\lambda_n:\n",
    "\\begin{cases}\n",
    "\\lambda_1 v_1 + 0 v_2 + \\ldots + 0 v_n = \\lambda_n v_1 \\\\\n",
    "0 v_1 + \\lambda_2 v_2 + \\ldots + 0 v_n = \\lambda_n v_2 \\\\\n",
    "\\ldots \\\\\n",
    "0 v_1 + 0 v_2 + \\ldots + \\lambda_n v_n = \\lambda_n v_n\n",
    "\\end{cases},\n",
    "\\begin{cases}\n",
    "\\lambda_1 v_1 = \\lambda_n v_1 \\\\\n",
    "\\lambda_2 v_2 = \\lambda_n v_2 \\\\\n",
    "\\ldots \\\\\n",
    "\\lambda_n v_n = \\lambda_n v_n\n",
    "\\end{cases}\n",
    "$$\n",
    "\n",
    "То есть в каждой системе мы имеем одно уравнение вида $\\lambda_ix_i = \\lambda_ix_i$, что даёт нам любое значение i-ой координаты в соответствующем собственном векторе, и (n-1) уравнение вида $\\lambda_ax_j = \\lambda_bx_j$, что приводит нас к решению $x_j = 0$ (так как все $\\lambda$ различные, значит, даже если в $\\lambda_ax_j = \\lambda_bx_j$ имеем $\\lambda_a = 0$, из этого следует, что $\\lambda_b \\neq 0$, что приводит нас к уравнению вида $0 x_j = \\lambda_b x_j$, $\\lambda_b x_j = 0$, откуда $x_j = 0$).\n",
    "\n",
    "Суда по определению из [Википедии](https://ru.wikipedia.org/wiki/%D0%A1%D0%BE%D0%B1%D1%81%D1%82%D0%B2%D0%B5%D0%BD%D0%BD%D1%8B%D0%B9_%D0%B2%D0%B5%D0%BA%D1%82%D0%BE%D1%80), собственный вектор не может быть нулевым, поэтому для строк вида $\\lambda_ix_i = \\lambda_ix_i$ имеем значение i-ой координаты соответственного собственного вектора число $m \\in R, m \\neq 0$.\n",
    "\n",
    "Итого: для $\\lambda_1$: $(m, 0, \\ldots, 0)$, для $\\lambda_2$: $(0, m, \\ldots, 0)$, $\\ldots$, для $\\lambda_n$: $(0, \\ldots, m)$, $m \\in R, m \\neq 0$."
   ]
  },
  {
   "cell_type": "markdown",
   "metadata": {},
   "source": [
    "### Задача 9\n",
    "Является ли вектор $(-2, -1, 1)$ собственным для матрицы?\n",
    "$$\n",
    "\\left(\\begin{matrix}0 & -6 & -10\\\\-2 & -1 & -7\\\\2 & 4 & 10\\end{matrix}\\right)\n",
    "$$\n",
    "Если да, найти его собственное значение. Эту задачу можно решать на компьютере, используя оператор матричного умножения, но нельзя использовать функцию `np.eig` и аналогичные."
   ]
  },
  {
   "cell_type": "markdown",
   "metadata": {},
   "source": [
    "**Решение задачи 9.**\n",
    "\n",
    "$$C = An = \\begin{pmatrix}\n",
    "0 & -6 & -10 \\\\\n",
    "-2 & -1 & -7\\\\\n",
    "2 & 4 & 10\n",
    "\\end{pmatrix}\n",
    "\\begin{pmatrix}\n",
    "-2\\\\\n",
    "-1\\\\\n",
    "1\n",
    "\\end{pmatrix} = \n",
    "\\begin{pmatrix}\n",
    "-4\\\\\n",
    "-2\\\\\n",
    "2\n",
    "\\end{pmatrix} = \n",
    "2\\begin{pmatrix}\n",
    "-2\\\\\n",
    "-1\\\\\n",
    "1\n",
    "\\end{pmatrix}\n",
    "$$\n",
    "Значит, вектор $(-2, -1, 1)$ является собственным для данной матрицы. Его собственно значение $\\lambda = 2$."
   ]
  },
  {
   "cell_type": "markdown",
   "metadata": {},
   "source": [
    "**Решение задачи 9 (скрипт)**"
   ]
  },
  {
   "cell_type": "code",
   "execution_count": 3,
   "metadata": {
    "collapsed": false
   },
   "outputs": [
    {
     "name": "stdout",
     "output_type": "stream",
     "text": [
      "[[-4]\n",
      " [-2]\n",
      " [ 2]]\n",
      "[[-2], [-1], [1]]\n",
      "[[2]\n",
      " [2]\n",
      " [2]]\n"
     ]
    },
    {
     "data": {
      "text/plain": [
       "'characteristicvalue = 2'"
      ]
     },
     "execution_count": 3,
     "metadata": {},
     "output_type": "execute_result"
    }
   ],
   "source": [
    "import numpy as np \n",
    "A = [[0, -6, -10], [-2, -1, -7], [2, 4, 10]]\n",
    "v = [[-2], [-1], [1]]\n",
    "\n",
    "matrixproduct = np.dot(A, v) # вычисляем произведение матрицы на данный вектор\n",
    "check = matrixproduct / v # далее по ячейкам поделим результат на исходный вектор\n",
    "\n",
    "# если получаем одинаковые цифры для всех ячеек матрицы, значит исходный вектор является собственным,\n",
    "# (для общей задачи можно сделать цикл проверки по результату check на равенство)\n",
    "\n",
    "print(matrixproduct)\n",
    "print(v)\n",
    "print(check)\n",
    "\n",
    "s1 ='characteristicvalue = 2'\n",
    "str(s1)\n"
   ]
  },
  {
   "cell_type": "markdown",
   "metadata": {},
   "source": [
    "### Задача 10\n",
    "Найдите все собственные значения и соответствующие им собственные векторы для матрицы из задачи 9. (Теперь можно использовать функцию `np.eig`.)"
   ]
  },
  {
   "cell_type": "markdown",
   "metadata": {},
   "source": [
    "**Решение задачи 10**\n",
    "\n",
    "Рассмотрим характеристическое уравнение для матрицы А: $|A - \\lambda E| = 0$: \n",
    "\n",
    "$$|A - \\lambda E| = \\begin{vmatrix}- \\lambda & -6 & -10\\\\-2 & -1- \\lambda & -7\\\\2 & 4 & 10- \\lambda\\end{vmatrix} = -\\lambda^3 + 9\\lambda^2 - 26\\lambda + 24 = 0$$\n",
    "\n",
    "Так как мы из задачи 9 знаем одно собственное значение ($\\lambda_1 = 2$), то поделим данный многочлен на $(\\lambda - 2)$ и быстро найдем остальные корни: \n",
    "$\\lambda^3 - 9\\lambda^2 + 26\\lambda - 24 = 0$, $(\\lambda - 2)(\\lambda - 3)(\\lambda - 4) = 0$.\n",
    "Далее найдем собственные вектора для $\\lambda_2 = 3$, $\\lambda_3 = 4$. Решим\n",
    "\n",
    "$$\\begin{pmatrix}\n",
    "0 & -6 & -10 \\\\\n",
    "-2 & -1 & -7\\\\\n",
    "2 & 4 & 10\n",
    "\\end{pmatrix}\n",
    "\\begin{pmatrix}\n",
    "x_1\\\\\n",
    "x_2\\\\\n",
    "x_3\n",
    "\\end{pmatrix} = \\lambda\n",
    "\\begin{pmatrix}\n",
    "x_1\\\\\n",
    "x_2\\\\\n",
    "x_3\n",
    "\\end{pmatrix}, \\begin{pmatrix}\n",
    "0x_1 & -6x_2 & -10x_3 \\\\\n",
    "-2x_1 & -1x_2 & -7x_3\\\\\n",
    "2x_1 & 4x_2 & 10x_3\n",
    "\\end{pmatrix}\n",
    " = \n",
    "\\begin{pmatrix}\n",
    "\\lambda x_1\\\\\n",
    "\\lambda x_2\\\\\n",
    "\\lambda x_3\n",
    "\\end{pmatrix},$$\n",
    "\n",
    "$$\\begin{cases}\n",
    "&-6x_2 & -10x_3 & -\\lambda x_1 = 0\\\\\n",
    "-2x_1 & -x_2 & -7x_3 & -\\lambda x_2 = 0\\\\\n",
    "2x_1 & +4x_2 & +10x_3 & -\\lambda x_3 = 0\n",
    "\\end{cases},\n",
    "\\begin{cases}\n",
    "\\lambda x_1&+6x_2 & +10x_3  = 0\\\\\n",
    "2x_1 & +(1+\\lambda)x_2 & +7x_3   = 0\\\\\n",
    "2x_1 & +4x_2 & +(10 - \\lambda)x_3 = 0\n",
    "\\end{cases}$$\n",
    "\n",
    "Собственный вектор не может быть нулевым, поэтому тривиальное решение системы $(0, 0, 0)$ не подходит.\n",
    "Проверим, что всё выполнено для $\\lambda = 2$:\n",
    "\n",
    "$$\\begin{cases}\n",
    "2x_1&+6x_2 & +10x_3  = 0\\\\\n",
    "2x_1 & +3x_2 & +7x_3   = 0\\\\\n",
    "2x_1 & +4x_2 & +8x_3 = 0\n",
    "\\end{cases}, \n",
    "\\begin{cases}\n",
    "x_1&+3x_2 & +5x_3  = 0\\\\\n",
    "2x_1 & +3x_2 & +7x_3   = 0\\\\\n",
    "1x_1 & +2x_2 & +4x_3 = 0\n",
    "\\end{cases}$$\n",
    "\n",
    "При подставлении $v_1 = (-2, -1, 1)$ (или любого вектора, коллиниарного ему) получаем тождество 0 = 0.\n",
    "\n",
    "Рассмотрим систему для $\\lambda = 3$:\n",
    "$$\\begin{cases}\n",
    "3x_1&+6x_2 & +10x_3  = 0\\\\\n",
    "2x_1 & +4x_2 & +7x_3   = 0\\\\\n",
    "2x_1 & +4x_2 & +7x_3 = 0\n",
    "\\end{cases}$$\n",
    "получаем $v_2$ = $(2, -1, 0)$.\n",
    "\n",
    "Рассмотрим систему для $\\lambda = 4$:\n",
    "$$\\begin{cases}\n",
    "4x_1&+6x_2 & +10x_3  = 0\\\\\n",
    "2x_1 & +5x_2 & +7x_3   = 0\\\\\n",
    "2x_1 & +4x_2 & +6x_3 = 0\n",
    "\\end{cases},\n",
    "\\begin{cases}\n",
    "2x_1&+3x_2 & +5x_3  = 0\\\\\n",
    "2x_1 & +5x_2 & +7x_3   = 0\\\\\n",
    "x_1 & +2x_2 & +3x_3 = 0\n",
    "\\end{cases}$$\n",
    "получаем $v_3 = (1, 1, -1)$.\n",
    "\n",
    "**Итого:** $\\lambda_1 = 2$, $v_1 = (-2, -1, 1)$, $\\lambda_2 = 3$, $v_2$ = $(2, -1, 0)$, $\\lambda_3 = 4$, $v_3 = (1, 1, -1)$."
   ]
  },
  {
   "cell_type": "markdown",
   "metadata": {},
   "source": [
    "**Решение задачи 10 (скрипт)**"
   ]
  },
  {
   "cell_type": "code",
   "execution_count": 60,
   "metadata": {
    "collapsed": false
   },
   "outputs": [
    {
     "data": {
      "text/plain": [
       "(array([ 2.,  4.,  3.]),\n",
       " array([[  8.16496581e-01,  -5.77350269e-01,  -8.94427191e-01],\n",
       "        [  4.08248290e-01,  -5.77350269e-01,   4.47213595e-01],\n",
       "        [ -4.08248290e-01,   5.77350269e-01,   6.20979833e-17]]))"
      ]
     },
     "execution_count": 60,
     "metadata": {},
     "output_type": "execute_result"
    }
   ],
   "source": [
    "import numpy\n",
    "# import scipy\n",
    "A = [[0, -6, -10], [-2, -1, -7], [2, 4, 10]]\n",
    "\n",
    "numpy.linalg.eig(A)\n",
    "# scipy.linalg.eig(A)"
   ]
  },
  {
   "cell_type": "markdown",
   "metadata": {},
   "source": [
    "### Задача 11\n"
   ]
  },
  {
   "cell_type": "markdown",
   "metadata": {},
   "source": [
    "Дан вектор $v\\in \\mathbb R^n$ (в виде одномерного `np.array`). Требуется написать программу, строящую матрицу, строками которой являются векторы $t v$ для $t = -1 + k/10,\\ k = 0, \\ldots, 20$ (то есть $t$ пробегает значения от $-1$ до $1$ с шагом $1/10$, всего $21$ значение). Получающаяся матрица должна иметь $21$ строку и $n$ столбцов. \n",
    "\n",
    "**Подсказка.** Для решения задачи вам нужно использовать матричное умножение, а для этого придётся делать из векторов матрицы (вектор-столбцы или вектор-строки). Это можно сделать, например, так:"
   ]
  },
  {
   "cell_type": "code",
   "execution_count": 4,
   "metadata": {
    "collapsed": false
   },
   "outputs": [
    {
     "data": {
      "text/plain": [
       "array([ 1,  3, 10,  3])"
      ]
     },
     "execution_count": 4,
     "metadata": {},
     "output_type": "execute_result"
    }
   ],
   "source": [
    "import numpy as np\n",
    "v = np.array([1, 3, 10, 3])\n",
    "v # это просто вектор"
   ]
  },
  {
   "cell_type": "code",
   "execution_count": 74,
   "metadata": {
    "collapsed": false
   },
   "outputs": [
    {
     "data": {
      "text/plain": [
       "array([ 1,  3, 10,  3])"
      ]
     },
     "execution_count": 74,
     "metadata": {},
     "output_type": "execute_result"
    }
   ],
   "source": [
    "v.T # он не меняется при транспонировании"
   ]
  },
  {
   "cell_type": "code",
   "execution_count": 68,
   "metadata": {
    "collapsed": false
   },
   "outputs": [
    {
     "data": {
      "text/plain": [
       "array([[ 1],\n",
       "       [ 3],\n",
       "       [10],\n",
       "       [ 3]])"
      ]
     },
     "execution_count": 68,
     "metadata": {},
     "output_type": "execute_result"
    }
   ],
   "source": [
    "v_column = v[:, np.newaxis]\n",
    "v_column # это вектор-столбец"
   ]
  },
  {
   "cell_type": "code",
   "execution_count": 69,
   "metadata": {
    "collapsed": false
   },
   "outputs": [
    {
     "data": {
      "text/plain": [
       "array([[ 1,  3, 10,  3]])"
      ]
     },
     "execution_count": 69,
     "metadata": {},
     "output_type": "execute_result"
    }
   ],
   "source": [
    "v_row = v[np.newaxis, :]\n",
    "v_row # это вектор-строка"
   ]
  },
  {
   "cell_type": "code",
   "execution_count": 12,
   "metadata": {
    "collapsed": false
   },
   "outputs": [
    {
     "name": "stdout",
     "output_type": "stream",
     "text": [
      "[[1]\n",
      " [2]\n",
      " [3]\n",
      " [4]\n",
      " [5]]\n",
      "[[-1.  -0.9 -0.8 -0.7 -0.6 -0.5 -0.4 -0.3 -0.2 -0.1  0.   0.1  0.2  0.3\n",
      "   0.4  0.5  0.6  0.7  0.8  0.9  1. ]]\n"
     ]
    },
    {
     "data": {
      "text/plain": [
       "array([[-1. , -0.9, -0.8, -0.7, -0.6, -0.5, -0.4, -0.3, -0.2, -0.1,  0. ,\n",
       "         0.1,  0.2,  0.3,  0.4,  0.5,  0.6,  0.7,  0.8,  0.9,  1. ],\n",
       "       [-2. , -1.8, -1.6, -1.4, -1.2, -1. , -0.8, -0.6, -0.4, -0.2,  0. ,\n",
       "         0.2,  0.4,  0.6,  0.8,  1. ,  1.2,  1.4,  1.6,  1.8,  2. ],\n",
       "       [-3. , -2.7, -2.4, -2.1, -1.8, -1.5, -1.2, -0.9, -0.6, -0.3,  0. ,\n",
       "         0.3,  0.6,  0.9,  1.2,  1.5,  1.8,  2.1,  2.4,  2.7,  3. ],\n",
       "       [-4. , -3.6, -3.2, -2.8, -2.4, -2. , -1.6, -1.2, -0.8, -0.4,  0. ,\n",
       "         0.4,  0.8,  1.2,  1.6,  2. ,  2.4,  2.8,  3.2,  3.6,  4. ],\n",
       "       [-5. , -4.5, -4. , -3.5, -3. , -2.5, -2. , -1.5, -1. , -0.5,  0. ,\n",
       "         0.5,  1. ,  1.5,  2. ,  2.5,  3. ,  3.5,  4. ,  4.5,  5. ]])"
      ]
     },
     "execution_count": 12,
     "metadata": {},
     "output_type": "execute_result"
    }
   ],
   "source": [
    "import numpy as np\n",
    "\n",
    "# v = np.array([1,2,])\n",
    "# v = np.array([1,2,3])\n",
    "v = np.array([1,2,3,4,5]) # будет вектор-строкой 1 x n\n",
    "t = np.array([-1+k/10.0 for k in xrange(0, 21)]) # будет вектор-столбцом 21 x 1.\n",
    "\n",
    "vcolumn = v[:, np.newaxis]\n",
    "tline = t[np.newaxis, :]\n",
    "\n",
    "print vcolumn\n",
    "print tline\n",
    "vcolumn.dot(tline)\n",
    "#np.dot(tline,vcolumn)"
   ]
  },
  {
   "cell_type": "raw",
   "metadata": {},
   "source": [
    "#### Комментарии к заданию\n",
    "Нужно было вектор-столбец размерности 21 умножить на строку размерности n.\n",
    "Тогда Вы бы получили именно 21 строку, у Вас наоборот."
   ]
  },
  {
   "cell_type": "code",
   "execution_count": null,
   "metadata": {
    "collapsed": true
   },
   "outputs": [],
   "source": []
  }
 ],
 "metadata": {
  "anaconda-cloud": {},
  "kernelspec": {
   "display_name": "Python [Root]",
   "language": "python",
   "name": "Python [Root]"
  },
  "language_info": {
   "codemirror_mode": {
    "name": "ipython",
    "version": 2
   },
   "file_extension": ".py",
   "mimetype": "text/x-python",
   "name": "python",
   "nbconvert_exporter": "python",
   "pygments_lexer": "ipython2",
   "version": "2.7.12"
  },
  "toc": {
   "toc_cell": false,
   "toc_number_sections": false,
   "toc_section_display": "none",
   "toc_threshold": 6,
   "toc_window_display": false
  }
 },
 "nbformat": 4,
 "nbformat_minor": 0
}
